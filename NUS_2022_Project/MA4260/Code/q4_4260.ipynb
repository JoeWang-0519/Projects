{
  "nbformat": 4,
  "nbformat_minor": 0,
  "metadata": {
    "colab": {
      "name": "q4-4260.ipynb",
      "provenance": [],
      "collapsed_sections": []
    },
    "kernelspec": {
      "name": "python3",
      "display_name": "Python 3"
    },
    "language_info": {
      "name": "python"
    }
  },
  "cells": [
    {
      "cell_type": "code",
      "execution_count": 47,
      "metadata": {
        "colab": {
          "base_uri": "https://localhost:8080/"
        },
        "id": "d3cF1b9Ew1b-",
        "outputId": "e278d7af-38b8-4078-a9ab-823af0e62e3d"
      },
      "outputs": [
        {
          "output_type": "stream",
          "name": "stdout",
          "text": [
            "Looking in indexes: https://pypi.gurobi.com\n",
            "Requirement already satisfied: gurobipy in /usr/local/lib/python3.7/dist-packages (9.5.1)\n"
          ]
        }
      ],
      "source": [
        "%pip install -i https://pypi.gurobi.com gurobipy\n"
      ]
    },
    {
      "cell_type": "code",
      "source": [
        "import gurobipy as gp\n",
        "from gurobipy import GRB"
      ],
      "metadata": {
        "id": "8ZUasVL9xHMR"
      },
      "execution_count": 48,
      "outputs": []
    },
    {
      "cell_type": "code",
      "source": [
        "farm = ['wheat', 'corn', 'sugarbeets']\n",
        "sell = ['wheat_bad', 'corn_bad', 'sugarbeets_highprice_bad', 'sugarbeets_lowprice_bad', \n",
        "        'wheat_aver', 'corn_aver', 'sugarbeets_highprice_aver', 'sugarbeets_lowprice_aver',\n",
        "        'wheat_good', 'corn_good', 'sugarbeets_highprice_good', 'sugarbeets_lowprice_good']\n",
        "buy = ['wheat_bad', 'corn_bad',\n",
        "       'wheat_aver', 'corn_aver',\n",
        "       'wheat_good', 'corn_good']\n",
        "\n",
        "cropyield = {'wheat_aver': 2.5, 'corn_aver': 3.0, 'sugarbeets_aver': 20.0, \n",
        "             'wheat_good': 3, 'corn_good': 3.6, 'sugarbeets_good': 24.0, \n",
        "             'wheat_bad': 2, 'corn_bad': 2.4, 'sugarbeets_bad': 16.0}\n",
        "\n",
        "cropcost = {'wheat': 150, 'corn': 230, 'sugarbeets': 260}\n",
        "cropconstraint = { 'wheat_bad': 200, 'wheat_aver': 200, 'wheat_good': 200,\n",
        "                  'corn_bad': 240, 'corn_aver': 240, 'corn_good': 240}\n",
        "\n",
        "cropsellprice = {'wheat_bad' : 170, 'wheat_aver' : 170, 'wheat_good' : 170,\n",
        "                 'corn_bad' : 150, 'corn_aver' : 150, 'corn_good' : 150,\n",
        "                 'sugarbeets_highprice_bad': 36, 'sugarbeets_highprice_aver': 36, 'sugarbeets_highprice_good': 36,\n",
        "                 'sugarbeets_lowprice_bad': 10, 'sugarbeets_lowprice_aver': 10, 'sugarbeets_lowprice_good': 10}\n",
        "cropbuyprice = {'wheat_bad' : 238, 'wheat_aver' : 238, 'wheat_good' : 238,\n",
        "                'corn_bad' : 210, 'corn_aver' : 210, 'corn_good' : 210}\n",
        "\n",
        "bad = 0.5\n",
        "aver = 0\n",
        "good = 0.5\n",
        "\n",
        "totalland = 500\n",
        "maxhighbeets = 6000 "
      ],
      "metadata": {
        "id": "LYhnZa_ZxLU0"
      },
      "execution_count": 49,
      "outputs": []
    },
    {
      "cell_type": "code",
      "source": [
        "model = gp.Model('StochasticProgram')\n",
        "\n",
        "# Variables\n",
        "landvar = model.addVars(farm, name=\"landvar\")\n",
        "sellvar = model.addVars(sell, name=\"sellvar\")\n",
        "buyvar = model.addVars(buy, name=\"buyvar\")"
      ],
      "metadata": {
        "id": "XQpW7EnXxM0Z"
      },
      "execution_count": 50,
      "outputs": []
    },
    {
      "cell_type": "code",
      "source": [
        "# Capacity constraint.\n",
        "model.addConstrs( (landvar[f] >= 0 for f in farm) )\n",
        "model.addConstrs( (sellvar[f] >= 0 for f in sell) )\n",
        "model.addConstrs( (buyvar[f] >= 0 for f in buy) )\n",
        "model.addConstrs( (landvar['wheat']*cropyield[f]+buyvar[f]-sellvar[f]>=cropconstraint[f] for f in buy[0:6:2]) )\n",
        "model.addConstrs( (landvar['corn']*cropyield[f]+buyvar[f]-sellvar[f]>=cropconstraint[f] for f in buy[1:6:2]) )\n",
        "\n",
        "model.addConstr(sellvar['sugarbeets_highprice_bad']+sellvar['sugarbeets_lowprice_bad']-landvar['sugarbeets']*cropyield['sugarbeets_bad']<=0)\n",
        "model.addConstr(sellvar['sugarbeets_highprice_aver']+sellvar['sugarbeets_lowprice_aver']-landvar['sugarbeets']*cropyield['sugarbeets_aver']<=0)\n",
        "model.addConstr(sellvar['sugarbeets_highprice_good']+sellvar['sugarbeets_lowprice_good']-landvar['sugarbeets']*cropyield['sugarbeets_good']<=0)\n",
        "model.addConstr(sellvar['sugarbeets_highprice_bad']<= maxhighbeets)\n",
        "model.addConstr(sellvar['sugarbeets_highprice_aver']<= maxhighbeets)\n",
        "model.addConstr(sellvar['sugarbeets_highprice_good']<= maxhighbeets)\n",
        "model.addConstr(gp.quicksum(landvar[f] for f in farm) <= totalland)"
      ],
      "metadata": {
        "colab": {
          "base_uri": "https://localhost:8080/"
        },
        "id": "u_VncKHfxQjv",
        "outputId": "589367ca-21b5-4cd4-df59-fc67c94e04c0"
      },
      "execution_count": 51,
      "outputs": [
        {
          "output_type": "execute_result",
          "data": {
            "text/plain": [
              "<gurobi.Constr *Awaiting Model Update*>"
            ]
          },
          "metadata": {},
          "execution_count": 51
        }
      ]
    },
    {
      "cell_type": "code",
      "source": [
        "obj = gp.quicksum(cropcost[f]*landvar[f] for f in farm) - bad*gp.quicksum(cropsellprice[f]*sellvar[f] for f in sell[0:4]) - aver*gp.quicksum(cropsellprice[f]*sellvar[f] for f in sell[4:8]) - good*gp.quicksum(cropsellprice[f]*sellvar[f] for f in sell[8:12]) + bad*gp.quicksum(cropbuyprice[f]*buyvar[f] for f in buy[0:2]) + aver*gp.quicksum(cropbuyprice[f]*buyvar[f] for f in buy[2:4]) + good*gp.quicksum(cropbuyprice[f]*buyvar[f] for f in buy[4:6])\n",
        "model.setObjective(obj, GRB.MINIMIZE)"
      ],
      "metadata": {
        "id": "rbBck7GXxUYm"
      },
      "execution_count": 52,
      "outputs": []
    },
    {
      "cell_type": "code",
      "source": [
        "# Verify model formulation\n",
        "\n",
        "model.write('StochasticProgram.lp')\n",
        "\n",
        "# Run optimization engine\n",
        "\n",
        "model.optimize()"
      ],
      "metadata": {
        "colab": {
          "base_uri": "https://localhost:8080/"
        },
        "id": "hM07AXMwxbME",
        "outputId": "ca0ae852-58fb-48e7-f57e-21767989efc4"
      },
      "execution_count": 53,
      "outputs": [
        {
          "output_type": "stream",
          "name": "stdout",
          "text": [
            "Gurobi Optimizer version 9.5.1 build v9.5.1rc2 (linux64)\n",
            "Thread count: 1 physical cores, 2 logical processors, using up to 2 threads\n",
            "Optimize a model with 34 rows, 21 columns and 54 nonzeros\n",
            "Model fingerprint: 0x135cd9ad\n",
            "Coefficient statistics:\n",
            "  Matrix range     [1e+00, 2e+01]\n",
            "  Objective range  [5e+00, 3e+02]\n",
            "  Bounds range     [0e+00, 0e+00]\n",
            "  RHS range        [2e+02, 6e+03]\n",
            "Presolve removed 28 rows and 7 columns\n",
            "Presolve time: 0.02s\n",
            "Presolved: 6 rows, 14 columns, 20 nonzeros\n",
            "\n",
            "Iteration    Objective       Primal Inf.    Dual Inf.      Time\n",
            "       0   -4.4800000e+33   5.000000e+30   4.480000e+03      0s\n",
            "       9   -1.0825000e+05   0.000000e+00   0.000000e+00      0s\n",
            "\n",
            "Solved in 9 iterations and 0.03 seconds (0.00 work units)\n",
            "Optimal objective -1.082500000e+05\n"
          ]
        }
      ]
    },
    {
      "cell_type": "code",
      "source": [
        "print(landvar)\n",
        "\n",
        "print(sellvar)\n",
        "\n",
        "print(buyvar)"
      ],
      "metadata": {
        "colab": {
          "base_uri": "https://localhost:8080/"
        },
        "id": "LC4ig2hAxp0j",
        "outputId": "6d040595-9e0a-4008-94a1-ffeb6f6ed858"
      },
      "execution_count": 54,
      "outputs": [
        {
          "output_type": "stream",
          "name": "stdout",
          "text": [
            "{'wheat': <gurobi.Var landvar[wheat] (value 150.0)>, 'corn': <gurobi.Var landvar[corn] (value 100.0)>, 'sugarbeets': <gurobi.Var landvar[sugarbeets] (value 250.0)>}\n",
            "{'wheat_bad': <gurobi.Var sellvar[wheat_bad] (value 100.0)>, 'corn_bad': <gurobi.Var sellvar[corn_bad] (value 0.0)>, 'sugarbeets_highprice_bad': <gurobi.Var sellvar[sugarbeets_highprice_bad] (value 4000.0)>, 'sugarbeets_lowprice_bad': <gurobi.Var sellvar[sugarbeets_lowprice_bad] (value 0.0)>, 'wheat_aver': <gurobi.Var sellvar[wheat_aver] (value 0.0)>, 'corn_aver': <gurobi.Var sellvar[corn_aver] (value 0.0)>, 'sugarbeets_highprice_aver': <gurobi.Var sellvar[sugarbeets_highprice_aver] (value 0.0)>, 'sugarbeets_lowprice_aver': <gurobi.Var sellvar[sugarbeets_lowprice_aver] (value 0.0)>, 'wheat_good': <gurobi.Var sellvar[wheat_good] (value 250.0)>, 'corn_good': <gurobi.Var sellvar[corn_good] (value 120.0)>, 'sugarbeets_highprice_good': <gurobi.Var sellvar[sugarbeets_highprice_good] (value 6000.0)>, 'sugarbeets_lowprice_good': <gurobi.Var sellvar[sugarbeets_lowprice_good] (value 0.0)>}\n",
            "{'wheat_bad': <gurobi.Var buyvar[wheat_bad] (value 0.0)>, 'corn_bad': <gurobi.Var buyvar[corn_bad] (value 0.0)>, 'wheat_aver': <gurobi.Var buyvar[wheat_aver] (value 0.0)>, 'corn_aver': <gurobi.Var buyvar[corn_aver] (value 0.0)>, 'wheat_good': <gurobi.Var buyvar[wheat_good] (value 0.0)>, 'corn_good': <gurobi.Var buyvar[corn_good] (value 0.0)>}\n"
          ]
        }
      ]
    }
  ]
}