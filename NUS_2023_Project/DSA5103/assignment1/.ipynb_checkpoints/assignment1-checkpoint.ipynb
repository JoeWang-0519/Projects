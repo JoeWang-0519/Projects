{
 "cells": [
  {
   "cell_type": "markdown",
   "id": "a3cd490f",
   "metadata": {},
   "source": [
    "# Assignment 1"
   ]
  },
  {
   "cell_type": "code",
   "execution_count": 1,
   "id": "8a4bea14",
   "metadata": {},
   "outputs": [],
   "source": [
    "from numpy import random\n",
    "import numpy as np\n",
    "from pytictoc import TicToc\n",
    "import matplotlib.pyplot as plt\n",
    "import math\n",
    "from sklearn import datasets\n",
    "import pandas as pd"
   ]
  },
  {
   "cell_type": "code",
   "execution_count": 2,
   "id": "5ca9855a",
   "metadata": {},
   "outputs": [
    {
     "data": {
      "text/plain": [
       "'/Users/wangjiangyi/opt/anaconda3/lib/python3.8/lib-dynload/math.cpython-38-darwin.so'"
      ]
     },
     "execution_count": 2,
     "metadata": {},
     "output_type": "execute_result"
    }
   ],
   "source": [
    "math.__file__"
   ]
  },
  {
   "cell_type": "code",
   "execution_count": 3,
   "id": "29489691",
   "metadata": {},
   "outputs": [
    {
     "data": {
      "text/plain": [
       "'/Users/wangjiangyi/opt/anaconda3/lib/python3.8/site-packages/numpy/__init__.py'"
      ]
     },
     "execution_count": 3,
     "metadata": {},
     "output_type": "execute_result"
    }
   ],
   "source": [
    "np.__file__"
   ]
  },
  {
   "cell_type": "code",
   "execution_count": 4,
   "id": "c1642f84",
   "metadata": {},
   "outputs": [
    {
     "data": {
      "text/plain": [
       "'/Users/wangjiangyi/opt/anaconda3/lib/python3.8/site-packages/matplotlib/pyplot.py'"
      ]
     },
     "execution_count": 4,
     "metadata": {},
     "output_type": "execute_result"
    }
   ],
   "source": [
    "plt.__file__"
   ]
  },
  {
   "cell_type": "markdown",
   "id": "620e9125",
   "metadata": {},
   "source": [
    "## Q2) Matrix Inverse"
   ]
  },
  {
   "cell_type": "markdown",
   "id": "f879ab73",
   "metadata": {},
   "source": [
    "### (1) Generate n*n matrix from uniform distribution [0,1]"
   ]
  },
  {
   "cell_type": "code",
   "execution_count": 2,
   "id": "fa9fb53d",
   "metadata": {},
   "outputs": [],
   "source": [
    "n = 1000\n",
    "mat = random.random(size=(n,n))"
   ]
  },
  {
   "cell_type": "code",
   "execution_count": 3,
   "id": "af96b43c",
   "metadata": {},
   "outputs": [
    {
     "data": {
      "text/plain": [
       "array([[0.8134594 , 0.41274573, 0.90447388, ..., 0.34232232, 0.02832248,\n",
       "        0.45494089],\n",
       "       [0.35698115, 0.37031809, 0.5587645 , ..., 0.00447076, 0.21890737,\n",
       "        0.74779371],\n",
       "       [0.43308595, 0.04868757, 0.39632633, ..., 0.14250149, 0.25866216,\n",
       "        0.54713335],\n",
       "       ...,\n",
       "       [0.05666005, 0.9947064 , 0.52979212, ..., 0.65347291, 0.56150543,\n",
       "        0.93420773],\n",
       "       [0.85447627, 0.17565363, 0.47393116, ..., 0.86283044, 0.27840433,\n",
       "        0.99181662],\n",
       "       [0.2880233 , 0.56865299, 0.44135648, ..., 0.20005977, 0.65588779,\n",
       "        0.54099123]])"
      ]
     },
     "execution_count": 3,
     "metadata": {},
     "output_type": "execute_result"
    }
   ],
   "source": [
    "mat"
   ]
  },
  {
   "cell_type": "code",
   "execution_count": 4,
   "id": "5d5519c6",
   "metadata": {},
   "outputs": [
    {
     "data": {
      "text/plain": [
       "array([0.099876, 0.10029 , 0.10033 , 0.099868, 0.100252, 0.099933,\n",
       "       0.099914, 0.099287, 0.100161, 0.100089])"
      ]
     },
     "execution_count": 4,
     "metadata": {},
     "output_type": "execute_result"
    }
   ],
   "source": [
    "# check the entry distribution for mat\n",
    "count = np.zeros(10)\n",
    "for i in range(n):\n",
    "    for j in range(n):\n",
    "        idx = int(mat[i][j]*10)\n",
    "        count[idx] += 1\n",
    "\n",
    "count/n/n\n",
    "# from this vector, we can deduce that, those entries are indeed uniformly distributed in [0,1]"
   ]
  },
  {
   "cell_type": "markdown",
   "id": "ec21abbe",
   "metadata": {},
   "source": [
    "### (2) Prove that $A = I + X^TX$ is symmetric and positive definite"
   ]
  },
  {
   "cell_type": "markdown",
   "id": "f4b03cb5",
   "metadata": {},
   "source": [
    "#### Prove (Symmetry):\n",
    "$$\n",
    "\\begin{equation}\n",
    "A^T = (I + X^TX)^T = I^T + (X^TX)^T = I + X^TX = A\n",
    "\\end{equation}\n",
    "$$\n",
    "here, we use: $(AB)^T = B^TA^T$"
   ]
  },
  {
   "cell_type": "markdown",
   "id": "4b8ef927",
   "metadata": {},
   "source": [
    "#### Prove(Positive Definite):\n",
    "for arbitray $x\\in \\mathbb{R}^n\\ne \\mathbb{0}$, we have:\n",
    "$$\n",
    "\\begin{equation}\n",
    "x^TAx = x^T(I+X^TX)x = x^Tx + x^TX^TXx \\ge X^Tx \\gt0\n",
    "\\end{equation}\n",
    "$$\n",
    "here, we use $u^Tu\\ge0$ for arbitrary $u$ and $u^Tu\\gt0$ for arbitrary $u\\ne \\mathbb{0}$\n",
    "\n",
    "This is exactly the definition of **Positive Definite**."
   ]
  },
  {
   "cell_type": "markdown",
   "id": "0eb01777",
   "metadata": {},
   "source": [
    "### (3) Time required in inverting matrix with different sizes\n",
    "- visualization"
   ]
  },
  {
   "cell_type": "code",
   "execution_count": 33,
   "id": "59c1a1d7",
   "metadata": {},
   "outputs": [],
   "source": [
    "t = TicToc()"
   ]
  },
  {
   "cell_type": "code",
   "execution_count": 49,
   "id": "6b906a46",
   "metadata": {},
   "outputs": [],
   "source": [
    "n_candidates = list(range(1000, 11000, 1000))\n",
    "num = len(n_candidates)\n",
    "time_candidates = np.zeros(num)\n",
    "log_time_candidates = np.zeros(num)\n",
    "\n",
    "for idx in range(num):\n",
    "    n = n_candidates[idx]\n",
    "    mat = random.random(size=(n,n))\n",
    "    t.tic()\n",
    "    mat_inverse = np.linalg.inv(mat)\n",
    "    time = t.tocvalue()\n",
    "    time_candidates[idx] = time\n",
    "    log_time_candidates[idx] = math.log(time)"
   ]
  },
  {
   "cell_type": "markdown",
   "id": "d34f676f",
   "metadata": {},
   "source": [
    "#### visualization"
   ]
  },
  {
   "cell_type": "code",
   "execution_count": 62,
   "id": "7b9ced25",
   "metadata": {},
   "outputs": [
    {
     "data": {
      "image/png": "[encoded data removed]",
      "text/plain": [
       "<Figure size 432x288 with 1 Axes>"
      ]
     },
     "metadata": {
      "needs_background": "light"
     },
     "output_type": "display_data"
    }
   ],
   "source": [
    "plt.figure(1)\n",
    "plt.plot(log_time_candidates)\n",
    "plt.xticks(list(range(num)), n_candidates)\n",
    "plt.xlabel('size')\n",
    "plt.ylabel('log-time')\n",
    "plt.grid()\n",
    "plt.title('log-time - size')\n",
    "plt.show()"
   ]
  },
  {
   "cell_type": "markdown",
   "id": "353213a9",
   "metadata": {},
   "source": [
    "### (4) Largest n that device can handle"
   ]
  },
  {
   "cell_type": "code",
   "execution_count": 63,
   "id": "1dbca86d",
   "metadata": {},
   "outputs": [
    {
     "name": "stdout",
     "output_type": "stream",
     "text": [
      "Elapsed time is 223.359096 seconds.\n"
     ]
    }
   ],
   "source": [
    "# try and record the time\n",
    "n_max = 20000\n",
    "mat = random.random(size=(n_max,n_max))\n",
    "t.tic()\n",
    "mat_inverse = np.linalg.inv(mat)\n",
    "t.toc()"
   ]
  },
  {
   "cell_type": "markdown",
   "id": "3208c875",
   "metadata": {},
   "source": [
    "#### Remark:\n",
    "- Perhaps this **is not** the largest size of matrix that my device can inverse, but actually it will **take quite a long time(223 seconds)** to inverse the matrix of this size (**20000 $\\times$ 20000**)."
   ]
  },
  {
   "cell_type": "markdown",
   "id": "96b34bb9",
   "metadata": {},
   "source": [
    "## Q3) PCA from scratch"
   ]
  },
  {
   "cell_type": "markdown",
   "id": "eb164f0b",
   "metadata": {},
   "source": [
    "### (1) load iris dataset"
   ]
  },
  {
   "cell_type": "code",
   "execution_count": 205,
   "id": "27f746d9",
   "metadata": {},
   "outputs": [],
   "source": [
    "iris = datasets.load_iris(as_frame = True)"
   ]
  },
  {
   "cell_type": "markdown",
   "id": "b30f2dfe",
   "metadata": {},
   "source": [
    "#### Dataset Description"
   ]
  },
  {
   "cell_type": "code",
   "execution_count": 206,
   "id": "e2922470",
   "metadata": {},
   "outputs": [
    {
     "data": {
      "text/html": [
       "<div>\n",
       "<style scoped>\n",
       "    .dataframe tbody tr th:only-of-type {\n",
       "        vertical-align: middle;\n",
       "    }\n",
       "\n",
       "    .dataframe tbody tr th {\n",
       "        vertical-align: top;\n",
       "    }\n",
       "\n",
       "    .dataframe thead th {\n",
       "        text-align: right;\n",
       "    }\n",
       "</style>\n",
       "<table border=\"1\" class=\"dataframe\">\n",
       "  <thead>\n",
       "    <tr style=\"text-align: right;\">\n",
       "      <th></th>\n",
       "      <th>sepal length (cm)</th>\n",
       "      <th>sepal width (cm)</th>\n",
       "      <th>petal length (cm)</th>\n",
       "      <th>petal width (cm)</th>\n",
       "    </tr>\n",
       "  </thead>\n",
       "  <tbody>\n",
       "    <tr>\n",
       "      <th>0</th>\n",
       "      <td>5.1</td>\n",
       "      <td>3.5</td>\n",
       "      <td>1.4</td>\n",
       "      <td>0.2</td>\n",
       "    </tr>\n",
       "    <tr>\n",
       "      <th>1</th>\n",
       "      <td>4.9</td>\n",
       "      <td>3.0</td>\n",
       "      <td>1.4</td>\n",
       "      <td>0.2</td>\n",
       "    </tr>\n",
       "    <tr>\n",
       "      <th>2</th>\n",
       "      <td>4.7</td>\n",
       "      <td>3.2</td>\n",
       "      <td>1.3</td>\n",
       "      <td>0.2</td>\n",
       "    </tr>\n",
       "    <tr>\n",
       "      <th>3</th>\n",
       "      <td>4.6</td>\n",
       "      <td>3.1</td>\n",
       "      <td>1.5</td>\n",
       "      <td>0.2</td>\n",
       "    </tr>\n",
       "    <tr>\n",
       "      <th>4</th>\n",
       "      <td>5.0</td>\n",
       "      <td>3.6</td>\n",
       "      <td>1.4</td>\n",
       "      <td>0.2</td>\n",
       "    </tr>\n",
       "  </tbody>\n",
       "</table>\n",
       "</div>"
      ],
      "text/plain": [
       "   sepal length (cm)  sepal width (cm)  petal length (cm)  petal width (cm)\n",
       "0                5.1               3.5                1.4               0.2\n",
       "1                4.9               3.0                1.4               0.2\n",
       "2                4.7               3.2                1.3               0.2\n",
       "3                4.6               3.1                1.5               0.2\n",
       "4                5.0               3.6                1.4               0.2"
      ]
     },
     "execution_count": 206,
     "metadata": {},
     "output_type": "execute_result"
    }
   ],
   "source": [
    "iris.data.head()"
   ]
  },
  {
   "cell_type": "code",
   "execution_count": 207,
   "id": "423cc0fa",
   "metadata": {},
   "outputs": [
    {
     "data": {
      "text/plain": [
       "0    0\n",
       "1    0\n",
       "2    0\n",
       "3    0\n",
       "4    0\n",
       "Name: target, dtype: int64"
      ]
     },
     "execution_count": 207,
     "metadata": {},
     "output_type": "execute_result"
    }
   ],
   "source": [
    "iris.target.head()"
   ]
  },
  {
   "cell_type": "code",
   "execution_count": 208,
   "id": "c9546494",
   "metadata": {},
   "outputs": [
    {
     "data": {
      "text/plain": [
       "array(['setosa', 'versicolor', 'virginica'], dtype='<U10')"
      ]
     },
     "execution_count": 208,
     "metadata": {},
     "output_type": "execute_result"
    }
   ],
   "source": [
    "iris.target_names"
   ]
  },
  {
   "cell_type": "code",
   "execution_count": 209,
   "id": "a5b93ba4",
   "metadata": {},
   "outputs": [
    {
     "data": {
      "text/plain": [
       "['sepal length (cm)',\n",
       " 'sepal width (cm)',\n",
       " 'petal length (cm)',\n",
       " 'petal width (cm)']"
      ]
     },
     "execution_count": 209,
     "metadata": {},
     "output_type": "execute_result"
    }
   ],
   "source": [
    "iris.feature_names"
   ]
  },
  {
   "cell_type": "markdown",
   "id": "611f7163",
   "metadata": {},
   "source": [
    "### (2) Standardization"
   ]
  },
  {
   "cell_type": "code",
   "execution_count": 210,
   "id": "33b32259",
   "metadata": {},
   "outputs": [],
   "source": [
    "def num2spe(x):\n",
    "    if x==0:\n",
    "        return 'setosa'\n",
    "    elif x==1:\n",
    "        return 'versicolor'\n",
    "    else:\n",
    "        return 'virginica'\n",
    "\n",
    "data = iris.data\n",
    "data['target'] = iris.target\n",
    "data['species'] = data['target'].map(num2spe)"
   ]
  },
  {
   "cell_type": "code",
   "execution_count": 211,
   "id": "2cfee459",
   "metadata": {},
   "outputs": [
    {
     "data": {
      "text/html": [
       "<div>\n",
       "<style scoped>\n",
       "    .dataframe tbody tr th:only-of-type {\n",
       "        vertical-align: middle;\n",
       "    }\n",
       "\n",
       "    .dataframe tbody tr th {\n",
       "        vertical-align: top;\n",
       "    }\n",
       "\n",
       "    .dataframe thead th {\n",
       "        text-align: right;\n",
       "    }\n",
       "</style>\n",
       "<table border=\"1\" class=\"dataframe\">\n",
       "  <thead>\n",
       "    <tr style=\"text-align: right;\">\n",
       "      <th></th>\n",
       "      <th>sepal length (cm)</th>\n",
       "      <th>sepal width (cm)</th>\n",
       "      <th>petal length (cm)</th>\n",
       "      <th>petal width (cm)</th>\n",
       "      <th>target</th>\n",
       "      <th>species</th>\n",
       "    </tr>\n",
       "  </thead>\n",
       "  <tbody>\n",
       "    <tr>\n",
       "      <th>0</th>\n",
       "      <td>5.1</td>\n",
       "      <td>3.5</td>\n",
       "      <td>1.4</td>\n",
       "      <td>0.2</td>\n",
       "      <td>0</td>\n",
       "      <td>setosa</td>\n",
       "    </tr>\n",
       "    <tr>\n",
       "      <th>1</th>\n",
       "      <td>4.9</td>\n",
       "      <td>3.0</td>\n",
       "      <td>1.4</td>\n",
       "      <td>0.2</td>\n",
       "      <td>0</td>\n",
       "      <td>setosa</td>\n",
       "    </tr>\n",
       "    <tr>\n",
       "      <th>2</th>\n",
       "      <td>4.7</td>\n",
       "      <td>3.2</td>\n",
       "      <td>1.3</td>\n",
       "      <td>0.2</td>\n",
       "      <td>0</td>\n",
       "      <td>setosa</td>\n",
       "    </tr>\n",
       "    <tr>\n",
       "      <th>3</th>\n",
       "      <td>4.6</td>\n",
       "      <td>3.1</td>\n",
       "      <td>1.5</td>\n",
       "      <td>0.2</td>\n",
       "      <td>0</td>\n",
       "      <td>setosa</td>\n",
       "    </tr>\n",
       "    <tr>\n",
       "      <th>4</th>\n",
       "      <td>5.0</td>\n",
       "      <td>3.6</td>\n",
       "      <td>1.4</td>\n",
       "      <td>0.2</td>\n",
       "      <td>0</td>\n",
       "      <td>setosa</td>\n",
       "    </tr>\n",
       "  </tbody>\n",
       "</table>\n",
       "</div>"
      ],
      "text/plain": [
       "   sepal length (cm)  sepal width (cm)  petal length (cm)  petal width (cm)  \\\n",
       "0                5.1               3.5                1.4               0.2   \n",
       "1                4.9               3.0                1.4               0.2   \n",
       "2                4.7               3.2                1.3               0.2   \n",
       "3                4.6               3.1                1.5               0.2   \n",
       "4                5.0               3.6                1.4               0.2   \n",
       "\n",
       "   target species  \n",
       "0       0  setosa  \n",
       "1       0  setosa  \n",
       "2       0  setosa  \n",
       "3       0  setosa  \n",
       "4       0  setosa  "
      ]
     },
     "execution_count": 211,
     "metadata": {},
     "output_type": "execute_result"
    }
   ],
   "source": [
    "data.head()"
   ]
  },
  {
   "cell_type": "code",
   "execution_count": 212,
   "id": "01d36e13",
   "metadata": {},
   "outputs": [],
   "source": [
    "std_feature_names = []\n",
    "for feature_name in iris.feature_names:\n",
    "    std_feature_name = 'std ' + feature_name\n",
    "    std_feature_names.append(std_feature_name)\n",
    "    data[std_feature_name] = (data[feature_name] - data[feature_name].mean()) / data[feature_name].std()"
   ]
  },
  {
   "cell_type": "markdown",
   "id": "8d3d8c7c",
   "metadata": {},
   "source": [
    "#### Report"
   ]
  },
  {
   "cell_type": "code",
   "execution_count": 213,
   "id": "ede63a8f",
   "metadata": {},
   "outputs": [
    {
     "data": {
      "text/html": [
       "<div>\n",
       "<style scoped>\n",
       "    .dataframe tbody tr th:only-of-type {\n",
       "        vertical-align: middle;\n",
       "    }\n",
       "\n",
       "    .dataframe tbody tr th {\n",
       "        vertical-align: top;\n",
       "    }\n",
       "\n",
       "    .dataframe thead th {\n",
       "        text-align: right;\n",
       "    }\n",
       "</style>\n",
       "<table border=\"1\" class=\"dataframe\">\n",
       "  <thead>\n",
       "    <tr style=\"text-align: right;\">\n",
       "      <th></th>\n",
       "      <th>std sepal length (cm)</th>\n",
       "      <th>std sepal width (cm)</th>\n",
       "      <th>std petal length (cm)</th>\n",
       "      <th>std petal width (cm)</th>\n",
       "      <th>species</th>\n",
       "    </tr>\n",
       "  </thead>\n",
       "  <tbody>\n",
       "    <tr>\n",
       "      <th>0</th>\n",
       "      <td>-0.897674</td>\n",
       "      <td>1.015602</td>\n",
       "      <td>-1.335752</td>\n",
       "      <td>-1.311052</td>\n",
       "      <td>setosa</td>\n",
       "    </tr>\n",
       "    <tr>\n",
       "      <th>1</th>\n",
       "      <td>-1.139200</td>\n",
       "      <td>-0.131539</td>\n",
       "      <td>-1.335752</td>\n",
       "      <td>-1.311052</td>\n",
       "      <td>setosa</td>\n",
       "    </tr>\n",
       "    <tr>\n",
       "      <th>2</th>\n",
       "      <td>-1.380727</td>\n",
       "      <td>0.327318</td>\n",
       "      <td>-1.392399</td>\n",
       "      <td>-1.311052</td>\n",
       "      <td>setosa</td>\n",
       "    </tr>\n",
       "  </tbody>\n",
       "</table>\n",
       "</div>"
      ],
      "text/plain": [
       "   std sepal length (cm)  std sepal width (cm)  std petal length (cm)  \\\n",
       "0              -0.897674              1.015602              -1.335752   \n",
       "1              -1.139200             -0.131539              -1.335752   \n",
       "2              -1.380727              0.327318              -1.392399   \n",
       "\n",
       "   std petal width (cm) species  \n",
       "0             -1.311052  setosa  \n",
       "1             -1.311052  setosa  \n",
       "2             -1.311052  setosa  "
      ]
     },
     "execution_count": 213,
     "metadata": {},
     "output_type": "execute_result"
    }
   ],
   "source": [
    "data[std_feature_names + ['species']].head(3)"
   ]
  },
  {
   "cell_type": "markdown",
   "id": "1a4983f7",
   "metadata": {},
   "source": [
    "### (3) Covariance Matrix $X^TX$"
   ]
  },
  {
   "cell_type": "code",
   "execution_count": 214,
   "id": "73774b5d",
   "metadata": {},
   "outputs": [],
   "source": [
    "X = data[std_feature_names].values\n",
    "cov = np.matmul(X.T, X)"
   ]
  },
  {
   "cell_type": "markdown",
   "id": "53afae3a",
   "metadata": {},
   "source": [
    "#### Report"
   ]
  },
  {
   "cell_type": "code",
   "execution_count": 215,
   "id": "2819a1a1",
   "metadata": {},
   "outputs": [
    {
     "data": {
      "text/plain": [
       "array([[149.        , -17.51789784, 129.89131261, 121.87322781],\n",
       "       [-17.51789784, 149.        , -63.83757555, -54.55276395],\n",
       "       [129.89131261, -63.83757555, 149.        , 143.46694928],\n",
       "       [121.87322781, -54.55276395, 143.46694928, 149.        ]])"
      ]
     },
     "execution_count": 215,
     "metadata": {},
     "output_type": "execute_result"
    }
   ],
   "source": [
    "cov"
   ]
  },
  {
   "cell_type": "markdown",
   "id": "f8b76877",
   "metadata": {},
   "source": [
    "### (4) Eigenvalue Decomposition"
   ]
  },
  {
   "cell_type": "code",
   "execution_count": 216,
   "id": "3a8ea2fb",
   "metadata": {},
   "outputs": [],
   "source": [
    "eig_value, eig_vector = np.linalg.eig(cov)"
   ]
  },
  {
   "cell_type": "code",
   "execution_count": 217,
   "id": "a0767f4a",
   "metadata": {},
   "outputs": [],
   "source": [
    "Q, D = eig_vector, np.diag(eig_value)"
   ]
  },
  {
   "cell_type": "markdown",
   "id": "ba03c726",
   "metadata": {},
   "source": [
    "#### Verification"
   ]
  },
  {
   "cell_type": "code",
   "execution_count": 218,
   "id": "58dc40af",
   "metadata": {},
   "outputs": [
    {
     "data": {
      "text/plain": [
       "array([[149.        , -17.51789784, 129.89131261, 121.87322781],\n",
       "       [-17.51789784, 149.        , -63.83757555, -54.55276395],\n",
       "       [129.89131261, -63.83757555, 149.        , 143.46694928],\n",
       "       [121.87322781, -54.55276395, 143.46694928, 149.        ]])"
      ]
     },
     "execution_count": 218,
     "metadata": {},
     "output_type": "execute_result"
    }
   ],
   "source": [
    "Q.dot(D).dot(Q.T)"
   ]
  },
  {
   "cell_type": "code",
   "execution_count": 219,
   "id": "43f69198",
   "metadata": {},
   "outputs": [
    {
     "data": {
      "text/plain": [
       "array([[149.        , -17.51789784, 129.89131261, 121.87322781],\n",
       "       [-17.51789784, 149.        , -63.83757555, -54.55276395],\n",
       "       [129.89131261, -63.83757555, 149.        , 143.46694928],\n",
       "       [121.87322781, -54.55276395, 143.46694928, 149.        ]])"
      ]
     },
     "execution_count": 219,
     "metadata": {},
     "output_type": "execute_result"
    }
   ],
   "source": [
    "cov"
   ]
  },
  {
   "cell_type": "markdown",
   "id": "a3d3466c",
   "metadata": {},
   "source": [
    "#### Report"
   ]
  },
  {
   "cell_type": "code",
   "execution_count": 220,
   "id": "5cc8c9f8",
   "metadata": {},
   "outputs": [
    {
     "name": "stdout",
     "output_type": "stream",
     "text": [
      "---------------------------Q:---------------------------\n",
      "[[ 0.52106591 -0.37741762 -0.71956635  0.26128628]\n",
      " [-0.26934744 -0.92329566  0.24438178 -0.12350962]\n",
      " [ 0.5804131  -0.02449161  0.14212637 -0.80144925]\n",
      " [ 0.56485654 -0.06694199  0.63427274  0.52359713]]\n",
      "---------------------------D:---------------------------\n",
      "[[434.85617466   0.           0.           0.        ]\n",
      " [  0.         136.19054025   0.           0.        ]\n",
      " [  0.           0.          21.86677446   0.        ]\n",
      " [  0.           0.           0.           3.08651063]]\n"
     ]
    }
   ],
   "source": [
    "print('---------------------------Q:---------------------------')\n",
    "print(Q)\n",
    "print('---------------------------D:---------------------------')\n",
    "print(D)"
   ]
  },
  {
   "cell_type": "markdown",
   "id": "c02d7735",
   "metadata": {},
   "source": [
    "### (5) First Principal Component"
   ]
  },
  {
   "cell_type": "code",
   "execution_count": 224,
   "id": "c9f0b9c8",
   "metadata": {},
   "outputs": [],
   "source": [
    "def num2col(x):\n",
    "    if x==0:\n",
    "        return 'red'\n",
    "    elif x==1:\n",
    "        return 'lightgreen'\n",
    "    else:\n",
    "        return 'dodgerblue'\n",
    "    \n",
    "# achieve the first direction\n",
    "direction1 = Q.T[0]\n",
    "\n",
    "# calculate the projection\n",
    "data['PC1'] = direction1[0] * data['std sepal length (cm)'] + direction1[1] * data['std sepal width (cm)'] \\\n",
    "    + direction1[2] * data['std petal length (cm)'] + direction1[3] * data['std petal width (cm)']\n",
    "\n",
    "# for visualization\n",
    "data['redundant'] = 0\n",
    "data['color'] = data['target'].map(num2col)"
   ]
  },
  {
   "cell_type": "code",
   "execution_count": 225,
   "id": "a6982e27",
   "metadata": {},
   "outputs": [
    {
     "data": {
      "text/html": [
       "<div>\n",
       "<style scoped>\n",
       "    .dataframe tbody tr th:only-of-type {\n",
       "        vertical-align: middle;\n",
       "    }\n",
       "\n",
       "    .dataframe tbody tr th {\n",
       "        vertical-align: top;\n",
       "    }\n",
       "\n",
       "    .dataframe thead th {\n",
       "        text-align: right;\n",
       "    }\n",
       "</style>\n",
       "<table border=\"1\" class=\"dataframe\">\n",
       "  <thead>\n",
       "    <tr style=\"text-align: right;\">\n",
       "      <th></th>\n",
       "      <th>PC1</th>\n",
       "      <th>species</th>\n",
       "    </tr>\n",
       "  </thead>\n",
       "  <tbody>\n",
       "    <tr>\n",
       "      <th>0</th>\n",
       "      <td>-2.257141</td>\n",
       "      <td>setosa</td>\n",
       "    </tr>\n",
       "    <tr>\n",
       "      <th>1</th>\n",
       "      <td>-2.074013</td>\n",
       "      <td>setosa</td>\n",
       "    </tr>\n",
       "    <tr>\n",
       "      <th>2</th>\n",
       "      <td>-2.356335</td>\n",
       "      <td>setosa</td>\n",
       "    </tr>\n",
       "    <tr>\n",
       "      <th>3</th>\n",
       "      <td>-2.291707</td>\n",
       "      <td>setosa</td>\n",
       "    </tr>\n",
       "    <tr>\n",
       "      <th>4</th>\n",
       "      <td>-2.381863</td>\n",
       "      <td>setosa</td>\n",
       "    </tr>\n",
       "  </tbody>\n",
       "</table>\n",
       "</div>"
      ],
      "text/plain": [
       "        PC1 species\n",
       "0 -2.257141  setosa\n",
       "1 -2.074013  setosa\n",
       "2 -2.356335  setosa\n",
       "3 -2.291707  setosa\n",
       "4 -2.381863  setosa"
      ]
     },
     "execution_count": 225,
     "metadata": {},
     "output_type": "execute_result"
    }
   ],
   "source": [
    "data[['PC1', 'species']].head()"
   ]
  },
  {
   "cell_type": "markdown",
   "id": "e3219610",
   "metadata": {},
   "source": [
    "#### visualization"
   ]
  },
  {
   "cell_type": "code",
   "execution_count": 244,
   "id": "9e4303d2",
   "metadata": {},
   "outputs": [
    {
     "data": {
      "image/png": "[encoded data removed]",
      "text/plain": [
       "<Figure size 432x288 with 1 Axes>"
      ]
     },
     "metadata": {
      "needs_background": "light"
     },
     "output_type": "display_data"
    }
   ],
   "source": [
    "for targ in range(3):\n",
    "    data_slice = data[data['target'] == targ]\n",
    "    x, y = data_slice['PC1'], data_slice['redundant']\n",
    "    c, l = num2col(targ), num2spe(targ)\n",
    "    plt.scatter(x = x, y = y, c = c, label = l)\n",
    "\n",
    "plt.xlabel('PC1')\n",
    "plt.title('PC1 plot')\n",
    "plt.legend()\n",
    "plt.show()"
   ]
  },
  {
   "cell_type": "markdown",
   "id": "9702a308",
   "metadata": {},
   "source": [
    "### (6) First 2 Principal Component"
   ]
  },
  {
   "cell_type": "code",
   "execution_count": 242,
   "id": "d6df2cfd",
   "metadata": {},
   "outputs": [],
   "source": [
    "# achieve the second direction\n",
    "direction2 = Q.T[1]\n",
    "\n",
    "# calculate the projection\n",
    "data['PC2'] = direction2[0] * data['std sepal length (cm)'] + direction2[1] * data['std sepal width (cm)'] \\\n",
    "    + direction2[2] * data['std petal length (cm)'] + direction2[3] * data['std petal width (cm)']"
   ]
  },
  {
   "cell_type": "code",
   "execution_count": 243,
   "id": "73d6ff4b",
   "metadata": {},
   "outputs": [
    {
     "data": {
      "text/html": [
       "<div>\n",
       "<style scoped>\n",
       "    .dataframe tbody tr th:only-of-type {\n",
       "        vertical-align: middle;\n",
       "    }\n",
       "\n",
       "    .dataframe tbody tr th {\n",
       "        vertical-align: top;\n",
       "    }\n",
       "\n",
       "    .dataframe thead th {\n",
       "        text-align: right;\n",
       "    }\n",
       "</style>\n",
       "<table border=\"1\" class=\"dataframe\">\n",
       "  <thead>\n",
       "    <tr style=\"text-align: right;\">\n",
       "      <th></th>\n",
       "      <th>PC1</th>\n",
       "      <th>PC2</th>\n",
       "      <th>species</th>\n",
       "    </tr>\n",
       "  </thead>\n",
       "  <tbody>\n",
       "    <tr>\n",
       "      <th>0</th>\n",
       "      <td>-2.257141</td>\n",
       "      <td>-0.478424</td>\n",
       "      <td>setosa</td>\n",
       "    </tr>\n",
       "    <tr>\n",
       "      <th>1</th>\n",
       "      <td>-2.074013</td>\n",
       "      <td>0.671883</td>\n",
       "      <td>setosa</td>\n",
       "    </tr>\n",
       "    <tr>\n",
       "      <th>2</th>\n",
       "      <td>-2.356335</td>\n",
       "      <td>0.340766</td>\n",
       "      <td>setosa</td>\n",
       "    </tr>\n",
       "    <tr>\n",
       "      <th>3</th>\n",
       "      <td>-2.291707</td>\n",
       "      <td>0.595400</td>\n",
       "      <td>setosa</td>\n",
       "    </tr>\n",
       "    <tr>\n",
       "      <th>4</th>\n",
       "      <td>-2.381863</td>\n",
       "      <td>-0.644676</td>\n",
       "      <td>setosa</td>\n",
       "    </tr>\n",
       "  </tbody>\n",
       "</table>\n",
       "</div>"
      ],
      "text/plain": [
       "        PC1       PC2 species\n",
       "0 -2.257141 -0.478424  setosa\n",
       "1 -2.074013  0.671883  setosa\n",
       "2 -2.356335  0.340766  setosa\n",
       "3 -2.291707  0.595400  setosa\n",
       "4 -2.381863 -0.644676  setosa"
      ]
     },
     "execution_count": 243,
     "metadata": {},
     "output_type": "execute_result"
    }
   ],
   "source": [
    "data[['PC1', 'PC2', 'species']].head()"
   ]
  },
  {
   "cell_type": "markdown",
   "id": "56662ca1",
   "metadata": {},
   "source": [
    "#### visualization"
   ]
  },
  {
   "cell_type": "code",
   "execution_count": 245,
   "id": "261bc938",
   "metadata": {},
   "outputs": [
    {
     "data": {
      "image/png": "[encoded data removed]",
      "text/plain": [
       "<Figure size 432x288 with 1 Axes>"
      ]
     },
     "metadata": {
      "needs_background": "light"
     },
     "output_type": "display_data"
    }
   ],
   "source": [
    "for targ in range(3):\n",
    "    data_slice = data[data['target'] == targ]\n",
    "    x, y = data_slice['PC1'], data_slice['PC2']\n",
    "    c, l = num2col(targ), num2spe(targ)\n",
    "    plt.scatter(x = x, y = y, c = c, label = l)\n",
    "\n",
    "plt.xlabel('PC1')\n",
    "plt.ylabel('PC2')\n",
    "plt.title('PC1-PC2 plot')\n",
    "plt.legend()\n",
    "plt.show()"
   ]
  }
 ],
 "metadata": {
  "kernelspec": {
   "display_name": "Python 3",
   "language": "python",
   "name": "python3"
  },
  "language_info": {
   "codemirror_mode": {
    "name": "ipython",
    "version": 3
   },
   "file_extension": ".py",
   "mimetype": "text/x-python",
   "name": "python",
   "nbconvert_exporter": "python",
   "pygments_lexer": "ipython3",
   "version": "3.8.8"
  }
 },
 "nbformat": 4,
 "nbformat_minor": 5
}
