{
 "cells": [
  {
   "cell_type": "code",
   "execution_count": 1,
   "id": "ca9035e9",
   "metadata": {},
   "outputs": [],
   "source": [
    "from pyspark.sql import SparkSession\n",
    "from pyspark import SparkContext, SparkConf\n",
    "from pyspark.sql.types import *"
   ]
  },
  {
   "cell_type": "code",
   "execution_count": 2,
   "id": "f38aad50",
   "metadata": {},
   "outputs": [],
   "source": [
    "from pyspark.sql import Row"
   ]
  },
  {
   "cell_type": "code",
   "execution_count": 3,
   "id": "41cc9a6e",
   "metadata": {},
   "outputs": [
    {
     "name": "stdout",
     "output_type": "stream",
     "text": [
      "22/10/30 14:59:35 WARN Utils: Your hostname, wangjiangyideMacBook-Pro.local resolves to a loopback address: 127.0.0.1; using 192.168.1.5 instead (on interface en0)\n",
      "22/10/30 14:59:35 WARN Utils: Set SPARK_LOCAL_IP if you need to bind to another address\n"
     ]
    },
    {
     "name": "stderr",
     "output_type": "stream",
     "text": [
      "Setting default log level to \"WARN\".\n",
      "To adjust logging level use sc.setLogLevel(newLevel). For SparkR, use setLogLevel(newLevel).\n"
     ]
    },
    {
     "name": "stdout",
     "output_type": "stream",
     "text": [
      "22/10/30 14:59:36 WARN NativeCodeLoader: Unable to load native-hadoop library for your platform... using builtin-java classes where applicable\n"
     ]
    }
   ],
   "source": [
    "spark = SparkSession.builder.getOrCreate()"
   ]
  },
  {
   "cell_type": "code",
   "execution_count": 4,
   "id": "985788dc",
   "metadata": {},
   "outputs": [],
   "source": [
    "import findspark\n",
    "findspark.init()"
   ]
  },
  {
   "cell_type": "code",
   "execution_count": 5,
   "id": "0ab1ee49",
   "metadata": {},
   "outputs": [],
   "source": [
    "from os import environ\n",
    "environ['PYSPARK_SUBMIT_ARGS'] = '--packages com.databricks:spark-xml_2.12:0.15.0 pyspark-shell'"
   ]
  },
  {
   "cell_type": "code",
   "execution_count": 6,
   "id": "2b344954",
   "metadata": {},
   "outputs": [
    {
     "name": "stdout",
     "output_type": "stream",
     "text": [
      "/Users/wangjiangyi/miniforge3/lib/python3.8/site-packages/pyspark\n"
     ]
    }
   ],
   "source": [
    "from pyspark import find_spark_home\n",
    "print(find_spark_home._find_spark_home())"
   ]
  },
  {
   "cell_type": "markdown",
   "id": "12027c2d",
   "metadata": {},
   "source": [
    "# Import MAS DB"
   ]
  },
  {
   "cell_type": "code",
   "execution_count": 7,
   "id": "75fe63f5",
   "metadata": {},
   "outputs": [
    {
     "name": "stderr",
     "output_type": "stream",
     "text": [
      "Loading class `com.mysql.jdbc.Driver'. This is deprecated. The new driver class is `com.mysql.cj.jdbc.Driver'. The driver is automatically registered via the SPI and manual loading of the driver class is generally unnecessary.\n"
     ]
    }
   ],
   "source": [
    "df_author = spark.read \\\n",
    "    .format('jdbc') \\\n",
    "    .option(\"driver\", \"com.mysql.jdbc.Driver\") \\\n",
    "    .option(\"url\", \"jdbc:mysql://localhost:3306/test\") \\\n",
    "    .option(\"dbtable\", \"author\") \\\n",
    "    .option(\"user\", \"root\") \\\n",
    "    .option(\"password\", \"maomao2011\") \\\n",
    "    .load()"
   ]
  },
  {
   "cell_type": "code",
   "execution_count": 8,
   "id": "355654dc",
   "metadata": {},
   "outputs": [],
   "source": [
    "df_writes = spark.read \\\n",
    "    .format('jdbc') \\\n",
    "    .option(\"driver\", \"com.mysql.jdbc.Driver\") \\\n",
    "    .option(\"url\", \"jdbc:mysql://localhost:3306/test\") \\\n",
    "    .option(\"dbtable\", \"writes\") \\\n",
    "    .option(\"user\", \"root\") \\\n",
    "    .option(\"password\", \"maomao2011\") \\\n",
    "    .load()"
   ]
  },
  {
   "cell_type": "code",
   "execution_count": 9,
   "id": "b5b6f9fb",
   "metadata": {},
   "outputs": [],
   "source": [
    "df_publication = spark.read \\\n",
    "    .format('jdbc') \\\n",
    "    .option(\"driver\", \"com.mysql.jdbc.Driver\") \\\n",
    "    .option(\"url\", \"jdbc:mysql://localhost:3306/test\") \\\n",
    "    .option(\"dbtable\", \"publication\") \\\n",
    "    .option(\"user\", \"root\") \\\n",
    "    .option(\"password\", \"maomao2011\") \\\n",
    "    .load()"
   ]
  },
  {
   "cell_type": "code",
   "execution_count": 10,
   "id": "9859562b",
   "metadata": {},
   "outputs": [
    {
     "name": "stdout",
     "output_type": "stream",
     "text": [
      "root\n",
      " |-- aid: integer (nullable = true)\n",
      " |-- name: string (nullable = true)\n",
      " |-- oid: integer (nullable = true)\n",
      " |-- homepage: string (nullable = true)\n",
      " |-- photo: string (nullable = true)\n",
      "\n"
     ]
    }
   ],
   "source": [
    "df_author.printSchema()"
   ]
  },
  {
   "cell_type": "code",
   "execution_count": 11,
   "id": "91e048dd",
   "metadata": {},
   "outputs": [
    {
     "name": "stdout",
     "output_type": "stream",
     "text": [
      "root\n",
      " |-- aid: integer (nullable = true)\n",
      " |-- pid: integer (nullable = true)\n",
      "\n"
     ]
    }
   ],
   "source": [
    "df_writes.printSchema()"
   ]
  },
  {
   "cell_type": "code",
   "execution_count": 12,
   "id": "d21c2714",
   "metadata": {},
   "outputs": [
    {
     "name": "stdout",
     "output_type": "stream",
     "text": [
      "root\n",
      " |-- pid: integer (nullable = true)\n",
      " |-- title: string (nullable = true)\n",
      " |-- abstract: string (nullable = true)\n",
      " |-- year: integer (nullable = true)\n",
      " |-- cid: integer (nullable = true)\n",
      " |-- jid: integer (nullable = true)\n",
      " |-- reference_num: integer (nullable = true)\n",
      " |-- citation_num: integer (nullable = true)\n",
      " |-- doi: string (nullable = true)\n",
      "\n"
     ]
    }
   ],
   "source": [
    "df_publication.printSchema()"
   ]
  },
  {
   "cell_type": "markdown",
   "id": "ab7cd15b",
   "metadata": {},
   "source": [
    "# Import DBLP DB"
   ]
  },
  {
   "cell_type": "code",
   "execution_count": 13,
   "id": "c7ad531a",
   "metadata": {},
   "outputs": [],
   "source": [
    "# define schema\n",
    "article_schema = StructType([\n",
    "    StructField(\"author\", ArrayType(elementType = StringType()), True),\n",
    "    StructField(\"title\", StringType(), True),\n",
    "    StructField(\"year\", LongType(), True),\n",
    "    StructField(\"journal\", StringType(), True)])"
   ]
  },
  {
   "cell_type": "code",
   "execution_count": 14,
   "id": "13166e1c",
   "metadata": {},
   "outputs": [],
   "source": [
    "df_article = spark.read \\\n",
    "     .format('xml') \\\n",
    "     .option('rootTag', 'dblp') \\\n",
    "     .option('rowTag', 'article') \\\n",
    "     .load(\"dblp.xml\", schema = article_schema)"
   ]
  },
  {
   "cell_type": "code",
   "execution_count": 15,
   "id": "fe211701",
   "metadata": {},
   "outputs": [
    {
     "name": "stdout",
     "output_type": "stream",
     "text": [
      "root\n",
      " |-- author: array (nullable = true)\n",
      " |    |-- element: string (containsNull = true)\n",
      " |-- title: string (nullable = true)\n",
      " |-- year: long (nullable = true)\n",
      " |-- journal: string (nullable = true)\n",
      "\n"
     ]
    }
   ],
   "source": [
    "df_article.printSchema()"
   ]
  },
  {
   "cell_type": "code",
   "execution_count": 16,
   "id": "73c6b7e1",
   "metadata": {},
   "outputs": [
    {
     "name": "stderr",
     "output_type": "stream",
     "text": [
      "\r",
      "[Stage 0:>                                                          (0 + 1) / 1]\r"
     ]
    },
    {
     "name": "stdout",
     "output_type": "stream",
     "text": [
      "+--------------------+--------------------+----+--------------------+\n",
      "|              author|               title|year|             journal|\n",
      "+--------------------+--------------------+----+--------------------+\n",
      "|[Paul Kocher, Dan...|Spectre Attacks: ...|2018|  meltdownattack.com|\n",
      "|[Moritz Lipp, Mic...|            Meltdown|2018|  meltdownattack.com|\n",
      "|      [Frank Manola]|An Evaluation of ...|1994|GTE Laboratories ...|\n",
      "|[Michael L. Brodi...|DARWIN: On the In...|1993|GTE Laboratories ...|\n",
      "|[Mark F. Hornick,...|Integrating Heter...|1991|GTE Laboratories ...|\n",
      "+--------------------+--------------------+----+--------------------+\n",
      "only showing top 5 rows\n",
      "\n"
     ]
    },
    {
     "name": "stderr",
     "output_type": "stream",
     "text": [
      "\r",
      "                                                                                \r"
     ]
    }
   ],
   "source": [
    "df_article.show(5)"
   ]
  },
  {
   "cell_type": "code",
   "execution_count": 17,
   "id": "11322e20",
   "metadata": {},
   "outputs": [],
   "source": [
    "# define schema\n",
    "inproc_schema = StructType([\n",
    "    StructField(\"author\", ArrayType(elementType = StringType()), True),\n",
    "    StructField(\"title\", StringType(), True),\n",
    "    StructField(\"year\", LongType(), True),\n",
    "    StructField(\"booktitle\", StringType(), True)])"
   ]
  },
  {
   "cell_type": "code",
   "execution_count": 18,
   "id": "b8b498f5",
   "metadata": {},
   "outputs": [],
   "source": [
    "df_inproc = spark.read \\\n",
    "     .format('xml') \\\n",
    "     .option('rootTag', 'dblp') \\\n",
    "     .option('rowTag', 'inproceedings') \\\n",
    "     .load(\"dblp.xml\", schema = inproc_schema)"
   ]
  },
  {
   "cell_type": "code",
   "execution_count": 19,
   "id": "0fd1c00f",
   "metadata": {},
   "outputs": [
    {
     "name": "stdout",
     "output_type": "stream",
     "text": [
      "root\n",
      " |-- author: array (nullable = true)\n",
      " |    |-- element: string (containsNull = true)\n",
      " |-- title: string (nullable = true)\n",
      " |-- year: long (nullable = true)\n",
      " |-- booktitle: string (nullable = true)\n",
      "\n"
     ]
    }
   ],
   "source": [
    "df_inproc.printSchema()"
   ]
  },
  {
   "cell_type": "code",
   "execution_count": 20,
   "id": "1e2e2ffe",
   "metadata": {},
   "outputs": [
    {
     "name": "stderr",
     "output_type": "stream",
     "text": [
      "                                                                                \r"
     ]
    },
    {
     "name": "stdout",
     "output_type": "stream",
     "text": [
      "+--------------------+--------------------+----+--------------------+\n",
      "|              author|               title|year|           booktitle|\n",
      "+--------------------+--------------------+----+--------------------+\n",
      "|   [Arnon Rosenthal]|The Future of Cla...|1998|                SWEE|\n",
      "|        [E. F. Codd]|Seven Steps to Re...|1974|IFIP Working Conf...|\n",
      "|[Toni Bollinger, ...|The LILOG Inferen...|1991|Text Understandin...|\n",
      "|[Kai-Uwe Carstens...|Why a Hill Can't ...|1991|Text Understandin...|\n",
      "|[David W. Flater,...|Towards Flexible ...|1993|Advanced Database...|\n",
      "+--------------------+--------------------+----+--------------------+\n",
      "only showing top 5 rows\n",
      "\n"
     ]
    }
   ],
   "source": [
    "df_inproc.show(5)"
   ]
  },
  {
   "cell_type": "markdown",
   "id": "20e1f6a7",
   "metadata": {},
   "source": [
    "### rename for article schema\n",
    "- schema format: author - title - year - booktitle"
   ]
  },
  {
   "cell_type": "code",
   "execution_count": 21,
   "id": "6681bceb",
   "metadata": {},
   "outputs": [],
   "source": [
    "df_article = df_article.withColumnRenamed('journal', 'booktitle')"
   ]
  },
  {
   "cell_type": "code",
   "execution_count": 22,
   "id": "38f683ef",
   "metadata": {},
   "outputs": [
    {
     "name": "stdout",
     "output_type": "stream",
     "text": [
      "+--------------------+--------------------+----+--------------------+\n",
      "|              author|               title|year|           booktitle|\n",
      "+--------------------+--------------------+----+--------------------+\n",
      "|[Paul Kocher, Dan...|Spectre Attacks: ...|2018|  meltdownattack.com|\n",
      "|[Moritz Lipp, Mic...|            Meltdown|2018|  meltdownattack.com|\n",
      "|      [Frank Manola]|An Evaluation of ...|1994|GTE Laboratories ...|\n",
      "|[Michael L. Brodi...|DARWIN: On the In...|1993|GTE Laboratories ...|\n",
      "|[Mark F. Hornick,...|Integrating Heter...|1991|GTE Laboratories ...|\n",
      "+--------------------+--------------------+----+--------------------+\n",
      "only showing top 5 rows\n",
      "\n"
     ]
    }
   ],
   "source": [
    "df_article.show(5)"
   ]
  },
  {
   "cell_type": "markdown",
   "id": "b2a4210c",
   "metadata": {},
   "source": [
    "# Query 1:"
   ]
  },
  {
   "cell_type": "markdown",
   "id": "bcaa0982",
   "metadata": {},
   "source": [
    "## 1. Max_year in MAS DB\n",
    "- when I run spark.sql, it will always suffer from time limit issues\n",
    "- so I can only pre-process the data and load to Jupyter Notebook"
   ]
  },
  {
   "cell_type": "markdown",
   "id": "c43e36a4",
   "metadata": {},
   "source": [
    "- this cannot work!!!"
   ]
  },
  {
   "cell_type": "code",
   "execution_count": 23,
   "id": "675d2bb7",
   "metadata": {},
   "outputs": [],
   "source": [
    "df_author.createOrReplaceTempView('author')\n",
    "df_writes.createOrReplaceTempView('writes')\n",
    "df_publication.createOrReplaceTempView('publication')"
   ]
  },
  {
   "cell_type": "code",
   "execution_count": 24,
   "id": "2621d2af",
   "metadata": {},
   "outputs": [],
   "source": [
    "maxyear_MAS = spark.sql(\"select max(year) as max_year from publication\\\n",
    "                    where pid in \\\n",
    "                    (select pid from writes \\\n",
    "                    where aid = (select aid from author where name = 'Divesh Srivastava'))\")"
   ]
  },
  {
   "cell_type": "markdown",
   "id": "eb559658",
   "metadata": {},
   "source": [
    "- this works"
   ]
  },
  {
   "cell_type": "code",
   "execution_count": 25,
   "id": "f414c221",
   "metadata": {},
   "outputs": [],
   "source": [
    "query_maxyear = \"(select max(year) as max_year from publication\\\n",
    "                where pid in \\\n",
    "                (select pid from writes \\\n",
    "                where aid = (select aid from author where name = 'Divesh Srivastava'))\\\n",
    "                ) tmp\""
   ]
  },
  {
   "cell_type": "code",
   "execution_count": 26,
   "id": "243e4533",
   "metadata": {},
   "outputs": [],
   "source": [
    "maxyear_MAS = spark.read \\\n",
    "    .format('jdbc') \\\n",
    "    .option(\"driver\", \"com.mysql.jdbc.Driver\") \\\n",
    "    .option(\"url\", \"jdbc:mysql://localhost:3306/test\") \\\n",
    "    .option(\"dbtable\", query_maxyear) \\\n",
    "    .option(\"user\", \"root\") \\\n",
    "    .option(\"password\", \"maomao2011\") \\\n",
    "    .load()"
   ]
  },
  {
   "cell_type": "code",
   "execution_count": 27,
   "id": "8fd6c13f",
   "metadata": {},
   "outputs": [
    {
     "name": "stdout",
     "output_type": "stream",
     "text": [
      "+--------+\n",
      "|max_year|\n",
      "+--------+\n",
      "|    2012|\n",
      "+--------+\n",
      "\n"
     ]
    },
    {
     "name": "stderr",
     "output_type": "stream",
     "text": [
      "\r",
      "[Stage 4:>                                                          (0 + 1) / 1]\r",
      "\r",
      "                                                                                \r"
     ]
    }
   ],
   "source": [
    "maxyear_MAS.show()"
   ]
  },
  {
   "cell_type": "code",
   "execution_count": 28,
   "id": "fc1d6864",
   "metadata": {},
   "outputs": [
    {
     "data": {
      "text/plain": [
       "2012"
      ]
     },
     "execution_count": 28,
     "metadata": {},
     "output_type": "execute_result"
    }
   ],
   "source": [
    "# achieve the max_year element\n",
    "max_year = maxyear_MAS.collect()\n",
    "max_year[0]['max_year']"
   ]
  },
  {
   "cell_type": "markdown",
   "id": "0142426d",
   "metadata": {},
   "source": [
    "## 2. Find all papers from DBLP that are published after 'Max_year' and written by 'Divesh S.'"
   ]
  },
  {
   "cell_type": "code",
   "execution_count": 29,
   "id": "c866b5c7",
   "metadata": {},
   "outputs": [],
   "source": [
    "from pyspark.sql.functions import array_contains"
   ]
  },
  {
   "cell_type": "code",
   "execution_count": 30,
   "id": "9667133d",
   "metadata": {},
   "outputs": [],
   "source": [
    "article_DS = df_article.filter((df_article.year > max_year[0]['max_year']) & (array_contains(df_article.author, 'Divesh Srivastava')))"
   ]
  },
  {
   "cell_type": "code",
   "execution_count": 31,
   "id": "eb6eb7e8",
   "metadata": {},
   "outputs": [
    {
     "name": "stderr",
     "output_type": "stream",
     "text": [
      "[Stage 9:==============================================>          (17 + 4) / 21]\r"
     ]
    },
    {
     "name": "stdout",
     "output_type": "stream",
     "text": [
      "+--------------------+--------------------+----+--------------------+\n",
      "|              author|               title|year|           booktitle|\n",
      "+--------------------+--------------------+----+--------------------+\n",
      "|[Leon Bornemann, ...|Data Change Explo...|2018|  Datenbank-Spektrum|\n",
      "|[Philip E. Brown,...|From Rocks to Peb...|2019|ACM Trans. Spatia...|\n",
      "|[Donatella Firman...|Robust Entity Res...|2018|IEEE Data Eng. Bull.|\n",
      "|[Tamraparni Dasu,...|Data Quality for ...|2016|IEEE Data Eng. Bull.|\n",
      "|[Luciano Barbosa,...|Big Data Integrat...|2018|IEEE Data Eng. Bull.|\n",
      "|[Shazia W. Sadiq,...|Letter from the S...|2016|IEEE Data Eng. Bull.|\n",
      "|[Kareem El Gebaly...| Explanation Tables.|2018|IEEE Data Eng. Bull.|\n",
      "| [Divesh Srivastava]|Letter from the I...|2021|IEEE Data Eng. Bull.|\n",
      "|[Divesh Srivastav...|Ensuring High-Qua...|2019|ACM J. Data Inf. ...|\n",
      "|[Aline Bessa, Jul...|Effective Discove...|2020|    Trans. Data Sci.|\n",
      "|[Abolfazl Asudeh,...|Efficient Signal ...|2019|         SIGMOD Rec.|\n",
      "|[Shazia Wasim Sad...|Data Quality: The...|2017|         SIGMOD Rec.|\n",
      "|[Mehdi Kargar, Lu...|Effective Keyword...|2022|IEEE Trans. Knowl...|\n",
      "|[Graham Cormode, ...|Constrained Priva...|2021|IEEE Trans. Knowl...|\n",
      "|[Lukasz Golab, Ho...|Discovering Conse...|2014|IEEE Trans. Knowl...|\n",
      "|[Hongyun Cai 0001...|Indexing Evolving...|2015|IEEE Trans. Knowl...|\n",
      "|[Sainyam Galhotra...|Efficient and Eff...|2020|                CoRR|\n",
      "|[Valter Crescenzi...|Alaska: A Flexibl...|2021|                CoRR|\n",
      "|[Xian Li, Xin Lun...|Truth Finding on ...|2015|                CoRR|\n",
      "|[Parke Godfrey, L...|Errata Note: Disc...|2019|                CoRR|\n",
      "+--------------------+--------------------+----+--------------------+\n",
      "only showing top 20 rows\n",
      "\n"
     ]
    },
    {
     "name": "stderr",
     "output_type": "stream",
     "text": [
      "\r",
      "                                                                                \r"
     ]
    }
   ],
   "source": [
    "article_DS.show()"
   ]
  },
  {
   "cell_type": "code",
   "execution_count": 32,
   "id": "c018cbae",
   "metadata": {},
   "outputs": [],
   "source": [
    "inproc_DS = df_inproc.filter((df_inproc.year > max_year[0]['max_year']) & (array_contains(df_inproc.author, 'Divesh Srivastava')))"
   ]
  },
  {
   "cell_type": "code",
   "execution_count": 33,
   "id": "18fd2f04",
   "metadata": {},
   "outputs": [
    {
     "name": "stderr",
     "output_type": "stream",
     "text": [
      "[Stage 13:=====================================================>  (81 + 4) / 85]\r"
     ]
    },
    {
     "name": "stdout",
     "output_type": "stream",
     "text": [
      "+--------------------+--------------------+----+---------+\n",
      "|              author|               title|year|booktitle|\n",
      "+--------------------+--------------------+----+---------+\n",
      "|[Graham Cormode, ...|UMicS: from anony...|2013|     CIKM|\n",
      "|[Divesh Srivastav...|Exploring and Ana...|2022|     CIKM|\n",
      "|[Xi He 0001, Ashw...|Composing Differe...|2017|      CCS|\n",
      "|[Philip E. Brown,...|     Don't Cry Wolf.|2019|     DSAA|\n",
      "|[Mehdi Kargar, Lu...|Effective Keyword...|2021|     ICDE|\n",
      "|[Xian Li, Xin Lun...|Scaling up copy d...|2015|     ICDE|\n",
      "|[Alexandar Mihayl...|FASTOD: Bringing ...|2018|     ICDE|\n",
      "|[Trong Duc Nguyen...|Random Sampling f...|2020|     ICDE|\n",
      "|[Alexandra Kim, L...|Summarizing Hiera...|2020|     ICDE|\n",
      "|[Guoyao Feng, Luk...|Scalable Informat...|2017|     ICDE|\n",
      "|[Leon Bornemann, ...|Structured Object...|2021|     ICDE|\n",
      "|[Xin Luna Dong, D...|Big data integrat...|2013|     ICDE|\n",
      "|[Hongyun Cai 0001...|Indexing evolving...|2016|     ICDE|\n",
      "|[Pei Li, Jessica ...|abcOD: Mining Ban...|2022|     ICDE|\n",
      "|[Grigory Yaroslav...|Accurate and effi...|2013|     ICDE|\n",
      "|[Lukasz Golab, Fl...|Size-Constrained ...|2015|     ICDE|\n",
      "|[Siarhei Bykau, F...|Fine-grained cont...|2015|     ICDE|\n",
      "|[Graham Cormode, ...|Constrained Priva...|2018|     ICDE|\n",
      "|[Pei Li, Jaroslaw...|Discovering Band ...|2020|     ICDE|\n",
      "|[Katsiaryna Miryl...|Finding interesti...|2013|     ICDE|\n",
      "+--------------------+--------------------+----+---------+\n",
      "only showing top 20 rows\n",
      "\n"
     ]
    },
    {
     "name": "stderr",
     "output_type": "stream",
     "text": [
      "\r",
      "[Stage 13:======================================================> (83 + 2) / 85]\r",
      "\r",
      "                                                                                \r"
     ]
    }
   ],
   "source": [
    "inproc_DS.show()"
   ]
  },
  {
   "cell_type": "code",
   "execution_count": 34,
   "id": "b211bdca",
   "metadata": {},
   "outputs": [],
   "source": [
    "query1_result = article_DS.select('title', 'year').union(inproc_DS.select('title', 'year'))"
   ]
  },
  {
   "cell_type": "code",
   "execution_count": 35,
   "id": "cb36fda4",
   "metadata": {},
   "outputs": [
    {
     "name": "stderr",
     "output_type": "stream",
     "text": [
      "[Stage 17:=============================================>          (17 + 4) / 21]\r"
     ]
    },
    {
     "name": "stdout",
     "output_type": "stream",
     "text": [
      "+--------------------+----+\n",
      "|               title|year|\n",
      "+--------------------+----+\n",
      "|Data Change Explo...|2018|\n",
      "|From Rocks to Peb...|2019|\n",
      "|Robust Entity Res...|2018|\n",
      "|Data Quality for ...|2016|\n",
      "|Big Data Integrat...|2018|\n",
      "|Letter from the S...|2016|\n",
      "| Explanation Tables.|2018|\n",
      "|Letter from the I...|2021|\n",
      "|Ensuring High-Qua...|2019|\n",
      "|Effective Discove...|2020|\n",
      "|Efficient Signal ...|2019|\n",
      "|Data Quality: The...|2017|\n",
      "|Effective Keyword...|2022|\n",
      "|Constrained Priva...|2021|\n",
      "|Discovering Conse...|2014|\n",
      "|Indexing Evolving...|2015|\n",
      "|Efficient and Eff...|2020|\n",
      "|Alaska: A Flexibl...|2021|\n",
      "|Truth Finding on ...|2015|\n",
      "|Errata Note: Disc...|2019|\n",
      "+--------------------+----+\n",
      "only showing top 20 rows\n",
      "\n"
     ]
    },
    {
     "name": "stderr",
     "output_type": "stream",
     "text": [
      "\r",
      "[Stage 17:==================================================>     (19 + 2) / 21]\r",
      "\r",
      "                                                                                \r"
     ]
    }
   ],
   "source": [
    "query1_result.show()"
   ]
  },
  {
   "cell_type": "code",
   "execution_count": 36,
   "id": "86b4e4d6",
   "metadata": {},
   "outputs": [
    {
     "name": "stderr",
     "output_type": "stream",
     "text": [
      "                                                                                \r"
     ]
    },
    {
     "data": {
      "text/plain": [
       "157"
      ]
     },
     "execution_count": 36,
     "metadata": {},
     "output_type": "execute_result"
    }
   ],
   "source": [
    "query1_result.count()"
   ]
  },
  {
   "cell_type": "markdown",
   "id": "1a7c3b32",
   "metadata": {},
   "source": [
    "- for store the result"
   ]
  },
  {
   "cell_type": "code",
   "execution_count": 37,
   "id": "01e460a2",
   "metadata": {},
   "outputs": [
    {
     "name": "stderr",
     "output_type": "stream",
     "text": [
      "[Stage 25:=======================================================>(94 + 1) / 95]\r"
     ]
    },
    {
     "name": "stdout",
     "output_type": "stream",
     "text": [
      "+------------------------------------------------------------------------------------------------------------------+----+\n",
      "|title                                                                                                             |year|\n",
      "+------------------------------------------------------------------------------------------------------------------+----+\n",
      "|Data Change Exploration Using Time Series Clustering.                                                             |2018|\n",
      "|From Rocks to Pebbles: Smoothing Spatiotemporal Data Streams in an Overlay of Sensors.                            |2019|\n",
      "|Robust Entity Resolution Using a CrowdOracle.                                                                     |2018|\n",
      "|Data Quality for Temporal Streams.                                                                                |2016|\n",
      "|Big Data Integration for Product Specifications.                                                                  |2018|\n",
      "|Letter from the Special Issue Editors.                                                                            |2016|\n",
      "|Explanation Tables.                                                                                               |2018|\n",
      "|Letter from the Impact Award Winner.                                                                              |2021|\n",
      "|Ensuring High-Quality Private Data for Responsible Data Science: Vision and Challenges.                           |2019|\n",
      "|Effective Discovery of Meaningful Outlier Relationships.                                                          |2020|\n",
      "|Efficient Signal Reconstruction for a Broad Range of Applications.                                                |2019|\n",
      "|Data Quality: The Role of Empiricism.                                                                             |2017|\n",
      "|Effective Keyword Search Over Weighted Graphs.                                                                    |2022|\n",
      "|Constrained Private Mechanisms for Count Data.                                                                    |2021|\n",
      "|Discovering Conservation Rules.                                                                                   |2014|\n",
      "|Indexing Evolving Events from Tweet Streams.                                                                      |2015|\n",
      "|Efficient and Effective ER with Progressive Blocking.                                                             |2020|\n",
      "|Alaska: A Flexible Benchmark for Data Integration Tasks.                                                          |2021|\n",
      "|Truth Finding on the Deep Web: Is the Problem Solved?                                                             |2015|\n",
      "|Errata Note: Discovering Order Dependencies through Order Compatibility.                                          |2019|\n",
      "|Online Event Integration with StoryPivot.                                                                         |2016|\n",
      "|Effective and Complete Discovery of Order Dependencies via Set-based Axiomatization.                              |2016|\n",
      "|Constrained Differential Privacy for Count Data.                                                                  |2017|\n",
      "|Data Fusion: Resolving Conflicts from Multiple Sources.                                                           |2015|\n",
      "|Answering Range Queries Under Local Differential Privacy.                                                         |2018|\n",
      "|Discovery of Band Order Dependencies.                                                                             |2019|\n",
      "|Random Sampling for Group-By Queries.                                                                             |2019|\n",
      "|Scaling Private Record Linkage using Output Constrained Differential Privacy.                                     |2017|\n",
      "|Scaling up Copy Detection.                                                                                        |2015|\n",
      "|Efficient Discovery of Approximate Order Dependencies.                                                            |2021|\n",
      "|Local Dampening: Differential Privacy for Non-numeric Queries via Local Sensitivity.                              |2020|\n",
      "|Robust Group Linkage.                                                                                             |2015|\n",
      "|DataExposer: Exposing Disconnect between Data and Systems.                                                        |2021|\n",
      "|Effective Explanations for Entity Resolution Models.                                                              |2022|\n",
      "|Variance-Optimal Offline and Streaming Stratified Random Sampling.                                                |2018|\n",
      "|Discovering Domain Orders through Order Dependencies.                                                             |2020|\n",
      "|Efficient Discovery of Meaningful Outlier Relationships.                                                          |2019|\n",
      "|Fusing Data with Correlations.                                                                                    |2015|\n",
      "|Marginal Release Under Local Differential Privacy.                                                                |2017|\n",
      "|Real-World Trajectory Sharing with Local Differential Privacy.                                                    |2021|\n",
      "|Estimating Quantiles from the Union of Historical and Streaming Data.                                             |2016|\n",
      "|Front Matter.                                                                                                     |2013|\n",
      "|Exploring Change - A New Dimension of Data Analytics.                                                             |2018|\n",
      "|REGAL+: Reverse Engineering SPJA Queries.                                                                         |2018|\n",
      "|DEXTER: Large-Scale Discovery and Extraction of Product Specifications on the Web.                                |2015|\n",
      "|Incremental Record Linkage.                                                                                       |2014|\n",
      "|Orca-SR: A Real-Time Traffic Engineering Framework leveraging Similarity Joins.                                   |2020|\n",
      "|Effective and Complete Discovery of Order Dependencies via Set-based Axiomatization.                              |2017|\n",
      "|Big Data Integration.                                                                                             |2013|\n",
      "|TreeScope: Finding Structural Anomalies In Semi-Structured Data.                                                  |2015|\n",
      "|Combining Quantitative and Logical Data Cleaning.                                                                 |2015|\n",
      "|POEM: Pattern-Oriented Explanations of CNN Models.                                                                |2022|\n",
      "|Data-Driven Domain Discovery for Structured Datasets.                                                             |2020|\n",
      "|On Repairing Structural Problems In Semi-structured Data.                                                         |2013|\n",
      "|Local Dampening: Differential Privacy for Non-numeric Queries via Local Sensitivity.                              |2020|\n",
      "|Reverse Engineering Aggregation Queries.                                                                          |2017|\n",
      "|Real-World Trajectory Sharing with Local Differential Privacy.                                                    |2021|\n",
      "|Leveraging Similarity Joins for Signal Reconstruction.                                                            |2018|\n",
      "|CERTEM: Explaining and Debugging Black-box Entity Resolution Systems with CERTA.                                  |2022|\n",
      "|Online Entity Resolution Using an Oracle.                                                                         |2016|\n",
      "|DPT: Differentially Private Trajectory Synthesis Using Hierarchical Reference Systems.                            |2015|\n",
      "|Front Matter.                                                                                                     |2014|\n",
      "|Online Ordering of Overlapping Data Sources.                                                                      |2013|\n",
      "|Answering Range Queries Under Local Differential Privacy.                                                         |2019|\n",
      "|FIT to Monitor Feed Quality.                                                                                      |2015|\n",
      "|Interpretable and Informative Explanations of Outcomes.                                                           |2014|\n",
      "|Front Matter.                                                                                                     |2014|\n",
      "|Stratified random sampling from streaming and stored data.                                                        |2021|\n",
      "|Scalable signal reconstruction for a broad range of applications.                                                 |2021|\n",
      "|Editorial.                                                                                                        |2019|\n",
      "|Exploring data using patterns: A survey.                                                                          |2022|\n",
      "|PrivBayes: Private Data Release via Bayesian Networks.                                                            |2017|\n",
      "|Scalable algorithms for signal reconstruction by leveraging similarity joins.                                     |2020|\n",
      "|Effective and complete discovery of bidirectional order dependencies via set-based axioms.                        |2018|\n",
      "|ABC of order dependencies.                                                                                        |2022|\n",
      "|Conditional heavy hitters: detecting interesting correlations in data streams.                                    |2015|\n",
      "|Efficient and effective ER with progressive blocking.                                                             |2021|\n",
      "|Special issue on responsible data management and data science.                                                    |2022|\n",
      "|Dense subgraph maintenance under streaming edge weight updates for real-time story identification.                |2014|\n",
      "|UMicS: from anonymized data to usable microdata.                                                                  |2013|\n",
      "|Exploring and Analyzing Change: The Janus Project.                                                                |2022|\n",
      "|Composing Differential Privacy and Secure Computation: A Case Study on Scaling Private Record Linkage.            |2017|\n",
      "|Don't Cry Wolf.                                                                                                   |2019|\n",
      "|Effective Keyword Search in Weighted Graphs (Extended Abstract).                                                  |2021|\n",
      "|Scaling up copy detection.                                                                                        |2015|\n",
      "|FASTOD: Bringing Order to Data.                                                                                   |2018|\n",
      "|Random Sampling for Group-By Queries.                                                                             |2020|\n",
      "|Summarizing Hierarchical Multidimensional Data.                                                                   |2020|\n",
      "|Scalable Informative Rule Mining.                                                                                 |2017|\n",
      "|Structured Object Matching across Web Page Revisions.                                                             |2021|\n",
      "|Big data integration.                                                                                             |2013|\n",
      "|Indexing evolving events from tweet streams.                                                                      |2016|\n",
      "|abcOD: Mining Band Order Dependencies.                                                                            |2022|\n",
      "|Accurate and efficient private release of datacubes and contingency tables.                                       |2013|\n",
      "|Size-Constrained Weighted Set Cover.                                                                              |2015|\n",
      "|Fine-grained controversy detection in Wikipedia.                                                                  |2015|\n",
      "|Constrained Private Mechanisms for Count Data.                                                                    |2018|\n",
      "|Discovering Band Order Dependencies.                                                                              |2020|\n",
      "|Finding interesting correlations with conditional heavy hitters.                                                  |2013|\n",
      "|Data quality: The other face of Big Data.                                                                         |2014|\n",
      "|Empirical privacy and empirical utility of anonymized data.                                                       |2013|\n",
      "|Effective Explanations for Entity Resolution Models.                                                              |2022|\n",
      "|Discovering Domain Orders via Order Dependencies.                                                                 |2022|\n",
      "|Exploring Data Using Pa erns: A Survey and Open Problems.                                                         |2021|\n",
      "|Compact explanation of data fusion decisions.                                                                     |2013|\n",
      "|Natural Key Discovery in Wikipedia Tables.                                                                        |2020|\n",
      "|Robust Group Linkage.                                                                                             |2015|\n",
      "|Integrating the R Language Runtime System with a Data Stream Warehouse.                                           |2017|\n",
      "|The elephant in the room: getting value from Big Data.                                                            |2015|\n",
      "|\"Tell me more\" using Ladders in Wikipedia.                                                                        |2017|\n",
      "|Data Fusion: Resolving Conflicts from Multiple Sources.                                                           |2013|\n",
      "|Empirical glitch explanations.                                                                                    |2014|\n",
      "|Robust Entity Resolution using Random Graphs.                                                                     |2018|\n",
      "|Repairing Noisy Graphs.                                                                                           |2017|\n",
      "|DataPrism: Exposing Disconnect between Data and Systems.                                                          |2022|\n",
      "|LedgerView: Access-Control Views on Hyperledger Fabric.                                                           |2022|\n",
      "|Private Release of Graph Statistics using Ladder Functions.                                                       |2015|\n",
      "|Hierarchical Entity Resolution using an Oracle.                                                                   |2022|\n",
      "|Reverse engineering complex join queries.                                                                         |2013|\n",
      "|Publication Culture and Review Processes in the Data Management Community: An Open Discussion.                    |2022|\n",
      "|BEER: Blocking for Effective Entity Resolution.                                                                   |2021|\n",
      "|SourceSight: Enabling Effective Source Selection.                                                                 |2016|\n",
      "|Marginal Release Under Local Differential Privacy.                                                                |2018|\n",
      "|Interpreting deep learning models for entity resolution: an experience report using LIME.                         |2019|\n",
      "|Privacy at Scale: Local Differential Privacy in Practice.                                                         |2018|\n",
      "|FastQRE: Fast Query Reverse Engineering.                                                                          |2018|\n",
      "|StoryPivot: Comparing and Contrasting Story Evolution.                                                            |2015|\n",
      "|Enabling Change Exploration: Vision Paper.                                                                        |2017|\n",
      "|Knowledge Curation and Knowledge Fusion: Challenges, Models and Applications.                                     |2015|\n",
      "|Big Data Linkage for Product Specification Pages.                                                                 |2018|\n",
      "|Characterizing and selecting fresh data sources.                                                                  |2014|\n",
      "|Fusing data with correlations.                                                                                    |2014|\n",
      "|Identifying the Extent of Completeness of Query Answers over Partially Complete Databases.                        |2015|\n",
      "|PrivBayes: private data release via bayesian networks.                                                            |2014|\n",
      "|Subgraph Representation Learning for Team Mining.                                                                 |2022|\n",
      "|Big Data Integration.                                                                                             |2013|\n",
      "|Fraud Buster: Tracking IRSF Using Blockchain While Protecting Business Confidentiality.                           |2021|\n",
      "|DBChEx: Interactive Exploration of Data and Schema Change.                                                        |2019|\n",
      "|Finding Quality in Quantity: The Challenge of Discovering Valuable Sources for Integration.                       |2015|\n",
      "|Geofences in the sky: herding drones with blockchains and 5G.                                                     |2018|\n",
      "|Geotagging IP Packets for Location-Aware Software-Defined Networking in the Presence of Virtual Network Functions.|2017|\n",
      "|Mind the Gaps (and Bumps): Statistical Smoothing of Spatiotemporal Streams.                                       |2017|\n",
      "|Smartmedia: Locally & Contextually-Adapted Streaming Media.                                                       |2020|\n",
      "|Lessons Learned and Research Agenda for Big Data Integration of Product Specifications.                           |2018|\n",
      "|Crowd-Sourced Entity Resolution with Control Queries.                                                             |2019|\n",
      "|Exploring Change.                                                                                                 |2019|\n",
      "|A Tool for Statistical Analysis on Network Big Data.                                                              |2017|\n",
      "|Towards High-Quality Big Data: Lessons from FIT.                                                                  |2020|\n",
      "|Retrieving Skill-Based Teams from Collaboration Networks.                                                         |2021|\n",
      "|Informative Summarization of Numeric Data.                                                                        |2019|\n",
      "|Fine-Tuning Dependencies with Parameters.                                                                         |2022|\n",
      "|Efficient Discovery of Approximate Order Dependencies.                                                            |2021|\n",
      "|Stratified Random Sampling over Streaming and Stored Data.                                                        |2019|\n",
      "|Erratum for Discovering Order Dependencies through Order Compatibility (EDBT 2019).                               |2020|\n",
      "|Bring Order to Data.                                                                                              |2019|\n",
      "|On Axiomatization and Inference Complexity over a Hierarchy of Functional Dependencies.                           |2015|\n",
      "|The Secret Life of Wikipedia Tables.                                                                              |2021|\n",
      "+------------------------------------------------------------------------------------------------------------------+----+\n",
      "\n"
     ]
    },
    {
     "name": "stderr",
     "output_type": "stream",
     "text": [
      "\r",
      "                                                                                \r"
     ]
    }
   ],
   "source": [
    "query1_result.show(200, truncate = False)"
   ]
  },
  {
   "cell_type": "markdown",
   "id": "b3a2390a",
   "metadata": {},
   "source": [
    "# Data pre-processing for Query 2 and Query 3:\n",
    "- After doing analysis, it is more convenient to define a pipeline to preprocess the data\n",
    "- The pipeline is used to **combine** the data from MAS and DBLP that:\n",
    "    - 1. written by \"D. S.\"\n",
    "    - 2. drop duplicates only for those which appear in both MAS and DBLP\n",
    "- The schema for the output of pipeline is:\n",
    "    - author(array) - title - year - booktitle_name - booktitle_fullname"
   ]
  },
  {
   "cell_type": "markdown",
   "id": "0f0cf630",
   "metadata": {},
   "source": [
    "## 1. Read MAS data as the form we need, compact authors to array and filter for \"D. S.\"\n",
    "- read as:\n",
    "    - MAS_article, which contains all journals in MAS;\n",
    "    - MAS_inproc, which contains all conferences in MAS;\n",
    "- the schema is:\n",
    "    - author - title - year - booktitle_name - booktitle_fullname"
   ]
  },
  {
   "cell_type": "markdown",
   "id": "04259d9a",
   "metadata": {},
   "source": [
    "- read article from MAS (journal)"
   ]
  },
  {
   "cell_type": "code",
   "execution_count": 38,
   "id": "e3d7db7c",
   "metadata": {},
   "outputs": [],
   "source": [
    "query_MAS_article = \"(with write_array as ( \\\n",
    "select writes.pid as pid, GROUP_CONCAT(author.name) as name_list \\\n",
    "from writes left join author on author.aid = writes.aid \\\n",
    "group by writes.pid ) \\\n",
    "select \\\n",
    "\tb.name_list \t\tas author, \\\n",
    "    a.title\t\t\t\tas title, \\\n",
    "    a.year\t\t\t\tas year, \\\n",
    "    c.name \t\t\t\tas booktitle_name, \\\n",
    "    c.full_name \t\tas booktitle_fullname \\\n",
    "from (select pid, title, year, jid from publication where jid != 0 and pid in (select pid from writes where aid = (select aid from author where name = 'Divesh Srivastava'))) a \\\n",
    "left join write_array b on a.pid = b.pid \\\n",
    "left join journal c on a.jid = c.jid \\\n",
    ") tmp\""
   ]
  },
  {
   "cell_type": "code",
   "execution_count": 39,
   "id": "2d4731ce",
   "metadata": {},
   "outputs": [],
   "source": [
    "MAS_article = spark.read \\\n",
    "    .format('jdbc') \\\n",
    "    .option(\"driver\", \"com.mysql.jdbc.Driver\") \\\n",
    "    .option(\"url\", \"jdbc:mysql://localhost:3306/test\") \\\n",
    "    .option(\"dbtable\", query_MAS_article) \\\n",
    "    .option(\"user\", \"root\") \\\n",
    "    .option(\"password\", \"maomao2011\") \\\n",
    "    .load()"
   ]
  },
  {
   "cell_type": "code",
   "execution_count": 40,
   "id": "b2414466",
   "metadata": {},
   "outputs": [
    {
     "name": "stderr",
     "output_type": "stream",
     "text": [
      "\r",
      "[Stage 26:>                                                         (0 + 1) / 1]\r"
     ]
    },
    {
     "name": "stdout",
     "output_type": "stream",
     "text": [
      "+--------------------+--------------------+----+--------------+--------------------+\n",
      "|              author|               title|year|booktitle_name|  booktitle_fullname|\n",
      "+--------------------+--------------------+----+--------------+--------------------+\n",
      "|Divesh Srivastava...|Using q-grams in ...|2001|          DEBU|IEEE Data(base) E...|\n",
      "|Andrew Nierman,Di...|TIMBER: A native ...|2002|          VLDB|    The Vldb Journal|\n",
      "|Divesh Srivastava...|Minimization of T...|2001| Sigmod Record|                    |\n",
      "|Divesh Srivastava...|One-dimensional a...|2000|          VLDB|    The Vldb Journal|\n",
      "|Divesh Srivastava...|Implementation of...|1993| Sigmod Record|                    |\n",
      "|Divesh Srivastava...|On Effective Mult...|2000| Sigmod Record|                    |\n",
      "|Dongwon Lee,Dives...|Generating Advanc...|1998|            CN|Computer Networks...|\n",
      "|Divesh Srivastava...|Querying Network ...|1999| Sigmod Record|                    |\n",
      "|Divesh Srivastava...|The CORAL Deducti...|1994|          VLDB|    The Vldb Journal|\n",
      "|Divesh Srivastava...|Data Model and Qu...|1995|          JIIS|Journal of Intell...|\n",
      "|Divesh Srivastava...|Space optimizatio...|1995|          TODS|ACM Transactions ...|\n",
      "|Divesh Srivastava...|Bottom-Up Evaluat...|1995|           TCS|Theoretical Compu...|\n",
      "|Divesh Srivastava...|Semantics and Opt...|1994|          DEBU|IEEE Data(base) E...|\n",
      "|   Divesh Srivastava|Subsumption and I...|1993|          AMAI|Annals of Mathema...|\n",
      "|Divesh Srivastava...|The CORAL Deducti...|1993| Sigmod Record|                    |\n",
      "|Divesh Srivastava...|Space Optimizatio...|1991| Sigmod Record|                    |\n",
      "|Divesh Srivastava...|On Computing Corr...|2001| Sigmod Record|                    |\n",
      "|Divesh Srivastava...|Interaction of Qu...|1998| Sigmod Record|                    |\n",
      "|   Divesh Srivastava|Review - EROC: A ...|2000|            DR|ACM Sigmod Digita...|\n",
      "|   Divesh Srivastava|Review - Query Op...|2000|            DR|ACM Sigmod Digita...|\n",
      "+--------------------+--------------------+----+--------------+--------------------+\n",
      "only showing top 20 rows\n",
      "\n"
     ]
    },
    {
     "name": "stderr",
     "output_type": "stream",
     "text": [
      "\r",
      "                                                                                \r"
     ]
    }
   ],
   "source": [
    "MAS_article.show()"
   ]
  },
  {
   "cell_type": "code",
   "execution_count": 41,
   "id": "8822b104",
   "metadata": {},
   "outputs": [],
   "source": [
    "# convert string to array\n",
    "from pyspark.sql.functions import col, split\n",
    "MAS_article = MAS_article.withColumn(\"author\", split(col(\"author\"), \",\").cast(\"array<string>\"))"
   ]
  },
  {
   "cell_type": "code",
   "execution_count": 42,
   "id": "098aea89",
   "metadata": {},
   "outputs": [
    {
     "name": "stderr",
     "output_type": "stream",
     "text": [
      "\r",
      "[Stage 27:>                                                         (0 + 1) / 1]\r"
     ]
    },
    {
     "name": "stdout",
     "output_type": "stream",
     "text": [
      "+--------------------+--------------------+----+--------------+--------------------+\n",
      "|              author|               title|year|booktitle_name|  booktitle_fullname|\n",
      "+--------------------+--------------------+----+--------------+--------------------+\n",
      "|[Divesh Srivastav...|Using q-grams in ...|2001|          DEBU|IEEE Data(base) E...|\n",
      "|[Andrew Nierman, ...|TIMBER: A native ...|2002|          VLDB|    The Vldb Journal|\n",
      "|[Divesh Srivastav...|Minimization of T...|2001| Sigmod Record|                    |\n",
      "|[Divesh Srivastav...|One-dimensional a...|2000|          VLDB|    The Vldb Journal|\n",
      "|[Divesh Srivastav...|Implementation of...|1993| Sigmod Record|                    |\n",
      "|[Divesh Srivastav...|On Effective Mult...|2000| Sigmod Record|                    |\n",
      "|[Dongwon Lee, Div...|Generating Advanc...|1998|            CN|Computer Networks...|\n",
      "|[Divesh Srivastav...|Querying Network ...|1999| Sigmod Record|                    |\n",
      "|[Divesh Srivastav...|The CORAL Deducti...|1994|          VLDB|    The Vldb Journal|\n",
      "|[Divesh Srivastav...|Data Model and Qu...|1995|          JIIS|Journal of Intell...|\n",
      "|[Divesh Srivastav...|Space optimizatio...|1995|          TODS|ACM Transactions ...|\n",
      "|[Divesh Srivastav...|Bottom-Up Evaluat...|1995|           TCS|Theoretical Compu...|\n",
      "|[Divesh Srivastav...|Semantics and Opt...|1994|          DEBU|IEEE Data(base) E...|\n",
      "| [Divesh Srivastava]|Subsumption and I...|1993|          AMAI|Annals of Mathema...|\n",
      "|[Divesh Srivastav...|The CORAL Deducti...|1993| Sigmod Record|                    |\n",
      "|[Divesh Srivastav...|Space Optimizatio...|1991| Sigmod Record|                    |\n",
      "|[Divesh Srivastav...|On Computing Corr...|2001| Sigmod Record|                    |\n",
      "|[Divesh Srivastav...|Interaction of Qu...|1998| Sigmod Record|                    |\n",
      "| [Divesh Srivastava]|Review - EROC: A ...|2000|            DR|ACM Sigmod Digita...|\n",
      "| [Divesh Srivastava]|Review - Query Op...|2000|            DR|ACM Sigmod Digita...|\n",
      "+--------------------+--------------------+----+--------------+--------------------+\n",
      "only showing top 20 rows\n",
      "\n"
     ]
    },
    {
     "name": "stderr",
     "output_type": "stream",
     "text": [
      "\r",
      "                                                                                \r"
     ]
    }
   ],
   "source": [
    "MAS_article.show()"
   ]
  },
  {
   "cell_type": "code",
   "execution_count": 43,
   "id": "9e98e766",
   "metadata": {},
   "outputs": [
    {
     "name": "stdout",
     "output_type": "stream",
     "text": [
      "root\n",
      " |-- author: array (nullable = true)\n",
      " |    |-- element: string (containsNull = true)\n",
      " |-- title: string (nullable = true)\n",
      " |-- year: integer (nullable = true)\n",
      " |-- booktitle_name: string (nullable = true)\n",
      " |-- booktitle_fullname: string (nullable = true)\n",
      "\n"
     ]
    }
   ],
   "source": [
    "MAS_article.printSchema()"
   ]
  },
  {
   "cell_type": "markdown",
   "id": "a3c45147",
   "metadata": {},
   "source": [
    "- read inproceeding from MAS (conference)"
   ]
  },
  {
   "cell_type": "code",
   "execution_count": 44,
   "id": "acd1c428",
   "metadata": {},
   "outputs": [],
   "source": [
    "query_MAS_inproc = \"(with write_array as ( \\\n",
    "select writes.pid as pid, GROUP_CONCAT(author.name) as name_list \\\n",
    "from writes left join author on author.aid = writes.aid \\\n",
    "group by writes.pid ) \\\n",
    "select \\\n",
    "\tb.name_list \t\tas author, \\\n",
    "    a.title\t\t\t\tas title, \\\n",
    "    a.year\t\t\t\tas year, \\\n",
    "    c.name \t\t\t\tas booktitle_name, \\\n",
    "    c.full_name \t\tas booktitle_fullname \\\n",
    "from (select pid, title, year, cid from publication where cid != 0 and pid in (select pid from writes where aid = (select aid from author where name = 'Divesh Srivastava'))) a \\\n",
    "left join write_array b on a.pid = b.pid \\\n",
    "left join conference c on a.cid = c.cid \\\n",
    ") tmp\""
   ]
  },
  {
   "cell_type": "code",
   "execution_count": 45,
   "id": "199fd32f",
   "metadata": {},
   "outputs": [],
   "source": [
    "MAS_inproc = spark.read \\\n",
    "    .format('jdbc') \\\n",
    "    .option(\"driver\", \"com.mysql.jdbc.Driver\") \\\n",
    "    .option(\"url\", \"jdbc:mysql://localhost:3306/test\") \\\n",
    "    .option(\"dbtable\", query_MAS_inproc) \\\n",
    "    .option(\"user\", \"root\") \\\n",
    "    .option(\"password\", \"maomao2011\") \\\n",
    "    .load()"
   ]
  },
  {
   "cell_type": "code",
   "execution_count": 46,
   "id": "1eb2d280",
   "metadata": {},
   "outputs": [],
   "source": [
    "# convert string to array\n",
    "MAS_inproc = MAS_inproc.withColumn(\"author\", split(col(\"author\"), \",\").cast(\"array<string>\"))"
   ]
  },
  {
   "cell_type": "code",
   "execution_count": 47,
   "id": "bbd600a5",
   "metadata": {},
   "outputs": [
    {
     "name": "stderr",
     "output_type": "stream",
     "text": [
      "\r",
      "[Stage 28:>                                                         (0 + 1) / 1]\r"
     ]
    },
    {
     "name": "stdout",
     "output_type": "stream",
     "text": [
      "+--------------------+--------------------+----+--------------+--------------------+\n",
      "|              author|               title|year|booktitle_name|  booktitle_fullname|\n",
      "+--------------------+--------------------+----+--------------+--------------------+\n",
      "|[Divesh Srivastav...|PIX: exact and ap...|2003|        SIGMOD|International Con...|\n",
      "|[Divesh Srivastav...|Text Joins for Da...|2003|          ICDE|International Con...|\n",
      "|[Nicolas Bruno, D...|Navigation vs. In...|2003|          ICDE|International Con...|\n",
      "|[Divesh Srivastav...|Text joins in an ...|2003|           WWW|World Wide Web Co...|\n",
      "|[Divesh Srivastav...| Ranked Join Indices|2003|          ICDE|International Con...|\n",
      "|[Andrew Nierman, ...|TIMBER: a native ...|2003|        SIGMOD|International Con...|\n",
      "|[Andrew Nierman, ...|     Grouping in XML|2002|EDBT(Workshop)|International Con...|\n",
      "|[Divesh Srivastav...|Optimizing the se...|2002|          VLDB|Very Large Data B...|\n",
      "|[Divesh Srivastav...|TAX: A Tree Algeb...|2001|          DBPL|Workshop on Datab...|\n",
      "|[Divesh Srivastav...|Structural Joins:...|2002|          ICDE|International Con...|\n",
      "|[Divesh Srivastav...|On Bounding-Schem...|2000|          EDBT|Extending Databas...|\n",
      "|[Divesh Srivastav...|Approximate Strin...|2001|          VLDB|Very Large Data B...|\n",
      "|[Divesh Srivastav...|Counting Twig Mat...|2001|          ICDE|International Con...|\n",
      "|[Divesh Srivastav...|Coral++: Adding O...|1993|          VLDB|Very Large Data B...|\n",
      "|[Divesh Srivastav...|Rule Ordering in ...|1990|          VLDB|Very Large Data B...|\n",
      "|[Divesh Srivastav...|Explaining Progra...|1993|           LPE|Workshop on Logic...|\n",
      "|[Divesh Srivastav...|Optimal histogram...|2000|          PODS|Symposium on Prin...|\n",
      "|[Divesh Srivastav...|Evolution and Rev...|2000|          EDBT|Extending Databas...|\n",
      "|[Divesh Srivastav...|CORAL - Control, ...|1992|          VLDB|Very Large Data B...|\n",
      "|[Divesh Srivastav...|Chasing constrain...|1996|          PODS|Symposium on Prin...|\n",
      "+--------------------+--------------------+----+--------------+--------------------+\n",
      "only showing top 20 rows\n",
      "\n"
     ]
    },
    {
     "name": "stderr",
     "output_type": "stream",
     "text": [
      "\r",
      "                                                                                \r"
     ]
    }
   ],
   "source": [
    "MAS_inproc.show()"
   ]
  },
  {
   "cell_type": "code",
   "execution_count": 48,
   "id": "9a4c2a42",
   "metadata": {},
   "outputs": [
    {
     "name": "stdout",
     "output_type": "stream",
     "text": [
      "root\n",
      " |-- author: array (nullable = true)\n",
      " |    |-- element: string (containsNull = true)\n",
      " |-- title: string (nullable = true)\n",
      " |-- year: integer (nullable = true)\n",
      " |-- booktitle_name: string (nullable = true)\n",
      " |-- booktitle_fullname: string (nullable = true)\n",
      "\n"
     ]
    }
   ],
   "source": [
    "MAS_inproc.printSchema()"
   ]
  },
  {
   "cell_type": "markdown",
   "id": "87a910b9",
   "metadata": {},
   "source": [
    "## 2. As for DBLP data, filter for the array that contains \"D. S.\". Then, change the schema for dropping duplicates.\n",
    "- the schema for DBLP is also:\n",
    "    - author - title - year - booktitle_name - booktitle_fullname\n",
    "    - booktitle_name and booktitle_fullname are the replicates of booktitle"
   ]
  },
  {
   "cell_type": "code",
   "execution_count": 49,
   "id": "379346c1",
   "metadata": {},
   "outputs": [],
   "source": [
    "from pyspark.sql.functions import regexp_replace\n",
    "# copy publication_name to publication_full_name\n",
    "df_article = df_article.withColumn('booktitle_fullname', regexp_replace('booktitle', '', ''))\n",
    "df_inproc = df_inproc.withColumn('booktitle_fullname', regexp_replace('booktitle', '', ''))\n",
    "df_article = df_article.withColumnRenamed('booktitle', 'booktitle_name')\n",
    "df_inproc = df_inproc.withColumnRenamed('booktitle', 'booktitle_name')"
   ]
  },
  {
   "cell_type": "code",
   "execution_count": 50,
   "id": "cf6f125d",
   "metadata": {},
   "outputs": [],
   "source": [
    "DBLP_article = df_article.filter(array_contains(df_article.author, 'Divesh Srivastava'))\n",
    "DBLP_inproc = df_inproc.filter(array_contains(df_inproc.author, 'Divesh Srivastava'))"
   ]
  },
  {
   "cell_type": "code",
   "execution_count": 51,
   "id": "8b7cbf0d",
   "metadata": {},
   "outputs": [
    {
     "name": "stderr",
     "output_type": "stream",
     "text": [
      "[Stage 34:>                                                         (0 + 1) / 1]\r"
     ]
    },
    {
     "name": "stdout",
     "output_type": "stream",
     "text": [
      "+--------------------+--------------------+----+--------------------+--------------------+\n",
      "|              author|               title|year|      booktitle_name|  booktitle_fullname|\n",
      "+--------------------+--------------------+----+--------------------+--------------------+\n",
      "|[Leon Bornemann, ...|Data Change Explo...|2018|  Datenbank-Spektrum|  Datenbank-Spektrum|\n",
      "|[Divesh Srivastav...|Pushing Constrain...|1993|    J. Log. Program.|    J. Log. Program.|\n",
      "|[Philip E. Brown,...|From Rocks to Peb...|2019|ACM Trans. Spatia...|ACM Trans. Spatia...|\n",
      "|[Donatella Firman...|Robust Entity Res...|2018|IEEE Data Eng. Bull.|IEEE Data Eng. Bull.|\n",
      "|[Luis Gravano, Pa...|Using q-grams in ...|2001|IEEE Data Eng. Bull.|IEEE Data Eng. Bull.|\n",
      "|[Tamraparni Dasu,...|Data Quality for ...|2016|IEEE Data Eng. Bull.|IEEE Data Eng. Bull.|\n",
      "|[Lukasz Golab, Fl...|Efficient and Eff...|2011|IEEE Data Eng. Bull.|IEEE Data Eng. Bull.|\n",
      "|[Luciano Barbosa,...|Big Data Integrat...|2018|IEEE Data Eng. Bull.|IEEE Data Eng. Bull.|\n",
      "|[Shazia W. Sadiq,...|Letter from the S...|2016|IEEE Data Eng. Bull.|IEEE Data Eng. Bull.|\n",
      "|[Kareem El Gebaly...| Explanation Tables.|2018|IEEE Data Eng. Bull.|IEEE Data Eng. Bull.|\n",
      "| [Divesh Srivastava]|Letter from the I...|2021|IEEE Data Eng. Bull.|IEEE Data Eng. Bull.|\n",
      "|[Raghu Ramakrishn...|Semantics and Opt...|1994|IEEE Data Eng. Bull.|IEEE Data Eng. Bull.|\n",
      "|[Marios Hadjielef...|Weighted Set-Base...|2010|IEEE Data Eng. Bull.|IEEE Data Eng. Bull.|\n",
      "|[Graham Cormode, ...|Finding hierarchi...|2008|ACM Trans. Knowl....|ACM Trans. Knowl....|\n",
      "|[Marios Hadjielef...|Approximate Strin...|2011|Found. Trends Dat...|Found. Trends Dat...|\n",
      "|[Divesh Srivastav...|Ensuring High-Qua...|2019|ACM J. Data Inf. ...|ACM J. Data Inf. ...|\n",
      "|[Dongwon Lee 0001...|Generating Advanc...|1998|    Comput. Networks|    Comput. Networks|\n",
      "|[Demetrios Zeinal...|Finding the K hig...|2009|    Comput. Networks|    Comput. Networks|\n",
      "|[Wook-Shin Han, D...|Special issue: be...|2012|      World Wide Web|      World Wide Web|\n",
      "|[Jean-Philippe Ma...|Iterative multi-t...|2003|   IEEE Commun. Mag.|   IEEE Commun. Mag.|\n",
      "+--------------------+--------------------+----+--------------------+--------------------+\n",
      "only showing top 20 rows\n",
      "\n"
     ]
    },
    {
     "name": "stderr",
     "output_type": "stream",
     "text": [
      "\r",
      "                                                                                \r"
     ]
    }
   ],
   "source": [
    "DBLP_article.show()"
   ]
  },
  {
   "cell_type": "code",
   "execution_count": 52,
   "id": "acc4db7a",
   "metadata": {},
   "outputs": [
    {
     "name": "stderr",
     "output_type": "stream",
     "text": [
      "[Stage 38:======================================================> (83 + 2) / 85]\r"
     ]
    },
    {
     "name": "stdout",
     "output_type": "stream",
     "text": [
      "+--------------------+--------------------+----+-------------------+-------------------+\n",
      "|              author|               title|year|     booktitle_name| booktitle_fullname|\n",
      "+--------------------+--------------------+----+-------------------+-------------------+\n",
      "|[Raghu Ramakrishn...|Efficient Increme...|1994|               ILPS|               ILPS|\n",
      "|[David B. Kemp, D...|Magic Sets and Bo...|1991|               ISLP|               ISLP|\n",
      "|[S. Sudarshan 000...|Extending the Wel...|1993|               ILPS|               ILPS|\n",
      "|[Nick Koudas, Div...|Data Stream Query...|2003|               WISE|               WISE|\n",
      "|[H. V. Jagadish, ...|Flexible List Man...|1998|               CIKM|               CIKM|\n",
      "|[Guy Jacobson, Ba...|Focusing Search i...|1998|               CIKM|               CIKM|\n",
      "|[Graham Cormode, ...|UMicS: from anony...|2013|               CIKM|               CIKM|\n",
      "|[Sihem Amer-Yahia...|Logical and physi...|2002|               CIKM|               CIKM|\n",
      "| [Divesh Srivastava]|  Schema extraction.|2010|               CIKM|               CIKM|\n",
      "|[Divesh Srivastav...|Exploring and Ana...|2022|               CIKM|               CIKM|\n",
      "|[Xi He 0001, Ashw...|Composing Differe...|2017|                CCS|                CCS|\n",
      "|[Sihem Amer-Yahia...|A mapping schema ...|2002|               WIDM|               WIDM|\n",
      "|[Bing Tian Dai, N...|Rapid Identificat...|2006|               ICDM|               ICDM|\n",
      "|[Sihem Amer-Yahia...|08111 Abstracts C...|2008|Ranked XML Querying|Ranked XML Querying|\n",
      "|[Sihem Amer-Yahia...|08111 Report - Ra...|2008|Ranked XML Querying|Ranked XML Querying|\n",
      "|[Tarun Arora, Rag...|Explaining Progra...|1993|                LPE|                LPE|\n",
      "|[Philip E. Brown,...|     Don't Cry Wolf.|2019|               DSAA|               DSAA|\n",
      "|[Graham Cormode, ...|Effective Computa...|2005|               ICDE|               ICDE|\n",
      "|[Nick Koudas, Avi...|Metric Functional...|2009|               ICDE|               ICDE|\n",
      "|[Ke Yi 0001, Feif...|Efficient Process...|2008|               ICDE|               ICDE|\n",
      "+--------------------+--------------------+----+-------------------+-------------------+\n",
      "only showing top 20 rows\n",
      "\n"
     ]
    },
    {
     "name": "stderr",
     "output_type": "stream",
     "text": [
      "\r",
      "                                                                                \r"
     ]
    }
   ],
   "source": [
    "DBLP_inproc.show()"
   ]
  },
  {
   "cell_type": "markdown",
   "id": "d9be689b",
   "metadata": {},
   "source": [
    "## 3. Manipulate for article and inproceedings respectively, i.e., union the MAS and DBLP data and drop duplicates.\n",
    "- **add 2 new columns to store the REGULAR form of booktitle_name/booktitle_fullname**\n",
    "- **add 1 new column to store the REGULAR form of title**\n",
    "- we drop duplicates for booktitle_name and booktitle_fullname sequentially\n",
    "    - to guarantee the duplicates between MAS and DBLP should be removed totally"
   ]
  },
  {
   "cell_type": "markdown",
   "id": "c90e650d",
   "metadata": {},
   "source": [
    "### union MAS_article and DBLP_article, MAS_inproc and DBLP_inproc\n",
    "    - rename as article, inproc correspondingly"
   ]
  },
  {
   "cell_type": "code",
   "execution_count": 53,
   "id": "6ab083e6",
   "metadata": {},
   "outputs": [],
   "source": [
    "article = DBLP_article.unionAll(MAS_article)\n",
    "inproc = DBLP_inproc.unionAll(MAS_inproc)"
   ]
  },
  {
   "cell_type": "code",
   "execution_count": 54,
   "id": "354705a2",
   "metadata": {},
   "outputs": [
    {
     "name": "stderr",
     "output_type": "stream",
     "text": [
      "                                                                                \r"
     ]
    },
    {
     "data": {
      "text/plain": [
       "Row(author=['Leon Bornemann', 'Dmitri V. Kalashnikov', 'Felix Naumann', 'Divesh Srivastava'], title='Data Change Exploration Using Time Series Clustering.', year=2018, booktitle_name='Datenbank-Spektrum', booktitle_fullname='Datenbank-Spektrum')"
      ]
     },
     "execution_count": 54,
     "metadata": {},
     "output_type": "execute_result"
    }
   ],
   "source": [
    "article.first()"
   ]
  },
  {
   "cell_type": "code",
   "execution_count": 55,
   "id": "a3f99d53",
   "metadata": {},
   "outputs": [
    {
     "name": "stderr",
     "output_type": "stream",
     "text": [
      "                                                                                \r"
     ]
    },
    {
     "data": {
      "text/plain": [
       "Row(author=['Raghu Ramakrishnan', 'Kenneth A. Ross', 'Divesh Srivastava', 'S. Sudarshan 0001'], title='Efficient Incremental Evaluation of Queries with Aggregation.', year=1994, booktitle_name='ILPS', booktitle_fullname='ILPS')"
      ]
     },
     "execution_count": 55,
     "metadata": {},
     "output_type": "execute_result"
    }
   ],
   "source": [
    "inproc.first()"
   ]
  },
  {
   "cell_type": "markdown",
   "id": "ec7c159a",
   "metadata": {},
   "source": [
    "### create 3 new columns to store the REGULAR information"
   ]
  },
  {
   "cell_type": "code",
   "execution_count": 56,
   "id": "52835725",
   "metadata": {},
   "outputs": [],
   "source": [
    "from pyspark.sql.functions import lower"
   ]
  },
  {
   "cell_type": "markdown",
   "id": "2016486f",
   "metadata": {},
   "source": [
    "    - title_processed"
   ]
  },
  {
   "cell_type": "code",
   "execution_count": 57,
   "id": "47d46af3",
   "metadata": {},
   "outputs": [],
   "source": [
    "# Lower cases, drop blanks, drop dots\n",
    "article = article.withColumn('title_processed', lower(col('title')))\n",
    "article = article.withColumn('title_processed', regexp_replace('title_processed', ' ', ''))\n",
    "article = article.withColumn('title_processed', regexp_replace('title_processed', r'\\.', ''))\n",
    "\n",
    "\n",
    "inproc = inproc.withColumn('title_processed', lower(col('title')))\n",
    "inproc = inproc.withColumn('title_processed', regexp_replace('title_processed', ' ', ''))\n",
    "inproc = inproc.withColumn('title_processed', regexp_replace('title_processed', r'\\.', ''))"
   ]
  },
  {
   "cell_type": "markdown",
   "id": "856ca7af",
   "metadata": {},
   "source": [
    "    - booktitle_name_processed"
   ]
  },
  {
   "cell_type": "code",
   "execution_count": 58,
   "id": "8ca0f22c",
   "metadata": {},
   "outputs": [],
   "source": [
    "# Lower cases, drop blanks, drop dots\n",
    "article = article.withColumn('booktitle_name_processed', lower(col('booktitle_name')))\n",
    "article = article.withColumn('booktitle_name_processed', regexp_replace('booktitle_name_processed', ' ', ''))\n",
    "article = article.withColumn('booktitle_name_processed', regexp_replace('booktitle_name_processed', r'\\.', ''))\n",
    "\n",
    "\n",
    "inproc = inproc.withColumn('booktitle_name_processed', lower(col('booktitle_name')))\n",
    "inproc = inproc.withColumn('booktitle_name_processed', regexp_replace('booktitle_name_processed', ' ', ''))\n",
    "inproc = inproc.withColumn('booktitle_name_processed', regexp_replace('booktitle_name_processed', r'\\.', ''))"
   ]
  },
  {
   "cell_type": "markdown",
   "id": "d92574b8",
   "metadata": {},
   "source": [
    "    - booktitle_fullname_processed"
   ]
  },
  {
   "cell_type": "code",
   "execution_count": 59,
   "id": "3a5b83c4",
   "metadata": {},
   "outputs": [],
   "source": [
    "# Lower cases, drop blanks, drop dots\n",
    "article = article.withColumn('booktitle_fullname_processed', lower(col('booktitle_fullname')))\n",
    "article = article.withColumn('booktitle_fullname_processed', regexp_replace('booktitle_fullname_processed', ' ', ''))\n",
    "article = article.withColumn('booktitle_fullname_processed', regexp_replace('booktitle_fullname_processed', r'\\.', ''))\n",
    "\n",
    "\n",
    "inproc = inproc.withColumn('booktitle_fullname_processed', lower(col('booktitle_fullname')))\n",
    "inproc = inproc.withColumn('booktitle_fullname_processed', regexp_replace('booktitle_fullname_processed', ' ', ''))\n",
    "inproc = inproc.withColumn('booktitle_fullname_processed', regexp_replace('booktitle_fullname_processed', r'\\.', ''))"
   ]
  },
  {
   "cell_type": "code",
   "execution_count": 60,
   "id": "f9e9895c",
   "metadata": {},
   "outputs": [
    {
     "name": "stderr",
     "output_type": "stream",
     "text": [
      "                                                                                \r"
     ]
    },
    {
     "data": {
      "text/plain": [
       "Row(author=['Leon Bornemann', 'Dmitri V. Kalashnikov', 'Felix Naumann', 'Divesh Srivastava'], title='Data Change Exploration Using Time Series Clustering.', year=2018, booktitle_name='Datenbank-Spektrum', booktitle_fullname='Datenbank-Spektrum', title_processed='datachangeexplorationusingtimeseriesclustering', booktitle_name_processed='datenbank-spektrum', booktitle_fullname_processed='datenbank-spektrum')"
      ]
     },
     "execution_count": 60,
     "metadata": {},
     "output_type": "execute_result"
    }
   ],
   "source": [
    "article.first()"
   ]
  },
  {
   "cell_type": "code",
   "execution_count": 61,
   "id": "a1f7008e",
   "metadata": {},
   "outputs": [
    {
     "name": "stderr",
     "output_type": "stream",
     "text": [
      "                                                                                \r"
     ]
    },
    {
     "data": {
      "text/plain": [
       "Row(author=['Raghu Ramakrishnan', 'Kenneth A. Ross', 'Divesh Srivastava', 'S. Sudarshan 0001'], title='Efficient Incremental Evaluation of Queries with Aggregation.', year=1994, booktitle_name='ILPS', booktitle_fullname='ILPS', title_processed='efficientincrementalevaluationofquerieswithaggregation', booktitle_name_processed='ilps', booktitle_fullname_processed='ilps')"
      ]
     },
     "execution_count": 61,
     "metadata": {},
     "output_type": "execute_result"
    }
   ],
   "source": [
    "inproc.first()"
   ]
  },
  {
   "cell_type": "markdown",
   "id": "0f4affae",
   "metadata": {},
   "source": [
    "### drop duplicates for article, inproc **correspondingly**\n",
    "    - firstly, [year, title_processed, booktitle_name_processed] \n",
    "    - then, [year, title_processed, booktitle_fullname_processed]"
   ]
  },
  {
   "cell_type": "markdown",
   "id": "3f585500",
   "metadata": {},
   "source": [
    "- before dropping duplicates"
   ]
  },
  {
   "cell_type": "code",
   "execution_count": 62,
   "id": "28455a5b",
   "metadata": {},
   "outputs": [
    {
     "name": "stderr",
     "output_type": "stream",
     "text": [
      "                                                                                \r"
     ]
    },
    {
     "data": {
      "text/plain": [
       "242"
      ]
     },
     "execution_count": 62,
     "metadata": {},
     "output_type": "execute_result"
    }
   ],
   "source": [
    "article.count()"
   ]
  },
  {
   "cell_type": "code",
   "execution_count": 63,
   "id": "c351871c",
   "metadata": {},
   "outputs": [
    {
     "name": "stderr",
     "output_type": "stream",
     "text": [
      "                                                                                \r"
     ]
    },
    {
     "data": {
      "text/plain": [
       "422"
      ]
     },
     "execution_count": 63,
     "metadata": {},
     "output_type": "execute_result"
    }
   ],
   "source": [
    "inproc.count()"
   ]
  },
  {
   "cell_type": "markdown",
   "id": "b5a3297d",
   "metadata": {},
   "source": [
    "- drop duplicates"
   ]
  },
  {
   "cell_type": "code",
   "execution_count": 64,
   "id": "e82db9c0",
   "metadata": {},
   "outputs": [],
   "source": [
    "article_dropdup = article.dropDuplicates(['year', 'title_processed', 'booktitle_name_processed'])\n",
    "article_dropdup = article_dropdup.dropDuplicates(['year', 'title_processed', 'booktitle_fullname_processed'])\n",
    "\n",
    "inproc_dropdup = inproc.dropDuplicates(['year', 'title_processed', 'booktitle_name_processed'])\n",
    "inproc_dropdup = inproc_dropdup.dropDuplicates(['year', 'title_processed', 'booktitle_fullname_processed'])"
   ]
  },
  {
   "cell_type": "markdown",
   "id": "eb7235d3",
   "metadata": {},
   "source": [
    "- after dropping duplicates"
   ]
  },
  {
   "cell_type": "code",
   "execution_count": 65,
   "id": "19157b25",
   "metadata": {},
   "outputs": [
    {
     "name": "stderr",
     "output_type": "stream",
     "text": [
      "                                                                                \r"
     ]
    },
    {
     "data": {
      "text/plain": [
       "228"
      ]
     },
     "execution_count": 65,
     "metadata": {},
     "output_type": "execute_result"
    }
   ],
   "source": [
    "article_dropdup.count()"
   ]
  },
  {
   "cell_type": "code",
   "execution_count": 66,
   "id": "f0615763",
   "metadata": {},
   "outputs": [
    {
     "name": "stderr",
     "output_type": "stream",
     "text": [
      "                                                                                \r"
     ]
    },
    {
     "data": {
      "text/plain": [
       "321"
      ]
     },
     "execution_count": 66,
     "metadata": {},
     "output_type": "execute_result"
    }
   ],
   "source": [
    "inproc_dropdup.count()"
   ]
  },
  {
   "cell_type": "markdown",
   "id": "32b64842",
   "metadata": {},
   "source": [
    "# 4. Dealing with 'CoRR' case\n",
    "- for each publication, if:\n",
    "    - it is just published in 'CoRR', then preserve it;\n",
    "    - it is published in 'CoRR' and other sources, then kick out it."
   ]
  },
  {
   "cell_type": "markdown",
   "id": "7cd89d5d",
   "metadata": {},
   "source": [
    "- article situation (there are many publications that are in 'CoRR')"
   ]
  },
  {
   "cell_type": "code",
   "execution_count": 67,
   "id": "3a95486d",
   "metadata": {},
   "outputs": [
    {
     "name": "stderr",
     "output_type": "stream",
     "text": [
      "[Stage 77:=====================================================>(110 + 1) / 111]\r"
     ]
    },
    {
     "name": "stdout",
     "output_type": "stream",
     "text": [
      "+--------------------+--------------------+----+--------------+------------------+--------------------+------------------------+----------------------------+\n",
      "|              author|               title|year|booktitle_name|booktitle_fullname|     title_processed|booktitle_name_processed|booktitle_fullname_processed|\n",
      "+--------------------+--------------------+----+--------------+------------------+--------------------+------------------------+----------------------------+\n",
      "|[Anish Das Sarma,...|Sailing the Infor...|2009|          CoRR|              CoRR|sailingtheinforma...|                    corr|                        corr|\n",
      "|[Graham Cormode, ...|Differentially Pr...|2011|          CoRR|              CoRR|differentiallypri...|                    corr|                        corr|\n",
      "|[Graham Cormode, ...|Differentially Pr...|2011|          CoRR|              CoRR|differentiallypri...|                    corr|                        corr|\n",
      "|[Graham Cormode, ...|Accurate and Effi...|2012|          CoRR|              CoRR|accurateandeffici...|                    corr|                        corr|\n",
      "|[Albert Angel, Ni...|Dense Subgraph Ma...|2012|          CoRR|              CoRR|densesubgraphmain...|                    corr|                        corr|\n",
      "|[Xin Luna Dong, D...|Data Fusion: Reso...|2015|          CoRR|              CoRR|datafusion:resolv...|                    corr|                        corr|\n",
      "|[Ravali Pochampal...|Fusing Data with ...|2015|          CoRR|              CoRR|fusingdatawithcor...|                    corr|                        corr|\n",
      "|[Pei Li, Xin Luna...|Robust Group Link...|2015|          CoRR|              CoRR|  robustgrouplinkage|                    corr|                        corr|\n",
      "|[Xian Li, Xin Lun...|Scaling up Copy D...|2015|          CoRR|              CoRR|scalingupcopydete...|                    corr|                        corr|\n",
      "|[Xian Li, Xin Lun...|Truth Finding on ...|2015|          CoRR|              CoRR|truthfindingonthe...|                    corr|                        corr|\n",
      "|[Jaroslaw Szlicht...|Effective and Com...|2016|          CoRR|              CoRR|effectiveandcompl...|                    corr|                        corr|\n",
      "|[Anja Gruenheid, ...|Online Event Inte...|2016|          CoRR|              CoRR|onlineeventintegr...|                    corr|                        corr|\n",
      "|[Graham Cormode, ...|Constrained Diffe...|2017|          CoRR|              CoRR|constraineddiffer...|                    corr|                        corr|\n",
      "|[Tejas Kulkarni, ...|Marginal Release ...|2017|          CoRR|              CoRR|marginalreleaseun...|                    corr|                        corr|\n",
      "|[Xi He 0001, Ashw...|Scaling Private R...|2017|          CoRR|              CoRR|scalingprivaterec...|                    corr|                        corr|\n",
      "|[Tejas Kulkarni, ...|Answering Range Q...|2018|          CoRR|              CoRR|answeringrangeque...|                    corr|                        corr|\n",
      "|[Trong Duc Nguyen...|Variance-Optimal ...|2018|          CoRR|              CoRR|variance-optimalo...|                    corr|                        corr|\n",
      "|[Pei Li, Jaroslaw...|Discovery of Band...|2019|          CoRR|              CoRR|discoveryofbandor...|                    corr|                        corr|\n",
      "|[Aline Bessa, Jul...|Efficient Discove...|2019|          CoRR|              CoRR|efficientdiscover...|                    corr|                        corr|\n",
      "|[Parke Godfrey, L...|Errata Note: Disc...|2019|          CoRR|              CoRR|erratanote:discov...|                    corr|                        corr|\n",
      "+--------------------+--------------------+----+--------------+------------------+--------------------+------------------------+----------------------------+\n",
      "only showing top 20 rows\n",
      "\n"
     ]
    },
    {
     "name": "stderr",
     "output_type": "stream",
     "text": [
      "\r",
      "                                                                                \r"
     ]
    }
   ],
   "source": [
    "article_dropdup.filter(article_dropdup.booktitle_name == 'CoRR').show()"
   ]
  },
  {
   "cell_type": "markdown",
   "id": "f45218f0",
   "metadata": {},
   "source": [
    "- aggregate the 'booktitle_name' to array and find out the publication that needs to kick out"
   ]
  },
  {
   "cell_type": "code",
   "execution_count": 68,
   "id": "9ff90e9f",
   "metadata": {},
   "outputs": [
    {
     "name": "stderr",
     "output_type": "stream",
     "text": [
      "[Stage 83:=====================================================>(110 + 1) / 111]\r"
     ]
    },
    {
     "name": "stdout",
     "output_type": "stream",
     "text": [
      "+--------------------+--------------------+\n",
      "|     title_processed| booktitle_name_list|\n",
      "+--------------------+--------------------+\n",
      "|abcoforderdepende...|           [VLDB J.]|\n",
      "|accurateandeffici...|              [CoRR]|\n",
      "|acompressedaccess...|[TODS, ACM Trans....|\n",
      "|alaska:aflexibleb...|              [CoRR]|\n",
      "|anonymizingbipart...|[Proc. VLDB Endow...|\n",
      "|answeringrangeque...|[Proc. VLDB Endow...|\n",
      "|approximatestring...|[FTDB, Found. Tre...|\n",
      "|  bigdataintegration| [Proc. VLDB Endow.]|\n",
      "|bigdataintegratio...|[IEEE Data Eng. B...|\n",
      "|bottom-upevaluati...|[Theor. Comput. S...|\n",
      "|certem:explaining...| [Proc. VLDB Endow.]|\n",
      "|chronos:facilitat...| [Proc. VLDB Endow.]|\n",
      "|class-basedgrapha...|[PVLDB, Proc. VLD...|\n",
      "|combiningquantita...| [Proc. VLDB Endow.]|\n",
      "|conditionalheavyh...|           [VLDB J.]|\n",
      "|constraineddiffer...|              [CoRR]|\n",
      "|constrainedprivat...|[IEEE Trans. Know...|\n",
      "|cost-basedoptimiz...|     [Sigmod Record]|\n",
      "|data-drivendomain...| [Proc. VLDB Endow.]|\n",
      "|dataauditor:explo...|[PVLDB, Proc. VLD...|\n",
      "+--------------------+--------------------+\n",
      "only showing top 20 rows\n",
      "\n"
     ]
    },
    {
     "name": "stderr",
     "output_type": "stream",
     "text": [
      "\r",
      "                                                                                \r"
     ]
    }
   ],
   "source": [
    "from pyspark.sql.functions import collect_list\n",
    "from pyspark.sql.functions import size\n",
    "article_dropdup_agg_sources = article_dropdup.groupBy('title_processed').agg(collect_list('booktitle_name'))\n",
    "article_dropdup_agg_sources = article_dropdup_agg_sources.withColumnRenamed('collect_list(booktitle_name)', 'booktitle_name_list')\n",
    "article_dropdup_agg_sources.show()"
   ]
  },
  {
   "cell_type": "code",
   "execution_count": 69,
   "id": "effb1203",
   "metadata": {},
   "outputs": [],
   "source": [
    "CoRR_article_kick = article_dropdup_agg_sources.filter((array_contains(article_dropdup_agg_sources.booktitle_name_list, 'CoRR')) & (size(article_dropdup_agg_sources.booktitle_name_list) >= 2))"
   ]
  },
  {
   "cell_type": "code",
   "execution_count": 70,
   "id": "0a85c9a1",
   "metadata": {},
   "outputs": [
    {
     "name": "stderr",
     "output_type": "stream",
     "text": [
      "[Stage 93:=====================================================>(110 + 1) / 111]\r"
     ]
    },
    {
     "name": "stdout",
     "output_type": "stream",
     "text": [
      "+--------------------+--------------------+\n",
      "|     title_processed| booktitle_name_list|\n",
      "+--------------------+--------------------+\n",
      "|answeringrangeque...|[Proc. VLDB Endow...|\n",
      "|densesubgraphmain...|[CoRR, Proc. VLDB...|\n",
      "|effectiveandcompl...|[CoRR, Proc. VLDB...|\n",
      "|efficientandeffec...|     [CoRR, VLDB J.]|\n",
      "|localdampening:di...|[CoRR, Proc. VLDB...|\n",
      "|real-worldtraject...|[CoRR, Proc. VLDB...|\n",
      "|truthfindingonthe...|[Proc. VLDB Endow...|\n",
      "+--------------------+--------------------+\n",
      "\n"
     ]
    },
    {
     "name": "stderr",
     "output_type": "stream",
     "text": [
      "\r",
      "                                                                                \r"
     ]
    }
   ],
   "source": [
    "CoRR_article_kick.show()"
   ]
  },
  {
   "cell_type": "code",
   "execution_count": 71,
   "id": "bc02240d",
   "metadata": {},
   "outputs": [
    {
     "name": "stderr",
     "output_type": "stream",
     "text": [
      "                                                                                \r"
     ]
    }
   ],
   "source": [
    "kick_title_processed = CoRR_article_kick.select('title_processed').collect()"
   ]
  },
  {
   "cell_type": "markdown",
   "id": "51e9a55a",
   "metadata": {},
   "source": [
    "- after dropping CoRR for article"
   ]
  },
  {
   "cell_type": "code",
   "execution_count": 72,
   "id": "a4970776",
   "metadata": {},
   "outputs": [
    {
     "data": {
      "text/plain": [
       "['answeringrangequeriesunderlocaldifferentialprivacy',\n",
       " 'densesubgraphmaintenanceunderstreamingedgeweightupdatesforreal-timestoryidentification',\n",
       " 'effectiveandcompletediscoveryoforderdependenciesviaset-basedaxiomatization',\n",
       " 'efficientandeffectiveerwithprogressiveblocking',\n",
       " 'localdampening:differentialprivacyfornon-numericqueriesvialocalsensitivity',\n",
       " 'real-worldtrajectorysharingwithlocaldifferentialprivacy',\n",
       " 'truthfindingonthedeepweb:istheproblemsolved?']"
      ]
     },
     "execution_count": 72,
     "metadata": {},
     "output_type": "execute_result"
    }
   ],
   "source": [
    "kick_title_processed_list = [row['title_processed'] for row in kick_title_processed]\n",
    "kick_title_processed_list"
   ]
  },
  {
   "cell_type": "code",
   "execution_count": 73,
   "id": "5239b5ef",
   "metadata": {},
   "outputs": [
    {
     "name": "stderr",
     "output_type": "stream",
     "text": [
      "                                                                                \r"
     ]
    },
    {
     "data": {
      "text/plain": [
       "221"
      ]
     },
     "execution_count": 73,
     "metadata": {},
     "output_type": "execute_result"
    }
   ],
   "source": [
    "article_dropdup_kick_CoRR = article_dropdup.filter((article_dropdup.booktitle_name != 'CoRR') | (~article_dropdup.title_processed.isin(kick_title_processed_list)))\n",
    "\n",
    "article_dropdup_kick_CoRR.count()"
   ]
  },
  {
   "cell_type": "markdown",
   "id": "c2beaa83",
   "metadata": {},
   "source": [
    "- inproceedings situation (no CoRR)"
   ]
  },
  {
   "cell_type": "code",
   "execution_count": 74,
   "id": "23f9bdd2",
   "metadata": {},
   "outputs": [
    {
     "name": "stderr",
     "output_type": "stream",
     "text": [
      "[Stage 123:====================================================>(110 + 1) / 111]\r"
     ]
    },
    {
     "name": "stdout",
     "output_type": "stream",
     "text": [
      "+------+-----+----+--------------+------------------+---------------+------------------------+----------------------------+\n",
      "|author|title|year|booktitle_name|booktitle_fullname|title_processed|booktitle_name_processed|booktitle_fullname_processed|\n",
      "+------+-----+----+--------------+------------------+---------------+------------------------+----------------------------+\n",
      "+------+-----+----+--------------+------------------+---------------+------------------------+----------------------------+\n",
      "\n"
     ]
    },
    {
     "name": "stderr",
     "output_type": "stream",
     "text": [
      "\r",
      "                                                                                \r"
     ]
    }
   ],
   "source": [
    "inproc_dropdup.filter(inproc_dropdup.booktitle_name == 'CoRR').show()"
   ]
  },
  {
   "cell_type": "code",
   "execution_count": 75,
   "id": "c5978fbd",
   "metadata": {},
   "outputs": [],
   "source": [
    "inproc_dropdup_kick_CoRR = inproc_dropdup"
   ]
  },
  {
   "cell_type": "markdown",
   "id": "d6025b46",
   "metadata": {},
   "source": [
    "# 5. Union the data between article and inproceedings\n"
   ]
  },
  {
   "cell_type": "code",
   "execution_count": 76,
   "id": "44451d3e",
   "metadata": {},
   "outputs": [],
   "source": [
    "preprocess_data = article_dropdup_kick_CoRR.unionAll(inproc_dropdup_kick_CoRR)"
   ]
  },
  {
   "cell_type": "code",
   "execution_count": 77,
   "id": "a1c0beb1",
   "metadata": {},
   "outputs": [
    {
     "name": "stdout",
     "output_type": "stream",
     "text": [
      "root\n",
      " |-- author: array (nullable = true)\n",
      " |    |-- element: string (containsNull = true)\n",
      " |-- title: string (nullable = true)\n",
      " |-- year: long (nullable = true)\n",
      " |-- booktitle_name: string (nullable = true)\n",
      " |-- booktitle_fullname: string (nullable = true)\n",
      " |-- title_processed: string (nullable = true)\n",
      " |-- booktitle_name_processed: string (nullable = true)\n",
      " |-- booktitle_fullname_processed: string (nullable = true)\n",
      "\n"
     ]
    }
   ],
   "source": [
    "preprocess_data.printSchema()"
   ]
  },
  {
   "cell_type": "code",
   "execution_count": 78,
   "id": "93c0678d",
   "metadata": {},
   "outputs": [
    {
     "name": "stderr",
     "output_type": "stream",
     "text": [
      "[Stage 130:====================================================>(110 + 1) / 111]\r"
     ]
    },
    {
     "name": "stdout",
     "output_type": "stream",
     "text": [
      "+--------------------+--------------------+----+----------------+--------------------+--------------------+------------------------+----------------------------+\n",
      "|              author|               title|year|  booktitle_name|  booktitle_fullname|     title_processed|booktitle_name_processed|booktitle_fullname_processed|\n",
      "+--------------------+--------------------+----+----------------+--------------------+--------------------+------------------------+----------------------------+\n",
      "|[Divesh Srivastav...|Special issue: be...|   0|             WWW|      World Wide Web|specialissue:best...|                     www|                worldwideweb|\n",
      "|[Divesh Srivastav...|The calculation o...|1990|           CANDC|Computational Bio...|thecalculationoft...|                   candc|        computationalbiol...|\n",
      "|[Divesh Srivastav...|Space Optimizatio...|1991|   Sigmod Record|                    |spaceoptimization...|            sigmodrecord|                            |\n",
      "|[Divesh Srivastav...|Implementation of...|1993|   Sigmod Record|                    |implementationoft...|            sigmodrecord|                            |\n",
      "|[Divesh Srivastav...|Pushing Constrain...|1993|J. Log. Program.|    J. Log. Program.|pushingconstraint...|             jlogprogram|                 jlogprogram|\n",
      "+--------------------+--------------------+----+----------------+--------------------+--------------------+------------------------+----------------------------+\n",
      "only showing top 5 rows\n",
      "\n"
     ]
    },
    {
     "name": "stderr",
     "output_type": "stream",
     "text": [
      "\r",
      "                                                                                \r"
     ]
    }
   ],
   "source": [
    "preprocess_data.show(5)"
   ]
  },
  {
   "cell_type": "markdown",
   "id": "12fb7849",
   "metadata": {},
   "source": [
    "# Query 2:"
   ]
  },
  {
   "cell_type": "code",
   "execution_count": 79,
   "id": "8073fcda",
   "metadata": {},
   "outputs": [],
   "source": [
    "from pyspark.sql.functions import explode"
   ]
  },
  {
   "cell_type": "markdown",
   "id": "1b3f5c67",
   "metadata": {},
   "source": [
    "- explode the dataframe according to author and select those columns not equal to 'D. S.'"
   ]
  },
  {
   "cell_type": "code",
   "execution_count": 80,
   "id": "1e1e570f",
   "metadata": {},
   "outputs": [],
   "source": [
    "query2_data = preprocess_data.select(explode('author').alias('author'), \"title\")"
   ]
  },
  {
   "cell_type": "code",
   "execution_count": 81,
   "id": "e4c689d1",
   "metadata": {},
   "outputs": [],
   "source": [
    "query2_data_exceptDS = query2_data.filter(query2_data.author != 'Divesh Srivastava')"
   ]
  },
  {
   "cell_type": "code",
   "execution_count": 82,
   "id": "6ab54b29",
   "metadata": {},
   "outputs": [
    {
     "name": "stderr",
     "output_type": "stream",
     "text": [
      "[Stage 141:====================================================>(110 + 1) / 111]\r"
     ]
    },
    {
     "name": "stdout",
     "output_type": "stream",
     "text": [
      "+------------------+--------------------+\n",
      "|            author|               title|\n",
      "+------------------+--------------------+\n",
      "|     Wook-shin Han|Special issue: be...|\n",
      "|             Ge Yu|Special issue: be...|\n",
      "|    David A. Micha|The calculation o...|\n",
      "|  Jeffrey Naughton|Space Optimizatio...|\n",
      "|Raghu Ramakrishnan|Space Optimizatio...|\n",
      "+------------------+--------------------+\n",
      "only showing top 5 rows\n",
      "\n"
     ]
    },
    {
     "name": "stderr",
     "output_type": "stream",
     "text": [
      "\r",
      "                                                                                \r"
     ]
    }
   ],
   "source": [
    "query2_data_exceptDS.show(5)"
   ]
  },
  {
   "cell_type": "code",
   "execution_count": 83,
   "id": "fd30e476",
   "metadata": {},
   "outputs": [],
   "source": [
    "total_count = query2_data_exceptDS.groupby('author').count()\n",
    "query2_result = total_count.orderBy(total_count['count'].desc()).limit(1)"
   ]
  },
  {
   "cell_type": "code",
   "execution_count": 84,
   "id": "f4f6f7ee",
   "metadata": {
    "scrolled": true
   },
   "outputs": [
    {
     "name": "stderr",
     "output_type": "stream",
     "text": [
      "[Stage 152:====================================================>(110 + 1) / 111]\r"
     ]
    },
    {
     "name": "stdout",
     "output_type": "stream",
     "text": [
      "+-----------+-----+\n",
      "|     author|count|\n",
      "+-----------+-----+\n",
      "|Nick Koudas|  106|\n",
      "+-----------+-----+\n",
      "\n"
     ]
    },
    {
     "name": "stderr",
     "output_type": "stream",
     "text": [
      "\r",
      "                                                                                \r"
     ]
    }
   ],
   "source": [
    "query2_result.show()"
   ]
  },
  {
   "cell_type": "markdown",
   "id": "5708b5fa",
   "metadata": {},
   "source": [
    "# Query 3:"
   ]
  },
  {
   "cell_type": "code",
   "execution_count": 85,
   "id": "76406dcc",
   "metadata": {},
   "outputs": [],
   "source": [
    "query3_data = preprocess_data.select(\"title\", \"year\")"
   ]
  },
  {
   "cell_type": "code",
   "execution_count": 86,
   "id": "22a12000",
   "metadata": {},
   "outputs": [],
   "source": [
    "query3_result = query3_data.groupby('year').count().orderBy(query3_data['year'].desc())"
   ]
  },
  {
   "cell_type": "markdown",
   "id": "9af32a52",
   "metadata": {},
   "source": [
    "- for store the result"
   ]
  },
  {
   "cell_type": "code",
   "execution_count": 87,
   "id": "3d5ec720",
   "metadata": {
    "scrolled": true
   },
   "outputs": [
    {
     "name": "stderr",
     "output_type": "stream",
     "text": [
      "[Stage 169:====================================================>(110 + 1) / 111]\r"
     ]
    },
    {
     "name": "stdout",
     "output_type": "stream",
     "text": [
      "+----+-----+\n",
      "|year|count|\n",
      "+----+-----+\n",
      "|2022|17   |\n",
      "|2021|17   |\n",
      "|2020|13   |\n",
      "|2019|17   |\n",
      "|2018|18   |\n",
      "|2017|16   |\n",
      "|2016|7    |\n",
      "|2015|22   |\n",
      "|2014|10   |\n",
      "|2013|13   |\n",
      "|2012|17   |\n",
      "|2011|15   |\n",
      "|2010|35   |\n",
      "|2009|43   |\n",
      "|2008|26   |\n",
      "|2007|18   |\n",
      "|2006|20   |\n",
      "|2005|21   |\n",
      "|2004|15   |\n",
      "|2003|34   |\n",
      "|2002|23   |\n",
      "|2001|13   |\n",
      "|2000|19   |\n",
      "|1999|13   |\n",
      "|1998|9    |\n",
      "|1997|2    |\n",
      "|1996|16   |\n",
      "|1995|8    |\n",
      "|1994|13   |\n",
      "|1993|14   |\n",
      "|1992|8    |\n",
      "|1991|4    |\n",
      "|1990|4    |\n",
      "|0   |1    |\n",
      "|null|1    |\n",
      "+----+-----+\n",
      "\n"
     ]
    },
    {
     "name": "stderr",
     "output_type": "stream",
     "text": [
      "\r",
      "                                                                                \r"
     ]
    }
   ],
   "source": [
    "query3_result.show(200, truncate = False)"
   ]
  },
  {
   "cell_type": "markdown",
   "id": "1cc4178f",
   "metadata": {},
   "source": [
    "# Query 4:"
   ]
  },
  {
   "cell_type": "markdown",
   "id": "50133394",
   "metadata": {},
   "source": [
    "## 1. Select 2021 publication data"
   ]
  },
  {
   "cell_type": "code",
   "execution_count": 88,
   "id": "fefe4183",
   "metadata": {},
   "outputs": [],
   "source": [
    "article_2021 = df_article.filter(df_article.year == 2021).select('title', 'author', 'booktitle_name', 'year').withColumnRenamed('booktitle_name', 'journal/conference')\n",
    "inproc_2021 = df_inproc.filter(df_inproc.year == 2021).select('title', 'author', 'booktitle_name', 'year').withColumnRenamed('booktitle_name', 'journal/conference')\n",
    "\n",
    "publication_2021 = article_2021.unionAll(inproc_2021)"
   ]
  },
  {
   "cell_type": "code",
   "execution_count": 89,
   "id": "d5f7a40c",
   "metadata": {},
   "outputs": [
    {
     "name": "stdout",
     "output_type": "stream",
     "text": [
      "+--------------------+--------------------+------------------+----+\n",
      "|               title|              author|journal/conference|year|\n",
      "+--------------------+--------------------+------------------+----+\n",
      "|The Rule of Virtu...|[Lishan Lan, Qin ...|  Sci. Eng. Ethics|2021|\n",
      "|A Multi-level Rev...|[Diana Adela Mart...|  Sci. Eng. Ethics|2021|\n",
      "|Applying a Social...|[Miri Barak, Gize...|  Sci. Eng. Ethics|2021|\n",
      "|Correction to: Ma...|[Filippo Santoni ...|  Sci. Eng. Ethics|2021|\n",
      "|Towards a Theory ...| [Matthew J. Dennis]|  Sci. Eng. Ethics|2021|\n",
      "+--------------------+--------------------+------------------+----+\n",
      "only showing top 5 rows\n",
      "\n"
     ]
    }
   ],
   "source": [
    "publication_2021.show(5)"
   ]
  },
  {
   "cell_type": "markdown",
   "id": "2698f9fa",
   "metadata": {},
   "source": [
    "## 2. Main Code for TF-IDF"
   ]
  },
  {
   "cell_type": "code",
   "execution_count": 90,
   "id": "859ea620",
   "metadata": {},
   "outputs": [],
   "source": [
    "from pyspark.ml.feature import HashingTF, IDF, Tokenizer, CountVectorizer"
   ]
  },
  {
   "cell_type": "markdown",
   "id": "442bfa2b",
   "metadata": {},
   "source": [
    "- firstly, drop all null value \"title\""
   ]
  },
  {
   "cell_type": "code",
   "execution_count": 91,
   "id": "5c37c420",
   "metadata": {},
   "outputs": [],
   "source": [
    "publication_2021_dropna = publication_2021.dropna(subset = 'title')"
   ]
  },
  {
   "cell_type": "markdown",
   "id": "70986a40",
   "metadata": {},
   "source": [
    "- then, calculate for TF-IDF"
   ]
  },
  {
   "cell_type": "code",
   "execution_count": 92,
   "id": "d21f6632",
   "metadata": {},
   "outputs": [],
   "source": [
    "tokenizer = Tokenizer(inputCol=\"title\", outputCol=\"words\")\n",
    "wordsData = tokenizer.transform(publication_2021_dropna)"
   ]
  },
  {
   "cell_type": "code",
   "execution_count": 93,
   "id": "6e70c202",
   "metadata": {},
   "outputs": [
    {
     "data": {
      "text/plain": [
       "Row(title='The Rule of Virtue: A Confucian Response to the Ethical Challenges of Technocracy.', author=['Lishan Lan', 'Qin Zhu', 'Yongmou Liu'], journal/conference='Sci. Eng. Ethics', year=2021, words=['the', 'rule', 'of', 'virtue:', 'a', 'confucian', 'response', 'to', 'the', 'ethical', 'challenges', 'of', 'technocracy.'])"
      ]
     },
     "execution_count": 93,
     "metadata": {},
     "output_type": "execute_result"
    }
   ],
   "source": [
    "wordsData.first()"
   ]
  },
  {
   "cell_type": "code",
   "execution_count": 94,
   "id": "7f09bdcc",
   "metadata": {},
   "outputs": [],
   "source": [
    "wordsData = wordsData.filter(array_contains(wordsData.words, 'self-attention') | array_contains(wordsData.words, 'transformer'))"
   ]
  },
  {
   "cell_type": "code",
   "execution_count": 95,
   "id": "b988d30b",
   "metadata": {},
   "outputs": [
    {
     "name": "stderr",
     "output_type": "stream",
     "text": [
      "                                                                                \r"
     ]
    },
    {
     "data": {
      "text/plain": [
       "Row(title='Application of solely self-attention mechanism in CSI-fingerprinting-based indoor localization.', author=['Kabo Poloko Nkabiti', 'Yueyun Chen'], journal/conference='Neural Comput. Appl.', year=2021, words=['application', 'of', 'solely', 'self-attention', 'mechanism', 'in', 'csi-fingerprinting-based', 'indoor', 'localization.'])"
      ]
     },
     "execution_count": 95,
     "metadata": {},
     "output_type": "execute_result"
    }
   ],
   "source": [
    "wordsData.first()"
   ]
  },
  {
   "cell_type": "code",
   "execution_count": 96,
   "id": "2ee6ed45",
   "metadata": {},
   "outputs": [
    {
     "name": "stderr",
     "output_type": "stream",
     "text": [
      "                                                                                \r"
     ]
    }
   ],
   "source": [
    "# TF-IDF computation\n",
    "countVect = CountVectorizer(inputCol='words', outputCol='vocabularys')\n",
    "model = countVect.fit(wordsData)\n",
    "featurizedData = model.transform(wordsData)\n",
    "\n",
    "\n",
    "idf = IDF(inputCol=\"vocabularys\", outputCol=\"features\")\n",
    "idfModel = idf.fit(featurizedData)\n",
    "rescaledData = idfModel.transform(featurizedData)"
   ]
  },
  {
   "cell_type": "code",
   "execution_count": 97,
   "id": "de6eeb8c",
   "metadata": {},
   "outputs": [
    {
     "name": "stderr",
     "output_type": "stream",
     "text": [
      "                                                                                \r"
     ]
    },
    {
     "data": {
      "text/plain": [
       "Row(title='Application of solely self-attention mechanism in CSI-fingerprinting-based indoor localization.', author=['Kabo Poloko Nkabiti', 'Yueyun Chen'], journal/conference='Neural Comput. Appl.', year=2021, words=['application', 'of', 'solely', 'self-attention', 'mechanism', 'in', 'csi-fingerprinting-based', 'indoor', 'localization.'], vocabularys=SparseVector(3802, {3: 1.0, 6: 1.0, 8: 1.0, 84: 1.0, 141: 1.0, 344: 1.0, 661: 1.0, 2860: 1.0, 3227: 1.0}), features=SparseVector(3802, {3: 1.6129, 6: 1.892, 8: 2.0474, 84: 4.3769, 141: 4.6954, 344: 5.3885, 661: 6.0816, 2860: 6.7748, 3227: 6.7748}))"
      ]
     },
     "execution_count": 97,
     "metadata": {},
     "output_type": "execute_result"
    }
   ],
   "source": [
    "rescaledData.first()"
   ]
  },
  {
   "cell_type": "code",
   "execution_count": 98,
   "id": "ee6db278",
   "metadata": {},
   "outputs": [],
   "source": [
    "from pyspark.sql.functions import udf, col"
   ]
  },
  {
   "cell_type": "markdown",
   "id": "4d99878d",
   "metadata": {},
   "source": [
    "- the index of 'self-attention' and 'transformer'"
   ]
  },
  {
   "cell_type": "code",
   "execution_count": 99,
   "id": "42e271bc",
   "metadata": {},
   "outputs": [
    {
     "data": {
      "text/plain": [
       "[3, 0]"
      ]
     },
     "execution_count": 99,
     "metadata": {},
     "output_type": "execute_result"
    }
   ],
   "source": [
    "keywords_index = [model.vocabulary.index(word) for word in ['self-attention', 'transformer']]\n",
    "keywords_index"
   ]
  },
  {
   "cell_type": "code",
   "execution_count": 100,
   "id": "2053d102",
   "metadata": {},
   "outputs": [
    {
     "name": "stderr",
     "output_type": "stream",
     "text": [
      "                                                                                \r"
     ]
    },
    {
     "data": {
      "text/plain": [
       "Row(title='Application of solely self-attention mechanism in CSI-fingerprinting-based indoor localization.', author=['Kabo Poloko Nkabiti', 'Yueyun Chen'], journal/conference='Neural Comput. Appl.', year=2021, words=['application', 'of', 'solely', 'self-attention', 'mechanism', 'in', 'csi-fingerprinting-based', 'indoor', 'localization.'], vocabularys=SparseVector(3802, {3: 1.0, 6: 1.0, 8: 1.0, 84: 1.0, 141: 1.0, 344: 1.0, 661: 1.0, 2860: 1.0, 3227: 1.0}), features=SparseVector(3802, {3: 1.6129, 6: 1.892, 8: 2.0474, 84: 4.3769, 141: 4.6954, 344: 5.3885, 661: 6.0816, 2860: 6.7748, 3227: 6.7748}), TF-IDF_list=[0.0, 0.0, 0.0, 1.6128704100834248, 0.0, 0.0, 1.8919932291395358, 0.0, 2.047407333013566, 0.0, 0.0, 0.0, 0.0, 0.0, 0.0, 0.0, 0.0, 0.0, 0.0, 0.0, 0.0, 0.0, 0.0, 0.0, 0.0, 0.0, 0.0, 0.0, 0.0, 0.0, 0.0, 0.0, 0.0, 0.0, 0.0, 0.0, 0.0, 0.0, 0.0, 0.0, 0.0, 0.0, 0.0, 0.0, 0.0, 0.0, 0.0, 0.0, 0.0, 0.0, 0.0, 0.0, 0.0, 0.0, 0.0, 0.0, 0.0, 0.0, 0.0, 0.0, 0.0, 0.0, 0.0, 0.0, 0.0, 0.0, 0.0, 0.0, 0.0, 0.0, 0.0, 0.0, 0.0, 0.0, 0.0, 0.0, 0.0, 0.0, 0.0, 0.0, 0.0, 0.0, 0.0, 0.0, 4.376899878927536, 0.0, 0.0, 0.0, 0.0, 0.0, 0.0, 0.0, 0.0, 0.0, 0.0, 0.0, 0.0, 0.0, 0.0, 0.0, 0.0, 0.0, 0.0, 0.0, 0.0, 0.0, 0.0, 0.0, 0.0, 0.0, 0.0, 0.0, 0.0, 0.0, 0.0, 0.0, 0.0, 0.0, 0.0, 0.0, 0.0, 0.0, 0.0, 0.0, 0.0, 0.0, 0.0, 0.0, 0.0, 0.0, 0.0, 0.0, 0.0, 0.0, 0.0, 0.0, 0.0, 0.0, 0.0, 0.0, 0.0, 4.69535361004607, 0.0, 0.0, 0.0, 0.0, 0.0, 0.0, 0.0, 0.0, 0.0, 0.0, 0.0, 0.0, 0.0, 0.0, 0.0, 0.0, 0.0, 0.0, 0.0, 0.0, 0.0, 0.0, 0.0, 0.0, 0.0, 0.0, 0.0, 0.0, 0.0, 0.0, 0.0, 0.0, 0.0, 0.0, 0.0, 0.0, 0.0, 0.0, 0.0, 0.0, 0.0, 0.0, 0.0, 0.0, 0.0, 0.0, 0.0, 0.0, 0.0, 0.0, 0.0, 0.0, 0.0, 0.0, 0.0, 0.0, 0.0, 0.0, 0.0, 0.0, 0.0, 0.0, 0.0, 0.0, 0.0, 0.0, 0.0, 0.0, 0.0, 0.0, 0.0, 0.0, 0.0, 0.0, 0.0, 0.0, 0.0, 0.0, 0.0, 0.0, 0.0, 0.0, 0.0, 0.0, 0.0, 0.0, 0.0, 0.0, 0.0, 0.0, 0.0, 0.0, 0.0, 0.0, 0.0, 0.0, 0.0, 0.0, 0.0, 0.0, 0.0, 0.0, 0.0, 0.0, 0.0, 0.0, 0.0, 0.0, 0.0, 0.0, 0.0, 0.0, 0.0, 0.0, 0.0, 0.0, 0.0, 0.0, 0.0, 0.0, 0.0, 0.0, 0.0, 0.0, 0.0, 0.0, 0.0, 0.0, 0.0, 0.0, 0.0, 0.0, 0.0, 0.0, 0.0, 0.0, 0.0, 0.0, 0.0, 0.0, 0.0, 0.0, 0.0, 0.0, 0.0, 0.0, 0.0, 0.0, 0.0, 0.0, 0.0, 0.0, 0.0, 0.0, 0.0, 0.0, 0.0, 0.0, 0.0, 0.0, 0.0, 0.0, 0.0, 0.0, 0.0, 0.0, 0.0, 0.0, 0.0, 0.0, 0.0, 0.0, 0.0, 0.0, 0.0, 0.0, 0.0, 0.0, 0.0, 0.0, 0.0, 0.0, 0.0, 0.0, 0.0, 0.0, 0.0, 0.0, 0.0, 0.0, 0.0, 0.0, 0.0, 0.0, 0.0, 0.0, 0.0, 0.0, 0.0, 0.0, 0.0, 0.0, 5.388500790606016, 0.0, 0.0, 0.0, 0.0, 0.0, 0.0, 0.0, 0.0, 0.0, 0.0, 0.0, 0.0, 0.0, 0.0, 0.0, 0.0, 0.0, 0.0, 0.0, 0.0, 0.0, 0.0, 0.0, 0.0, 0.0, 0.0, 0.0, 0.0, 0.0, 0.0, 0.0, 0.0, 0.0, 0.0, 0.0, 0.0, 0.0, 0.0, 0.0, 0.0, 0.0, 0.0, 0.0, 0.0, 0.0, 0.0, 0.0, 0.0, 0.0, 0.0, 0.0, 0.0, 0.0, 0.0, 0.0, 0.0, 0.0, 0.0, 0.0, 0.0, 0.0, 0.0, 0.0, 0.0, 0.0, 0.0, 0.0, 0.0, 0.0, 0.0, 0.0, 0.0, 0.0, 0.0, 0.0, 0.0, 0.0, 0.0, 0.0, 0.0, 0.0, 0.0, 0.0, 0.0, 0.0, 0.0, 0.0, 0.0, 0.0, 0.0, 0.0, 0.0, 0.0, 0.0, 0.0, 0.0, 0.0, 0.0, 0.0, 0.0, 0.0, 0.0, 0.0, 0.0, 0.0, 0.0, 0.0, 0.0, 0.0, 0.0, 0.0, 0.0, 0.0, 0.0, 0.0, 0.0, 0.0, 0.0, 0.0, 0.0, 0.0, 0.0, 0.0, 0.0, 0.0, 0.0, 0.0, 0.0, 0.0, 0.0, 0.0, 0.0, 0.0, 0.0, 0.0, 0.0, 0.0, 0.0, 0.0, 0.0, 0.0, 0.0, 0.0, 0.0, 0.0, 0.0, 0.0, 0.0, 0.0, 0.0, 0.0, 0.0, 0.0, 0.0, 0.0, 0.0, 0.0, 0.0, 0.0, 0.0, 0.0, 0.0, 0.0, 0.0, 0.0, 0.0, 0.0, 0.0, 0.0, 0.0, 0.0, 0.0, 0.0, 0.0, 0.0, 0.0, 0.0, 0.0, 0.0, 0.0, 0.0, 0.0, 0.0, 0.0, 0.0, 0.0, 0.0, 0.0, 0.0, 0.0, 0.0, 0.0, 0.0, 0.0, 0.0, 0.0, 0.0, 0.0, 0.0, 0.0, 0.0, 0.0, 0.0, 0.0, 0.0, 0.0, 0.0, 0.0, 0.0, 0.0, 0.0, 0.0, 0.0, 0.0, 0.0, 0.0, 0.0, 0.0, 0.0, 0.0, 0.0, 0.0, 0.0, 0.0, 0.0, 0.0, 0.0, 0.0, 0.0, 0.0, 0.0, 0.0, 0.0, 0.0, 0.0, 0.0, 0.0, 0.0, 0.0, 0.0, 0.0, 0.0, 0.0, 0.0, 0.0, 0.0, 0.0, 0.0, 0.0, 0.0, 0.0, 0.0, 0.0, 0.0, 0.0, 0.0, 0.0, 0.0, 0.0, 0.0, 0.0, 0.0, 0.0, 0.0, 0.0, 0.0, 0.0, 0.0, 0.0, 0.0, 0.0, 0.0, 0.0, 0.0, 0.0, 0.0, 0.0, 0.0, 0.0, 0.0, 0.0, 0.0, 0.0, 0.0, 0.0, 0.0, 0.0, 0.0, 0.0, 0.0, 0.0, 0.0, 0.0, 0.0, 0.0, 0.0, 0.0, 0.0, 0.0, 0.0, 0.0, 0.0, 0.0, 0.0, 0.0, 0.0, 0.0, 0.0, 0.0, 0.0, 0.0, 0.0, 0.0, 0.0, 0.0, 0.0, 6.081647971165961, 0.0, 0.0, 0.0, 0.0, 0.0, 0.0, 0.0, 0.0, 0.0, 0.0, 0.0, 0.0, 0.0, 0.0, 0.0, 0.0, 0.0, 0.0, 0.0, 0.0, 0.0, 0.0, 0.0, 0.0, 0.0, 0.0, 0.0, 0.0, 0.0, 0.0, 0.0, 0.0, 0.0, 0.0, 0.0, 0.0, 0.0, 0.0, 0.0, 0.0, 0.0, 0.0, 0.0, 0.0, 0.0, 0.0, 0.0, 0.0, 0.0, 0.0, 0.0, 0.0, 0.0, 0.0, 0.0, 0.0, 0.0, 0.0, 0.0, 0.0, 0.0, 0.0, 0.0, 0.0, 0.0, 0.0, 0.0, 0.0, 0.0, 0.0, 0.0, 0.0, 0.0, 0.0, 0.0, 0.0, 0.0, 0.0, 0.0, 0.0, 0.0, 0.0, 0.0, 0.0, 0.0, 0.0, 0.0, 0.0, 0.0, 0.0, 0.0, 0.0, 0.0, 0.0, 0.0, 0.0, 0.0, 0.0, 0.0, 0.0, 0.0, 0.0, 0.0, 0.0, 0.0, 0.0, 0.0, 0.0, 0.0, 0.0, 0.0, 0.0, 0.0, 0.0, 0.0, 0.0, 0.0, 0.0, 0.0, 0.0, 0.0, 0.0, 0.0, 0.0, 0.0, 0.0, 0.0, 0.0, 0.0, 0.0, 0.0, 0.0, 0.0, 0.0, 0.0, 0.0, 0.0, 0.0, 0.0, 0.0, 0.0, 0.0, 0.0, 0.0, 0.0, 0.0, 0.0, 0.0, 0.0, 0.0, 0.0, 0.0, 0.0, 0.0, 0.0, 0.0, 0.0, 0.0, 0.0, 0.0, 0.0, 0.0, 0.0, 0.0, 0.0, 0.0, 0.0, 0.0, 0.0, 0.0, 0.0, 0.0, 0.0, 0.0, 0.0, 0.0, 0.0, 0.0, 0.0, 0.0, 0.0, 0.0, 0.0, 0.0, 0.0, 0.0, 0.0, 0.0, 0.0, 0.0, 0.0, 0.0, 0.0, 0.0, 0.0, 0.0, 0.0, 0.0, 0.0, 0.0, 0.0, 0.0, 0.0, 0.0, 0.0, 0.0, 0.0, 0.0, 0.0, 0.0, 0.0, 0.0, 0.0, 0.0, 0.0, 0.0, 0.0, 0.0, 0.0, 0.0, 0.0, 0.0, 0.0, 0.0, 0.0, 0.0, 0.0, 0.0, 0.0, 0.0, 0.0, 0.0, 0.0, 0.0, 0.0, 0.0, 0.0, 0.0, 0.0, 0.0, 0.0, 0.0, 0.0, 0.0, 0.0, 0.0, 0.0, 0.0, 0.0, 0.0, 0.0, 0.0, 0.0, 0.0, 0.0, 0.0, 0.0, 0.0, 0.0, 0.0, 0.0, 0.0, 0.0, 0.0, 0.0, 0.0, 0.0, 0.0, 0.0, 0.0, 0.0, 0.0, 0.0, 0.0, 0.0, 0.0, 0.0, 0.0, 0.0, 0.0, 0.0, 0.0, 0.0, 0.0, 0.0, 0.0, 0.0, 0.0, 0.0, 0.0, 0.0, 0.0, 0.0, 0.0, 0.0, 0.0, 0.0, 0.0, 0.0, 0.0, 0.0, 0.0, 0.0, 0.0, 0.0, 0.0, 0.0, 0.0, 0.0, 0.0, 0.0, 0.0, 0.0, 0.0, 0.0, 0.0, 0.0, 0.0, 0.0, 0.0, 0.0, 0.0, 0.0, 0.0, 0.0, 0.0, 0.0, 0.0, 0.0, 0.0, 0.0, 0.0, 0.0, 0.0, 0.0, 0.0, 0.0, 0.0, 0.0, 0.0, 0.0, 0.0, 0.0, 0.0, 0.0, 0.0, 0.0, 0.0, 0.0, 0.0, 0.0, 0.0, 0.0, 0.0, 0.0, 0.0, 0.0, 0.0, 0.0, 0.0, 0.0, 0.0, 0.0, 0.0, 0.0, 0.0, 0.0, 0.0, 0.0, 0.0, 0.0, 0.0, 0.0, 0.0, 0.0, 0.0, 0.0, 0.0, 0.0, 0.0, 0.0, 0.0, 0.0, 0.0, 0.0, 0.0, 0.0, 0.0, 0.0, 0.0, 0.0, 0.0, 0.0, 0.0, 0.0, 0.0, 0.0, 0.0, 0.0, 0.0, 0.0, 0.0, 0.0, 0.0, 0.0, 0.0, 0.0, 0.0, 0.0, 0.0, 0.0, 0.0, 0.0, 0.0, 0.0, 0.0, 0.0, 0.0, 0.0, 0.0, 0.0, 0.0, 0.0, 0.0, 0.0, 0.0, 0.0, 0.0, 0.0, 0.0, 0.0, 0.0, 0.0, 0.0, 0.0, 0.0, 0.0, 0.0, 0.0, 0.0, 0.0, 0.0, 0.0, 0.0, 0.0, 0.0, 0.0, 0.0, 0.0, 0.0, 0.0, 0.0, 0.0, 0.0, 0.0, 0.0, 0.0, 0.0, 0.0, 0.0, 0.0, 0.0, 0.0, 0.0, 0.0, 0.0, 0.0, 0.0, 0.0, 0.0, 0.0, 0.0, 0.0, 0.0, 0.0, 0.0, 0.0, 0.0, 0.0, 0.0, 0.0, 0.0, 0.0, 0.0, 0.0, 0.0, 0.0, 0.0, 0.0, 0.0, 0.0, 0.0, 0.0, 0.0, 0.0, 0.0, 0.0, 0.0, 0.0, 0.0, 0.0, 0.0, 0.0, 0.0, 0.0, 0.0, 0.0, 0.0, 0.0, 0.0, 0.0, 0.0, 0.0, 0.0, 0.0, 0.0, 0.0, 0.0, 0.0, 0.0, 0.0, 0.0, 0.0, 0.0, 0.0, 0.0, 0.0, 0.0, 0.0, 0.0, 0.0, 0.0, 0.0, 0.0, 0.0, 0.0, 0.0, 0.0, 0.0, 0.0, 0.0, 0.0, 0.0, 0.0, 0.0, 0.0, 0.0, 0.0, 0.0, 0.0, 0.0, 0.0, 0.0, 0.0, 0.0, 0.0, 0.0, 0.0, 0.0, 0.0, 0.0, 0.0, 0.0, 0.0, 0.0, 0.0, 0.0, 0.0, 0.0, 0.0, 0.0, 0.0, 0.0, 0.0, 0.0, 0.0, 0.0, 0.0, 0.0, 0.0, 0.0, 0.0, 0.0, 0.0, 0.0, 0.0, 0.0, 0.0, 0.0, 0.0, 0.0, 0.0, 0.0, 0.0, 0.0, 0.0, 0.0, 0.0, 0.0, 0.0, 0.0, 0.0, 0.0, 0.0, 0.0, 0.0, 0.0, 0.0, 0.0, 0.0, 0.0, 0.0, 0.0, 0.0, 0.0, 0.0, 0.0, 0.0, 0.0, 0.0, 0.0, 0.0, 0.0, 0.0, 0.0, 0.0, 0.0, 0.0, 0.0, 0.0, 0.0, 0.0, 0.0, 0.0, 0.0, 0.0, 0.0, 0.0, 0.0, 0.0, 0.0, 0.0, 0.0, 0.0, 0.0, 0.0, 0.0, 0.0, 0.0, 0.0, 0.0, 0.0, 0.0, 0.0, 0.0, 0.0, 0.0, 0.0, 0.0, 0.0, 0.0, 0.0, 0.0, 0.0, 0.0, 0.0, 0.0, 0.0, 0.0, 0.0, 0.0, 0.0, 0.0, 0.0, 0.0, 0.0, 0.0, 0.0, 0.0, 0.0, 0.0, 0.0, 0.0, 0.0, 0.0, 0.0, 0.0, 0.0, 0.0, 0.0, 0.0, 0.0, 0.0, 0.0, 0.0, 0.0, 0.0, 0.0, 0.0, 0.0, 0.0, 0.0, 0.0, 0.0, 0.0, 0.0, 0.0, 0.0, 0.0, 0.0, 0.0, 0.0, 0.0, 0.0, 0.0, 0.0, 0.0, 0.0, 0.0, 0.0, 0.0, 0.0, 0.0, 0.0, 0.0, 0.0, 0.0, 0.0, 0.0, 0.0, 0.0, 0.0, 0.0, 0.0, 0.0, 0.0, 0.0, 0.0, 0.0, 0.0, 0.0, 0.0, 0.0, 0.0, 0.0, 0.0, 0.0, 0.0, 0.0, 0.0, 0.0, 0.0, 0.0, 0.0, 0.0, 0.0, 0.0, 0.0, 0.0, 0.0, 0.0, 0.0, 0.0, 0.0, 0.0, 0.0, 0.0, 0.0, 0.0, 0.0, 0.0, 0.0, 0.0, 0.0, 0.0, 0.0, 0.0, 0.0, 0.0, 0.0, 0.0, 0.0, 0.0, 0.0, 0.0, 0.0, 0.0, 0.0, 0.0, 0.0, 0.0, 0.0, 0.0, 0.0, 0.0, 0.0, 0.0, 0.0, 0.0, 0.0, 0.0, 0.0, 0.0, 0.0, 0.0, 0.0, 0.0, 0.0, 0.0, 0.0, 0.0, 0.0, 0.0, 0.0, 0.0, 0.0, 0.0, 0.0, 0.0, 0.0, 0.0, 0.0, 0.0, 0.0, 0.0, 0.0, 0.0, 0.0, 0.0, 0.0, 0.0, 0.0, 0.0, 0.0, 0.0, 0.0, 0.0, 0.0, 0.0, 0.0, 0.0, 0.0, 0.0, 0.0, 0.0, 0.0, 0.0, 0.0, 0.0, 0.0, 0.0, 0.0, 0.0, 0.0, 0.0, 0.0, 0.0, 0.0, 0.0, 0.0, 0.0, 0.0, 0.0, 0.0, 0.0, 0.0, 0.0, 0.0, 0.0, 0.0, 0.0, 0.0, 0.0, 0.0, 0.0, 0.0, 0.0, 0.0, 0.0, 0.0, 0.0, 0.0, 0.0, 0.0, 0.0, 0.0, 0.0, 0.0, 0.0, 0.0, 0.0, 0.0, 0.0, 0.0, 0.0, 0.0, 0.0, 0.0, 0.0, 0.0, 0.0, 0.0, 0.0, 0.0, 0.0, 0.0, 0.0, 0.0, 0.0, 0.0, 0.0, 0.0, 0.0, 0.0, 0.0, 0.0, 0.0, 0.0, 0.0, 0.0, 0.0, 0.0, 0.0, 0.0, 0.0, 0.0, 0.0, 0.0, 0.0, 0.0, 0.0, 0.0, 0.0, 0.0, 0.0, 0.0, 0.0, 0.0, 0.0, 0.0, 0.0, 0.0, 0.0, 0.0, 0.0, 0.0, 0.0, 0.0, 0.0, 0.0, 0.0, 0.0, 0.0, 0.0, 0.0, 0.0, 0.0, 0.0, 0.0, 0.0, 0.0, 0.0, 0.0, 0.0, 0.0, 0.0, 0.0, 0.0, 0.0, 0.0, 0.0, 0.0, 0.0, 0.0, 0.0, 0.0, 0.0, 0.0, 0.0, 0.0, 0.0, 0.0, 0.0, 0.0, 0.0, 0.0, 0.0, 0.0, 0.0, 0.0, 0.0, 0.0, 0.0, 0.0, 0.0, 0.0, 0.0, 0.0, 0.0, 0.0, 0.0, 0.0, 0.0, 0.0, 0.0, 0.0, 0.0, 0.0, 0.0, 0.0, 0.0, 0.0, 0.0, 0.0, 0.0, 0.0, 0.0, 0.0, 0.0, 0.0, 0.0, 0.0, 0.0, 0.0, 0.0, 0.0, 0.0, 0.0, 0.0, 0.0, 0.0, 0.0, 0.0, 0.0, 0.0, 0.0, 0.0, 0.0, 0.0, 0.0, 0.0, 0.0, 0.0, 0.0, 0.0, 0.0, 0.0, 0.0, 0.0, 0.0, 0.0, 0.0, 0.0, 0.0, 0.0, 0.0, 0.0, 0.0, 0.0, 0.0, 0.0, 0.0, 0.0, 0.0, 0.0, 0.0, 0.0, 0.0, 0.0, 0.0, 0.0, 0.0, 0.0, 0.0, 0.0, 0.0, 0.0, 0.0, 0.0, 0.0, 0.0, 0.0, 0.0, 0.0, 0.0, 0.0, 0.0, 0.0, 0.0, 0.0, 0.0, 0.0, 0.0, 0.0, 0.0, 0.0, 0.0, 0.0, 0.0, 0.0, 0.0, 0.0, 0.0, 0.0, 0.0, 0.0, 0.0, 0.0, 0.0, 0.0, 0.0, 0.0, 0.0, 0.0, 0.0, 0.0, 0.0, 0.0, 0.0, 0.0, 0.0, 0.0, 0.0, 0.0, 0.0, 0.0, 0.0, 0.0, 0.0, 0.0, 0.0, 0.0, 0.0, 0.0, 0.0, 0.0, 0.0, 0.0, 0.0, 0.0, 0.0, 0.0, 0.0, 0.0, 0.0, 0.0, 0.0, 0.0, 0.0, 0.0, 0.0, 0.0, 0.0, 0.0, 0.0, 0.0, 0.0, 0.0, 0.0, 0.0, 0.0, 0.0, 0.0, 0.0, 0.0, 0.0, 0.0, 0.0, 0.0, 0.0, 0.0, 0.0, 0.0, 0.0, 0.0, 0.0, 0.0, 0.0, 0.0, 0.0, 0.0, 0.0, 0.0, 0.0, 0.0, 0.0, 0.0, 0.0, 0.0, 0.0, 0.0, 0.0, 0.0, 0.0, 0.0, 0.0, 0.0, 0.0, 0.0, 0.0, 0.0, 0.0, 0.0, 0.0, 0.0, 0.0, 0.0, 0.0, 0.0, 0.0, 0.0, 0.0, 0.0, 0.0, 0.0, 0.0, 0.0, 0.0, 0.0, 0.0, 0.0, 0.0, 0.0, 0.0, 0.0, 0.0, 0.0, 0.0, 0.0, 0.0, 0.0, 0.0, 0.0, 0.0, 0.0, 0.0, 0.0, 0.0, 0.0, 0.0, 0.0, 0.0, 0.0, 0.0, 0.0, 0.0, 0.0, 0.0, 0.0, 0.0, 0.0, 0.0, 0.0, 0.0, 0.0, 0.0, 0.0, 0.0, 0.0, 0.0, 0.0, 0.0, 0.0, 0.0, 0.0, 0.0, 0.0, 0.0, 0.0, 0.0, 0.0, 0.0, 0.0, 0.0, 0.0, 0.0, 0.0, 0.0, 0.0, 0.0, 0.0, 0.0, 0.0, 0.0, 0.0, 0.0, 0.0, 0.0, 0.0, 0.0, 0.0, 0.0, 0.0, 0.0, 0.0, 0.0, 0.0, 0.0, 0.0, 0.0, 0.0, 0.0, 0.0, 0.0, 0.0, 0.0, 0.0, 0.0, 0.0, 0.0, 0.0, 0.0, 0.0, 0.0, 0.0, 0.0, 0.0, 0.0, 0.0, 0.0, 0.0, 0.0, 0.0, 0.0, 0.0, 0.0, 0.0, 0.0, 0.0, 0.0, 0.0, 0.0, 0.0, 0.0, 0.0, 0.0, 0.0, 0.0, 0.0, 0.0, 0.0, 0.0, 0.0, 0.0, 0.0, 0.0, 0.0, 0.0, 0.0, 0.0, 0.0, 0.0, 0.0, 0.0, 0.0, 0.0, 0.0, 0.0, 0.0, 0.0, 0.0, 0.0, 0.0, 0.0, 0.0, 0.0, 0.0, 0.0, 0.0, 0.0, 0.0, 0.0, 0.0, 0.0, 0.0, 0.0, 0.0, 0.0, 0.0, 0.0, 0.0, 0.0, 0.0, 0.0, 0.0, 0.0, 0.0, 0.0, 0.0, 0.0, 0.0, 0.0, 0.0, 0.0, 0.0, 0.0, 0.0, 0.0, 0.0, 0.0, 0.0, 0.0, 0.0, 0.0, 0.0, 0.0, 0.0, 0.0, 0.0, 0.0, 0.0, 0.0, 0.0, 0.0, 0.0, 0.0, 0.0, 0.0, 0.0, 0.0, 0.0, 0.0, 0.0, 0.0, 0.0, 0.0, 0.0, 0.0, 0.0, 0.0, 0.0, 0.0, 0.0, 0.0, 0.0, 0.0, 0.0, 0.0, 0.0, 0.0, 0.0, 0.0, 0.0, 0.0, 0.0, 0.0, 0.0, 0.0, 0.0, 0.0, 0.0, 0.0, 0.0, 0.0, 0.0, 0.0, 0.0, 0.0, 0.0, 0.0, 0.0, 0.0, 0.0, 0.0, 0.0, 0.0, 0.0, 0.0, 0.0, 0.0, 0.0, 0.0, 0.0, 0.0, 0.0, 0.0, 0.0, 0.0, 0.0, 0.0, 0.0, 0.0, 0.0, 0.0, 0.0, 0.0, 0.0, 0.0, 0.0, 0.0, 0.0, 0.0, 0.0, 0.0, 0.0, 0.0, 0.0, 0.0, 0.0, 0.0, 0.0, 0.0, 0.0, 0.0, 0.0, 0.0, 0.0, 0.0, 0.0, 0.0, 0.0, 0.0, 0.0, 0.0, 0.0, 0.0, 0.0, 0.0, 0.0, 0.0, 0.0, 0.0, 0.0, 0.0, 0.0, 0.0, 0.0, 0.0, 0.0, 0.0, 0.0, 0.0, 0.0, 0.0, 0.0, 0.0, 0.0, 0.0, 0.0, 0.0, 0.0, 0.0, 0.0, 0.0, 0.0, 0.0, 0.0, 0.0, 0.0, 0.0, 0.0, 0.0, 0.0, 0.0, 0.0, 0.0, 0.0, 0.0, 0.0, 0.0, 0.0, 0.0, 0.0, 0.0, 0.0, 0.0, 0.0, 0.0, 0.0, 0.0, 0.0, 0.0, 0.0, 0.0, 0.0, 0.0, 0.0, 0.0, 0.0, 0.0, 0.0, 0.0, 0.0, 0.0, 0.0, 0.0, 0.0, 0.0, 0.0, 0.0, 0.0, 0.0, 0.0, 0.0, 0.0, 0.0, 0.0, 0.0, 0.0, 0.0, 0.0, 0.0, 0.0, 0.0, 0.0, 0.0, 0.0, 0.0, 0.0, 0.0, 0.0, 0.0, 0.0, 0.0, 0.0, 0.0, 0.0, 0.0, 0.0, 0.0, 0.0, 0.0, 0.0, 0.0, 0.0, 0.0, 0.0, 0.0, 0.0, 0.0, 0.0, 0.0, 0.0, 0.0, 0.0, 0.0, 0.0, 0.0, 0.0, 0.0, 0.0, 0.0, 0.0, 0.0, 0.0, 0.0, 0.0, 0.0, 0.0, 0.0, 0.0, 0.0, 0.0, 0.0, 0.0, 0.0, 0.0, 0.0, 0.0, 0.0, 0.0, 0.0, 0.0, 0.0, 0.0, 0.0, 0.0, 0.0, 0.0, 0.0, 0.0, 0.0, 0.0, 0.0, 0.0, 0.0, 0.0, 0.0, 0.0, 0.0, 0.0, 0.0, 0.0, 0.0, 0.0, 0.0, 0.0, 0.0, 0.0, 0.0, 0.0, 0.0, 0.0, 0.0, 0.0, 0.0, 0.0, 0.0, 0.0, 0.0, 0.0, 0.0, 0.0, 0.0, 0.0, 0.0, 0.0, 0.0, 0.0, 0.0, 0.0, 0.0, 0.0, 0.0, 0.0, 0.0, 0.0, 0.0, 0.0, 0.0, 0.0, 0.0, 0.0, 0.0, 0.0, 0.0, 0.0, 0.0, 0.0, 0.0, 0.0, 0.0, 0.0, 0.0, 0.0, 0.0, 0.0, 0.0, 0.0, 0.0, 0.0, 0.0, 0.0, 0.0, 0.0, 0.0, 0.0, 0.0, 0.0, 0.0, 0.0, 0.0, 0.0, 0.0, 0.0, 0.0, 0.0, 0.0, 0.0, 0.0, 0.0, 0.0, 0.0, 0.0, 0.0, 0.0, 0.0, 0.0, 0.0, 0.0, 0.0, 0.0, 0.0, 0.0, 0.0, 0.0, 0.0, 0.0, 0.0, 0.0, 0.0, 0.0, 0.0, 0.0, 0.0, 0.0, 0.0, 0.0, 0.0, 0.0, 0.0, 0.0, 0.0, 0.0, 0.0, 0.0, 0.0, 0.0, 0.0, 0.0, 0.0, 0.0, 0.0, 0.0, 0.0, 0.0, 0.0, 0.0, 0.0, 0.0, 0.0, 0.0, 0.0, 0.0, 0.0, 0.0, 0.0, 0.0, 0.0, 0.0, 0.0, 0.0, 0.0, 0.0, 0.0, 0.0, 0.0, 0.0, 0.0, 0.0, 0.0, 0.0, 0.0, 0.0, 0.0, 0.0, 0.0, 0.0, 0.0, 0.0, 0.0, 0.0, 0.0, 0.0, 0.0, 0.0, 0.0, 0.0, 0.0, 0.0, 0.0, 0.0, 0.0, 0.0, 0.0, 0.0, 0.0, 0.0, 0.0, 0.0, 0.0, 0.0, 0.0, 0.0, 0.0, 0.0, 0.0, 0.0, 0.0, 0.0, 0.0, 0.0, 0.0, 0.0, 0.0, 0.0, 0.0, 0.0, 0.0, 0.0, 0.0, 0.0, 0.0, 0.0, 0.0, 0.0, 0.0, 0.0, 0.0, 0.0, 0.0, 0.0, 0.0, 0.0, 0.0, 0.0, 0.0, 0.0, 0.0, 0.0, 0.0, 0.0, 0.0, 0.0, 0.0, 0.0, 0.0, 0.0, 0.0, 0.0, 0.0, 0.0, 0.0, 0.0, 0.0, 0.0, 0.0, 0.0, 0.0, 0.0, 0.0, 0.0, 0.0, 0.0, 0.0, 0.0, 0.0, 0.0, 0.0, 0.0, 0.0, 0.0, 0.0, 0.0, 0.0, 0.0, 0.0, 0.0, 0.0, 0.0, 0.0, 0.0, 0.0, 0.0, 0.0, 0.0, 0.0, 0.0, 0.0, 0.0, 0.0, 0.0, 0.0, 0.0, 0.0, 0.0, 0.0, 0.0, 0.0, 0.0, 0.0, 0.0, 0.0, 0.0, 0.0, 0.0, 0.0, 0.0, 0.0, 0.0, 0.0, 0.0, 0.0, 0.0, 0.0, 0.0, 0.0, 0.0, 0.0, 0.0, 0.0, 0.0, 0.0, 0.0, 0.0, 0.0, 0.0, 0.0, 0.0, 0.0, 0.0, 0.0, 0.0, 0.0, 0.0, 0.0, 0.0, 0.0, 0.0, 0.0, 0.0, 0.0, 0.0, 0.0, 0.0, 0.0, 0.0, 0.0, 0.0, 0.0, 0.0, 0.0, 0.0, 0.0, 0.0, 0.0, 0.0, 0.0, 0.0, 0.0, 0.0, 0.0, 0.0, 0.0, 0.0, 0.0, 0.0, 0.0, 0.0, 0.0, 0.0, 0.0, 0.0, 0.0, 0.0, 0.0, 0.0, 0.0, 0.0, 0.0, 0.0, 0.0, 0.0, 0.0, 0.0, 0.0, 0.0, 0.0, 0.0, 0.0, 0.0, 0.0, 0.0, 0.0, 0.0, 0.0, 0.0, 0.0, 0.0, 0.0, 0.0, 0.0, 0.0, 0.0, 0.0, 0.0, 0.0, 0.0, 0.0, 0.0, 0.0, 0.0, 0.0, 0.0, 0.0, 0.0, 0.0, 0.0, 0.0, 0.0, 0.0, 0.0, 0.0, 0.0, 0.0, 0.0, 0.0, 0.0, 0.0, 0.0, 0.0, 0.0, 0.0, 0.0, 0.0, 0.0, 0.0, 0.0, 0.0, 0.0, 0.0, 0.0, 0.0, 0.0, 0.0, 0.0, 0.0, 0.0, 0.0, 0.0, 0.0, 0.0, 0.0, 0.0, 0.0, 0.0, 0.0, 0.0, 0.0, 0.0, 0.0, 0.0, 0.0, 0.0, 0.0, 0.0, 0.0, 0.0, 0.0, 0.0, 0.0, 0.0, 0.0, 0.0, 0.0, 0.0, 0.0, 0.0, 0.0, 0.0, 0.0, 0.0, 0.0, 0.0, 0.0, 0.0, 0.0, 0.0, 0.0, 0.0, 0.0, 0.0, 0.0, 0.0, 0.0, 0.0, 0.0, 0.0, 0.0, 0.0, 0.0, 0.0, 0.0, 0.0, 0.0, 0.0, 0.0, 0.0, 0.0, 0.0, 0.0, 0.0, 0.0, 0.0, 0.0, 0.0, 0.0, 0.0, 0.0, 0.0, 0.0, 0.0, 0.0, 0.0, 0.0, 0.0, 0.0, 0.0, 0.0, 0.0, 0.0, 0.0, 0.0, 0.0, 0.0, 0.0, 0.0, 0.0, 6.774795151725907, 0.0, 0.0, 0.0, 0.0, 0.0, 0.0, 0.0, 0.0, 0.0, 0.0, 0.0, 0.0, 0.0, 0.0, 0.0, 0.0, 0.0, 0.0, 0.0, 0.0, 0.0, 0.0, 0.0, 0.0, 0.0, 0.0, 0.0, 0.0, 0.0, 0.0, 0.0, 0.0, 0.0, 0.0, 0.0, 0.0, 0.0, 0.0, 0.0, 0.0, 0.0, 0.0, 0.0, 0.0, 0.0, 0.0, 0.0, 0.0, 0.0, 0.0, 0.0, 0.0, 0.0, 0.0, 0.0, 0.0, 0.0, 0.0, 0.0, 0.0, 0.0, 0.0, 0.0, 0.0, 0.0, 0.0, 0.0, 0.0, 0.0, 0.0, 0.0, 0.0, 0.0, 0.0, 0.0, 0.0, 0.0, 0.0, 0.0, 0.0, 0.0, 0.0, 0.0, 0.0, 0.0, 0.0, 0.0, 0.0, 0.0, 0.0, 0.0, 0.0, 0.0, 0.0, 0.0, 0.0, 0.0, 0.0, 0.0, 0.0, 0.0, 0.0, 0.0, 0.0, 0.0, 0.0, 0.0, 0.0, 0.0, 0.0, 0.0, 0.0, 0.0, 0.0, 0.0, 0.0, 0.0, 0.0, 0.0, 0.0, 0.0, 0.0, 0.0, 0.0, 0.0, 0.0, 0.0, 0.0, 0.0, 0.0, 0.0, 0.0, 0.0, 0.0, 0.0, 0.0, 0.0, 0.0, 0.0, 0.0, 0.0, 0.0, 0.0, 0.0, 0.0, 0.0, 0.0, 0.0, 0.0, 0.0, 0.0, 0.0, 0.0, 0.0, 0.0, 0.0, 0.0, 0.0, 0.0, 0.0, 0.0, 0.0, 0.0, 0.0, 0.0, 0.0, 0.0, 0.0, 0.0, 0.0, 0.0, 0.0, 0.0, 0.0, 0.0, 0.0, 0.0, 0.0, 0.0, 0.0, 0.0, 0.0, 0.0, 0.0, 0.0, 0.0, 0.0, 0.0, 0.0, 0.0, 0.0, 0.0, 0.0, 0.0, 0.0, 0.0, 0.0, 0.0, 0.0, 0.0, 0.0, 0.0, 0.0, 0.0, 0.0, 0.0, 0.0, 0.0, 0.0, 0.0, 0.0, 0.0, 0.0, 0.0, 0.0, 0.0, 0.0, 0.0, 0.0, 0.0, 0.0, 0.0, 0.0, 0.0, 0.0, 0.0, 0.0, 0.0, 0.0, 0.0, 0.0, 0.0, 0.0, 0.0, 0.0, 0.0, 0.0, 0.0, 0.0, 0.0, 0.0, 0.0, 0.0, 0.0, 0.0, 0.0, 0.0, 0.0, 0.0, 0.0, 0.0, 0.0, 0.0, 0.0, 0.0, 0.0, 0.0, 0.0, 0.0, 0.0, 0.0, 0.0, 0.0, 0.0, 0.0, 0.0, 0.0, 0.0, 0.0, 0.0, 0.0, 0.0, 0.0, 0.0, 0.0, 0.0, 0.0, 0.0, 0.0, 0.0, 0.0, 0.0, 0.0, 0.0, 0.0, 0.0, 0.0, 0.0, 0.0, 0.0, 0.0, 0.0, 0.0, 0.0, 0.0, 0.0, 0.0, 0.0, 0.0, 0.0, 0.0, 0.0, 0.0, 0.0, 0.0, 0.0, 0.0, 0.0, 0.0, 0.0, 0.0, 0.0, 0.0, 0.0, 0.0, 0.0, 0.0, 0.0, 0.0, 0.0, 0.0, 0.0, 0.0, 0.0, 0.0, 0.0, 0.0, 0.0, 0.0, 0.0, 0.0, 0.0, 0.0, 0.0, 0.0, 0.0, 0.0, 0.0, 0.0, 0.0, 0.0, 0.0, 0.0, 0.0, 0.0, 0.0, 0.0, 0.0, 0.0, 0.0, 0.0, 0.0, 0.0, 0.0, 0.0, 0.0, 0.0, 0.0, 0.0, 0.0, 0.0, 0.0, 0.0, 0.0, 0.0, 0.0, 6.774795151725907, 0.0, 0.0, 0.0, 0.0, 0.0, 0.0, 0.0, 0.0, 0.0, 0.0, 0.0, 0.0, 0.0, 0.0, 0.0, 0.0, 0.0, 0.0, 0.0, 0.0, 0.0, 0.0, 0.0, 0.0, 0.0, 0.0, 0.0, 0.0, 0.0, 0.0, 0.0, 0.0, 0.0, 0.0, 0.0, 0.0, 0.0, 0.0, 0.0, 0.0, 0.0, 0.0, 0.0, 0.0, 0.0, 0.0, 0.0, 0.0, 0.0, 0.0, 0.0, 0.0, 0.0, 0.0, 0.0, 0.0, 0.0, 0.0, 0.0, 0.0, 0.0, 0.0, 0.0, 0.0, 0.0, 0.0, 0.0, 0.0, 0.0, 0.0, 0.0, 0.0, 0.0, 0.0, 0.0, 0.0, 0.0, 0.0, 0.0, 0.0, 0.0, 0.0, 0.0, 0.0, 0.0, 0.0, 0.0, 0.0, 0.0, 0.0, 0.0, 0.0, 0.0, 0.0, 0.0, 0.0, 0.0, 0.0, 0.0, 0.0, 0.0, 0.0, 0.0, 0.0, 0.0, 0.0, 0.0, 0.0, 0.0, 0.0, 0.0, 0.0, 0.0, 0.0, 0.0, 0.0, 0.0, 0.0, 0.0, 0.0, 0.0, 0.0, 0.0, 0.0, 0.0, 0.0, 0.0, 0.0, 0.0, 0.0, 0.0, 0.0, 0.0, 0.0, 0.0, 0.0, 0.0, 0.0, 0.0, 0.0, 0.0, 0.0, 0.0, 0.0, 0.0, 0.0, 0.0, 0.0, 0.0, 0.0, 0.0, 0.0, 0.0, 0.0, 0.0, 0.0, 0.0, 0.0, 0.0, 0.0, 0.0, 0.0, 0.0, 0.0, 0.0, 0.0, 0.0, 0.0, 0.0, 0.0, 0.0, 0.0, 0.0, 0.0, 0.0, 0.0, 0.0, 0.0, 0.0, 0.0, 0.0, 0.0, 0.0, 0.0, 0.0, 0.0, 0.0, 0.0, 0.0, 0.0, 0.0, 0.0, 0.0, 0.0, 0.0, 0.0, 0.0, 0.0, 0.0, 0.0, 0.0, 0.0, 0.0, 0.0, 0.0, 0.0, 0.0, 0.0, 0.0, 0.0, 0.0, 0.0, 0.0, 0.0, 0.0, 0.0, 0.0, 0.0, 0.0, 0.0, 0.0, 0.0, 0.0, 0.0, 0.0, 0.0, 0.0, 0.0, 0.0, 0.0, 0.0, 0.0, 0.0, 0.0, 0.0, 0.0, 0.0, 0.0, 0.0, 0.0, 0.0, 0.0, 0.0, 0.0, 0.0, 0.0, 0.0, 0.0, 0.0, 0.0, 0.0, 0.0, 0.0, 0.0, 0.0, 0.0, 0.0, 0.0, 0.0, 0.0, 0.0, 0.0, 0.0, 0.0, 0.0, 0.0, 0.0, 0.0, 0.0, 0.0, 0.0, 0.0, 0.0, 0.0, 0.0, 0.0, 0.0, 0.0, 0.0, 0.0, 0.0, 0.0, 0.0, 0.0, 0.0, 0.0, 0.0, 0.0, 0.0, 0.0, 0.0, 0.0, 0.0, 0.0, 0.0, 0.0, 0.0, 0.0, 0.0, 0.0, 0.0, 0.0, 0.0, 0.0, 0.0, 0.0, 0.0, 0.0, 0.0, 0.0, 0.0, 0.0, 0.0, 0.0, 0.0, 0.0, 0.0, 0.0, 0.0, 0.0, 0.0, 0.0, 0.0, 0.0, 0.0, 0.0, 0.0, 0.0, 0.0, 0.0, 0.0, 0.0, 0.0, 0.0, 0.0, 0.0, 0.0, 0.0, 0.0, 0.0, 0.0, 0.0, 0.0, 0.0, 0.0, 0.0, 0.0, 0.0, 0.0, 0.0, 0.0, 0.0, 0.0, 0.0, 0.0, 0.0, 0.0, 0.0, 0.0, 0.0, 0.0, 0.0, 0.0, 0.0, 0.0, 0.0, 0.0, 0.0, 0.0, 0.0, 0.0, 0.0, 0.0, 0.0, 0.0, 0.0, 0.0, 0.0, 0.0, 0.0, 0.0, 0.0, 0.0, 0.0, 0.0, 0.0, 0.0, 0.0, 0.0, 0.0, 0.0, 0.0, 0.0, 0.0, 0.0, 0.0, 0.0, 0.0, 0.0, 0.0, 0.0, 0.0, 0.0, 0.0, 0.0, 0.0, 0.0, 0.0, 0.0, 0.0, 0.0, 0.0, 0.0, 0.0, 0.0, 0.0, 0.0, 0.0, 0.0, 0.0, 0.0, 0.0, 0.0, 0.0, 0.0, 0.0, 0.0, 0.0, 0.0, 0.0, 0.0, 0.0, 0.0, 0.0, 0.0, 0.0, 0.0, 0.0, 0.0, 0.0, 0.0, 0.0, 0.0, 0.0, 0.0, 0.0, 0.0, 0.0, 0.0, 0.0, 0.0, 0.0, 0.0, 0.0, 0.0, 0.0, 0.0, 0.0, 0.0, 0.0, 0.0, 0.0, 0.0, 0.0, 0.0, 0.0, 0.0, 0.0, 0.0, 0.0, 0.0, 0.0, 0.0, 0.0, 0.0, 0.0, 0.0, 0.0, 0.0, 0.0, 0.0, 0.0, 0.0, 0.0, 0.0, 0.0, 0.0, 0.0, 0.0, 0.0, 0.0, 0.0, 0.0, 0.0, 0.0, 0.0, 0.0, 0.0, 0.0, 0.0, 0.0, 0.0, 0.0, 0.0, 0.0, 0.0, 0.0, 0.0, 0.0, 0.0, 0.0, 0.0, 0.0, 0.0, 0.0, 0.0, 0.0, 0.0, 0.0, 0.0, 0.0, 0.0, 0.0, 0.0, 0.0, 0.0, 0.0, 0.0, 0.0, 0.0, 0.0, 0.0, 0.0, 0.0, 0.0, 0.0, 0.0, 0.0, 0.0, 0.0, 0.0, 0.0, 0.0, 0.0, 0.0, 0.0, 0.0, 0.0, 0.0, 0.0, 0.0, 0.0, 0.0, 0.0, 0.0, 0.0, 0.0, 0.0, 0.0, 0.0, 0.0, 0.0, 0.0, 0.0, 0.0, 0.0, 0.0, 0.0, 0.0, 0.0, 0.0, 0.0, 0.0, 0.0])"
      ]
     },
     "execution_count": 100,
     "metadata": {},
     "output_type": "execute_result"
    }
   ],
   "source": [
    "values_udf = udf(lambda vector: vector.toArray().tolist(),ArrayType(DoubleType()))\n",
    "\n",
    "rescaledData = rescaledData.withColumn('TF-IDF_list', values_udf(col('features')))\n",
    "rescaledData.first()"
   ]
  },
  {
   "cell_type": "code",
   "execution_count": 101,
   "id": "9f20af09",
   "metadata": {},
   "outputs": [
    {
     "name": "stderr",
     "output_type": "stream",
     "text": [
      "                                                                                \r"
     ]
    },
    {
     "data": {
      "text/plain": [
       "Row(title='Application of solely self-attention mechanism in CSI-fingerprinting-based indoor localization.', author=['Kabo Poloko Nkabiti', 'Yueyun Chen'], journal/conference='Neural Comput. Appl.', TF-IDF_keyword=1.612870454788208)"
      ]
     },
     "execution_count": 101,
     "metadata": {},
     "output_type": "execute_result"
    }
   ],
   "source": [
    "sum_keyword = udf(lambda vector: vector[0] + vector[3], FloatType())\n",
    "\n",
    "rescaledData = rescaledData.withColumn('TF-IDF_keyword', sum_keyword(col('TF-IDF_list')))\n",
    "rescaledData.select('title', 'author', 'journal/conference', 'TF-IDF_keyword').first()"
   ]
  },
  {
   "cell_type": "code",
   "execution_count": 102,
   "id": "4d6bcad2",
   "metadata": {},
   "outputs": [
    {
     "name": "stderr",
     "output_type": "stream",
     "text": [
      "[Stage 202:>                                                        (0 + 4) / 4]\r"
     ]
    },
    {
     "name": "stdout",
     "output_type": "stream",
     "text": [
      "+--------------------+--------------------+--------------------+----+--------------+\n",
      "|               title|              author|  journal/conference|year|TF-IDF_keyword|\n",
      "+--------------------+--------------------+--------------------+----+--------------+\n",
      "|Application of so...|[Kabo Poloko Nkab...|Neural Comput. Appl.|2021|     1.6128705|\n",
      "|Transformer guide...|[Xiangyu Li, Yong...|Neural Comput. Appl.|2021|    0.21376449|\n",
      "|Joint extraction ...|[Zhao Meng, Sheng...|J. Exp. Theor. Ar...|2021|     1.6128705|\n",
      "|Data augmentation...|[Ibrahim Saad Aly...|  Expert Syst. Appl.|2021|     1.6128705|\n",
      "|An end-to-end fra...|[Can-can Jin, Xi ...|  Expert Syst. Appl.|2021|    0.21376449|\n",
      "|Improved few-shot...|[Yaoyu Xu, Yuan L...|  Expert Syst. Appl.|2021|    0.21376449|\n",
      "|Candidate point s...|[Hyeonuk Kim, Kyu...|  Expert Syst. Appl.|2021|     1.6128705|\n",
      "|Detection of tube...|[Linh T. Duong, N...|  Expert Syst. Appl.|2021|    0.21376449|\n",
      "|Local-constraint ...|       [Jincheng Hu]|Int. J. Comput. S...|2021|    0.21376449|\n",
      "|Sparse self-atten...|[Zejin Wang, Jing...|        BioData Min.|2021|     1.6128705|\n",
      "|Exploration of a ...|[Le Liang, Yu Wan...|IEEE Trans. Ind. ...|2021|    0.21376449|\n",
      "|Transformer Curre...|[Zian Qin, Zhan S...|IEEE Trans. Ind. ...|2021|    0.21376449|\n",
      "|An Ultrawide Outp...|[Dongdong Shu, Ha...|IEEE Trans. Ind. ...|2021|    0.21376449|\n",
      "|Component-Level T...|[Ning Lin, Peng L...|IEEE Trans. Ind. ...|2021|    0.21376449|\n",
      "|Reversible Wideba...|[Wenxia Sima, Dai...|IEEE Trans. Ind. ...|2021|    0.21376449|\n",
      "|Design and Adapti...|[Liang Shu, Ziran...|IEEE Trans. Ind. ...|2021|    0.21376449|\n",
      "|A Modular Multile...|[Gengzhe Zheng, Y...|IEEE Trans. Ind. ...|2021|    0.21376449|\n",
      "|A New Harmonic Mi...|[Ye Tian, Longfu ...|IEEE Trans. Ind. ...|2021|    0.21376449|\n",
      "|Multitime Scale F...|[Jingjing Huang, ...|IEEE Trans. Ind. ...|2021|    0.21376449|\n",
      "|A Novel Suppressi...|[Jinli Zhu, Cheng...|IEEE Trans. Ind. ...|2021|    0.21376449|\n",
      "+--------------------+--------------------+--------------------+----+--------------+\n",
      "only showing top 20 rows\n",
      "\n"
     ]
    },
    {
     "name": "stderr",
     "output_type": "stream",
     "text": [
      "\r",
      "                                                                                \r"
     ]
    }
   ],
   "source": [
    "TFIDF_Data = rescaledData.select('title', 'author', 'journal/conference', 'year', 'TF-IDF_keyword')\n",
    "TFIDF_Data.show()"
   ]
  },
  {
   "cell_type": "code",
   "execution_count": 103,
   "id": "4ece5021",
   "metadata": {},
   "outputs": [
    {
     "name": "stderr",
     "output_type": "stream",
     "text": [
      "[Stage 203:====================================================>(219 + 1) / 220]\r"
     ]
    },
    {
     "name": "stdout",
     "output_type": "stream",
     "text": [
      "+--------------------+--------------------+--------------------+----+\n",
      "|               title|              author|  journal/conference|year|\n",
      "+--------------------+--------------------+--------------------+----+\n",
      "|Spatial self-atte...|[Adu Asare Baffou...|J. Vis. Commun. I...|2021|\n",
      "|Synthesizer: Reth...|[Yi Tay, Dara Bah...|                ICML|2021|\n",
      "|Shatter: An Effic...|[Ran Tian, Joshua...|                CoRR|2021|\n",
      "|Multi-View Self-A...|[Rui Wang, Junyi ...|                CoRR|2021|\n",
      "|Multi-Head Self-A...|[Faisal Alamri, A...|                CoRR|2021|\n",
      "|A Vision Transfor...|[Yuxiang Guo, Di ...|      ICISCAE (IEEE)|2021|\n",
      "|COViT-GAN: Vision...|[Ara Abigail E. A...|           ICANN (2)|2021|\n",
      "|E.T.: re-thinking...|[Shiyang Chen, Sh...|                  SC|2021|\n",
      "|Dual Aspect Self-...|[Zhizheng Zhang 0...|                CoRR|2021|\n",
      "|EEG-Transformer: ...|[Young Eun Lee, S...|                CoRR|2021|\n",
      "+--------------------+--------------------+--------------------+----+\n",
      "\n"
     ]
    },
    {
     "name": "stderr",
     "output_type": "stream",
     "text": [
      "\r",
      "                                                                                \r"
     ]
    }
   ],
   "source": [
    "query4_result = TFIDF_Data.orderBy(TFIDF_Data['TF-IDF_keyword'].desc()).select('title', 'author', 'journal/conference', 'year').limit(10)\n",
    "\n",
    "query4_result.show(10)"
   ]
  },
  {
   "cell_type": "markdown",
   "id": "523d73be",
   "metadata": {},
   "source": [
    "- for store the result"
   ]
  },
  {
   "cell_type": "code",
   "execution_count": 104,
   "id": "b2bab685",
   "metadata": {
    "scrolled": true
   },
   "outputs": [
    {
     "name": "stderr",
     "output_type": "stream",
     "text": [
      "[Stage 205:====================================================>(219 + 1) / 220]\r"
     ]
    },
    {
     "name": "stdout",
     "output_type": "stream",
     "text": [
      "+-----------------------------------------------------------------------------------------------------------------------+--------------------------------------------------------------------------------------------------------------------+--------------------------------+----+\n",
      "|title                                                                                                                  |author                                                                                                              |journal/conference              |year|\n",
      "+-----------------------------------------------------------------------------------------------------------------------+--------------------------------------------------------------------------------------------------------------------+--------------------------------+----+\n",
      "|Spatial self-attention network with self-attention distillation for fine-grained image recognition.                    |[Adu Asare Baffour, Zhen Qin 0002, Yong Wang, Zhiguang Qin, Kim-Kwang Raymond Choo]                                 |J. Vis. Commun. Image Represent.|2021|\n",
      "|Synthesizer: Rethinking Self-Attention for Transformer Models.                                                         |[Yi Tay, Dara Bahri, Donald Metzler, Da-Cheng Juan, Zhe Zhao, Che Zheng]                                            |ICML                            |2021|\n",
      "|Shatter: An Efficient Transformer Encoder with Single-Headed Self-Attention and Relative Sequence Partitioning.        |[Ran Tian, Joshua Maynez, Ankur P. Parikh]                                                                          |CoRR                            |2021|\n",
      "|Multi-View Self-Attention Based Transformer for Speaker Recognition.                                                   |[Rui Wang, Junyi Ao, Long Zhou, Shujie Liu 0001, Zhihua Wei, Tom Ko, Qing Li, Yu Zhang]                             |CoRR                            |2021|\n",
      "|Multi-Head Self-Attention via Vision Transformer for Zero-Shot Learning.                                               |[Faisal Alamri, Anjan Dutta 0001]                                                                                   |CoRR                            |2021|\n",
      "|A Vision Transformer with Improved LeFF and Vision Combinative Self-attention Mechanism for Waste Image Classification.|[Yuxiang Guo, Di Cao, Wuchao Li, Shang Hu, Jiabin Gao, Lixin Huang, Zengrong Ye]                                    |ICISCAE (IEEE)                  |2021|\n",
      "|COViT-GAN: Vision Transformer forCOVID-19 Detection in CT Scan Imageswith Self-Attention GAN forDataAugmentation.      |[Ara Abigail E. Ambita, Eujene Nikka V. Boquio, Prospero C. Naval]                                                  |ICANN (2)                       |2021|\n",
      "|E.T.: re-thinking self-attention for transformer models on GPUs.                                                       |[Shiyang Chen, Shaoyi Huang, Santosh Pandey, Bingbing Li, Guang R. Gao, Long Zheng 0001, Caiwen Ding, Hang Liu 0001]|SC                              |2021|\n",
      "|Dual Aspect Self-Attention based on Transformer for Remaining Useful Life Prediction.                                  |[Zhizheng Zhang 0008, Wen Song, Qiqiang Li]                                                                         |CoRR                            |2021|\n",
      "|EEG-Transformer: Self-attention from Transformer Architecture for Decoding EEG of Imagined Speech.                     |[Young Eun Lee, Seo-Hyun Lee]                                                                                       |CoRR                            |2021|\n",
      "+-----------------------------------------------------------------------------------------------------------------------+--------------------------------------------------------------------------------------------------------------------+--------------------------------+----+\n",
      "\n"
     ]
    },
    {
     "name": "stderr",
     "output_type": "stream",
     "text": [
      "\r",
      "                                                                                \r"
     ]
    }
   ],
   "source": [
    "query4_result.show(10, truncate = False)"
   ]
  }
 ],
 "metadata": {
  "kernelspec": {
   "display_name": "Python 3 (ipykernel)",
   "language": "python",
   "name": "python3"
  },
  "language_info": {
   "codemirror_mode": {
    "name": "ipython",
    "version": 3
   },
   "file_extension": ".py",
   "mimetype": "text/x-python",
   "name": "python",
   "nbconvert_exporter": "python",
   "pygments_lexer": "ipython3",
   "version": "3.8.6"
  }
 },
 "nbformat": 4,
 "nbformat_minor": 5
}
