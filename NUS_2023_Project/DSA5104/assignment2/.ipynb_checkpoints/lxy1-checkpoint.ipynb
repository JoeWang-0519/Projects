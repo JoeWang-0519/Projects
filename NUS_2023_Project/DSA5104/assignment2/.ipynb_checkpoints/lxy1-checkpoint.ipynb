{
 "cells": [
  {
   "cell_type": "code",
   "execution_count": 1,
   "metadata": {},
   "outputs": [],
   "source": [
    "from pyspark.sql.functions import explode,array_contains\n",
    "from pyspark.sql.functions import split, col,lower\n",
    "from pyspark.sql.types import *\n",
    "from pyspark.sql import functions as F\n",
    "from pyspark.ml.feature import HashingTF,IDF,Tokenizer, CountVectorizer\n",
    "from pyspark.sql.functions import udf"
   ]
  },
  {
   "cell_type": "code",
   "execution_count": 2,
   "metadata": {},
   "outputs": [],
   "source": [
    "import findspark\n",
    "findspark.init()"
   ]
  },
  {
   "cell_type": "code",
   "execution_count": 3,
   "metadata": {
    "scrolled": false
   },
   "outputs": [
    {
     "name": "stdout",
     "output_type": "stream",
     "text": [
      ":: loading settings :: url = jar:file:/Users/wangjiangyi/miniforge3/lib/python3.8/site-packages/pyspark/jars/ivy-2.5.0.jar!/org/apache/ivy/core/settings/ivysettings.xml\n"
     ]
    },
    {
     "name": "stderr",
     "output_type": "stream",
     "text": [
      "Ivy Default Cache set to: /Users/wangjiangyi/.ivy2/cache\n",
      "The jars for the packages stored in: /Users/wangjiangyi/.ivy2/jars\n",
      "com.databricks#spark-xml_2.12 added as a dependency\n",
      ":: resolving dependencies :: org.apache.spark#spark-submit-parent-2bfba569-fd68-403a-8b88-baa0a6aebc05;1.0\n",
      "\tconfs: [default]\n",
      "\tfound com.databricks#spark-xml_2.12;0.15.0 in central\n",
      "\tfound commons-io#commons-io;2.11.0 in central\n",
      "\tfound org.glassfish.jaxb#txw2;3.0.2 in central\n",
      "\tfound org.apache.ws.xmlschema#xmlschema-core;2.3.0 in central\n",
      ":: resolution report :: resolve 316ms :: artifacts dl 9ms\n",
      "\t:: modules in use:\n",
      "\tcom.databricks#spark-xml_2.12;0.15.0 from central in [default]\n",
      "\tcommons-io#commons-io;2.11.0 from central in [default]\n",
      "\torg.apache.ws.xmlschema#xmlschema-core;2.3.0 from central in [default]\n",
      "\torg.glassfish.jaxb#txw2;3.0.2 from central in [default]\n",
      "\t---------------------------------------------------------------------\n",
      "\t|                  |            modules            ||   artifacts   |\n",
      "\t|       conf       | number| search|dwnlded|evicted|| number|dwnlded|\n",
      "\t---------------------------------------------------------------------\n",
      "\t|      default     |   4   |   0   |   0   |   0   ||   4   |   0   |\n",
      "\t---------------------------------------------------------------------\n",
      ":: retrieving :: org.apache.spark#spark-submit-parent-2bfba569-fd68-403a-8b88-baa0a6aebc05\n",
      "\tconfs: [default]\n",
      "\t0 artifacts copied, 4 already retrieved (0kB/15ms)\n"
     ]
    },
    {
     "name": "stdout",
     "output_type": "stream",
     "text": [
      "22/11/01 00:28:46 WARN NativeCodeLoader: Unable to load native-hadoop library for your platform... using builtin-java classes where applicable\n"
     ]
    },
    {
     "name": "stderr",
     "output_type": "stream",
     "text": [
      "Setting default log level to \"WARN\".\n",
      "To adjust logging level use sc.setLogLevel(newLevel). For SparkR, use setLogLevel(newLevel).\n"
     ]
    }
   ],
   "source": [
    "import pyspark\n",
    "from pyspark.sql import SparkSession\n",
    "from pyspark.sql.types import *\n",
    "spark = SparkSession\\\n",
    "        .builder.appName(\"XML\")\\\n",
    "        .config(\"spark.jars.packages\", \"com.databricks:spark-xml_2.12:0.15.0\")\\\n",
    "        .getOrCreate()\n"
   ]
  },
  {
   "cell_type": "code",
   "execution_count": 4,
   "metadata": {},
   "outputs": [],
   "source": [
    "# define article schema\n",
    "article_schema = StructType([\n",
    "    StructField(\"author\", ArrayType(elementType = StringType()), True),\n",
    "    StructField(\"title\", StringType(), True),\n",
    "    StructField(\"year\", LongType(), True),\n",
    "    StructField(\"journal\",StringType(),True)\n",
    "])"
   ]
  },
  {
   "cell_type": "code",
   "execution_count": 5,
   "metadata": {},
   "outputs": [],
   "source": [
    "# define inproceedings schema\n",
    "inproceeding_schema = StructType([\n",
    "    StructField(\"author\", ArrayType(elementType = StringType()), True),\n",
    "    StructField(\"title\", StringType(), True),\n",
    "    StructField(\"year\", LongType(), True),\n",
    "    StructField(\"booktitle\",StringType(),True)\n",
    "])"
   ]
  },
  {
   "cell_type": "code",
   "execution_count": 6,
   "metadata": {
    "scrolled": false
   },
   "outputs": [
    {
     "name": "stdout",
     "output_type": "stream",
     "text": [
      "root\n",
      " |-- author: array (nullable = true)\n",
      " |    |-- element: string (containsNull = true)\n",
      " |-- title: string (nullable = true)\n",
      " |-- year: long (nullable = true)\n",
      " |-- journal: string (nullable = true)\n",
      "\n"
     ]
    }
   ],
   "source": [
    "df1 = spark.read.format('xml')\\\n",
    "    .option('rootTag','dblp')\\\n",
    "    .option('rowTag', 'article')\\\n",
    "    .load('dblp.xml',schema=article_schema)\n",
    "df1.printSchema()"
   ]
  },
  {
   "cell_type": "code",
   "execution_count": 7,
   "metadata": {
    "scrolled": false
   },
   "outputs": [
    {
     "name": "stderr",
     "output_type": "stream",
     "text": [
      "\r",
      "[Stage 0:>                                                          (0 + 1) / 1]\r"
     ]
    },
    {
     "name": "stdout",
     "output_type": "stream",
     "text": [
      "+--------------------+--------------------+----+--------------------+\n",
      "|              author|               title|year|   publication_title|\n",
      "+--------------------+--------------------+----+--------------------+\n",
      "|[Paul Kocher, Dan...|Spectre Attacks: ...|2018|  meltdownattack.com|\n",
      "|[Moritz Lipp, Mic...|            Meltdown|2018|  meltdownattack.com|\n",
      "|      [Frank Manola]|An Evaluation of ...|1994|GTE Laboratories ...|\n",
      "|[Michael L. Brodi...|DARWIN: On the In...|1993|GTE Laboratories ...|\n",
      "|[Mark F. Hornick,...|Integrating Heter...|1991|GTE Laboratories ...|\n",
      "|      [Frank Manola]|Object Model Capa...|1989|GTE Laboratories ...|\n",
      "|      [Frank Manola]|Integrating Objec...|1995|GTE Laboratories ...|\n",
      "|[Alejandro P. Buc...|Towards a Transac...|1991|GTE Laboratories ...|\n",
      "|[Frank Manola, Sa...|A 'RISC' Object M...|1993|GTE Laboratories ...|\n",
      "|      [Frank Manola]|MetaObject Protoc...|1993|GTE Laboratories ...|\n",
      "|      [Frank Manola]|Object Data Langu...|1991|GTE Laboratories ...|\n",
      "|[Frank Manola, Ma...|Object Data Model...|1990|GTE Laboratories ...|\n",
      "|      [Frank Manola]|Distributed Objec...|1988|GTE Laboratories ...|\n",
      "|[Farshad Nayeri, ...|Experiments with ...|1993|GTE Laboratories ...|\n",
      "|[Michael Stonebra...|Muffin: A Distrib...|1979|University of Cal...|\n",
      "|[David Beech, Cet...|Object Oriented D...|1990|           ANSI X3H2|\n",
      "|[Krishna G. Kulka...|Inheritance for A...|1991|           ANSI X2H2|\n",
      "|         [Phil Shaw]|Modification of U...|1990|           ANSI X3H2|\n",
      "|[Jim Melton, Jona...|Object ADTs (with...|1991|           ANSI X3H2|\n",
      "|       [David Beech]|Unification of Va...|1992|           ANSI X3H2|\n",
      "+--------------------+--------------------+----+--------------------+\n",
      "only showing top 20 rows\n",
      "\n"
     ]
    },
    {
     "name": "stderr",
     "output_type": "stream",
     "text": [
      "\r",
      "                                                                                \r"
     ]
    }
   ],
   "source": [
    "df1 = df1.withColumnRenamed('journal','publication_title')\n",
    "df1.show()"
   ]
  },
  {
   "cell_type": "code",
   "execution_count": 8,
   "metadata": {},
   "outputs": [
    {
     "name": "stdout",
     "output_type": "stream",
     "text": [
      "root\n",
      " |-- author: array (nullable = true)\n",
      " |    |-- element: string (containsNull = true)\n",
      " |-- title: string (nullable = true)\n",
      " |-- year: long (nullable = true)\n",
      " |-- booktitle: string (nullable = true)\n",
      "\n"
     ]
    }
   ],
   "source": [
    "df2 = spark.read.format('xml')\\\n",
    "    .option('rootTag', 'dblp') \\\n",
    "    .option('rowTag', 'inproceedings')\\\n",
    "    .load('dblp.xml',schema=inproceeding_schema)\n",
    "df2.printSchema()"
   ]
  },
  {
   "cell_type": "code",
   "execution_count": 9,
   "metadata": {},
   "outputs": [
    {
     "name": "stderr",
     "output_type": "stream",
     "text": [
      "                                                                                \r"
     ]
    },
    {
     "name": "stdout",
     "output_type": "stream",
     "text": [
      "+--------------------+--------------------+----+--------------------+\n",
      "|              author|               title|year|   publication_title|\n",
      "+--------------------+--------------------+----+--------------------+\n",
      "|   [Arnon Rosenthal]|The Future of Cla...|1998|                SWEE|\n",
      "|        [E. F. Codd]|Seven Steps to Re...|1974|IFIP Working Conf...|\n",
      "|[Toni Bollinger, ...|The LILOG Inferen...|1991|Text Understandin...|\n",
      "|[Kai-Uwe Carstens...|Why a Hill Can't ...|1991|Text Understandin...|\n",
      "|[David W. Flater,...|Towards Flexible ...|1993|Advanced Database...|\n",
      "|[Claus-Rainer Rol...|  Introducing LILOG.|1991|Text Understandin...|\n",
      "|[Bharat K. Bharga...|Transition From A...|1993|Advanced Database...|\n",
      "|       [Ingo Raasch]| The STUF Workbench.|1991|Text Understandin...|\n",
      "|       [Werner Emde]|Managing Lexical ...|1991|Text Understandin...|\n",
      "|    [Olivier Ridoux]|Imagining CLP(A, ...|1994|Constraint Progra...|\n",
      "|                null|Knowledge Based C...|1991|Text Understandin...|\n",
      "|[Kai von Luck, Th...|Constructing a Co...|1991|Text Understandin...|\n",
      "|[Arif Ghafoor, P....|Multimedia Databa...|1993|Advanced Database...|\n",
      "|                null|  The Language STUF.|1991|Text Understandin...|\n",
      "|[Gudrun Klose, Ka...|The Background Kn...|1991|Text Understandin...|\n",
      "|     [Antoine Rauzy]|Toupie: a Constra...|1994|Constraint Progra...|\n",
      "|     [Birgit Wesche]|An Alternative Ph...|1991|Text Understandin...|\n",
      "|   [Roland Seiffert]|Chart-Parsing of ...|1991|Text Understandin...|\n",
      "|[Hava T. Siegelma...|Document Allocati...|1993|Advanced Database...|\n",
      "|       [Helmar Gust]|Representing Word...|1991|Text Understandin...|\n",
      "+--------------------+--------------------+----+--------------------+\n",
      "only showing top 20 rows\n",
      "\n"
     ]
    },
    {
     "name": "stderr",
     "output_type": "stream",
     "text": [
      "\r",
      "[Stage 2:=============================>                             (2 + 2) / 4]\r",
      "\r",
      "                                                                                \r"
     ]
    }
   ],
   "source": [
    "df2=df2.withColumnRenamed('booktitle','publication_title')\n",
    "df2.show()"
   ]
  },
  {
   "cell_type": "markdown",
   "metadata": {},
   "source": [
    "### query1 List all the papers (year and title) of “Divesh Srivastava”from DBLP that are published after his last paper in the MAS database\n",
    "* First to find the year of last paper in MAS.  \n",
    "* Then use the year as the condition to filter articles and inproceedings in DBLP.  \n",
    "* Finally, union filtered articles and inproceedings."
   ]
  },
  {
   "cell_type": "code",
   "execution_count": 18,
   "metadata": {},
   "outputs": [
    {
     "name": "stdout",
     "output_type": "stream",
     "text": [
      "+----+\n",
      "|year|\n",
      "+----+\n",
      "|2012|\n",
      "+----+\n",
      "\n",
      "2012\n"
     ]
    }
   ],
   "source": [
    "max_year = \"(select max(year) as year from publication where pid in \\\n",
    "(select pid from writes where aid = \\\n",
    "(select aid from author where name = 'Divesh Srivastava'))) max_year\"\n",
    "df_total_trip = spark.read.format(\"jdbc\") \\\n",
    ".option(\"url\",\"jdbc:mysql://localhost:3306/mas\") \\\n",
    ".option(\"dbtable\",max_year) \\\n",
    ".option(\"user\",\"root\") \\\n",
    ".option(\"password\",\"Louxinyun714\") \\\n",
    ".load()\n",
    "\n",
    "df_total_trip.show()\n",
    "max_year = df_total_trip.collect()[0].year\n",
    "print(max_year)"
   ]
  },
  {
   "cell_type": "code",
   "execution_count": 26,
   "metadata": {
    "scrolled": false
   },
   "outputs": [
    {
     "data": {
      "text/plain": [
       "79"
      ]
     },
     "execution_count": 26,
     "metadata": {},
     "output_type": "execute_result"
    }
   ],
   "source": [
    "#type(df1)\n",
    "query1_df1 = df1.filter(\"array_contains(author, 'Divesh Srivastava')\")\\\n",
    "    .filter(df1.year>max_year)\\\n",
    "\n",
    "query1_df1.count()"
   ]
  },
  {
   "cell_type": "code",
   "execution_count": 27,
   "metadata": {},
   "outputs": [
    {
     "data": {
      "text/plain": [
       "78"
      ]
     },
     "execution_count": 27,
     "metadata": {},
     "output_type": "execute_result"
    }
   ],
   "source": [
    "query1_df2=df2.filter(\"array_contains(author, 'Divesh Srivastava')\")\\\n",
    "    .filter(df2.year>max_year)\n",
    "query1_df2.count()"
   ]
  },
  {
   "cell_type": "code",
   "execution_count": 28,
   "metadata": {},
   "outputs": [
    {
     "name": "stdout",
     "output_type": "stream",
     "text": [
      "+--------------------+--------------------+----+--------------------+\n",
      "|              author|               title|year|   publication_title|\n",
      "+--------------------+--------------------+----+--------------------+\n",
      "|[Leon Bornemann, ...|Data Change Explo...|2018|  Datenbank-Spektrum|\n",
      "|[Philip E. Brown,...|From Rocks to Peb...|2019|ACM Trans. Spatia...|\n",
      "|[Donatella Firman...|Robust Entity Res...|2018|IEEE Data Eng. Bull.|\n",
      "|[Tamraparni Dasu,...|Data Quality for ...|2016|IEEE Data Eng. Bull.|\n",
      "|[Luciano Barbosa,...|Big Data Integrat...|2018|IEEE Data Eng. Bull.|\n",
      "|[Shazia W. Sadiq,...|Letter from the S...|2016|IEEE Data Eng. Bull.|\n",
      "|[Kareem El Gebaly...| Explanation Tables.|2018|IEEE Data Eng. Bull.|\n",
      "| [Divesh Srivastava]|Letter from the I...|2021|IEEE Data Eng. Bull.|\n",
      "|[Divesh Srivastav...|Ensuring High-Qua...|2019|ACM J. Data Inf. ...|\n",
      "|[Aline Bessa, Jul...|Effective Discove...|2020|    Trans. Data Sci.|\n",
      "|[Abolfazl Asudeh,...|Efficient Signal ...|2019|         SIGMOD Rec.|\n",
      "|[Shazia Wasim Sad...|Data Quality: The...|2017|         SIGMOD Rec.|\n",
      "|[Mehdi Kargar, Lu...|Effective Keyword...|2022|IEEE Trans. Knowl...|\n",
      "|[Graham Cormode, ...|Constrained Priva...|2021|IEEE Trans. Knowl...|\n",
      "|[Lukasz Golab, Ho...|Discovering Conse...|2014|IEEE Trans. Knowl...|\n",
      "|[Hongyun Cai 0001...|Indexing Evolving...|2015|IEEE Trans. Knowl...|\n",
      "|[Sainyam Galhotra...|Efficient and Eff...|2020|                CoRR|\n",
      "|[Valter Crescenzi...|Alaska: A Flexibl...|2021|                CoRR|\n",
      "|[Xian Li, Xin Lun...|Truth Finding on ...|2015|                CoRR|\n",
      "|[Parke Godfrey, L...|Errata Note: Disc...|2019|                CoRR|\n",
      "+--------------------+--------------------+----+--------------------+\n",
      "only showing top 20 rows\n",
      "\n"
     ]
    }
   ],
   "source": [
    "query1_res_df = query1_df1.union(query1_df2)\n",
    "query1_res_df.show()"
   ]
  },
  {
   "cell_type": "code",
   "execution_count": 29,
   "metadata": {},
   "outputs": [
    {
     "data": {
      "text/plain": [
       "157"
      ]
     },
     "execution_count": 29,
     "metadata": {},
     "output_type": "execute_result"
    }
   ],
   "source": [
    "query1_res_df.count()"
   ]
  },
  {
   "cell_type": "markdown",
   "metadata": {},
   "source": [
    "### data preprocess\n",
    "Prepare data for query2 and query3. Include process title, drop duplicate, merge mas and dblp, merge article and inproceeding."
   ]
  },
  {
   "cell_type": "code",
   "execution_count": 73,
   "metadata": {},
   "outputs": [
    {
     "name": "stdout",
     "output_type": "stream",
     "text": [
      "+--------------------+--------------------+----+-----------------+----------------------+\n",
      "|              author|               title|year|publication_title|publication_full_title|\n",
      "+--------------------+--------------------+----+-----------------+----------------------+\n",
      "|[Divesh Srivastav...|Using q-grams in ...|2001|             DEBU|  IEEE Data(base) E...|\n",
      "|[Andrew Nierman, ...|TIMBER: A native ...|2002|             VLDB|      The Vldb Journal|\n",
      "|[Divesh Srivastav...|Minimization of T...|2001|    Sigmod Record|                      |\n",
      "|[Divesh Srivastav...|One-dimensional a...|2000|             VLDB|      The Vldb Journal|\n",
      "|[Divesh Srivastav...|Implementation of...|1993|    Sigmod Record|                      |\n",
      "|[Divesh Srivastav...|On Effective Mult...|2000|    Sigmod Record|                      |\n",
      "|[Dongwon Lee, Div...|Generating Advanc...|1998|               CN|  Computer Networks...|\n",
      "|[Divesh Srivastav...|Querying Network ...|1999|    Sigmod Record|                      |\n",
      "|[Divesh Srivastav...|The CORAL Deducti...|1994|             VLDB|      The Vldb Journal|\n",
      "|[Divesh Srivastav...|Data Model and Qu...|1995|             JIIS|  Journal of Intell...|\n",
      "|[Divesh Srivastav...|Space optimizatio...|1995|             TODS|  ACM Transactions ...|\n",
      "|[Divesh Srivastav...|Bottom-Up Evaluat...|1995|              TCS|  Theoretical Compu...|\n",
      "|[Divesh Srivastav...|Semantics and Opt...|1994|             DEBU|  IEEE Data(base) E...|\n",
      "| [Divesh Srivastava]|Subsumption and I...|1993|             AMAI|  Annals of Mathema...|\n",
      "|[Divesh Srivastav...|The CORAL Deducti...|1993|    Sigmod Record|                      |\n",
      "|[Divesh Srivastav...|Space Optimizatio...|1991|    Sigmod Record|                      |\n",
      "|[Divesh Srivastav...|On Computing Corr...|2001|    Sigmod Record|                      |\n",
      "|[Divesh Srivastav...|Interaction of Qu...|1998|    Sigmod Record|                      |\n",
      "| [Divesh Srivastava]|Review - EROC: A ...|2000|               DR|  ACM Sigmod Digita...|\n",
      "| [Divesh Srivastava]|Review - Query Op...|2000|               DR|  ACM Sigmod Digita...|\n",
      "+--------------------+--------------------+----+-----------------+----------------------+\n",
      "only showing top 20 rows\n",
      "\n"
     ]
    }
   ],
   "source": [
    "mas_article=\"(with DS as (select aid from author where name = 'Divesh Srivastava'),\\\n",
    "     DS_write as (select pid from writes where aid = (select aid from DS)),\\\n",
    "     co_author as (select aid, pid from writes where pid in (select pid from DS_write)),\\\n",
    "     co_author_info as (select co_author.pid, author.name from co_author join author where co_author.aid=author.aid),\\\n",
    "     co_author_array as (select pid, group_concat(name) as author from co_author_info group by pid),\\\n",
    "     journal_res as (select co_author_array.pid, co_author_array.author\\\n",
    "     ,publication.title, publication.year, publication.jid \\\n",
    "     from co_author_array join publication where co_author_array.pid = publication.pid and publication.jid!=0)\\\n",
    "     select journal_res.author, journal_res.title, journal_res.year, journal.name as publication_title,journal.full_name as publication_full_title from journal_res join journal where journal_res.jid=journal.jid) mas_article\"\n",
    "\n",
    "query2_mas_article = spark.read.format(\"jdbc\") \\\n",
    ".option(\"url\",\"jdbc:mysql://localhost:3306/mas\") \\\n",
    ".option(\"dbtable\",mas_article) \\\n",
    ".option(\"user\",\"root\") \\\n",
    ".option(\"password\",\"Louxinyun714\") \\\n",
    ".load()\n",
    "query2_mas_article = query2_mas_article.withColumn('new_author',split((col(\"author\")),\",\"))\\\n",
    "                    .drop(\"author\")\\\n",
    "                    .withColumnRenamed('new_author','author')\\\n",
    "                    .select('author','title','year','publication_title','publication_full_title')\n",
    "query2_mas_article.show()\n",
    "# query2_mas_article.count()"
   ]
  },
  {
   "cell_type": "code",
   "execution_count": 76,
   "metadata": {},
   "outputs": [
    {
     "name": "stdout",
     "output_type": "stream",
     "text": [
      "+--------------------+--------------------+----+-----------------+----------------------+\n",
      "|              author|               title|year|publication_title|publication_full_title|\n",
      "+--------------------+--------------------+----+-----------------+----------------------+\n",
      "|[Divesh Srivastav...|PIX: exact and ap...|2003|           SIGMOD|  International Con...|\n",
      "|[Divesh Srivastav...|Text Joins for Da...|2003|             ICDE|  International Con...|\n",
      "|[Nicolas Bruno, D...|Navigation vs. In...|2003|             ICDE|  International Con...|\n",
      "|[Divesh Srivastav...|Text joins in an ...|2003|              WWW|  World Wide Web Co...|\n",
      "|[Divesh Srivastav...| Ranked Join Indices|2003|             ICDE|  International Con...|\n",
      "|[Andrew Nierman, ...|TIMBER: a native ...|2003|           SIGMOD|  International Con...|\n",
      "|[Andrew Nierman, ...|     Grouping in XML|2002|   EDBT(Workshop)|  International Con...|\n",
      "|[Divesh Srivastav...|Optimizing the se...|2002|             VLDB|  Very Large Data B...|\n",
      "|[Divesh Srivastav...|TAX: A Tree Algeb...|2001|             DBPL|  Workshop on Datab...|\n",
      "|[Divesh Srivastav...|Structural Joins:...|2002|             ICDE|  International Con...|\n",
      "|[Divesh Srivastav...|On Bounding-Schem...|2000|             EDBT|  Extending Databas...|\n",
      "|[Divesh Srivastav...|Approximate Strin...|2001|             VLDB|  Very Large Data B...|\n",
      "|[Divesh Srivastav...|Counting Twig Mat...|2001|             ICDE|  International Con...|\n",
      "|[Divesh Srivastav...|Coral++: Adding O...|1993|             VLDB|  Very Large Data B...|\n",
      "|[Divesh Srivastav...|Rule Ordering in ...|1990|             VLDB|  Very Large Data B...|\n",
      "|[Divesh Srivastav...|Explaining Progra...|1993|              LPE|  Workshop on Logic...|\n",
      "|[Divesh Srivastav...|Optimal histogram...|2000|             PODS|  Symposium on Prin...|\n",
      "|[Divesh Srivastav...|Evolution and Rev...|2000|             EDBT|  Extending Databas...|\n",
      "|[Divesh Srivastav...|CORAL - Control, ...|1992|             VLDB|  Very Large Data B...|\n",
      "|[Divesh Srivastav...|Chasing constrain...|1996|             PODS|  Symposium on Prin...|\n",
      "+--------------------+--------------------+----+-----------------+----------------------+\n",
      "only showing top 20 rows\n",
      "\n"
     ]
    },
    {
     "data": {
      "text/plain": [
       "170"
      ]
     },
     "execution_count": 76,
     "metadata": {},
     "output_type": "execute_result"
    }
   ],
   "source": [
    "mas_inproceedings=\"(with DS as (select aid from author where name = 'Divesh Srivastava'),\\\n",
    "     DS_write as (select pid from writes where aid = (select aid from DS)),\\\n",
    "     co_author as (select aid, pid from writes where pid in (select pid from DS_write)),\\\n",
    "     co_author_info as (select co_author.pid, author.name from co_author join author where co_author.aid=author.aid),\\\n",
    "     co_author_array as (select pid, group_concat(name) as author from co_author_info group by pid),\\\n",
    "     conference_res as (select co_author_array.pid, co_author_array.author\\\n",
    "     ,publication.title, publication.year, publication.cid \\\n",
    "     from co_author_array join publication where co_author_array.pid = publication.pid and publication.cid!=0)\\\n",
    "     select conference_res.author, conference_res.title, conference_res.year, conference.name as publication_title,conference.full_name as publication_full_title from conference_res join conference where conference_res.cid=conference.cid) mas_inproceedings\"\n",
    "\n",
    "query2_mas_inproceedings = spark.read.format(\"jdbc\") \\\n",
    ".option(\"url\",\"jdbc:mysql://localhost:3306/mas\") \\\n",
    ".option(\"dbtable\",mas_inproceedings) \\\n",
    ".option(\"user\",\"root\") \\\n",
    ".option(\"password\",\"Louxinyun714\") \\\n",
    ".load()\n",
    "query2_mas_inproceedings = query2_mas_inproceedings.withColumn('new_author',split((col(\"author\")),\",\"))\\\n",
    "                    .drop(\"author\")\\\n",
    "                    .withColumnRenamed('new_author','author')\\\n",
    "                    .select('author','title','year','publication_title','publication_full_title')\n",
    "query2_mas_inproceedings.show()\n",
    "query2_mas_inproceedings.count()"
   ]
  },
  {
   "cell_type": "markdown",
   "metadata": {},
   "source": [
    "对读入的dblp数据做条件筛选\n",
    "* 选出包含'Divesh Srivastava'的publication\n",
    "* 把publication_title复制一列方便和mas的数据对比去重"
   ]
  },
  {
   "cell_type": "code",
   "execution_count": 41,
   "metadata": {},
   "outputs": [
    {
     "name": "stdout",
     "output_type": "stream",
     "text": [
      "+--------------------+--------------------+----+--------------------+----------------------+\n",
      "|              author|               title|year|   publication_title|publication_full_title|\n",
      "+--------------------+--------------------+----+--------------------+----------------------+\n",
      "|[Leon Bornemann, ...|Data Change Explo...|2018|  Datenbank-Spektrum|    Datenbank-Spektrum|\n",
      "|[Divesh Srivastav...|Pushing Constrain...|1993|    J. Log. Program.|      J. Log. Program.|\n",
      "|[Philip E. Brown,...|From Rocks to Peb...|2019|ACM Trans. Spatia...|  ACM Trans. Spatia...|\n",
      "|[Donatella Firman...|Robust Entity Res...|2018|IEEE Data Eng. Bull.|  IEEE Data Eng. Bull.|\n",
      "|[Luis Gravano, Pa...|Using q-grams in ...|2001|IEEE Data Eng. Bull.|  IEEE Data Eng. Bull.|\n",
      "|[Tamraparni Dasu,...|Data Quality for ...|2016|IEEE Data Eng. Bull.|  IEEE Data Eng. Bull.|\n",
      "|[Lukasz Golab, Fl...|Efficient and Eff...|2011|IEEE Data Eng. Bull.|  IEEE Data Eng. Bull.|\n",
      "|[Luciano Barbosa,...|Big Data Integrat...|2018|IEEE Data Eng. Bull.|  IEEE Data Eng. Bull.|\n",
      "|[Shazia W. Sadiq,...|Letter from the S...|2016|IEEE Data Eng. Bull.|  IEEE Data Eng. Bull.|\n",
      "|[Kareem El Gebaly...| Explanation Tables.|2018|IEEE Data Eng. Bull.|  IEEE Data Eng. Bull.|\n",
      "| [Divesh Srivastava]|Letter from the I...|2021|IEEE Data Eng. Bull.|  IEEE Data Eng. Bull.|\n",
      "|[Raghu Ramakrishn...|Semantics and Opt...|1994|IEEE Data Eng. Bull.|  IEEE Data Eng. Bull.|\n",
      "|[Marios Hadjielef...|Weighted Set-Base...|2010|IEEE Data Eng. Bull.|  IEEE Data Eng. Bull.|\n",
      "|[Graham Cormode, ...|Finding hierarchi...|2008|ACM Trans. Knowl....|  ACM Trans. Knowl....|\n",
      "|[Marios Hadjielef...|Approximate Strin...|2011|Found. Trends Dat...|  Found. Trends Dat...|\n",
      "|[Divesh Srivastav...|Ensuring High-Qua...|2019|ACM J. Data Inf. ...|  ACM J. Data Inf. ...|\n",
      "|[Dongwon Lee 0001...|Generating Advanc...|1998|    Comput. Networks|      Comput. Networks|\n",
      "|[Demetrios Zeinal...|Finding the K hig...|2009|    Comput. Networks|      Comput. Networks|\n",
      "|[Wook-Shin Han, D...|Special issue: be...|2012|      World Wide Web|        World Wide Web|\n",
      "|[Jean-Philippe Ma...|Iterative multi-t...|2003|   IEEE Commun. Mag.|     IEEE Commun. Mag.|\n",
      "+--------------------+--------------------+----+--------------------+----------------------+\n",
      "only showing top 20 rows\n",
      "\n"
     ]
    }
   ],
   "source": [
    "query2_dblp_article = df1.filter(\"array_contains(author, 'Divesh Srivastava')\")\\\n",
    "            .withColumn(\"publication_full_title\",df1.publication_title)\n",
    "           \n",
    "query2_dblp_article.show()"
   ]
  },
  {
   "cell_type": "code",
   "execution_count": 93,
   "metadata": {},
   "outputs": [
    {
     "name": "stdout",
     "output_type": "stream",
     "text": [
      "+--------------------+--------------------+----+-------------------+----------------------+\n",
      "|              author|               title|year|  publication_title|publication_full_title|\n",
      "+--------------------+--------------------+----+-------------------+----------------------+\n",
      "|[Raghu Ramakrishn...|Efficient Increme...|1994|               ILPS|                  ILPS|\n",
      "|[David B. Kemp, D...|Magic Sets and Bo...|1991|               ISLP|                  ISLP|\n",
      "|[S. Sudarshan 000...|Extending the Wel...|1993|               ILPS|                  ILPS|\n",
      "|[Nick Koudas, Div...|Data Stream Query...|2003|               WISE|                  WISE|\n",
      "|[H. V. Jagadish, ...|Flexible List Man...|1998|               CIKM|                  CIKM|\n",
      "|[Guy Jacobson, Ba...|Focusing Search i...|1998|               CIKM|                  CIKM|\n",
      "|[Graham Cormode, ...|UMicS: from anony...|2013|               CIKM|                  CIKM|\n",
      "|[Sihem Amer-Yahia...|Logical and physi...|2002|               CIKM|                  CIKM|\n",
      "| [Divesh Srivastava]|  Schema extraction.|2010|               CIKM|                  CIKM|\n",
      "|[Divesh Srivastav...|Exploring and Ana...|2022|               CIKM|                  CIKM|\n",
      "|[Xi He 0001, Ashw...|Composing Differe...|2017|                CCS|                   CCS|\n",
      "|[Sihem Amer-Yahia...|A mapping schema ...|2002|               WIDM|                  WIDM|\n",
      "|[Bing Tian Dai, N...|Rapid Identificat...|2006|               ICDM|                  ICDM|\n",
      "|[Sihem Amer-Yahia...|08111 Abstracts C...|2008|Ranked XML Querying|   Ranked XML Querying|\n",
      "|[Sihem Amer-Yahia...|08111 Report - Ra...|2008|Ranked XML Querying|   Ranked XML Querying|\n",
      "|[Tarun Arora, Rag...|Explaining Progra...|1993|                LPE|                   LPE|\n",
      "|[Philip E. Brown,...|     Don't Cry Wolf.|2019|               DSAA|                  DSAA|\n",
      "|[Graham Cormode, ...|Effective Computa...|2005|               ICDE|                  ICDE|\n",
      "|[Nick Koudas, Avi...|Metric Functional...|2009|               ICDE|                  ICDE|\n",
      "|[Ke Yi 0001, Feif...|Efficient Process...|2008|               ICDE|                  ICDE|\n",
      "+--------------------+--------------------+----+-------------------+----------------------+\n",
      "only showing top 20 rows\n",
      "\n"
     ]
    }
   ],
   "source": [
    "query2_dblp_inproceedings = df2.filter(\"array_contains(author, 'Divesh Srivastava')\")\\\n",
    "            .withColumn(\"publication_full_title\",df2.publication_title)\n",
    "           \n",
    "query2_dblp_inproceedings.show()"
   ]
  },
  {
   "cell_type": "code",
   "execution_count": 87,
   "metadata": {},
   "outputs": [
    {
     "name": "stdout",
     "output_type": "stream",
     "text": [
      "+--------------------+--------------------+----+--------------------+----------------------+--------------------+\n",
      "|              author|               title|year|   publication_title|publication_full_title|           new_title|\n",
      "+--------------------+--------------------+----+--------------------+----------------------+--------------------+\n",
      "|[Leon Bornemann, ...|Data Change Explo...|2018|  Datenbank-Spektrum|    Datenbank-Spektrum|data change explo...|\n",
      "|[Divesh Srivastav...|Pushing Constrain...|1993|    J. Log. Program.|      J. Log. Program.|pushing constrain...|\n",
      "|[Philip E. Brown,...|From Rocks to Peb...|2019|ACM Trans. Spatia...|  ACM Trans. Spatia...|from rocks to peb...|\n",
      "|[Donatella Firman...|Robust Entity Res...|2018|IEEE Data Eng. Bull.|  IEEE Data Eng. Bull.|robust entity res...|\n",
      "|[Luis Gravano, Pa...|Using q-grams in ...|2001|IEEE Data Eng. Bull.|  IEEE Data Eng. Bull.|using q-grams in ...|\n",
      "|[Tamraparni Dasu,...|Data Quality for ...|2016|IEEE Data Eng. Bull.|  IEEE Data Eng. Bull.|data quality for ...|\n",
      "|[Lukasz Golab, Fl...|Efficient and Eff...|2011|IEEE Data Eng. Bull.|  IEEE Data Eng. Bull.|efficient and eff...|\n",
      "|[Luciano Barbosa,...|Big Data Integrat...|2018|IEEE Data Eng. Bull.|  IEEE Data Eng. Bull.|big data integrat...|\n",
      "|[Shazia W. Sadiq,...|Letter from the S...|2016|IEEE Data Eng. Bull.|  IEEE Data Eng. Bull.|letter from the s...|\n",
      "|[Kareem El Gebaly...| Explanation Tables.|2018|IEEE Data Eng. Bull.|  IEEE Data Eng. Bull.|  explanation tables|\n",
      "| [Divesh Srivastava]|Letter from the I...|2021|IEEE Data Eng. Bull.|  IEEE Data Eng. Bull.|letter from the i...|\n",
      "|[Raghu Ramakrishn...|Semantics and Opt...|1994|IEEE Data Eng. Bull.|  IEEE Data Eng. Bull.|semantics and opt...|\n",
      "|[Marios Hadjielef...|Weighted Set-Base...|2010|IEEE Data Eng. Bull.|  IEEE Data Eng. Bull.|weighted set-base...|\n",
      "|[Graham Cormode, ...|Finding hierarchi...|2008|ACM Trans. Knowl....|  ACM Trans. Knowl....|finding hierarchi...|\n",
      "|[Marios Hadjielef...|Approximate Strin...|2011|Found. Trends Dat...|  Found. Trends Dat...|approximate strin...|\n",
      "|[Divesh Srivastav...|Ensuring High-Qua...|2019|ACM J. Data Inf. ...|  ACM J. Data Inf. ...|ensuring high-qua...|\n",
      "|[Dongwon Lee 0001...|Generating Advanc...|1998|    Comput. Networks|      Comput. Networks|generating advanc...|\n",
      "|[Demetrios Zeinal...|Finding the K hig...|2009|    Comput. Networks|      Comput. Networks|finding the k hig...|\n",
      "|[Wook-Shin Han, D...|Special issue: be...|2012|      World Wide Web|        World Wide Web|special issue: be...|\n",
      "|[Jean-Philippe Ma...|Iterative multi-t...|2003|   IEEE Commun. Mag.|     IEEE Commun. Mag.|iterative multi-t...|\n",
      "+--------------------+--------------------+----+--------------------+----------------------+--------------------+\n",
      "only showing top 20 rows\n",
      "\n"
     ]
    },
    {
     "data": {
      "text/plain": [
       "242"
      ]
     },
     "execution_count": 87,
     "metadata": {},
     "output_type": "execute_result"
    }
   ],
   "source": [
    "# 合并dblp的article和mas的article\n",
    "query2_article = query2_dblp_article.union(query2_mas_article)\n",
    "# 将title中的.去除并且转为小写\n",
    "query2_article = query2_article.withColumn('new_title',lower(F.regexp_replace('title', '\\.', '')))\n",
    "query2_article.show()\n",
    "query2_article.count()"
   ]
  },
  {
   "cell_type": "code",
   "execution_count": 94,
   "metadata": {},
   "outputs": [
    {
     "name": "stdout",
     "output_type": "stream",
     "text": [
      "+--------------------+--------------------+----+-------------------+----------------------+--------------------+\n",
      "|              author|               title|year|  publication_title|publication_full_title|           new_title|\n",
      "+--------------------+--------------------+----+-------------------+----------------------+--------------------+\n",
      "|[Raghu Ramakrishn...|Efficient Increme...|1994|               ILPS|                  ILPS|efficient increme...|\n",
      "|[David B. Kemp, D...|Magic Sets and Bo...|1991|               ISLP|                  ISLP|magic sets and bo...|\n",
      "|[S. Sudarshan 000...|Extending the Wel...|1993|               ILPS|                  ILPS|extending the wel...|\n",
      "|[Nick Koudas, Div...|Data Stream Query...|2003|               WISE|                  WISE|data stream query...|\n",
      "|[H. V. Jagadish, ...|Flexible List Man...|1998|               CIKM|                  CIKM|flexible list man...|\n",
      "|[Guy Jacobson, Ba...|Focusing Search i...|1998|               CIKM|                  CIKM|focusing search i...|\n",
      "|[Graham Cormode, ...|UMicS: from anony...|2013|               CIKM|                  CIKM|umics: from anony...|\n",
      "|[Sihem Amer-Yahia...|Logical and physi...|2002|               CIKM|                  CIKM|logical and physi...|\n",
      "| [Divesh Srivastava]|  Schema extraction.|2010|               CIKM|                  CIKM|   schema extraction|\n",
      "|[Divesh Srivastav...|Exploring and Ana...|2022|               CIKM|                  CIKM|exploring and ana...|\n",
      "|[Xi He 0001, Ashw...|Composing Differe...|2017|                CCS|                   CCS|composing differe...|\n",
      "|[Sihem Amer-Yahia...|A mapping schema ...|2002|               WIDM|                  WIDM|a mapping schema ...|\n",
      "|[Bing Tian Dai, N...|Rapid Identificat...|2006|               ICDM|                  ICDM|rapid identificat...|\n",
      "|[Sihem Amer-Yahia...|08111 Abstracts C...|2008|Ranked XML Querying|   Ranked XML Querying|08111 abstracts c...|\n",
      "|[Sihem Amer-Yahia...|08111 Report - Ra...|2008|Ranked XML Querying|   Ranked XML Querying|08111 report - ra...|\n",
      "|[Tarun Arora, Rag...|Explaining Progra...|1993|                LPE|                   LPE|explaining progra...|\n",
      "|[Philip E. Brown,...|     Don't Cry Wolf.|2019|               DSAA|                  DSAA|      don't cry wolf|\n",
      "|[Graham Cormode, ...|Effective Computa...|2005|               ICDE|                  ICDE|effective computa...|\n",
      "|[Nick Koudas, Avi...|Metric Functional...|2009|               ICDE|                  ICDE|metric functional...|\n",
      "|[Ke Yi 0001, Feif...|Efficient Process...|2008|               ICDE|                  ICDE|efficient process...|\n",
      "+--------------------+--------------------+----+-------------------+----------------------+--------------------+\n",
      "only showing top 20 rows\n",
      "\n"
     ]
    },
    {
     "data": {
      "text/plain": [
       "422"
      ]
     },
     "execution_count": 94,
     "metadata": {},
     "output_type": "execute_result"
    }
   ],
   "source": [
    "# 合并dblp的inproceedings和mas的inproceedings\n",
    "query2_inproceeding = query2_dblp_inproceedings.union(query2_mas_inproceedings)\n",
    "query2_inproceeding = query2_inproceeding.withColumn('new_title',lower(F.regexp_replace('title', '\\.', '')))\n",
    "query2_inproceeding.show()\n",
    "query2_inproceeding.count()"
   ]
  },
  {
   "cell_type": "code",
   "execution_count": 95,
   "metadata": {},
   "outputs": [
    {
     "name": "stdout",
     "output_type": "stream",
     "text": [
      "+--------------------+--------------------+----+--------------------+----------------------+--------------------+\n",
      "|              author|               title|year|   publication_title|publication_full_title|           new_title|\n",
      "+--------------------+--------------------+----+--------------------+----------------------+--------------------+\n",
      "| [Divesh Srivastava]|Review - Query Op...|2000|ACM SIGMOD Digit....|  ACM SIGMOD Digit....|review - query op...|\n",
      "|[Luciano Barbosa,...|Big Data Integrat...|2018|IEEE Data Eng. Bull.|  IEEE Data Eng. Bull.|big data integrat...|\n",
      "|[Divesh Srivastav...|Ensuring High-Qua...|2019|ACM J. Data Inf. ...|  ACM J. Data Inf. ...|ensuring high-qua...|\n",
      "|[Divesh Srivastav...|Implementation of...|1993|       Sigmod Record|                      |implementation of...|\n",
      "|[Marios Hadjielef...|Approximate Strin...|2011|Found. Trends Dat...|  Found. Trends Dat...|approximate strin...|\n",
      "|[Tamraparni Dasu,...|FIT to Monitor Fe...|2015|   Proc. VLDB Endow.|     Proc. VLDB Endow.|fit to monitor fe...|\n",
      "|[Anish Das Sarma,...|Sailing the Infor...|2009|                CoRR|                  CoRR|sailing the infor...|\n",
      "|[Lukasz Golab, Ho...|Discovering Conse...|2014|IEEE Trans. Knowl...|  IEEE Trans. Knowl...|discovering conse...|\n",
      "|[Divesh Srivastav...|Keyword Proximity...|2006|                TKDE|  IEEE Transactions...|keyword proximity...|\n",
      "|[Divesh Srivastav...|Information Theor...|2009|               PVLDB|  Proceedings of Th...|information theor...|\n",
      "|[Divesh Srivastav...|Interaction of Qu...|1998|       Sigmod Record|                      |interaction of qu...|\n",
      "|[Divesh Srivastav...|Querying Network ...|1999|       Sigmod Record|                      |querying network ...|\n",
      "|[Xin Luna Dong, D...|Integrating Confl...|2009|   Proc. VLDB Endow.|     Proc. VLDB Endow.|integrating confl...|\n",
      "|[Donatella Firman...|Online Entity Res...|2016|   Proc. VLDB Endow.|     Proc. VLDB Endow.|online entity res...|\n",
      "|[Divesh Srivastav...|Pushing Constrain...|1993|    J. Log. Program.|      J. Log. Program.|pushing constrain...|\n",
      "|[Dongwon Lee 0001...|Generating Advanc...|1998|    Comput. Networks|      Comput. Networks|generating advanc...|\n",
      "|[Lukasz Golab, Fl...|Efficient and Eff...|2011|IEEE Data Eng. Bull.|  IEEE Data Eng. Bull.|efficient and eff...|\n",
      "|[Divesh Srivastav...|Anonymizing bipar...|2008|                VLDB|      The Vldb Journal|anonymizing bipar...|\n",
      "|[Victor A. E. de ...|Local Dampening: ...|2020|                CoRR|                  CoRR|local dampening: ...|\n",
      "|[Divesh Srivastav...|Data Model and Qu...|1995|                JIIS|  Journal of Intell...|data model and qu...|\n",
      "+--------------------+--------------------+----+--------------------+----------------------+--------------------+\n",
      "only showing top 20 rows\n",
      "\n"
     ]
    },
    {
     "data": {
      "text/plain": [
       "229"
      ]
     },
     "execution_count": 95,
     "metadata": {},
     "output_type": "execute_result"
    }
   ],
   "source": [
    "# 对合并后的article根据new_title和publication_title去重\n",
    "query2_article_dropdup = query2_article.dropDuplicates(['new_title','publication_title'])\\\n",
    "                                    .dropDuplicates(['new_title','publication_full_title'])\n",
    "query2_article_dropdup.show()\n",
    "query2_article_dropdup.count()"
   ]
  },
  {
   "cell_type": "code",
   "execution_count": 130,
   "metadata": {},
   "outputs": [
    {
     "data": {
      "text/plain": [
       "['integrating xml data sources using approximate joins',\n",
       " 'sailing the information ocean with awareness of currents: discovery and application of source dependence',\n",
       " 'truth finding on the deep web: is the problem solved?',\n",
       " 'pushing constraint selections',\n",
       " 'estimating the selectivity of approximate string queries',\n",
       " 'subsumption and indexing in constraint query languages with linear arithmetic constraints',\n",
       " 'global detection of complex copying relationships between sources',\n",
       " 'sequential dependencies',\n",
       " 'finding hierarchical heavy hitters in streaming data',\n",
       " 'hashed samples: selectivity estimators for set similarity selection queries',\n",
       " 'review - estimating alphanumeric selectivity in the presence of wildcards',\n",
       " 'distributed evaluation of network directory queries',\n",
       " 'space optimization in deductive databases',\n",
       " 'review - query optimization by predicate move-around',\n",
       " 'dense subgraph maintenance under streaming edge weight updates for real-time story identification',\n",
       " 'distribution-based microdata anonymization',\n",
       " 'record linkage with uniqueness constraints and erroneous values',\n",
       " 'using q-grams in a dbms for approximate string processing',\n",
       " 'linking temporal records',\n",
       " 'special issue: best papers of vldb 2007',\n",
       " 'enabling real time data analysis',\n",
       " 'effective and complete discovery of order dependencies via set-based axiomatization',\n",
       " 'tree pattern query minimization',\n",
       " 'review - querying multiple features of groups in relational databases',\n",
       " 'efficient approximation of correlated sums on data streams',\n",
       " 'real-world trajectory sharing with local differential privacy',\n",
       " 'local dampening: differential privacy for non-numeric queries via local sensitivity',\n",
       " 'keyword proximity search in xml trees',\n",
       " 'db&ir integration: report on the dagstuhl seminar',\n",
       " 'minimizing minimality and maximizing utility: analyzing method-based attacks on anonymized data',\n",
       " 'two-dimensional substring indexing',\n",
       " 'semantics and optimization of constraint queries in databases',\n",
       " 'differentially private spatial decompositions',\n",
       " 'bottom-up evaluation and query optimization of well-founded models',\n",
       " 'generating advanced query interfaces',\n",
       " 'integrating conflicting data: the role of source dependence',\n",
       " 'efficient processing of top-k queries in uncertain databases with x-relations',\n",
       " 'class-based graph anonymization for social network data',\n",
       " 'finding the k highest-ranked answers in a distributed network',\n",
       " 'foundations of aggregation constraints',\n",
       " 'streaming multiple aggregations using phantoms',\n",
       " 'a compressed accessibility map for xml',\n",
       " 'approximate string processing',\n",
       " 'on generating near-optimal tableaux for conditional functional dependencies',\n",
       " 'differentially private publication of sparse data',\n",
       " 'efficient and effective er with progressive blocking',\n",
       " 'small synopses for group-by query verification on outsourced data streams',\n",
       " 'solomon: seeking the truth via copying detection',\n",
       " 'efficient olap query processing in distributed data warehouses',\n",
       " 'data model and query evaluation in global information systems',\n",
       " 'timber: a native xml database',\n",
       " 'information theory for data management',\n",
       " 'answering range queries under local differential privacy',\n",
       " 'review - eroc: a toolkit for building neato query optimizers',\n",
       " 'one-dimensional and multi-dimensional substring selectivity estimation',\n",
       " 'rule ordering in bottom-up fixpoint evaluation of logic programs',\n",
       " 'summarizing relational databases',\n",
       " 'index structures for matching xml twigs using relational query processors',\n",
       " 'optimization techniques for reactive network monitoring',\n",
       " 'data auditor: exploring data quality and semantics using pattern tableaux',\n",
       " 'processing top-k join queries',\n",
       " 'anonymizing bipartite graph data using safe groupings',\n",
       " 'the coral deductive system',\n",
       " 'xtreenet: democratic community search',\n",
       " 'weighted set-based string similarity',\n",
       " 'truth discovery and copying detection in a dynamic world']"
      ]
     },
     "execution_count": 130,
     "metadata": {},
     "output_type": "execute_result"
    }
   ],
   "source": [
    "# 对article中的CoRR去重\n",
    "query2_article_mult_title=query2_article_dropdup.groupBy('new_title')\\\n",
    "                            .agg(F.count('new_title').alias('count'))\\\n",
    "                            .filter(col('count')>=2)\\\n",
    "                            .select('new_title')\\\n",
    "                            .rdd.map(lambda x: x[0])\\\n",
    "                            .collect()\n",
    "# query2_article_mult_title.show()\n",
    "# query2_article_mult_title.count()\n",
    "query2_article_mult_title"
   ]
  },
  {
   "cell_type": "code",
   "execution_count": 131,
   "metadata": {},
   "outputs": [
    {
     "name": "stdout",
     "output_type": "stream",
     "text": [
      "+--------------------+--------------------+----+-----------------+----------------------+--------------------+\n",
      "|              author|               title|year|publication_title|publication_full_title|           new_title|\n",
      "+--------------------+--------------------+----+-----------------+----------------------+--------------------+\n",
      "|[Anish Das Sarma,...|Sailing the Infor...|2009|             CoRR|                  CoRR|sailing the infor...|\n",
      "|[Victor A. E. de ...|Local Dampening: ...|2020|             CoRR|                  CoRR|local dampening: ...|\n",
      "|[Albert Angel, Ni...|Dense Subgraph Ma...|2012|             CoRR|                  CoRR|dense subgraph ma...|\n",
      "|[Tejas Kulkarni, ...|Answering Range Q...|2018|             CoRR|                  CoRR|answering range q...|\n",
      "|[Jaroslaw Szlicht...|Effective and Com...|2016|             CoRR|                  CoRR|effective and com...|\n",
      "|[Divesh Srivastav...|Sailing the Infor...|2009|             CORR|  Computing Researc...|sailing the infor...|\n",
      "|[Graham Cormode, ...|Differentially Pr...|2011|             CoRR|                  CoRR|differentially pr...|\n",
      "|[Sainyam Galhotra...|Efficient and Eff...|2020|             CoRR|                  CoRR|efficient and eff...|\n",
      "|[Xian Li, Xin Lun...|Truth Finding on ...|2015|             CoRR|                  CoRR|truth finding on ...|\n",
      "|[Divesh Srivastav...|Differentially Pr...|2011|             CORR|  Computing Researc...|differentially pr...|\n",
      "|[Graham Cormode, ...|Differentially Pr...|2011|             CoRR|                  CoRR|differentially pr...|\n",
      "|[Teddy Cunningham...|Real-World Trajec...|2021|             CoRR|                  CoRR|real-world trajec...|\n",
      "|[Divesh Srivastav...|Differentially Pr...|2011|             CORR|  Computing Researc...|differentially pr...|\n",
      "+--------------------+--------------------+----+-----------------+----------------------+--------------------+\n",
      "\n"
     ]
    },
    {
     "data": {
      "text/plain": [
       "13"
      ]
     },
     "execution_count": 131,
     "metadata": {},
     "output_type": "execute_result"
    }
   ],
   "source": [
    "query2_article_dropcorr = query2_article_dropdup.filter(col('new_title').isin(query2_article_mult_title))\\\n",
    "                        .filter(lower(col('publication_title'))=='corr')\n",
    "query2_article_dropcorr.show()\n",
    "query2_article_dropcorr.count()"
   ]
  },
  {
   "cell_type": "code",
   "execution_count": 132,
   "metadata": {},
   "outputs": [
    {
     "name": "stdout",
     "output_type": "stream",
     "text": [
      "+--------------------+--------------------+----+--------------------+----------------------+--------------------+\n",
      "|              author|               title|year|   publication_title|publication_full_title|           new_title|\n",
      "+--------------------+--------------------+----+--------------------+----------------------+--------------------+\n",
      "|[Minos N. Garofal...|Special issue: be...|2009|             VLDB J.|               VLDB J.|special issue: be...|\n",
      "|[Shanshan Ying, F...|TreeScope: Findin...|2015|   Proc. VLDB Endow.|     Proc. VLDB Endow.|treescope: findin...|\n",
      "|[Donatella Firman...|Online Entity Res...|2016|   Proc. VLDB Endow.|     Proc. VLDB Endow.|online entity res...|\n",
      "|[Andrew Nierman, ...|TIMBER: A native ...|2002|                VLDB|      The Vldb Journal|timber: a native ...|\n",
      "|[Xi He 0001, Ashw...|Scaling Private R...|2017|                CoRR|                  CoRR|scaling private r...|\n",
      "|[Katsiaryna Miryl...|Conditional heavy...|2015|             VLDB J.|               VLDB J.|conditional heavy...|\n",
      "| [Divesh Srivastava]|Subsumption and I...|1993|                AMAI|  Annals of Mathema...|subsumption and i...|\n",
      "|[Sihem Amer-Yahia...|Distributed Evalu...|2004|IEEE Trans. Knowl...|  IEEE Trans. Knowl...|distributed evalu...|\n",
      "|[Xi He 0001, Grah...|DPT: Differential...|2015|   Proc. VLDB Endow.|     Proc. VLDB Endow.|dpt: differential...|\n",
      "| [Divesh Srivastava]|Subsumption and I...|1993|Ann. Math. Artif....|  Ann. Math. Artif....|subsumption and i...|\n",
      "|[Lukasz Golab, Ho...|Data Auditor: Exp...|2010|   Proc. VLDB Endow.|     Proc. VLDB Endow.|data auditor: exp...|\n",
      "|[Divesh Srivastav...|Querying Network ...|1999|       Sigmod Record|                      |querying network ...|\n",
      "|[Trong Duc Nguyen...|Random Sampling f...|2019|                CoRR|                  CoRR|random sampling f...|\n",
      "|[Xin Luna Dong, D...|Truth Discovery a...|2009|   Proc. VLDB Endow.|     Proc. VLDB Endow.|truth discovery a...|\n",
      "|[Abolfazl Asudeh,...|Scalable algorith...|2020|             VLDB J.|               VLDB J.|scalable algorith...|\n",
      "|[Trong Duc Nguyen...|Stratified random...|2021|Distributed Paral...|  Distributed Paral...|stratified random...|\n",
      "|[Divesh Srivastav...|Optimization Tech...|2009|                TKDE|  IEEE Transactions...|optimization tech...|\n",
      "|[Michael O. Akind...|Efficient OLAP qu...|2003|          Inf. Syst.|            Inf. Syst.|efficient olap qu...|\n",
      "|[Raghu Ramakrishn...|Rule Ordering in ...|1994|IEEE Trans. Knowl...|  IEEE Trans. Knowl...|rule ordering in ...|\n",
      "|[Ahmet Bulut, Nic...|Optimization Tech...|2009|IEEE Trans. Knowl...|  IEEE Trans. Knowl...|optimization tech...|\n",
      "+--------------------+--------------------+----+--------------------+----------------------+--------------------+\n",
      "only showing top 20 rows\n",
      "\n"
     ]
    },
    {
     "data": {
      "text/plain": [
       "216"
      ]
     },
     "execution_count": 132,
     "metadata": {},
     "output_type": "execute_result"
    }
   ],
   "source": [
    "#从query2_article_dropdup中去除query2_article_dropcorr\n",
    "query2_article_dropdup = query2_article_dropdup.subtract(query2_article_dropcorr)\n",
    "query2_article_dropdup.show()\n",
    "query2_article_dropdup.count()"
   ]
  },
  {
   "cell_type": "code",
   "execution_count": 96,
   "metadata": {},
   "outputs": [
    {
     "name": "stdout",
     "output_type": "stream",
     "text": [
      "+--------------------+--------------------+----+-----------------+----------------------+--------------------+\n",
      "|              author|               title|year|publication_title|publication_full_title|           new_title|\n",
      "+--------------------+--------------------+----+-----------------+----------------------+--------------------+\n",
      "|[Nick Koudas, Avi...|Metric Functional...|2009|             ICDE|                  ICDE|metric functional...|\n",
      "|[Leon Bornemann, ...|Structured Object...|2021|             ICDE|                  ICDE|structured object...|\n",
      "|[H. V. Jagadish, ...|What can Hierarch...|1999|             VLDB|                  VLDB|what can hierarch...|\n",
      "|[Meihui Zhang 000...|Automatic discove...|2011|SIGMOD Conference|     SIGMOD Conference|automatic discove...|\n",
      "|[Divesh Srivastav...|On E ective Multi...|2001|           SIGMOD|  International Con...|on e ective multi...|\n",
      "|[Kyuseok Shim, Sa...|Data Management C...|2012|       DASFAA (2)|            DASFAA (2)|data management c...|\n",
      "|[Sudipto Guha, Ni...|Fast Algorithms F...|2002|             PODS|                  PODS|fast algorithms f...|\n",
      "|[Kenneth A. Ross,...|Materialized View...|1996|SIGMOD Conference|     SIGMOD Conference|materialized view...|\n",
      "|[Ravali Pochampal...|Fusing data with ...|2014|SIGMOD Conference|     SIGMOD Conference|fusing data with ...|\n",
      "|[Leon Bornemann, ...|Natural Key Disco...|2020|              WWW|                   WWW|natural key disco...|\n",
      "|[Nicolas Bruno, D...|Navigation vs. In...|2003|             ICDE|  International Con...|navigation vs ind...|\n",
      "|[Jaroslaw Szlicht...|On Axiomatization...|2015|              AMW|                   AMW|on axiomatization...|\n",
      "|[Divesh Srivastav...|Colorful XML: one...|2004|           SIGMOD|  International Con...|colorful xml: one...|\n",
      "|[Divesh Srivastav...|Constraint Databa...|1997|              CDB|  Constraint Databa...|constraint databa...|\n",
      "|[Pei Li, Jaroslaw...|Discovering Band ...|2020|             ICDE|                  ICDE|discovering band ...|\n",
      "|[Graham Cormode, ...|Empirical privacy...|2013|   ICDE Workshops|        ICDE Workshops|empirical privacy...|\n",
      "|[Leon Bornemann, ...|   Exploring Change.|2019|             SEBD|                  SEBD|    exploring change|\n",
      "|[Divesh Srivastav...|LockX: a system f...|2003|           SIGMOD|  International Con...|lockx: a system f...|\n",
      "|[Divesh Srivastav...|Using Queries to ...|2007|             ICDE|                  ICDE|using queries to ...|\n",
      "|[Divesh Srivastav...|Hierarchical or r...|1999|             KDEX|  Knowledge and Dat...|hierarchical or r...|\n",
      "+--------------------+--------------------+----+-----------------+----------------------+--------------------+\n",
      "only showing top 20 rows\n",
      "\n"
     ]
    },
    {
     "data": {
      "text/plain": [
       "323"
      ]
     },
     "execution_count": 96,
     "metadata": {},
     "output_type": "execute_result"
    }
   ],
   "source": [
    "# 对合并后的inproceeding根据new_title和publication_title去重\n",
    "query2_inproceeding_dropdup = query2_inproceeding.dropDuplicates(['new_title','publication_title'])\\\n",
    "                                    .dropDuplicates(['new_title','publication_full_title'])\n",
    "query2_inproceeding_dropdup.show()\n",
    "query2_inproceeding_dropdup.count()"
   ]
  },
  {
   "cell_type": "code",
   "execution_count": 133,
   "metadata": {},
   "outputs": [
    {
     "data": {
      "text/plain": [
       "['idea: interactive data exploration and analysis',\n",
       " 'streams, security and scalability',\n",
       " 'record linkage: similarity measures and algorithms',\n",
       " 'the bellman data quality browser',\n",
       " 'meta-data indexing for xpath location steps',\n",
       " 'cost-based optimization for magic: algebra and implementation',\n",
       " 'approximate xml joins',\n",
       " 'big data integration',\n",
       " 'snakes and sandwiches: optimal clustering strategies for a data warehouse',\n",
       " 'data stream query processing',\n",
       " 'using spider: an experience report',\n",
       " 'materialized view maintenance and integrity constraint checking: trading space for time',\n",
       " 'coral - a database programming language',\n",
       " 'estimating the confidence of conditional functional dependencies',\n",
       " 'efficient incremental evaluation of queries with aggregation',\n",
       " 'timber: a native system for querying xml',\n",
       " 'query restricted bottom-up evaluation of normal logic programs',\n",
       " 'anonymized data: generation, models, usage',\n",
       " 'the threshold join algorithm for top-k queries in distributed sensor networks',\n",
       " 'i4e: interactive investigation of iterative information extraction',\n",
       " 'a visual language for interactive data exploration and analysis',\n",
       " 'explaining program execution in deductive systems',\n",
       " 'intensional associations between data and metadata',\n",
       " \"colorful xml: one hierarchy isn't enough\",\n",
       " 'circumventing data quality problems using multiple join paths',\n",
       " 'benchmarking declarative approximate selection predicates',\n",
       " 'lockx: a system for efficiently querying secure xml',\n",
       " 'diamond in the rough: finding hierarchical heavy hitters in multi-dimensional data',\n",
       " 'load-balanced query dissemination in privacy-aware online communities',\n",
       " 'data auditor: analyzing data quality using pattern tableaux',\n",
       " 'incremental maintenance of length normalized indexes for approximate string matching',\n",
       " 'column heterogeneity as a measure of data quality',\n",
       " 'the coral deductive database system',\n",
       " 'multiple aggregations over data streams',\n",
       " 'magic sets and bottom-up evaluation of well-founded models',\n",
       " 'foundations of aggregation constraints',\n",
       " 'bed-tree: an all-purpose index structure for string similarity search based on edit distance',\n",
       " 'spider: flexible matching in databases',\n",
       " 'efficient olap query processing in distributed data warehouses',\n",
       " \"what's on the grapevine?\",\n",
       " 'extending the well-founded and valid semantics for aggregation',\n",
       " 'holistic udafs at streaming speeds',\n",
       " 'holistic twig joins: optimal xml pattern matching',\n",
       " 'optimizing away joins on data streams',\n",
       " 'controlling the search in bottom-up evaluation',\n",
       " 'panel: querying networked databases',\n",
       " 'index structures for matching xml twigs using relational query processors',\n",
       " 'constraint objects',\n",
       " 'answering order-based queries over xml data',\n",
       " 'grouping in xml',\n",
       " 'pix: exact and approximate phrase matching in xml']"
      ]
     },
     "execution_count": 133,
     "metadata": {},
     "output_type": "execute_result"
    }
   ],
   "source": [
    "# 对inproceeding中的CoRR去重\n",
    "query2_inproceeding_mult_title=query2_inproceeding_dropdup.groupBy('new_title')\\\n",
    "                            .agg(F.count('new_title').alias('count'))\\\n",
    "                            .filter(col('count')>=2)\\\n",
    "                            .select('new_title')\\\n",
    "                            .rdd.map(lambda x: x[0])\\\n",
    "                            .collect()\n",
    "# query2_article_mult_title.show()\n",
    "# query2_article_mult_title.count()\n",
    "query2_inproceeding_mult_title"
   ]
  },
  {
   "cell_type": "code",
   "execution_count": 134,
   "metadata": {},
   "outputs": [
    {
     "name": "stdout",
     "output_type": "stream",
     "text": [
      "+------+-----+----+-----------------+----------------------+---------+\n",
      "|author|title|year|publication_title|publication_full_title|new_title|\n",
      "+------+-----+----+-----------------+----------------------+---------+\n",
      "+------+-----+----+-----------------+----------------------+---------+\n",
      "\n"
     ]
    },
    {
     "data": {
      "text/plain": [
       "0"
      ]
     },
     "execution_count": 134,
     "metadata": {},
     "output_type": "execute_result"
    }
   ],
   "source": [
    "query2_inproceeding_dropcorr = query2_inproceeding_dropdup.filter(col('new_title').isin(query2_inproceeding_mult_title))\\\n",
    "                        .filter(lower(col('publication_title'))=='corr')\n",
    "query2_inproceeding_dropcorr.show()\n",
    "query2_inproceeding_dropcorr.count()"
   ]
  },
  {
   "cell_type": "code",
   "execution_count": 135,
   "metadata": {},
   "outputs": [
    {
     "name": "stdout",
     "output_type": "stream",
     "text": [
      "+--------------------+--------------------+----+-------------------+----------------------+--------------------+\n",
      "|              author|               title|year|  publication_title|publication_full_title|           new_title|\n",
      "+--------------------+--------------------+----+-------------------+----------------------+--------------------+\n",
      "|[Simon Razniewski...|Identifying the E...|2015|  SIGMOD Conference|     SIGMOD Conference|identifying the e...|\n",
      "|[Divesh Srivastav...|Space and time-ef...|2006|               PODS|  Symposium on Prin...|space and time-ef...|\n",
      "|[Sihem Amer-Yahia...|Publication Cultu...|2022|  SIGMOD Conference|     SIGMOD Conference|publication cultu...|\n",
      "| [Divesh Srivastava]|The Bellman Data ...|2006|            CLEANDB|       Clean Databases|the bellman data ...|\n",
      "|[Smriti Bhagat, G...|Prediction Promot...|2010|               WOSN|                  WOSN|prediction promot...|\n",
      "|[Reza Karegar, Me...|Discovering Domai...|2022|               ICDE|                  ICDE|discovering domai...|\n",
      "|[Himanshu Gupta 0...|The Data Warehous...|1999|               ICDT|                  ICDT|the data warehous...|\n",
      "|[Luis Gravano, Pa...|Approximate Strin...|2001|               VLDB|                  VLDB|approximate strin...|\n",
      "|[Sihem Amer-Yahia...|08111 Abstracts C...|2008|Ranked XML Querying|   Ranked XML Querying|08111 abstracts c...|\n",
      "|[Leon Bornemann, ...|Natural Key Disco...|2020|                WWW|                   WWW|natural key disco...|\n",
      "|[Michael J. Maher...|Chasing Constrain...|1996|               PODS|                  PODS|chasing constrain...|\n",
      "| [Divesh Srivastava]|Data Auditor: Ana...|2009|           ER(OOER)|  Object-Oriented a...|data auditor: ana...|\n",
      "|[Nick Koudas, Avi...|Metric Functional...|2009|               ICDE|                  ICDE|metric functional...|\n",
      "| [Divesh Srivastava]|Data Auditor: Ana...|2009|                 ER|                    ER|data auditor: ana...|\n",
      "|[Nikos Sarkas, Al...|Efficient identif...|2010|               ICDE|                  ICDE|efficient identif...|\n",
      "|[Shurug Al-Khalif...|Structural Joins:...|2002|               ICDE|                  ICDE|structural joins:...|\n",
      "|[Sudipto Guha, Di...|Efficient Approxi...|2003|               VLDB|                  VLDB|efficient approxi...|\n",
      "|[Tamraparni Dasu,...|Empirical glitch ...|2014|                KDD|                   KDD|empirical glitch ...|\n",
      "|[Smriti Bhagat, G...|Privacy in dynami...|2010|                WWW|                   WWW|privacy in dynami...|\n",
      "|[Divesh Srivastav...|Proceedings of th...|2007|               VLDB|  Very Large Data B...|proceedings of th...|\n",
      "+--------------------+--------------------+----+-------------------+----------------------+--------------------+\n",
      "only showing top 20 rows\n",
      "\n"
     ]
    },
    {
     "data": {
      "text/plain": [
       "323"
      ]
     },
     "execution_count": 135,
     "metadata": {},
     "output_type": "execute_result"
    }
   ],
   "source": [
    "#从query2_inproceeding_dropdup中去除query2_inproceeding_dropcorr\n",
    "query2_inproceeding_dropdup = query2_inproceeding_dropdup.subtract(query2_inproceeding_dropcorr)\n",
    "query2_inproceeding_dropdup.show()\n",
    "query2_inproceeding_dropdup.count()"
   ]
  },
  {
   "cell_type": "code",
   "execution_count": null,
   "metadata": {},
   "outputs": [],
   "source": []
  },
  {
   "cell_type": "code",
   "execution_count": 136,
   "metadata": {},
   "outputs": [
    {
     "name": "stdout",
     "output_type": "stream",
     "text": [
      "+--------------------+--------------------+----+--------------------+----------------------+--------------------+\n",
      "|              author|               title|year|   publication_title|publication_full_title|           new_title|\n",
      "+--------------------+--------------------+----+--------------------+----------------------+--------------------+\n",
      "|[Minos N. Garofal...|Special issue: be...|2009|             VLDB J.|               VLDB J.|special issue: be...|\n",
      "|[Shanshan Ying, F...|TreeScope: Findin...|2015|   Proc. VLDB Endow.|     Proc. VLDB Endow.|treescope: findin...|\n",
      "|[Donatella Firman...|Online Entity Res...|2016|   Proc. VLDB Endow.|     Proc. VLDB Endow.|online entity res...|\n",
      "|[Andrew Nierman, ...|TIMBER: A native ...|2002|                VLDB|      The Vldb Journal|timber: a native ...|\n",
      "|[Xi He 0001, Ashw...|Scaling Private R...|2017|                CoRR|                  CoRR|scaling private r...|\n",
      "|[Katsiaryna Miryl...|Conditional heavy...|2015|             VLDB J.|               VLDB J.|conditional heavy...|\n",
      "| [Divesh Srivastava]|Subsumption and I...|1993|                AMAI|  Annals of Mathema...|subsumption and i...|\n",
      "|[Sihem Amer-Yahia...|Distributed Evalu...|2004|IEEE Trans. Knowl...|  IEEE Trans. Knowl...|distributed evalu...|\n",
      "|[Xi He 0001, Grah...|DPT: Differential...|2015|   Proc. VLDB Endow.|     Proc. VLDB Endow.|dpt: differential...|\n",
      "| [Divesh Srivastava]|Subsumption and I...|1993|Ann. Math. Artif....|  Ann. Math. Artif....|subsumption and i...|\n",
      "|[Lukasz Golab, Ho...|Data Auditor: Exp...|2010|   Proc. VLDB Endow.|     Proc. VLDB Endow.|data auditor: exp...|\n",
      "|[Divesh Srivastav...|Querying Network ...|1999|       Sigmod Record|                      |querying network ...|\n",
      "|[Trong Duc Nguyen...|Random Sampling f...|2019|                CoRR|                  CoRR|random sampling f...|\n",
      "|[Xin Luna Dong, D...|Truth Discovery a...|2009|   Proc. VLDB Endow.|     Proc. VLDB Endow.|truth discovery a...|\n",
      "|[Abolfazl Asudeh,...|Scalable algorith...|2020|             VLDB J.|               VLDB J.|scalable algorith...|\n",
      "|[Trong Duc Nguyen...|Stratified random...|2021|Distributed Paral...|  Distributed Paral...|stratified random...|\n",
      "|[Divesh Srivastav...|Optimization Tech...|2009|                TKDE|  IEEE Transactions...|optimization tech...|\n",
      "|[Michael O. Akind...|Efficient OLAP qu...|2003|          Inf. Syst.|            Inf. Syst.|efficient olap qu...|\n",
      "|[Raghu Ramakrishn...|Rule Ordering in ...|1994|IEEE Trans. Knowl...|  IEEE Trans. Knowl...|rule ordering in ...|\n",
      "|[Ahmet Bulut, Nic...|Optimization Tech...|2009|IEEE Trans. Knowl...|  IEEE Trans. Knowl...|optimization tech...|\n",
      "+--------------------+--------------------+----+--------------------+----------------------+--------------------+\n",
      "only showing top 20 rows\n",
      "\n"
     ]
    },
    {
     "data": {
      "text/plain": [
       "539"
      ]
     },
     "execution_count": 136,
     "metadata": {},
     "output_type": "execute_result"
    }
   ],
   "source": [
    "#合并query2_article_dropdup和query2_inproceeding_dropdup\n",
    "query2_df = query2_article_dropdup.union(query2_inproceeding_dropdup)\n",
    "query2_df.show()\n",
    "query2_df.count()"
   ]
  },
  {
   "cell_type": "code",
   "execution_count": null,
   "metadata": {},
   "outputs": [],
   "source": []
  },
  {
   "cell_type": "markdown",
   "metadata": {},
   "source": [
    "### Query2"
   ]
  },
  {
   "cell_type": "code",
   "execution_count": 138,
   "metadata": {},
   "outputs": [
    {
     "data": {
      "text/plain": [
       "Row(author='Nick Koudas', count=106)"
      ]
     },
     "execution_count": 138,
     "metadata": {},
     "output_type": "execute_result"
    }
   ],
   "source": [
    "query2_df.select(explode(query2_df.author))\\\n",
    "        .withColumnRenamed('col','author')\\\n",
    "        .filter(col(\"author\")!='Divesh Srivastava')\\\n",
    "        .groupBy(\"author\")\\\n",
    "        .count()\\\n",
    "        .sort(\"count\",ascending=False)\\\n",
    "        .first()\n",
    "            "
   ]
  },
  {
   "cell_type": "markdown",
   "metadata": {},
   "source": [
    "### Query 3"
   ]
  },
  {
   "cell_type": "code",
   "execution_count": 140,
   "metadata": {},
   "outputs": [
    {
     "name": "stdout",
     "output_type": "stream",
     "text": [
      "+----+-----+\n",
      "|year|count|\n",
      "+----+-----+\n",
      "|2007|   18|\n",
      "|2014|    9|\n",
      "|2021|   17|\n",
      "|2012|   17|\n",
      "|1991|    4|\n",
      "|2022|   17|\n",
      "|2016|    7|\n",
      "|null|    1|\n",
      "|1994|   13|\n",
      "|2018|   18|\n",
      "|1999|   13|\n",
      "|1997|    2|\n",
      "|2009|   41|\n",
      "|2010|   35|\n",
      "|2006|   23|\n",
      "|2017|   16|\n",
      "|1998|    9|\n",
      "|2013|   13|\n",
      "|2004|   15|\n",
      "|2003|   34|\n",
      "|2002|   23|\n",
      "|2011|   13|\n",
      "|2020|   13|\n",
      "|1995|    8|\n",
      "|2005|   22|\n",
      "|2019|   17|\n",
      "|1996|   15|\n",
      "|1992|    8|\n",
      "|2008|   27|\n",
      "|1993|   14|\n",
      "|2000|   19|\n",
      "|2001|   12|\n",
      "|1990|    4|\n",
      "|2015|   22|\n",
      "+----+-----+\n",
      "\n"
     ]
    }
   ],
   "source": [
    "query2_df.groupBy(\"year\")\\\n",
    "        .count()\\\n",
    "        .show(100)"
   ]
  },
  {
   "cell_type": "markdown",
   "metadata": {},
   "source": [
    "### query4"
   ]
  },
  {
   "cell_type": "code",
   "execution_count": 10,
   "metadata": {},
   "outputs": [
    {
     "name": "stderr",
     "output_type": "stream",
     "text": [
      "\r",
      "[Stage 3:>                                                          (0 + 1) / 1]\r",
      "\r",
      "                                                                                \r"
     ]
    },
    {
     "name": "stdout",
     "output_type": "stream",
     "text": [
      "+--------------------+--------------------+----+-----------------+--------------------+\n",
      "|              author|               title|year|publication_title|           new_title|\n",
      "+--------------------+--------------------+----+-----------------+--------------------+\n",
      "|[Lishan Lan, Qin ...|The Rule of Virtu...|2021| Sci. Eng. Ethics|the rule of virtu...|\n",
      "|[Diana Adela Mart...|A Multi-level Rev...|2021| Sci. Eng. Ethics|a multi-level rev...|\n",
      "|[Miri Barak, Gize...|Applying a Social...|2021| Sci. Eng. Ethics|applying a social...|\n",
      "|[Filippo Santoni ...|Correction to: Ma...|2021| Sci. Eng. Ethics|correction to: ma...|\n",
      "| [Matthew J. Dennis]|Towards a Theory ...|2021| Sci. Eng. Ethics|towards a theory ...|\n",
      "|[Jurate Lekstutie...|Biobanks and Indi...|2021| Sci. Eng. Ethics|biobanks and indi...|\n",
      "|    [Charlotte Stix]|Actionable Princi...|2021| Sci. Eng. Ethics|actionable princi...|\n",
      "|   [Matteo Pascucci]|Correctness and C...|2021| Sci. Eng. Ethics|correctness and c...|\n",
      "|                null|Can Blockchain So...|2021| Sci. Eng. Ethics|can blockchain so...|\n",
      "|[Ning Wang, Marku...|Ethical Considera...|2021| Sci. Eng. Ethics|ethical considera...|\n",
      "|[Jurate Lekstutie...|Correction to: Bi...|2021| Sci. Eng. Ethics|correction to: bi...|\n",
      "|                null|Book Review: Debo...|2021| Sci. Eng. Ethics|book review: debo...|\n",
      "|[Elaine E. Engleh...|Leadership, Engin...|2021| Sci. Eng. Ethics|leadership, engin...|\n",
      "|       [Kamil Mamak]|Rights for Robots...|2021| Sci. Eng. Ethics|rights for robots...|\n",
      "|  [Barry D. Solomon]|Solving a Wicked ...|2021| Sci. Eng. Ethics|solving a wicked ...|\n",
      "|[Lucie White, Phi...|Privacy versus Pu...|2021| Sci. Eng. Ethics|privacy versus pu...|\n",
      "|[Hossein Esmaeili...|The Autonomy of S...|2021| Sci. Eng. Ethics|the autonomy of s...|\n",
      "|[Eric Racine, Seb...|Cognitive Enhance...|2021| Sci. Eng. Ethics|cognitive enhance...|\n",
      "|[Alex McKeown, Mi...|Ethical Issues in...|2021| Sci. Eng. Ethics|ethical issues in...|\n",
      "|[Nina Klimburg-Wi...|Contextualizing S...|2021| Sci. Eng. Ethics|contextualizing s...|\n",
      "+--------------------+--------------------+----+-----------------+--------------------+\n",
      "only showing top 20 rows\n",
      "\n"
     ]
    },
    {
     "name": "stderr",
     "output_type": "stream",
     "text": [
      "                                                                                \r"
     ]
    },
    {
     "data": {
      "text/plain": [
       "261855"
      ]
     },
     "execution_count": 10,
     "metadata": {},
     "output_type": "execute_result"
    }
   ],
   "source": [
    "query4_article = df1.withColumn('new_title',lower(F.regexp_replace('title', '\\.', '')))\\\n",
    "                    .filter(df1.year==2021)\n",
    "query4_article.show()\n",
    "query4_article.count()"
   ]
  },
  {
   "cell_type": "code",
   "execution_count": 11,
   "metadata": {},
   "outputs": [
    {
     "name": "stderr",
     "output_type": "stream",
     "text": [
      "                                                                                \r"
     ]
    },
    {
     "data": {
      "text/plain": [
       "['HAP-Reserved Communications in Space-Air-Ground Integrated Networks.',\n",
       " 'Chasm in Hegemony: Explaining and Reproducing Disparities in Homophilous Networks.',\n",
       " 'Secure Estimation and Attack Isolation for Connected and Automated Driving in the Presence of Malicious Vehicles.',\n",
       " 'Vision-Aided 6G Wireless Communications: Blockage Prediction and Proactive Handoff.',\n",
       " 'Independent Reinforcement Learning for Weakly Cooperative Multiagent Traffic Control Problem.',\n",
       " 'Aerial Vehicles Tracking Using Noncoherent Crowdsourced Wireless Networks.',\n",
       " 'Data Science Methodologies: Current Challenges and Future Approaches.',\n",
       " 'Conference reports.',\n",
       " 'Reasoning about the garden of forking paths.',\n",
       " 'Damage detection using in-domain and cross-domain transfer learning.',\n",
       " 'A multi-level routing method in vehicular ad hoc networks using unnamed aerial vehicle nodes.',\n",
       " 'Block Access Control in Wireless Blockchain Network: Design, Modeling and Analysis.',\n",
       " 'Erratum.',\n",
       " '<i>L</i>',\n",
       " 'MetaGrad: Adaptation using Multiple Learning Rates in Online Learning.',\n",
       " 'Learning Inductive Attention Guidance for Partially Supervised Pancreatic Ductal Adenocarcinoma Prediction.',\n",
       " 'Fully Homomorphically Encrypted Deep Learning as a Service.',\n",
       " 'Telelife: The Future of Remote Living.',\n",
       " 'Mining Topological Dependencies of Recurrent Congestion in Road Networks.',\n",
       " 'Uncertainty-Aware Annotation Protocol to Evaluate Deformable Registration Algorithms.',\n",
       " 'Privacy and Trust Redefined in Federated Machine Learning.',\n",
       " 'eXtended Artificial Intelligence: New Prospects of Human-AI Interaction Research.',\n",
       " 'Prudent Practices in Security Standardization.',\n",
       " 'Tracking and managing deemed abilities.',\n",
       " 'Asymptotic Frame Theory for Analog Coding.',\n",
       " 'Complete weight enumerators for several classes of two-weight and three-weight linear codes.',\n",
       " 'Multi-granularity for knowledge distillation.',\n",
       " 'A cooperative partial snapshot algorithm for checkpoint-rollback recovery of large-scale and dynamic distributed systems and experimental evaluations.',\n",
       " 'From Learning to Relearning: A Framework for Diminishing Bias in Social Robot Navigation.',\n",
       " 'First-Order Methods for Convex Optimization.',\n",
       " 'Unsupervised Sentiment Analysis by Transferring Multi-source Knowledge.',\n",
       " 'Deep-Learned Approximate Message Passing for Asynchronous Massive Connectivity.',\n",
       " 'Networking and Computing in Biomechanical Research: Challenges and Directions.',\n",
       " 'Improving the performance of bagging ensembles for data streams through mini-batching.',\n",
       " 'Inferring spatial relations from textual descriptions of images.',\n",
       " 'RISe of Flight: RIS-Empowered UAV Communications for Robust and Reliable Air-to-Ground Networks.',\n",
       " 'Vicinal and categorical domain adaptation.',\n",
       " 'Is NOMA Efficient in Multi-Antenna Networks? A Critical Look at Next Generation Multiple Access Techniques.',\n",
       " 'Privacy Preference Signals: Past, Present and Future.',\n",
       " 'First Responders Got Wings: UAVs to the Rescue of Localization Operations in Beyond 5G Systems.',\n",
       " 'Temporally smooth online action detection using cycle-consistent future anticipation.',\n",
       " 'Document Towers: A MATLAB software implementing a three-dimensional architectural paradigm for the visual exploration of digital documents and libraries.',\n",
       " 'XAMG: A library for solving linear systems with multiple right-hand side vectors.',\n",
       " 'Seeing and Believing: Evaluating the Trustworthiness of Twitter Users.',\n",
       " 'Reinforcement Learning for IoT Security: A Comprehensive Survey.',\n",
       " 'Coalition Formation Games for Improved Cell-Edge User Service in Downlink NOMA and MU-MIMO Small Cell Systems.',\n",
       " 'DAMOV: A New Methodology and Benchmark Suite for Evaluating Data Movement Bottlenecks.',\n",
       " 'Class-Incremental Learning for Wireless Device Identification in IoT.',\n",
       " 'ECG Heartbeat Classification Using Multimodal Fusion.',\n",
       " 'A Novel Spatial-Temporal Specification-Based Monitoring System for Smart Cities.',\n",
       " 'Security in Next Generation Mobile Payment Systems: A Comprehensive Survey.',\n",
       " 'An Exhaustive Survey on P4 Programmable Data Plane Switches: Taxonomy, Applications, Challenges, and Future Trends.',\n",
       " 'From the Editors.',\n",
       " 'Cybersecurity in Robotics: Challenges, Quantitative Modeling, and Practice.',\n",
       " 'Interference management for coexisting Internet of Things networks over unlicensed spectrum.',\n",
       " 'Incremental Cross-Domain Adaptation for Robust Retinopathy Screening via Bayesian Deep Learning.',\n",
       " '<i>N</i>',\n",
       " 'Sense representations for Portuguese: experiments with sense embeddings and deep neural language models.',\n",
       " 'Clustering Introductory Computer Science Exercises Using Topic Modeling Methods.',\n",
       " 'Exploring Lightweight Interventions at Posting Time to Reduce the Sharing of Misinformation on Social Media.',\n",
       " 'Saliency for free: Saliency prediction as a side-effect of object recognition.',\n",
       " 'Problematic Machine Behavior: A Systematic Literature Review of Algorithm Audits.',\n",
       " 'Audiovisual Singing Voice Separation.',\n",
       " 'Adversarial Semi-supervised Learning for Corporate Credit Ratings.',\n",
       " 'Supporting Serendipity: Opportunities and Challenges for Human-AI Collaboration in Qualitative Analysis.',\n",
       " 'Deep Learning-Based Autonomous Driving Systems: A Survey of Attacks and Defenses.',\n",
       " 'Characterizing Social Imaginaries and Self-Disclosures of Dissonance in Online Conspiracy Discussion Communities.',\n",
       " 'Orienting, Framing, Bridging, Magic, and Counseling: How Data Scientists Navigate the Outer Loop of Client Collaborations in Industry and Academia.',\n",
       " 'A Survey on Advancing the DBMS Query Optimizer: Cardinality Estimation, Cost Model, and Plan Enumeration.',\n",
       " 'Differentiating densities on smooth manifolds.',\n",
       " 'Locating highly connected clusters in large networks with HyperLogLog counters.',\n",
       " \"Symmetric equilibrium of multi-agent reinforcement learning in repeated prisoner's dilemma.\",\n",
       " 'Hide and Seek: Outwitting Community Detection Algorithms.',\n",
       " 'Special issue on \"Mind and Cognition in the Future of Decision Support Systems\".',\n",
       " 'Application of a Generalized Secant Method to Nonlinear Equations with Complex Roots.',\n",
       " 'RIS Configuration, Beamformer Design, and Power Control in Single-Cell and Multi-Cell Wireless Networks.',\n",
       " 'Every Byte Matters: Traffic Analysis of Bluetooth Wearable Devices.',\n",
       " 'Actor-Critic Method for High Dimensional Static Hamilton-Jacobi-Bellman Partial Differential Equations based on Neural Networks.',\n",
       " 'Spatio-Temporal Urban Knowledge Graph Enabled Mobility Prediction.',\n",
       " 'Toward Robotic Weed Control: Detection of Nutsedge Weed in Bermudagrass Turf Using Inaccurate and Insufficient Training Data.',\n",
       " 'Robust Model Predictive Path Integral Control: Analysis and Performance Guarantees.',\n",
       " 'Category-Level Metric Scale Object Shape and Pose Estimation.',\n",
       " 'The Catenary Robot: Design and Control of a Cable Propelled by Two Quadrotors.',\n",
       " 'Control Barrier Functions for Cyber-Physical Systems and Applications to NMPC.',\n",
       " '<i>H</i><sub>∞</sub>',\n",
       " 'Run Your Visual-Inertial Odometry on NVIDIA Jetson: Benchmark Tests on a Micro Aerial Vehicle.',\n",
       " 'Polarimetric Monocular Dense Mapping Using Relative Deep Depth Prior.',\n",
       " 'Levels of explainable artificial intelligence for human-aligned conversational explanations.',\n",
       " 'IRS-Assisted Ambient Backscatter Communications Utilizing Deep Reinforcement Learning.',\n",
       " 'Improved Coherence Index-Based Bound in Compressive Sensing.',\n",
       " 'Frequency-Constrained Resilient Scheduling of Microgrid: A Distributionally Robust Approach.',\n",
       " 'Noise Is Useful: Exploiting Data Diversity for Edge Intelligence.',\n",
       " 'On Implicit Attribute Localization for Generalized Zero-Shot Learning.',\n",
       " 'Towards NIR-VIS Masked Face Recognition.',\n",
       " 'A Lightweight Deep Network for Efficient CSI Feedback in Massive MIMO Systems.',\n",
       " 'Call for Special Issue Papers: Big Scientific Data and Machine Learning in Science and Engineering: Deadline for Manuscript Submission: February 1, 2022.',\n",
       " 'Protection of the patient data against intentional attacks using a hybrid robust watermarking code.',\n",
       " 'Research Articles.',\n",
       " 'A perimeter-decreasing and area-conserving algorithm for surface diffusion flow of curves.',\n",
       " 'The SafeBirth Clinic.',\n",
       " 'A Feynman-Kac based numerical method for the exit time probability of a class of transport problems.',\n",
       " 'A parallel-in-time two-sided preconditioning for all-at-once system from a non-local evolutionary equation with weakly singular kernel.',\n",
       " 'Formation control of a leader-follower structure in three dimensional space using bearing measurements.',\n",
       " 'Computing Through Time.',\n",
       " 'To Improve Cyber Resilience, Measure It.',\n",
       " 'A Simple Logic of Functional Dependence.',\n",
       " 'Attention-Based Neural Networks for Chroma Intra Prediction in Video Coding.',\n",
       " 'Information Bottleneck for a Rayleigh Fading MIMO Channel with an Oblivious Relay.',\n",
       " 'iToF2dToF: A Robust and Flexible Representation for Data-Driven Time-of-Flight Imaging.',\n",
       " \"CoinPrune: Shrinking Bitcoin's Blockchain Retrospectively.\",\n",
       " 'Visualization of the Computation Process of a Universal Register Machine.',\n",
       " 'HIVE-COTE 2.0: a new meta ensemble for time series classification.',\n",
       " 'A Unified Adaptive Recoding Framework for Batched Network Coding.',\n",
       " 'Ethics-Based Auditing to Develop Trustworthy AI.',\n",
       " 'Metatheory.jl: Fast and Elegant Algebraic Computation in Julia with Extensible Equality Saturation.',\n",
       " 'Synch: A framework for concurrent data-structures and benchmarks.',\n",
       " 'PyAutoFit: A Classy Probabilistic Programming Language for Model Composition and Fitting.',\n",
       " 'On the relation between the degree of internationalization of cited and citing publications: A field level analysis, including and excluding self-citations.',\n",
       " 'Conditional Dichotomy of Boolean Ordered Promise CSPs.',\n",
       " 'Information in propositional proofs and algorithmic proof search.',\n",
       " 'Ethics and Governance of Artificial Intelligence: Evidence from a Survey of Machine Learning Researchers.',\n",
       " 'Survey on Aerial Radio Access Networks: Toward a Comprehensive 6G Access Infrastructure.',\n",
       " 'Elliptic Curve Fast Fourier Transform (ECFFT) Part I: Fast Polynomial Algorithms over all Finite Fields.',\n",
       " 'The Acrobatics of BQP.',\n",
       " 'Improved Product-Based High-Dimensional Expanders.',\n",
       " 'QRAT Polynomially Simulates Merge Resolution.',\n",
       " 'Learning to Decode Protograph LDPC Codes.',\n",
       " 'A Deep Reinforcement Learning Framework for Contention-Based Spectrum Sharing.',\n",
       " 'Tight Computational Indistinguishability Bound of Product Distributions.',\n",
       " 'A comparative study on movement feature in different directions for micro-expression recognition.',\n",
       " 'A microservice-based framework for exploring data selection in cross-building knowledge transfer.',\n",
       " '3-D Deployment of UAV Swarm for Massive MIMO Communications.',\n",
       " 'Aerial-Ground Interference Mitigation for Cellular-Connected UAV.',\n",
       " 'DiVRsify: Break the Cycle and Develop VR for Everyone.',\n",
       " 'Interpretable deep-learning models to help achieve the Sustainable Development Goals.',\n",
       " 'Global field reconstruction from sparse sensors with Voronoi tessellation-assisted deep learning.',\n",
       " 'LPWAN in the TV White Spaces: A Practical Implementation and Deployment Experiences.',\n",
       " 'Extrapolative Bayesian Optimization with Gaussian Process and Neural Network Ensemble Surrogate Models.',\n",
       " 'Joint Universal Syntactic and Semantic Parsing.',\n",
       " 'Artificial Phototropic Systems for Enhanced Light Harvesting Based on a Liquid Crystal Elastomer.',\n",
       " 'Masthead.',\n",
       " 'Autonomous Chemotactic Light-Emitting Swimmers with Trajectories of Increasing Complexity.',\n",
       " 'Learning Polar Encodings for Arbitrary-Oriented Ship Detection in SAR Images.',\n",
       " \"Let's Play Mono-Poly: BERT Can Reveal Words' Polysemy Level and Partitionability into Senses.\",\n",
       " 'Highly Uniform All-Vacuum-Deposited Inorganic Perovskite Artificial Synapses for Reservoir Computing.',\n",
       " 'System-Engineered Miniaturized Robots: From Structure to Intelligence.',\n",
       " 'Learning Crisp Boundaries Using Deep Refinement Network and Adaptive Weighting Loss.',\n",
       " 'A Cryptographic Hash Function from Markoff Triples.',\n",
       " 'Directions for 3D User Interface Research from Consumer VR Games.',\n",
       " 'Directionally Decomposing Structured Light for Projector Calibration.',\n",
       " 'On the efficiency of a general attack against the MOBS cryptosystem.',\n",
       " 'Stimuli-Aware Visual Emotion Analysis.',\n",
       " 'Dynamic Instance-Wise Classification in Correlated Feature Spaces.',\n",
       " 'On the Readability of Abstract Set Visualizations.',\n",
       " 'Neural UpFlow: A Scene Flow Learning Approach to Increase the Apparent Resolution of Particle-Based Liquids.',\n",
       " 'Knowledge discovery from emergency ambulance dispatch during COVID-19: A case study of Nagoya City, Japan.',\n",
       " 'Multi-task learning for virtual flow metering.',\n",
       " 'Combining IOTA and Attribute-Based Encryption for Access Control in the Internet of Things.',\n",
       " 'Adam in Private: Secure and Fast Training of Deep Neural Networks with Adaptive Moment Estimation.',\n",
       " 'Progressive Self-Guided Loss for Salient Object Detection.',\n",
       " 'Certified Everlasting Zero-Knowledge Proof for QMA.',\n",
       " 'Underwater Image Enhancement via Medium Transmission-Guided Multi-Color Space Embedding.',\n",
       " 'On (β, γ)-Chebyshev functions and points of the interval.',\n",
       " 'Dynamic Resource Configuration for Low-Power IoT Networks: A Multi-Objective Reinforcement Learning Method.',\n",
       " 'Deep Collaborative Multi-Modal Learning for Unsupervised Kinship Estimation.',\n",
       " 'Federated Quantum Machine Learning.',\n",
       " 'Efficient Spectral Methods for Quasi-Equilibrium Closure Approximations of Symmetric Problems on Unit Circle and Sphere.',\n",
       " 'Short-term daily precipitation forecasting with seasonally-integrated autoencoder.',\n",
       " 'Symmetric Continuous Subgraph Matching with Bidirectional Dynamic Programming.',\n",
       " 'A scalable approach for developing clinical risk prediction applications in different hospitals.',\n",
       " 'Two Chebyshev Spectral Methods for Solving Normal Modes in Atmospheric Acoustics.',\n",
       " 'Delay Minimization in Sliced Multi-Cell Mobile Edge Computing (MEC) Systems.',\n",
       " 'Efficient training of physics-informed neural networks via importance sampling.',\n",
       " 'Deep Portrait Lighting Enhancement with 3D Guidance.',\n",
       " 'Entropy, Information, and the Updating of Probabilities.',\n",
       " 'What is Semantic Communication? A View on Conveying Meaning in the Era of Machine Intelligence.',\n",
       " 'On Entropy and Bit Patterns of Ring Oscillator Jitter.',\n",
       " 'Windowed Decoding for Delayed Bit-Interleaved Coded Modulation.',\n",
       " 'Robust Beamforming Design for Covert Communications.',\n",
       " 'Entropoid Based Cryptography.',\n",
       " 'A General Purpose Transpiler for Fully Homomorphic Encryption.',\n",
       " 'Deep Learning Assisted Calibrated Beam Training for Millimeter-Wave Communication Systems.',\n",
       " 'Multi-Scale Single Image Dehazing Using Laplacian and Gaussian Pyramids.',\n",
       " 'Privacy Preserving and Resilient RPKI.',\n",
       " 'Tensor Methods in Computer Vision and Deep Learning.',\n",
       " 'A Note on the Post-Quantum Security of (Ring) Signatures.',\n",
       " 'Visualizing and Interacting with Geospatial Networks: A Survey and Design Space.',\n",
       " 'A Deep Learning Localization Method for Measuring Abdominal Muscle Dimensions in Ultrasound Images.',\n",
       " 'Deep GAN-Based Cross-Spectral Cross-Resolution Iris Recognition.',\n",
       " 'Unsupervised Learning in Next-Generation Networks: Real-Time Performance Self-Diagnosis.',\n",
       " 'FedDPGAN: Federated Differentially Private Generative Adversarial Networks Framework for the Detection of COVID-19 Pneumonia.',\n",
       " 'Physical Activity Recognition Based on a Parallel Approach for an Ensemble of Machine Learning and Deep Learning Classifiers.',\n",
       " 'Online-Extractability in the Quantum Random-Oracle Model.',\n",
       " 'ATCSpeechNet: A multilingual end-to-end speech recognition framework for air traffic control systems.',\n",
       " 'An Optimization-Based Meta-Learning Model for MRI Reconstruction with Diverse Dataset.',\n",
       " 'Supporting search engines with knowledge and context.',\n",
       " 'Probabilistic Deep Learning to Quantify Uncertainty in Air Quality Forecasting.',\n",
       " 'K-Means Clustering-Aided Non-Coherent Detection for Molecular Communications.',\n",
       " 'Splitting authentication codes with perfect secrecy: new results, constructions and connections with algebraic manipulation detection codes.',\n",
       " 'Towards Balanced Learning for Instance Recognition.',\n",
       " 'A Joint Diagonalization Based Efficient Approach to Underdetermined Blind Audio Source Separation Using the Multichannel Wiener Filter.',\n",
       " 'Gym-ANM: Open-source software to leverage reinforcement learning for power system management in research and education.',\n",
       " 'Internet of Things in Space: A Review of Opportunities and Challenges from Satellite-Aided Computing to Digitally-Enhanced Space Living.',\n",
       " 'Objective Measures of Perceptual Audio Quality Reviewed: An Evaluation of Their Application Domain Dependence.',\n",
       " 'Privacy-Preserving Mutual Authentication and Key Agreement Scheme for Multi-Server Healthcare System.',\n",
       " 'Deep Recursive Embedding for High-Dimensional Data.',\n",
       " 'Automated Detection and Diagnosis of Diabetic Retinopathy: A Comprehensive Survey.',\n",
       " 'Deterministic Algorithms for the Hidden Subgroup Problem.',\n",
       " 'Information Dispersal with Provable Retrievability for Rollups.',\n",
       " 'Modeling Uplink Coverage Performance in Hybrid Satellite-Terrestrial Networks.',\n",
       " 'RWP+: A New Random Waypoint Model for High-Speed Mobility.',\n",
       " 'MultiCategory: Multi-model Query Processing Meets Category Theory and Functional Programming.',\n",
       " 'Higher Dimensional Graphics: Conceiving Worlds in Four Spatial Dimensions and Beyond.',\n",
       " 'Advantages of NOMA for Multi-User BackCom Networks.',\n",
       " 'Deep Indexed Active Learning for Matching Heterogeneous Entity Representations.',\n",
       " 'An unbiased ray-marching transmittance estimator.',\n",
       " 'The Effects of Learning in Morphologically Evolving Robot Systems.',\n",
       " 'Remarks on MOBS and cryptosystems using semidirect products.',\n",
       " 'Securing Parallel-chain Protocols under Variable Mining Power.',\n",
       " 'Global and Local Texture Randomization for Synthetic-to-Real Semantic Segmentation.',\n",
       " 'Linearly Stabilized Schemes for the Time Integration of Stiff Nonlinear PDEs.',\n",
       " 'RIS-Aided Wireless Communications: Prototyping, Adaptive Beamforming, and Indoor/Outdoor Field Trials.',\n",
       " 'A Survey of Self-Sovereign Identity Ecosystem.',\n",
       " 'Power Minimization of Downlink Spectrum Slicing for eMBB and URLLC Users.',\n",
       " 'Spatiotemporal Texture Reconstruction for Dynamic Objects Using a Single RGB-D Camera.',\n",
       " 'Fast Federated Learning by Balancing Communication Trade-Offs.',\n",
       " 'Why polls fail to predict elections.',\n",
       " 'Learning Robust Beamforming for MISO Downlink Systems.',\n",
       " 'A Survey on Perfectly-Secure Verifiable Secret-Sharing.',\n",
       " 'How to Design Robust Algorithms using Noisy Comparison Oracle.',\n",
       " 'FENet: A Frequency Extraction Network for Obstructive Sleep Apnea Detection.',\n",
       " 'Unsharp Mask Guided Filtering.',\n",
       " 'A survey of recommender systems for energy efficiency in buildings: Principles, challenges and prospects.',\n",
       " 'BAGUA: Scaling up Distributed Learning with System Relaxations.',\n",
       " 'Lattice sieving via quantum random walks.',\n",
       " 'Intel HEXL: Accelerating Homomorphic Encryption with Intel AVX512-IFMA52.',\n",
       " 'The Optimal Error Resilience of Interactive Communication Over Binary Channels.',\n",
       " 'Semilinear transformations in coding theory and their application to cryptography.',\n",
       " 'Beyond Procrustes: Balancing-Free Gradient Descent for Asymmetric Low-Rank Matrix Sensing.',\n",
       " 'The Fundamental Theorem of Natural Selection.',\n",
       " 'Fuzzy Overclustering: Semi-Supervised Classification of Fuzzy Labels with Overclustering and Inverse Cross-Entropy.',\n",
       " 'Working Memory Connections for LSTM.',\n",
       " 'Stabilizing Radial Basis Function Methods for Conservation Laws Using Weakly Enforced Boundary Conditions.',\n",
       " 'Ember: No-Code Context Enrichment via Similarity-Based Keyless Joins.',\n",
       " 'Editorial Board.',\n",
       " 'IEEE Networking Letters Author Guidelines.',\n",
       " 'Automatic Program Repair.',\n",
       " 'Editorial from the Editor-in-Chief.',\n",
       " 'Security and Trust in Open Source Security Tokens.',\n",
       " 'ROTed: Random Oblivious Transfer for embedded devices.',\n",
       " 'Breaking CAS-Lock and Its Variants by Exploiting Structural Traces.',\n",
       " 'Higher-Order Lookup Table Masking in Essentially Constant Memory.',\n",
       " \"Let's Take it Offline: Boosting Brute-Force Attacks on iPhone's User Authentication through SCA.\",\n",
       " 'Diving Deep into the Weak Keys of Round Reduced Ascon.',\n",
       " 'Atom: A Stream Cipher with Double Key Filter.',\n",
       " 'TTTC News.',\n",
       " 'Energy Efficiency Maximization in the Uplink Delta-OMA Networks.',\n",
       " 'Actionable Principles for Artificial Intelligence Policy: Three Pathways.',\n",
       " 'The Moral Consideration of Artificial Entities: A Literature Review.',\n",
       " 'Real-time Bidding for Time Constrained Impression Contracts in First and Second Price Auctions - Theory and Algorithms.',\n",
       " 'Backscatter-Assisted Wireless Powered Communication Networks Empowered by Intelligent Reflecting Surface.',\n",
       " 'From the Editor.',\n",
       " 'Verification of Approximate Opacity via Barrier Certificates.',\n",
       " 'Preface.',\n",
       " 'Articulations and Products of Transition Systems and their Applications to Petri Net Synthesis.',\n",
       " 'Peter C. Fishburn (1936-2021).',\n",
       " 'Macroeconomic forecasting with statistically validated knowledge graphs.',\n",
       " 'Kernel-based framework to estimate deformations of pneumothorax lung using relative position of anatomical landmarks.',\n",
       " 'Graph Neural Networks for Inconsistent Cluster Detection in Incremental Entity Resolution.',\n",
       " 'A Probabilistic Interpretation of Self-Paced Learning with Applications to Reinforcement Learning.',\n",
       " 'Evaluating the Effect of the Financial Status to the Mobility Customs.',\n",
       " 'NUQSGD: Provably Communication-efficient Data-parallel SGD via Nonuniform Quantization.',\n",
       " 'Voting in Transfer Learning System for Ground-Based Cloud Classification.',\n",
       " 'The Plausibility Paradox for Resized Users in Virtual Environments.',\n",
       " 'Introduction.',\n",
       " 'Note from the Editor.',\n",
       " 'Complexity and algorithms for injective edge-coloring in graphs.',\n",
       " 'Streaming Social Event Detection and Evolution Discovery in Heterogeneous Information Networks.',\n",
       " 'Learning Graph Neural Networks with Positive and Unlabeled Nodes.',\n",
       " 'Cox Models for Vehicular Networks: SIR Performance and Equivalence.',\n",
       " 'Deterministic Pilot Design and Channel Estimation for Downlink Massive MIMO-OTFS Systems in Presence of the Fractional Doppler.',\n",
       " 'A relic sketch extraction framework based on detail-aware hierarchical deep network.',\n",
       " 'Vorwort.',\n",
       " 'The Transdimensional Poisson Process for Vehicular Network Analysis.',\n",
       " 'Compressed Monte Carlo with application in particle filtering.',\n",
       " 'Gage MPC: Bypassing Residual Function Leakage for Non-Interactive MPC.',\n",
       " 'QoS Prediction for 5G Connected and Automated Driving.',\n",
       " 'SoK: Efficient Privacy-preserving Clustering.',\n",
       " 'Doctrines, modalities and comonads.',\n",
       " \"Who Can Find My Devices? Security and Privacy of Apple's Crowd-Sourced Bluetooth Location Tracking System.\",\n",
       " 'Global Communications Newsletter.',\n",
       " 'Series Editorial: Mobile Communications and Networks.',\n",
       " '6G: Connectivity in the Era of Distributed Intelligence.',\n",
       " 'SwapCT: Swap Confidential Transactions for Privacy-Preserving Multi-Token Exchanges.',\n",
       " 'Abstracts of recent doctoral dissertations in computer algebra.',\n",
       " 'High-performance symbolic-numerics via multiple dispatch.',\n",
       " 'Digital Library News.',\n",
       " 'Privacy-Enhancing Group Signcryption Scheme.',\n",
       " 'Reachability Analysis of Neural Feedback Loops.',\n",
       " 'A General Method for Generating Discrete Orthogonal Matrices.',\n",
       " 'IoT-Enabled Social Relationships Meet Artificial Social Intelligence.',\n",
       " 'Characterizing the UAV-to-Machine UWB Radio Channel in Smart Factories.',\n",
       " 'Parameterized Energy-Optimal Regenerative Braking Strategy for Connected and Autonomous Electrified Vehicles: A Real-Time Dynamic Programming Approach.',\n",
       " 'Graph Convolutional Embeddings for Recommender Systems.',\n",
       " 'Hindsight Goal Ranking on Replay Buffer for Sparse Reward Environment.',\n",
       " 'Data-driven model predictive control: closed-loop guarantees and experimental results.',\n",
       " 'CASS: Towards Building a Social-Support Chatbot for Online Health Community.',\n",
       " 'Invariants for EA- and CCZ-equivalence of APN and AB functions.',\n",
       " 'Developers Who Vlog: Dismantling Stereotypes through Community and Identity.',\n",
       " 'Beyond the Command: Feminist STS Research and Critical Issues for the Design of Social Machines.',\n",
       " 'Thing Constellation Visualizer: Exploring Emergent Relationships of Everyday Objects.',\n",
       " 'Nowcasting Gentrification Using Airbnb Data.',\n",
       " \"Guest Editors' Introduction to the Joint Special Section on Secure and Emerging Collaborative Computing and Intelligent Systems.\",\n",
       " \"The Influence of Information Sharing through Social Network Sites on Customers' Attitudes during the Epidemic Crisis of COVID-19.\",\n",
       " 'A lattice Boltzmann model for the coupled cross-diffusion-fluid system.',\n",
       " 'End-to-end acoustic modelling for phone recognition of young readers.',\n",
       " 'Fractal measures of image local features: an application to texture recognition.',\n",
       " 'A multitask transfer learning framework for the prediction of virus-human protein-protein interactions.',\n",
       " 'Special Issue on \"Decision Support: Combining Technology and Algorithms to Solve Complex Problems\".',\n",
       " 'AdaSpring: Context-adaptive and Runtime-evolutionary Deep Model Compression for Mobile Applications.',\n",
       " 'Effective Model Integration Algorithm for Improving Link and Sign Prediction in Complex Networks.',\n",
       " 'Age-Stratified COVID-19 Spread Analysis and Vaccination: A Multitype Random Network Approach.',\n",
       " 'SelfHAR: Improving Human Activity Recognition through Self-training with Unlabeled Data.',\n",
       " 'Advancing Mixture Models for Least Squares Optimization.',\n",
       " 'LRGNet: Learnable Region Growing for Class-Agnostic Point Cloud Segmentation.',\n",
       " 'Fusion of neural networks, for LIDAR-based evidential road mapping.',\n",
       " 'A Surface Geometry Model for LiDAR Depth Completion.',\n",
       " 'Least resolved trees for two-colored best match graphs.',\n",
       " 'Zero Aware Configurable Data Encoding by Skipping Transfer for Error Resilient Applications.',\n",
       " 'A Holistic Motion Planning and Control Solution to Challenge a Professional Racecar Driver.',\n",
       " 'From MT to LREV: managing the transition.',\n",
       " 'A Hybrid Dynamical Modeling Framework for Shape Memory Alloy Wire Actuated Structures.',\n",
       " 'Fast Strategies for the Implementation of SIKE Round 3 on ARM Cortex-M4.',\n",
       " 'Lane Graph Estimation for Scene Understanding in Urban Driving.',\n",
       " 'Data-Driven MPC for Quadrotors.',\n",
       " 'PVStereo: Pyramid Voting Module for End-to-End Self-Supervised Stereo Matching.',\n",
       " 'Binarized P-Network: Deep Reinforcement Learning of Robot Control from Raw Images on FPGA.',\n",
       " 'Distributed Resilient Submodular Action Selection in Adversarial Environments.',\n",
       " 'Fixed-Posit: A Floating-Point Representation for Error-Resilient Applications.',\n",
       " 'Generation of GelSight Tactile Images for Sim2Real Learning.',\n",
       " 'Revisiting Binary Local Image Description for Resource Limited Devices.',\n",
       " 'Learning Interaction-Aware Trajectory Predictions for Decentralized Multi-Robot Motion Planning in Dynamic Environments.',\n",
       " 'Continual Learning of Knowledge Graph Embeddings.',\n",
       " 'GA-NET: Global Attention Network for Point Cloud Semantic Segmentation.',\n",
       " 'Deep Joint Source-Channel Coding for Multi-Task Network.',\n",
       " 'Scanning the Issue.',\n",
       " 'On Stability and Convergence of Distributed Filters.',\n",
       " 'Xi-Vector Embedding for Speaker Recognition.',\n",
       " 'System-Level Dynamics of Highly Directional Distributed Networks.',\n",
       " 'Bespoke Fractal Sampling Patterns for Discrete Fourier Space via the Kaleidoscope Transform.',\n",
       " 'MIMO Interference Channels Assisted by Reconfigurable Intelligent Surfaces: Mutual Coupling Aware Sum-Rate Optimization Based on a Mutual Impedance Channel Model.',\n",
       " 'Intelligent Reflecting Surface Enhanced D2D Cooperative Computing.',\n",
       " 'Generalizing AUC Optimization to Multiclass Classification for Audio Segmentation With Limited Training Data.',\n",
       " 'Topology Applied to Machine Learning: From Global to Local.',\n",
       " 'Reputation and Pricing Dynamics in Online Markets.',\n",
       " 'Robust Dynamic Multi-Modal Data Fusion: A Model Uncertainty Perspective.',\n",
       " '2021 Winter Meeting of the Association for Symbolic Logic.',\n",
       " 'Call for Special Issue Papers: Internet of Medical Things in Big Data for Pervasive Medical Care.',\n",
       " 'Remote and Rural Connectivity: Infrastructure and Resource Sharing Principles.',\n",
       " 'THINC scaling method that bridges VOF and level set schemes.',\n",
       " 'Bayesian adversarial multi-node bandit for optimal smart grid protection against cyber attacks.',\n",
       " 'Critique on \"Volume penalization for inhomogeneous Neumann boundary conditions modeling scalar flux in complicated geometry\".',\n",
       " 'Towards algorithm-free physical equilibrium model of computing.',\n",
       " 'Minimal residual space-time discretizations of parabolic equations: Asymmetric spatial operators.',\n",
       " 'A new geometric condition equivalent to the maximum angle condition for tetrahedrons.',\n",
       " 'On the space-time discretization of variational retarded potential boundary integral equations.',\n",
       " 'Local discontinuous Galerkin method for the fractional diffusion equation with integral fractional Laplacian.',\n",
       " 'A survey of size counting in population protocols.',\n",
       " 'Multi-Grid Back-Projection Networks.',\n",
       " 'On rainbow-free colourings of uniform hypergraphs.',\n",
       " 'Degree Tables for Secure Distributed Matrix Multiplication.',\n",
       " 'Self-Gated Memory Recurrent Network for Efficient Scalable HDR Deghosting.',\n",
       " 'Deep Equilibrium Architectures for Inverse Problems in Imaging.',\n",
       " 'List-Decodable Coded Computing: Breaking the Adversarial Toleration Barrier.',\n",
       " 'Meta-evaluation of Conversational Search Evaluation Metrics.',\n",
       " 'Sequential convolutional network for behavioral pattern extraction in gait recognition.',\n",
       " 'The Road to Ubiquitous Personal Fabrication: Modeling-Free Instead of Increasingly Simple.',\n",
       " 'Improving speech recognition models with small samples for air traffic control systems.',\n",
       " 'Urban land-use analysis using proximate sensing imagery: a survey.',\n",
       " 'Restricted Boltzmann Machines as Models of Interacting Variables.',\n",
       " 'The effects of citation-based research evaluation schemes on self-citation behavior.',\n",
       " 'Rapid head-pose detection for automated slice prescription of fetal-brain MRI.',\n",
       " 'Ideal-theoretic Explanation of Capacity-achieving Decoding.',\n",
       " 'Almost Optimal Inapproximability of Multidimensional Packing Problems.',\n",
       " 'Resilient Machine Learning for Networked Cyber Physical Systems: A Survey for Machine Learning Security to Securing Machine Learning for CPS.',\n",
       " 'Cryptography from Sublinear-Time Average-Case Hardness of Time-Bounded Kolmogorov Complexity.',\n",
       " 'Fourier Growth of Parity Decision Trees.',\n",
       " 'Terahertz Ultra-Massive MIMO-Based Aeronautical Communications in Space-Air-Ground Integrated Networks.',\n",
       " 'Junta Distance Approximation with Sub-Exponential Queries.',\n",
       " 'SAT-based Circuit Local Improvement.',\n",
       " 'Karchmer-Wigderson Games for Hazard-free Computation.',\n",
       " 'Millimeter Wave and Sub-Terahertz Spatial Statistical Channel Model for an Indoor Office Building.',\n",
       " 'PCPs and Instance Compression from a Cryptographic Lens.',\n",
       " 'Invited Article Foreword.',\n",
       " 'Random restrictions and PRGs for PTFs in Gaussian Space.',\n",
       " 'Punctured Large Distance Codes, and Many Reed-Solomon Codes, Achieve List-Decoding Capacity.',\n",
       " 'A Note on One-way Functions and Sparse Languages.',\n",
       " 'Communicating Patient Health Data: A Wicked Problem.',\n",
       " 'Synthesis-guided Adversarial Scenario Generation for Gray-box Feedback Control Systems with Sensing Imperfections.',\n",
       " 'Visualization Design Sprints for Online and On-Campus Courses.',\n",
       " 'Compact and evenly distributed k-mer binning for genomic sequences.',\n",
       " 'Smart Contact Lenses for Biosensing Applications.',\n",
       " 'Design and Control of the Micromotor Swarm Toward Smart Applications.',\n",
       " 'Quantum Logic Gates Based on DNAtronics, RNAtronics, and Proteintronics.',\n",
       " 'A Computational Framework for Slang Generation.',\n",
       " 'Differentiable Subset Pruning of Transformer Heads.',\n",
       " 'Self-Driven Multistep Quantum Dot Synthesis Enabled by Autonomous Robotic Experimentation in Flow.',\n",
       " 'Facile Manufacturing Route for Magneto-Responsive Soft Actuators.',\n",
       " 'Memristive Crossbar Arrays for Storage and Computing Applications.',\n",
       " 'Dynamic Reliability Management in Neuromorphic Computing.',\n",
       " 'What Helps Transformers Recognize Conversational Structure? Importance of Context, Punctuation, and Labels in Dialog Act Recognition.',\n",
       " 'Rank-Consistency Deep Hashing for Scalable Multi-Label Image Search.',\n",
       " 'Dual Attention-in-Attention Model for Joint Rain Streak and Raindrop Removal.',\n",
       " 'Towards Strengthening Deep Learning-based Side Channel Attacks with Mixup.',\n",
       " 'A privacy-preserving approach to streaming eye-tracking data.',\n",
       " 'Minimum-Distortion Embedding.',\n",
       " 'Instant Visual Odometry Initialization for Mobile AR.',\n",
       " 'NAS-FCOS: Efficient Search for Object Detection Architectures.',\n",
       " 'Covers and Front Matter.',\n",
       " 'Saliency-Aware Class-Agnostic Food Image Segmentation.',\n",
       " 'Robust CUR Decomposition: Theory and Imaging Applications.',\n",
       " 'Hybrid Analog and Digital Beamforming Design for Channel Estimation in Correlated Massive MIMO Systems.',\n",
       " 'Comparing seven methods for state-of-health time series prediction for the lithium-ion battery packs of forklifts.',\n",
       " 'EEEA-Net: An Early Exit Evolutionary Neural Architecture Search.',\n",
       " 'Network representation learning: A macro and micro view.',\n",
       " 'Quantum-access security of the Winternitz one-time signature scheme.',\n",
       " 'Visiting the Invisible: Layer-by-Layer Completed Scene Decomposition.',\n",
       " 'Variational Bayes survival analysis for unemployment modelling.',\n",
       " 'Egocentric Network Exploration for Immersive Analytics.',\n",
       " 'Towards understanding the power of quantum kernels in the NISQ era.',\n",
       " 'A Generalizable Model-and-Data Driven Approach for Open-Set RFF Authentication.',\n",
       " 'A comparison of combined data assimilation and machine learning methods for offline and online model error correction.',\n",
       " 'Multi-level Motion Attention for Human Motion Prediction.',\n",
       " 'Using Blockchain to Achieve Decentralized Privacy In IoT Healthcare.',\n",
       " 'Enabling SQL-based Training Data Debugging for Federated Learning.',\n",
       " 'Frame Field Operators.',\n",
       " 'A holistic approach for cross-platform software development.',\n",
       " 'Causal Discovery in High-Dimensional Point Process Networks with Hidden Nodes.',\n",
       " 'Rendering Point Clouds with Compute Shaders and Vertex Order Optimization.',\n",
       " 'Selective Survey: Most Efficient Models and Solvers for Integrative Multimodal Transport.',\n",
       " 'A FOM/ROM Hybrid Approach for Accelerating Numerical Simulations.',\n",
       " 'RFN-Nest: An end-to-end residual fusion network for infrared and visible images.',\n",
       " 'Empathetic Response Generation through Graph-based Multi-hop Reasoning on Emotional Causality.',\n",
       " 'New Public-Key Crypto-System EHT.',\n",
       " 'IRShield: A Countermeasure Against Adversarial Physical-Layer Wireless Sensing.',\n",
       " 'Restore from Restored: Single-image Inpainting.',\n",
       " 'Privacy-Preserving Machine Learning with Fully Homomorphic Encryption for Deep Neural Network.',\n",
       " 'PRA-Net: Point Relation-Aware Network for 3D Point Cloud Analysis.',\n",
       " 'Knowledge-Based Stable Roommates Problem: A Real-World Application.',\n",
       " 'SimJEB: Simulated Jet Engine Bracket Dataset.',\n",
       " 'A Stochastic Model for Block Segmentation of Images Based on the Quadtree and the Bayes Code for It.',\n",
       " 'Orientations and matrix function-based centralities in multiplex network analysis of urban public transport.',\n",
       " 'Quantum routing with fast reversals.',\n",
       " 'Large Graph Convolutional Network Training with GPU-Oriented Data Communication Architecture.',\n",
       " 'Point detection through multi-instance deep heatmap regression for sutures in endoscopy.',\n",
       " 'An empirical evaluation of active inference in multi-armed bandits.',\n",
       " 'A diffuse interface box method for elliptic problems.',\n",
       " 'An Alternative Approach for Computing Discrete Logarithms in Compressed SIDH.',\n",
       " 'Rate-Splitting Multiple Access to Mitigate the Curse of Mobility in (Massive) MIMO Networks.',\n",
       " 'Hidden Cosets and Applications to Unclonable Cryptography.',\n",
       " 'A Fully Spiking Hybrid Neural Network for Energy-Efficient Object Detection.',\n",
       " 'Grain: Improving Data Efficiency of Graph Neural Networks via Diversified Influence Maximization.',\n",
       " 'Free-viewpoint Indoor Neural Relighting from Multi-view Stereo.',\n",
       " 'Resource separation in dynamic logic of propositional assignments.',\n",
       " 'Deep Learning Based Cardiac MRI Segmentation: Do We Need Experts?',\n",
       " 'Wide & Deep neural network model for patch aggregation in CNN-based prostate cancer detection systems.',\n",
       " 'Algorithmic Ethics: Formalization and Verification of Autonomous Vehicle Obligations.',\n",
       " 'Brain-computer interface with rapid serial multimodal presentation using artificial facial images and voice.',\n",
       " 'Point-Based Neural Rendering with Per-View Optimization.',\n",
       " 'Parametricity for Nested Types and GADTs.',\n",
       " 'Unified Shape and SVBRDF Recovery using Differentiable Monte Carlo Rendering.',\n",
       " 'How do developers discuss and support new programming languages in technical Q&A site? An empirical study of Go, Swift, and Rust in Stack Overflow.',\n",
       " 'Learning to Anticipate Egocentric Actions by Imagination.',\n",
       " 'Deep Subdomain Adaptation Network for Image Classification.',\n",
       " 'ORCID-linked labeled data for evaluating author name disambiguation at scale.',\n",
       " 'Symmetry Protected Quantum Computation.',\n",
       " 'Cayley Graphs of Semigroups Applied to Atom Tracking in Chemistry.',\n",
       " 'Graph-Based Deep Learning for Medical Diagnosis and Analysis: Past, Present and Future.',\n",
       " 'Flow-driven spectral chaos (FSC) method for long-time integration of second-order stochastic dynamical systems.',\n",
       " 'Identifiability-Guaranteed Simplex-Structured Post-Nonlinear Mixture Learning via Autoencoder.',\n",
       " 'Is Gender \"In-the-Wild\" Inference Really a Solved Problem?',\n",
       " 'Quantum Key-length Extension.',\n",
       " 'Tetrad: Actively Secure 4PC for Secure Training and Inference.',\n",
       " 'Integrating Quantum Simulation for Quantum-Enhanced Classical Network Emulation.',\n",
       " 'Exploring the effect of streamed social media data variations on social network analysis.',\n",
       " 'Kinship Verification Based on Cross-Generation Feature Interaction Learning.',\n",
       " '3D map creation using crowdsourced GNSS data.',\n",
       " 'Deep Transfer Learning for Multi-source Entity Linkage via Domain Adaptation.',\n",
       " 'Accent Recognition with Hybrid Phonetic Features.',\n",
       " 'Visualizing Carotid Blood Flow Simulations for Stroke Prevention.',\n",
       " 'Nested Array-Based Spatially Coupled LDPC Codes.',\n",
       " 'Approach to Generating TAP Rules in IoT Systems Based on Enviro nment Modeling.',\n",
       " 'Problems and solutions.',\n",
       " 'Titelei.',\n",
       " 'Depressed Patients Intelligent Recognition in Smart Home Environment.',\n",
       " 'Exploring Crypto-Physical Dark Matter and Learning with Physical Rounding Towards Secure and Efficient Fresh Re-Keying.',\n",
       " '<i>A Special Section on</i>',\n",
       " 'Information Leakages in Code-based Masking: A Unified Quantification Approach.',\n",
       " 'Analysis and Comparison of Table-based Arithmetic to Boolean Masking.',\n",
       " 'Structural Attack (and Repair) of Diffused-Input-Blocked-Output White-Box Cryptography.',\n",
       " 'The Book Review Column.',\n",
       " 'Permutation Based EDM: An Inverse Free BBB Secure PRF.',\n",
       " 'Orthros: A Low-Latency PRF.',\n",
       " \"Comments to Jean-Claude Burgelman's article Politics and Open Science: How the European Open Science Cloud Became Reality (the Untold Story).\",\n",
       " 'A fluid simulation system based on the MPS method.',\n",
       " 'The Power of D-hops in Matching Power-Law Graphs.',\n",
       " 'Compact Cooperative Adaptive Cruise Control for Energy Saving: Air Drag Modelling and Simulation.',\n",
       " 'Data-driven deep density estimation.',\n",
       " 'Congestion control in high-speed networks using the probabilistic estimation approach.',\n",
       " 'Domain adaptation based self-correction model for COVID-19 infection segmentation in CT images.',\n",
       " 'Coverability, Termination, and Finiteness in Recursive Petri Nets.',\n",
       " 'Quasi-Distributed Antenna Selection for Spectral Efficiency Maximization in Subarray Switching XL-MIMO Systems.',\n",
       " 'Cost Problems for Parametric Time Petri Nets.',\n",
       " 'A Congruence-Based Perspective on Finite Tree Automata.',\n",
       " 'Clustering Geometrically-Modeled Points in the Aggregated Uncertainty Model.',\n",
       " 'geoGAT: Graph Model Based on Attention Mechanism for Geographic Text Classification.',\n",
       " 'Object-Guided Instance Segmentation With Auxiliary Feature Refinement for Biological Images.',\n",
       " 'TDMA-based scheduling for multi-hop wireless sensor networks with 3-egress gateway linear topology.',\n",
       " 'Neural Unsupervised Semantic Role Labeling.',\n",
       " 'Sparsity in Deep Learning: Pruning and growth for efficient inference and training in neural networks.',\n",
       " 'Nonparametric Modeling of Higher-Order Interactions via Hypergraphons.',\n",
       " '[Conference Calendar].',\n",
       " 'Reproducing kernel Hilbert C*-module and kernel mean embeddings.',\n",
       " 'Letter from the Special Issue Editor.',\n",
       " 'Responsible AI Challenges in End-to-end Machine Learning.',\n",
       " 'Distributed Planning for Serving Cooperative Tasks with Time Windows: A Game Theoretic Approach.',\n",
       " 'Deep Learning Based Steel Pipe Weld Defect Detection.',\n",
       " 'Towards Better Understanding of User Authorization Query Problem via Multi-variable Complexity Analysis.',\n",
       " 'Similarity Embedding Networks for Robust Human Activity Recognition.',\n",
       " 'Creative Action at a Distance: A Conceptual Framework for Embodied Performance With Robotic Actors.',\n",
       " 'Ideals and Virtual Realities.',\n",
       " 'Corrigendum.',\n",
       " 'Joint Resource Management for MC-NOMA: A Deep Reinforcement Learning Approach.',\n",
       " 'Trajectory Optimization and Resource Allocation for OFDMA UAV Relay Networks.',\n",
       " 'DB4HLS: A Database of High-Level Synthesis Design Space Explorations.',\n",
       " 'Predictive Wireless Based Status Update for Communication-Agnostic Sampling.',\n",
       " 'Multi-Connectivity in Mobile Networks: Challenges and Benefits.',\n",
       " 'Multi-RAT for IoT: The Potential in Combining LoRaWAN and NB-IoT.',\n",
       " 'The CNAME of the Game: Large-scale Analysis of DNS-based Tracking Evasion.',\n",
       " 'Transfer Learning for Node Regression Applied to Spreading Prediction.',\n",
       " 'Metaknowledge Extraction Based on Multi-Modal Documents.',\n",
       " 'GDPR Compliant Blockchains-A Systematic Literature Review.',\n",
       " 'tsrobprep - an R package for robust preprocessing of time series data.',\n",
       " \"Editors' message.\",\n",
       " 'IceNet for Interactive Contrast Enhancement.',\n",
       " 'Object Detection in Thermal Spectrum for Advanced Driver-Assistance Systems (ADAS).',\n",
       " 'Semantic Segmentation of Periocular Near-Infra-Red Eye Images Under Alcohol Effects.',\n",
       " 'Towards Using Blockchain Technology to Prevent Diploma Fraud.',\n",
       " 'Malicious Code Detection: Run Trace Output Analysis by LSTM.',\n",
       " 'Design and Prototype Implementation of a Blockchain-Enabled LoRa System With Edge Computing.',\n",
       " 'Taxonomy of Virtual and Augmented Reality Applications in Education.',\n",
       " 'HVAQ: A High-Resolution Vision-Based Air Quality Dataset.',\n",
       " 'Efficient Light Field Reconstruction via Spatio-Angular Dense Network.',\n",
       " \"'Walking Into a Fire Hoping You Don't Catch': Strategies and Designs to Facilitate Cross-Partisan Online Discussions.\",\n",
       " 'Conceptualising Contestability: Perspectives on Contesting Algorithmic Decisions.',\n",
       " 'RECAST: Enabling User Recourse and Interpretability of Toxicity Detection Models with Interactive Visualization.',\n",
       " 'Computer-Mediated Consent to Sex: The Context of Tinder.',\n",
       " 'Topic-aware latent models for representation learning on networks.',\n",
       " 'The Impact of Algorithmic Risk Assessments on Human Predictions and its Analysis via Crowdsourcing Studies.',\n",
       " '\"Facebook Promotes More Harassment\": Social Media Ecosystem, Skill and Marginalized Hijra Identity in Bangladesh.',\n",
       " 'The \"Shut the f**k up\" Phenomenon: Characterizing Incivility in Open Source Code Review Discussions.',\n",
       " 'Promoting Self-Efficacy Through an Effective Human-Powered Nonvisual Smartphone Task Assistant.',\n",
       " 'Understanding the Effect of Out-of-distribution Examples and Interactive Explanations on Human-AI Decision Making.',\n",
       " 'Characterizing the Online Learning Landscape: What and How People Learn Online.',\n",
       " 'Exploiting ultrasound tongue imaging for the automatic detection of speech articulation errors.',\n",
       " 'Modelling wave dispersion in fluid saturating periodic scaffolds.',\n",
       " 'Quantum hub and authority centrality measures for directed networks based on continuous-time quantum walks.',\n",
       " 'Deep reinforcement learning in medical imaging: A literature review.',\n",
       " 'SplitSR: An End-to-End Approach to Super-Resolution on Mobile Devices.',\n",
       " \"'CADSketchNet' - An Annotated Sketch dataset for 3D CAD Model Retrieval with Deep Neural Networks.\",\n",
       " 'Optimizing Build Orientation for Support Removal using Multi-Axis Machining.',\n",
       " 'Modeling of Visco-Elastic Environments for Humanoid Robot Motion Control.',\n",
       " 'Stability Assessment for Multi-Infeed Grid-Connected VSCs Modeled in the Admittance Matrix Form.',\n",
       " 'Learning Variable Impedance Control via Inverse Reinforcement Learning for Force-Related Tasks.',\n",
       " 'Excavation Learning for Rigid Objects in Clutter.',\n",
       " 'A Unified MPC Framework for Whole-Body Dynamic Locomotion and Manipulation.',\n",
       " 'DSEC: A Stereo Event Camera Dataset for Driving Scenarios.',\n",
       " 'Deformation-Aware Robotic 3D Ultrasound.',\n",
       " 'Probabilistic Visual Place Recognition for Hierarchical Localization.',\n",
       " 'Instantaneous Capture Input for Balancing the Variable Height Inverted Pendulum.',\n",
       " 'Humanoid Control Under Interchangeable Fixed and Sliding Unilateral Contacts.',\n",
       " 'Learning of Causal Observable Functions for Koopman-DFL Lifting Linearization of Nonlinear Controlled Systems and Its Application to Excavation Automation.',\n",
       " 'Vision-Based Autonomous Car Racing Using Deep Imitative Reinforcement Learning.',\n",
       " 'Towards Safe Control of Continuum Manipulator Using Shielded Multiagent Reinforcement Learning.',\n",
       " 'UAV Localization Using Autoencoded Satellite Images.',\n",
       " 'InsertionNet - A Scalable Solution for Insertion.',\n",
       " 'Efficient LiDAR Odometry for Autonomous Driving.',\n",
       " 'Enabling particle applications for exascale computing platforms.',\n",
       " 'A Hybrid Controller for DOS-Resilient String-Stable Vehicle Platoons.',\n",
       " \"Deep learning methods for screening patients' S-ICD implantation eligibility.\",\n",
       " 'Cost-Efficient RIS-Aided Channel Estimation via Rank-One Matrix Factorization.',\n",
       " 'Joint Secure Design of Downlink and D2D Cooperation Strategies for Multi-User Systems.',\n",
       " 'Design and Experimental Assessment of Detection Schemes for Air Interface Attacks in Adverse Scenarios.',\n",
       " 'Sensing and Classification Using Massive MIMO: A Tensor Decomposition-Based Approach.',\n",
       " 'GLocalX - From Local to Global Explanations of Black Box AI Models.',\n",
       " 'Sparse Kronecker-Product Coding for Unsourced Multiple Access.',\n",
       " 'Multi-view data capture for dynamic object reconstruction using handheld augmented reality mobiles.',\n",
       " 'Cover Picture.',\n",
       " 'Statement of Retraction.',\n",
       " 'Parameter dependent finite element analysis for ferronematics solutions.',\n",
       " 'Understanding and Fixing Complex Faults in Embedded Cyberphysical Systems.',\n",
       " 'Sparse optimal stochastic control.',\n",
       " 'A positivity-preserving high-order weighted compact nonlinear scheme for compressible gas-liquid flows.',\n",
       " 'New Products.',\n",
       " 'Data driven Dirichlet sampling on manifolds.',\n",
       " 'Defending IEEE Software Standards in Federal Criminal Court.',\n",
       " 'An unsupervised machine-learning checkpoint-restart algorithm using Gaussian mixtures for particle-in-cell simulations.',\n",
       " 'A short note on the accuracy of the discontinuous Galerkin method with reentrant faces.',\n",
       " 'Spectral concepts in genome informational analysis.',\n",
       " 'A note on the price of bandit feedback for mistake-bounded online learning.',\n",
       " 'ETICA: Efficient Two-Level I/O Caching Architecture for Virtualized Platforms.',\n",
       " 'Multimodal Approaches for Indoor Localization for Ambient Assisted Living in Smart Homes.',\n",
       " 'Applications of Recurrent Neural Network for Biometric Authentication & Anomaly Detection.',\n",
       " 'A Novel Approach for Classification and Forecasting of Time Series in Particle Accelerators.',\n",
       " 'On Two-Stage Guessing.',\n",
       " 'Correction to: Fast and accurate pseudoinverse with sparse matrix reordering and incremental approach.',\n",
       " 'A Decentralized Framework for Serverless Edge Computing in the Internet of Things.',\n",
       " 'RB-CCR: Radial-Based Combined Cleaning and Resampling algorithm for imbalanced data classification.',\n",
       " 'A learning-based view extrapolation method for axial super-resolution.',\n",
       " 'CFA: Toward the Realization of Conservative Full Adder in QCA with Enhanced Reliability.',\n",
       " 'Multi-Label Classification Neural Networks with Hard Logical Constraints.',\n",
       " 'The complexity of testing all properties of planar graphs, and the role of isomorphism.',\n",
       " 'Deep Adversarial Learning on Google Home devices.',\n",
       " 'Pseudodeterministic Algorithms and the Structure of Probabilistic Time.',\n",
       " 'Hypercontractivity on High Dimensional Expanders: a Local-to-Global Approach for Higher Moments.',\n",
       " 'Quantum Algorithms for Variants of Average-Case Lattice Problems via Filtering.',\n",
       " 'Influence of a Set of Variables on a Boolean Function.',\n",
       " 'Adaptive Transmission Scheduling in Wireless Networks for Asynchronous Federated Learning.',\n",
       " 'On the Complexity of Two-Party Differential Privacy.',\n",
       " 'Extractors: Low Entropy Requirements Colliding With Non-Malleability.',\n",
       " 'Tight bounds on the Fourier growth of bounded functions on the hypercube.',\n",
       " 'Classification of OBDD size for monotone 2-CNFs.',\n",
       " 'Hybrid Satellite-UAV-Terrestrial Networks for 6G Ubiquitous Coverage: A Maritime Communications Perspective.',\n",
       " 'Algorithms and Lower Bounds for Comparator Circuits from Shrinkage.',\n",
       " 'Lower Bounds on Stabilizer Rank.',\n",
       " 'Fast, Algebraic Multivariate Multipoint Evaluation in Small Characteristic and Applications.',\n",
       " 'Streaming approximation resistance of every ordering CSP.',\n",
       " 'Symbolic Loop Compilation for Tightly Coupled Processor Arrays.',\n",
       " 'SIAM: Chiplet-based Scalable In-Memory Acceleration with Mesh for Deep Neural Networks.',\n",
       " 'DeepGD: A Deep Learning Framework for Graph Drawing Using GNN.',\n",
       " 'ROBIN: A Robust Optical Binary Neural Network Accelerator.',\n",
       " 'Computationally Assisted Design and Selection of Maneuverable Biological Walking Machines.',\n",
       " 'ANFIC: Image Compression Using Augmented Normalizing Flows.',\n",
       " 'A Low-Complexity Radar Detector Outperforming OS-CFAR for Indoor Drone Obstacle Avoidance.',\n",
       " '3D Rotation-Trackable and Differentiable Micromachines with Dimer-Type Structures for Dynamic Bioanalysis.',\n",
       " 'Evaluating Document Coherence Modelling.',\n",
       " 'Lexically Aware Semi-Supervised Learning for OCR Post-Correction.',\n",
       " 'Context-aware Adversarial Training for Name Regularity Bias in Named Entity Recognition.',\n",
       " 'Lightweight Compression of Intermediate Neural Network Features for Collaborative Intelligence.',\n",
       " 'Did Aristotle Use a Laptop? A Question Answering Benchmark with Implicit Reasoning Strategies.',\n",
       " 'A Flexible Magnetically Controlled Continuum Robot Steering in the Enlarged Effective Workspace with Constraints for Retrograde Intrarenal Surgery.',\n",
       " 'He Thinks He Knows Better than the Doctors: BERT for Event Factuality Fails on Pragmatics.',\n",
       " 'Energy Efficiency of Uplink Cell-Free Massive MIMO With Transmit Power Control in Measured Propagation Channel.',\n",
       " 'Characterizing English Variation across Social Media Communities with BERT.',\n",
       " 'Memory-Based Semantic Parsing.',\n",
       " 'Controllable Summarization with Constrained Markov Decision Process.',\n",
       " 'Measuring and Improving Consistency in Pretrained Language Models.',\n",
       " 'Spatio-temporal-spectral-angular observation model that integrates observations from UAV and mobile mapping vehicle for better urban mapping.',\n",
       " 'Semi-Supervised Multi-Modal Multi-Instance Multi-Label Deep Network with Optimal Transport.',\n",
       " 'OpenSSLNTRU: Faster post-quantum TLS key exchange.',\n",
       " 'The Elliptic Net Algorithm Revisited.',\n",
       " 'WildGait: Learning Gait Representations from Raw Surveillance Streams.',\n",
       " 'Asymmetric All-or-nothing Transforms.',\n",
       " 'REGINA - Reasoning Graph Convolutional Networks in Human Action Recognition.',\n",
       " 'Evidential fully convolutional network for semantic segmentation.',\n",
       " 'Spark NLP: Natural Language Understanding at Scale.',\n",
       " 'Temporal complex networks modeling applied to vehicular ad-hoc networks.',\n",
       " 'Reinforcement Learning for Deceiving Reactive Jammers in Wireless Networks.',\n",
       " 'On the Stability Region of Intermittent Interference Networks.',\n",
       " 'Directed particle swarm optimization with Gaussian-process-based function forecasting.',\n",
       " 'SFCDecomp: Multicriteria Optimized Tool Path Planning in 3D Printing using Space-Filling Curve Based Domain Decomposition.',\n",
       " 'Non-Homogeneous Haze Removal via Artificial Scene Prior and Bidimensional Graph Reasoning.',\n",
       " 'The Vulnerability of Semantic Segmentation Networks to Adversarial Attacks in Autonomous Driving: Enhancing Extensive Environment Sensing.',\n",
       " 'Foldover-free maps in 50 lines of code.',\n",
       " 'Joint Beamforming and Reconfigurable Intelligent Surface Design for Two-Way Relay Networks.',\n",
       " 'SADRNet: Self-Aligned Dual Face Regression Networks for Robust 3D Dense Face Alignment and Reconstruction.',\n",
       " 'UniFaceGAN: A Unified Framework for Temporally Consistent Facial Video Editing.',\n",
       " 'A Lightweight Concept Drift Detection and Adaptation Framework for IoT Data Streams.',\n",
       " 'Adaptive Similarity Function with Structural Features of Network Embedding for Missing Link Prediction.',\n",
       " 'Reliability and Validity of Image-Based and Self-Reported Skin Phenotype Metrics.',\n",
       " 'Robustness against Read Committed for Transaction Templates.',\n",
       " 'Recurrent Video Deblurring with Blur-Invariant Motion Estimation and Pixel Volumes.',\n",
       " 'Beyond quadratic speedups in quantum attacks on symmetric schemes.',\n",
       " 'Fine-Grained Fashion Similarity Prediction by Attribute-Specific Embedding Learning.',\n",
       " 'Millimeter Wave and Terahertz Urban Microcell Propagation Measurements and Models.',\n",
       " 'Encoding-dependent generalization bounds for parametrized quantum circuits.',\n",
       " 'Explaining Inference Queries with Bayesian Optimization.',\n",
       " 'I-DLV-sr: A Stream Reasoning System based on I-DLV.',\n",
       " 'Sinsy: A Deep Neural Network-Based Singing Voice Synthesis System.',\n",
       " 'SetSketch: Filling the Gap between MinHash and HyperLogLog.',\n",
       " 'Visualization in Astrophysics: Developing New Methods, Discovering Our Universe, and Educating the Earth.',\n",
       " 'De-Pois: An Attack-Agnostic Defense against Data Poisoning Attacks.',\n",
       " 'Refactoring the Whitby Intelligent Tutoring System for Clean Architecture.',\n",
       " 'Quantization and Deployment of Deep Neural Networks on Microcontrollers.',\n",
       " 'Medical-VLBERT: Medical Visual Language BERT for COVID-19 CT Report Generation With Alternate Learning.',\n",
       " 'Blockchain for IoT: A Critical Analysis Concerning Performance and Scalability.',\n",
       " 'QuickLoc: Adaptive Deep-Learning for Fast Indoor Localization with Mobile Devices.',\n",
       " 'FLGUARD: Secure and Private Federated Learning.',\n",
       " 'Geometry-Based Layout Generation with Hyper-Relations AMONG Objects.',\n",
       " 'Verified Quadratic Virtual Substitution for Real Arithmetic.',\n",
       " 'Stable Matching for Selection of Intelligent Reflecting Surfaces in Multiuser MISO Systems.',\n",
       " 'Quantum machine learning with adaptive linear optics.',\n",
       " 'A Method for Medical Data Analysis Using the LogNNet for Clinical Decision Support Systems and Edge Computing in Healthcare.',\n",
       " 'A Training Set Subsampling Strategy for the Reduced Basis Method.',\n",
       " 'Butterfly-Core Community Search over Labeled Graphs.',\n",
       " 'Surrogate-assisted cooperative signal optimization for large-scale traffic networks.',\n",
       " 'Video Text Tracking With a Spatio-Temporal Complementary Model.',\n",
       " 'Extending Isolation Forest for Anomaly Detection in Big Data via K-Means.',\n",
       " 'Dual-view Snapshot Compressive Imaging via Optical Flow Aided Recurrent Neural Network.',\n",
       " 'Electromechanical modeling of human ventricles with ischemic cardiomyopathy: numerical simulations in sinus rhythm and under arrhythmia.',\n",
       " 'Quantum Encryption with Certified Deletion, Revisited: Public Key, Attribute-Based, and Classical Communication.',\n",
       " 'FlashP: An Analytical Pipeline for Real-time Forecasting of Time-Series Relational Data.',\n",
       " 'An Experimental Analysis of Attack Classification Using Machine Learning in IoT Networks.',\n",
       " 'Secure Blockchain Platform for Industrial IoT with Trusted Computing Hardware.',\n",
       " 'Inferring Latent Domains for Unsupervised Deep Domain Adaptation.',\n",
       " 'Recurrent Model Predictive Control.',\n",
       " 'Personal Privacy Protection via Irrelevant Faces Tracking and Pixelation in Video Live Streaming.',\n",
       " 'MIMO Terahertz Quantum Key Distribution.',\n",
       " 'On the Success Probability of Three Detectors for the Box-Constrained Integer Linear Model.',\n",
       " 'Using spatial-temporal ensembles of convolutional neural networks for lumen segmentation in ureteroscopy.',\n",
       " 'Design Patterns and Trade-Offs in Responsive Visualization for Communication.',\n",
       " 'Anonymous Blockchain-based System for Consortium.',\n",
       " 'User Response Prediction in Online Advertising.',\n",
       " 'Power Beacon Placement for Maximizing Guaranteed Coverage in Bistatic Backscatter Networks.',\n",
       " 'Data Science for Engineers: A Teaching Ecosystem.',\n",
       " 'Deep Multi-Stage CSI Acquisition for Reconfigurable Intelligent Surface Aided MIMO Systems.',\n",
       " 'Transformation-Enabled Precondition Inference.',\n",
       " 'OTFS Signaling for Uplink NOMA of Heterogeneous Mobility Users.',\n",
       " 'Non-line-of-Sight Imaging via Neural Transient Fields.',\n",
       " '2D Points Curve Reconstruction Survey and Benchmark.',\n",
       " 'Deep Reinforcement Learning for the Control of Robotic Manipulation: A Focussed Mini-Review.',\n",
       " 'Guided parallelized stochastic gradient descent for delay compensation.',\n",
       " 'Predicting publication productivity for authors: Shallow or deep architecture?',\n",
       " 'Subsentence Extraction from Text Using Coverage-Based Deep Learning Language Models.',\n",
       " 'Some Generic Constructions of Generalized Plateaued Functions.',\n",
       " 'Convex Synthesis of Accelerated Gradient Algorithms.',\n",
       " 'Robust Privacy-Preserving Motion Detection and Object Tracking in Encrypted Streaming Video.',\n",
       " 'Modal Logic S5 Satisfiability in Answer Set Programming.',\n",
       " 'Identification of Social-Media Platform of Videos through the Use of Shared Features.',\n",
       " 'Quantum-accelerated constraint programming.',\n",
       " 'On computable aspects of algebraic and definable closure.',\n",
       " 'An Optimized Quantum Implementation of ISD on Scalable Quantum Resources.',\n",
       " 'Rosita++: Automatic Higher-Order Leakage Elimination from Cryptographic Code.',\n",
       " 'On the role of artificial intelligence in medical imaging of COVID-19.',\n",
       " 'Achtung.Datentrickserei.',\n",
       " 'Segmentation and Measurements of Carotid Intima-Media Thickness in Ultrasound Images Using the Improved Convolutional Neural Network and Support Vector Machine.',\n",
       " 'Side-Channel Protections for Picnic Signatures.',\n",
       " 'Attacking and Defending Masked Polynomial Comparison for Lattice-Based Cryptography.',\n",
       " 'FIVER - Robust Verification of Countermeasures against Fault Injections.',\n",
       " 'Fault Attacks on CCA-secure Lattice KEMs.',\n",
       " 'Reinforcement Learning for Hyperparameter Tuning in Deep Learning-based Side-channel Analysis.',\n",
       " 'Classic McEliece on the ARM Cortex-M4.',\n",
       " 'New First-Order Secure AES Performance Records.',\n",
       " 'Technical Report Column.',\n",
       " 'Weak Keys in Reduced AEGIS and Tiaoxin.',\n",
       " \"Editors' Note.\",\n",
       " 'Section A: Mathematics and Engineering Section B: Computer Science.',\n",
       " 'PhD Abstracts.',\n",
       " 'Military operational evaluations: credible data and decision making.',\n",
       " 'Queueing network model with jockeying to reduce the waiting time in the airport.',\n",
       " 'Special Issue: 16th International Symposium on Bioinformatics Research and Applications (ISBRA 2020).',\n",
       " 'UAV Communications for Sustainable Federated Learning.',\n",
       " 'Energy-Efficient Precoding in Electromagnetic Exposure-Constrained Uplink Multiuser MIMO.',\n",
       " 'Scalable Cell-Free Massive MIMO Systems: Impact of Hardware Impairments.',\n",
       " 'Secure UAV Random Networks With Minimum Safety Distance.',\n",
       " 'Verification column.',\n",
       " 'A Non-Deterministic Multiset Query Language.',\n",
       " 'Investigating Reversibility of Steps in Petri Nets.',\n",
       " 'Book Reviews.',\n",
       " 'Secure cloud-of-clouds storage with space-efficient secret sharing.',\n",
       " 'Segmentation-Renormalized Deep Feature Modulation for Unpaired Image Harmonization.',\n",
       " 'Towards Visual Semantics.',\n",
       " 'Regular Section.',\n",
       " '<i>q</i>',\n",
       " 'Dissertationen.',\n",
       " 'Health Status Prediction with Local-Global Heterogeneous Behavior Graph.',\n",
       " 'DFENet: A Novel Dimension Fusion Edge Guided Network for Brain MRI Segmentation.',\n",
       " 'Applying Model-Driven Engineering to Stimulate the Adoption of DevOps Processes in Small and Medium-Sized Development Organizations.',\n",
       " 'Retraction.',\n",
       " 'DeEPCA: Decentralized Exact PCA with Linear Convergence Rate.',\n",
       " 'Control Flow Versus Data Flow in Distributed Systems Integration: Revival of Flow-Based Programming for the Industrial Internet of Things.',\n",
       " '3D shape sensing and deep learning-based segmentation of strawberries.',\n",
       " 'Mode-wise Tensor Decompositions: Multi-dimensional Generalizations of CUR Decompositions.',\n",
       " 'Matching Algorithms: Fundamentals, Applications and Challenges.',\n",
       " 'Paris-CARLA-3D: A Real and Synthetic Outdoor Point Cloud Dataset for Challenging Tasks in 3D Mapping.',\n",
       " 'S2Looking: A Satellite Side-Looking Dataset for Building Change Detection.',\n",
       " 'Sparse Code Multiple Access for 6G Wireless Communication Networks: Recent Advances and Future Directions.',\n",
       " 'Optimizing Performance and Satisfaction in Matching and Movement Tasks in Virtual Reality with Interventions Using the Data Visualization Literacy Framework.',\n",
       " 'Toward Blockchain-Enabled Supply Chain Anti-Counterfeiting and Traceability.',\n",
       " 'On the Complexity of Inverse Mixed Integer Linear Optimization.',\n",
       " 'A bi-objective production-distribution problem in a supply chain network under grey flexible conditions.',\n",
       " 'New binary self-dual codes of lengths 56, 58, 64, 80 and 92 from a modification of the four circulant construction.',\n",
       " 'Radar-to-Lidar: Heterogeneous Place Recognition via Joint Learning.',\n",
       " 'Reinforcement Learning and Control of a Lower Extremity Exoskeleton for Squat Assistance.',\n",
       " 'Some Questions of Uniformity in Algorithmic Randomness.',\n",
       " 'Introducing the structural bases of typicality effects in deep learning.',\n",
       " 'The entrepreneurial logic of startup software development: A study of 40 software startups.',\n",
       " 'Multi-Cell Mobile Edge Computing: Joint Service Migration and Resource Allocation.',\n",
       " 'Optimal Status Update for Caching Enabled IoT Networks: A Dueling Deep R-Network Approach.',\n",
       " 'Detection of a rank-one signal with limited training data.',\n",
       " 'Learning Optimal Fronthauling and Decentralized Edge Computation in Fog Radio Access Networks.',\n",
       " 'Learning Autonomy in Management of Wireless Random Networks.',\n",
       " 'Unsupervised domain adaptation with non-stochastic missing data.',\n",
       " 'Development of recommendation systems for software engineering: the CROSSMINER experience.',\n",
       " 'Low-Precision Hardware Architectures Meet Recommendation Model Inference at Scale.',\n",
       " 'Series Editorial: Data Science and Artificial Intelligence for Communications.',\n",
       " 'Personal Devices for Contact Tracing: Smartphones and Wearables to Fight Covid-19.',\n",
       " 'Series Editorial: Optical Communications and Networks.',\n",
       " 'Transport Services: A Modern API for an Adaptive Internet Transport Layer.',\n",
       " 'Enhancing RF Sensing with Deep Learning: A Layered Approach.',\n",
       " 'LEO Satellite Constellations for 5G and Beyond: How Will They Reshape Vertical Domains?',\n",
       " 'A Fast Heuristic for Gateway Location in Wireless Backhaul of 5G Ultra-Dense Networks.',\n",
       " 'Common acronyms.',\n",
       " 'OptiMic: A tool to generate optimized polycrystalline microstructures for materials simulations.',\n",
       " 'Memory-Efficient Modeling and Slicing of Large-Scale Adaptive Lattice Structures.',\n",
       " 'Joint Mobile Charging and Coverage-Time Extension for Unmanned Aerial Vehicles.',\n",
       " 'Toward Trustworthy Urban IT Systems: The Bright and Dark Sides of Smart City Development.',\n",
       " \"A Hitchhiker's Guide to Structural Similarity.\",\n",
       " 'Tracking Based Semi-Automatic Annotation for Scene Text Videos.',\n",
       " 'Run-Time Monitoring of Machine Learning for Robotic Perception: A Survey of Emerging Trends.',\n",
       " 'Forecasting Crude Oil Price Using Event Extraction.',\n",
       " 'Compacting Deep Neural Networks for Internet of Things: Methods and Applications.',\n",
       " 'Hardware Implementation of an OPC UA Server for Industrial Field Devices.',\n",
       " 'A Method to Analyze Multiple Social Identities in Twitter Bios.',\n",
       " 'Efficient recursive least squares solver for rank-deficient matrices.',\n",
       " 'DenResCov-19: A deep transfer learning network for robust automatic classification of COVID-19, pneumonia, and tuberculosis from X-rays.',\n",
       " 'The distance backbone of complex networks.',\n",
       " 'On sublinear approximations for the Petersen coloring conjecture.',\n",
       " 'Report.',\n",
       " 'Real-time multimodal image registration with partial intraoperative point-set data.',\n",
       " 'Rezensionen.',\n",
       " 'Sequential Learning-based IaaS Composition.',\n",
       " 'MemX: An Attention-Aware Smart Eyewear System for Personalized Moment Auto-capture.',\n",
       " 'SyncUp: Vision-based Practice Support for Synchronized Dancing.',\n",
       " 'Editorial Note.',\n",
       " 'Probabilistic Multi-View Fusion of Active Stereo Depth Maps for Robotic Bin-Picking.',\n",
       " 'Learning Inverse Kinodynamics for Accurate High-Speed Off-Road Navigation on Unstructured Terrain.',\n",
       " 'Intensity-SLAM: Intensity Assisted Localization and Mapping for Large Scale Environment.',\n",
       " 'SuctionNet-1Billion: A Large-Scale Benchmark for Suction Grasping.',\n",
       " 'An Adaptive Framework for Learning Unsupervised Depth Completion.',\n",
       " 'SABER: Data-Driven Motion Planner for Autonomously Navigating Heterogeneous Robots.',\n",
       " 'A Wideband Sliding Correlation Channel Sounder in 65 nm CMOS: Evaluation Board Performance.',\n",
       " 'Hey Robot, Which Way Are You Going? Nonverbal Motion Legibility Cues for Human-Robot Spatial Interaction.',\n",
       " 'VIODE: A Simulated Dataset to Address the Challenges of Visual-Inertial Odometry in Dynamic Environments.',\n",
       " 'Rover Relocalization for Mars Sample Return by Virtual Template Synthesis and Matching.',\n",
       " 'Expectation-Maximization-Aided Hybrid Generalized Expectation Consistent for Sparse Signal Reconstruction.',\n",
       " 'Channel Estimation for Intelligent Reflecting Surface Assisted Backscatter Communication.',\n",
       " 'IRS Meets Relaying: Joint Resource Allocation and Passive Beamforming Optimization.',\n",
       " 'On Telecommunication Service Imbalance and Infrastructure Resource Deployment.',\n",
       " 'Outage Probability Analysis of IRS-Assisted Systems Under Spatially Correlated Channels.',\n",
       " 'Federated Data Science to Break Down Silos [Vision].',\n",
       " 'Over-the-Air Computation via Broadband Channels.',\n",
       " 'Boosting in Univariate Nonparametric Maximum Likelihood Estimation.',\n",
       " 'Hybrid Beamforming Optimization for DOA Estimation Based on the CRB Analysis.',\n",
       " 'Obituary.',\n",
       " 'From Symbols to Embeddings: A Tale of Two Representations in Computational Social Science.',\n",
       " 'Call for Special Issue Papers: Big Data-Driven Futuristic Fabric System in Societal Digital Transformation: Deadline for Manuscript Submission: December 30, 2021.',\n",
       " 'Two-stage training algorithm for AI robot soccer.',\n",
       " 'Interpretable Approximation of High-Dimensional Data.',\n",
       " 'Urdu text in natural scene images: a new dataset and preliminary text detection.',\n",
       " 'Investigating the significance of adversarial attacks and their relation to interpretability for radar-based human activity recognition systems.',\n",
       " 'Engineering Education in the Age of Autonomous Machines.',\n",
       " 'A fourth-order compact time-splitting method for the Dirac equation with time-dependent potentials.',\n",
       " '50 & 25 Years Ago.',\n",
       " 'Approximate inversion of discrete Fourier integral operators.',\n",
       " 'Distributed adaptive stabilization.',\n",
       " 'Error analysis of some nonlocal diffusion discretization schemes.',\n",
       " 'Time Complexity Analysis of Randomized Search Heuristics for the Dynamic Graph Coloring Problem.',\n",
       " 'Energy-consistent finite difference schemes for compressible hydrodynamics and magnetohydrodynamics using nonlinear filtering.',\n",
       " 'Risks to the Public.',\n",
       " 'Wireless Power Transfer for Future Networks: Signal Processing, Machine Learning, Computing, and Sensing.',\n",
       " 'A multimodal solution approach for mitigating the impact of planned maintenance on metro rail attractiveness.',\n",
       " 'Intelligence and Unambitiousness Using Algorithmic Information Theory.',\n",
       " 'Performance Analysis and Optimization Opportunities for NVIDIA Automotive GPUs.',\n",
       " 'Knowledge bases and software support for variant interpretation in precision oncology.',\n",
       " 'Best-Arm Identification in Correlated Multi-Armed Bandits.',\n",
       " 'Graph Convolutional Networks for Model-Based Learning in Nonlinear Inverse Problems.',\n",
       " 'Fixed-Point and Objective Convergence of Plug-and-Play Algorithms.',\n",
       " 'Inscriptis - A Python-based HTML to text conversion library optimized for knowledge extraction from the Web.',\n",
       " 'Learning-based pose edition for efficient and interactive design.',\n",
       " 'Chordal and factor-width decompositions for scalable semidefinite and polynomial optimization.',\n",
       " 'An empirical assessment of deep learning approaches to task-oriented dialog management.',\n",
       " 'Invited Articles Foreword.',\n",
       " 'Classification of the streaming approximability of Boolean CSPs.',\n",
       " 'Dynamic Planning of Bicycle Stations in Dockless Public Bicycle-sharing System Using Gated Graph Neural Network.',\n",
       " 'Channel Estimation and Hybrid Combining for Wideband Terahertz Massive MIMO Systems.',\n",
       " 'Finding Bugs with Specification-Based Testing is Easy!',\n",
       " 'Post-Quantum Zero Knowledge, Revisited (or: How to Do Quantum Rewinding Undetectably).',\n",
       " 'Gender differences in research performance within and between countries: Italy vs Norway.',\n",
       " 'Sublinear quantum algorithms for estimating von Neumann entropy.',\n",
       " 'Algorithmizing the Multiplicity Schwartz-Zippel Lemma.',\n",
       " 'Route Optimization via Environment-Aware Deep Network and Reinforcement Learning.',\n",
       " 'Keep That Card in Mind: Card Guessing with Limited Memory.',\n",
       " 'Extractors for Sum of Two Sources.',\n",
       " 'Quantum Proofs of Proximity.',\n",
       " 'Approximability of all finite CSPs in the dynamic streaming setting.',\n",
       " 'The impact of online machine-learning methods on long-term investment decisions and generator utilization in electricity markets.',\n",
       " 'SAGE: A Split-Architecture Methodology for Efficient End-to-End Autonomous Vehicle Control.',\n",
       " 'Federated Learning for Industrial Internet of Things in Future Industries.',\n",
       " 'Comparative Analysis and Enhancement of CFG-based Hardware-Assisted CFI Schemes.',\n",
       " 'Publisher Correction: Automating turbulence modelling by multi-agent reinforcement learning.',\n",
       " 'FLASH: Fast Neural Architecture Search with Hardware Optimization.',\n",
       " 'EpiDope: a deep neural network for linear B-cell epitope prediction.',\n",
       " 'Robotic Devices for Minimally Invasive Endovascular Interventions: A New Dawn for Interventional Radiology.',\n",
       " 'Hybrid System Analysis and Control of a Soft Robotic Gripper with Embedded Proprioceptive Sensing for Enhanced Gripping Performance.',\n",
       " \"There Once Was a Really Bad Poet, It Was Automated but You Didn't Know It.\",\n",
       " 'On the derivation of guaranteed and p-robust a posteriori error estimates for the Helmholtz equation.',\n",
       " 'Artificial-Intelligence-Enabled Reagent-Free Imaging Hematology Analyzer.',\n",
       " 'Feasibility Study on Subcutaneously Implanted Devices in Male Rodents for Cardiovascular Assessment Through Near-Field Communication Interface.',\n",
       " 'Human-Machine Collaboration for Automated Driving Using an Intelligent Two-Phase Haptic Interface.',\n",
       " \"Editor's Introduction.\",\n",
       " 'Submersible Soft-Robotic Platform for Noise-Free Hovering Utilizing Liquid-Vapor Phase Transition.',\n",
       " 'A High-Speed True Random Number Generator Based on a Cu x Te 1- x Diffusive Memristor.',\n",
       " 'Light-Powered Microrobots: Challenges and Opportunities for Hard and Soft Responsive Microswimmers.',\n",
       " 'Sensorized Foam Actuator with Intrinsic Proprioception and Tunable Stiffness Behavior for Soft Robots.',\n",
       " 'HeterSkinNet: A Heterogeneous Network for Skin Weights Prediction.',\n",
       " 'Exposing Semantic Segmentation Failures via Maximum Discrepancy Competition.',\n",
       " 'ARC: Alignment-based Redirection Controller for Redirected Walking in Complex Environments.',\n",
       " 'Volume Preserving Simulation of Soft Tissue with Skin.',\n",
       " 'Reversify any sequential algorithm.',\n",
       " 'Machine Learning for Electronic Design Automation: A Survey.',\n",
       " 'Wide Color Gamut Image Content Characterization: Method, Evaluation, and Applications.',\n",
       " 'Efficient Hyperparameter Optimization for Physics-based Character Animation.',\n",
       " 'Beaming Displays.',\n",
       " 'tf.data: A Machine Learning Data Processing Framework.',\n",
       " 'Redirected Walking in Static and Dynamic Scenes Using Visibility Polygons.',\n",
       " 'Securing Secure Aggregation: Mitigating Multi-Round Privacy Leakage in Federated Learning.',\n",
       " 'Securing Proof-of-Stake Nakamoto Consensus Under Bandwidth Constraint.',\n",
       " 'On Minimax Detection of Gaussian Stochastic Sequences and Gaussian Stationary Signals.',\n",
       " 'Entropy as a Topological Operad Derivation.',\n",
       " 'Reconfigurable Intelligent Surfaces in 6G: Reflective, Transmissive, or Both?',\n",
       " 'Property-Preserving Hash Functions from Standard Assumptions.',\n",
       " 'Underwater Acoustic Communication Receiver Using Deep Belief Network.',\n",
       " 'Autoencoder-Based Unequal Error Protection Codes.',\n",
       " 'Fast Convergence of DETR with Spatially Modulated Co-Attention.',\n",
       " 'Managing ML Pipelines: Feature Stores and the Coming Wave of Embedding Ecosystems.',\n",
       " 'Regularized Kaczmarz Algorithms for Tensor Recovery.',\n",
       " 'ON-OFF Privacy Against Correlation Over Time.',\n",
       " 'Dynamic Logic of Legal Competences.',\n",
       " 'Flow-Loss: Learning Cardinality Estimates That Matter.',\n",
       " 'Graph Attention Layer Evolves Semantic Segmentation for Road Pothole Detection: A Benchmark and Algorithms.',\n",
       " 'Episodic memory governs choices: An RNN-based reinforcement learning model for decision-making task.',\n",
       " 'An SPH framework for fluid-solid and contact interaction problems including thermo-mechanical coupling and reversible phase transitions.',\n",
       " 'Data Acquisition for Improving Machine Learning Models.',\n",
       " 'Enhanced Magnetic Resonance Image Synthesis with Contrast-Aware Generative Adversarial Networks.',\n",
       " 'The academic wanderer: structure of collaboration network and relation with research performance.',\n",
       " 'Toward asynchronous EEG-based BCI: Detecting imagined words segments in continuous EEG signals.',\n",
       " 'STALP: Style Transfer with Auxiliary Limited Pairing.',\n",
       " 'Clifford Circuit Optimization with Templates and Symbolic Pauli Gates.',\n",
       " 'No-Pain No-Gain: DRL Assisted Optimization in Energy-Constrained CR-NOMA Networks.',\n",
       " 'The Exploitation of Distance Distributions for Clustering.',\n",
       " 'Explainable Fuzzy Utility Mining on Sequences.',\n",
       " 'Asynchronous Distributed Optimization via Dual Decomposition and Block Coordinate Subgradient Methods.',\n",
       " 'ChipQA: No-Reference Video Quality Prediction via Space-Time Chips.',\n",
       " 'Eavesdropper and Jammer Selection in Wireless Source Localization Networks.',\n",
       " 'Vector Detection Network: An Application Study on Robots Reading Analog Meters in the Wild.',\n",
       " 'Real-time ground filtering algorithm of cloud points acquired using Terrestrial Laser Scanner (TLS).',\n",
       " 'Developing a cyber security culture: Current practices and future needs.',\n",
       " 'HuBERT: Self-Supervised Speech Representation Learning by Masked Prediction of Hidden Units.',\n",
       " 'F-Divergences and Cost Function Locality in Generative Modelling with Quantum Circuits.',\n",
       " 'Pravuil: Global Consensus for a United World.',\n",
       " 'Depth as Attention for Face Representation Learning.',\n",
       " 'Phoebe: A Learning-based Checkpoint Optimizer.',\n",
       " 'Energy-Efficient MAC for Cellular IoT: State-of-the-Art, Challenges, and Standardization.',\n",
       " 'LargeEA: Aligning Entities for Large-scale Knowledge Graphs.',\n",
       " 'Interactive Error Correcting Codes Over Binary Erasure Channels Resilient to $>\\\\frac12$ Adversarial Corruption.',\n",
       " 'Prospect-theoretic Q-learning.',\n",
       " 'XCycles Backprojection Acoustic Super-Resolution.',\n",
       " 'Game-Theoretic Mode Scheduling for Dynamic TDD in 5G Systems.',\n",
       " 'Understanding the growth of the Fediverse through the lens of Mastodon.',\n",
       " 'A Novel Upsampling and Context Convolution for Image Semantic Segmentation.',\n",
       " 'ARMORY: Fully Automated and Exhaustive Fault Simulation on ARM-M Binaries.',\n",
       " 'CBench: Towards Better Evaluation of Question Answering Over Knowledge Graphs.',\n",
       " 'UN-AVOIDS: Unsupervised and Nonparametric Approach for Visualizing Outliers and Invariant Detection Scoring.',\n",
       " 'A proof of concept study for machine learning application to stenosis detection.',\n",
       " 'Angle-Domain Intelligent Reflecting Surface Systems: Design and Analysis.',\n",
       " 'Fast Privacy-Preserving Text Classification based on Secure Multiparty Computation.',\n",
       " 'Blockchain-empowered Data-driven Networks: A Survey and Outlook.',\n",
       " 'Byzantine Agreement with Less Communication: Recent Advances.',\n",
       " 'Sequence-Level Training for Non-Autoregressive Neural Machine Translation.',\n",
       " 'Exact Learning Augmented Naive Bayes Classifier.',\n",
       " 'Adaptive two- and three-dimensional multiresolution computations of resistive magnetohydrodynamics.',\n",
       " 'Privacy-Preserving Training of Tree Ensembles over Continuous Data.',\n",
       " 'Fighting Fake News in Encrypted Messaging with the Fuzzy Anonymous Complaint Tally System (FACTS).',\n",
       " 'Shape-induced obstacle attraction and repulsion during dynamic locomotion.',\n",
       " 'Dominance-based linear formulation for the Anchor-Robust Project Scheduling Problem.',\n",
       " 'Quantum Learning Based Nonrandom Superimposed Coding for Secure Wireless Access in 5G URLLC.',\n",
       " 'Compressive Neural Representations of Volumetric Scalar Fields.',\n",
       " 'Discriminative Triad Matching and Reconstruction for Weakly Referring Expression Grounding.',\n",
       " 'Subfield Algorithms for Ideal- and Module-SVP Based on the Decomposition Group.',\n",
       " 'The Eye of Horus: Spotting and Analyzing Attacks on Ethereum Smart Contracts.',\n",
       " 'Attention-driven read-aloud technology increases reading comprehension in children with reading disabilities.',\n",
       " 'Toward Blockchain for Edge-of-Things: A New Paradigm, Opportunities, and Future Directions.',\n",
       " 'Unsupervised Deep Image Stitching: Reconstructing Stitched Features to Images.',\n",
       " 'Compactness of Hashing Modes and Efficiency beyond Merkle Tree.',\n",
       " 'Fast convolutional neural networks on FPGAs with hls4ml.',\n",
       " 'WaveCNet: Wavelet Integrated CNNs to Suppress Aliasing Effect for Noise-Robust Image Classification.',\n",
       " 'Online recognition of unsegmented actions with hierarchical SOM architecture.',\n",
       " 'Evaluating the Single-Shot MultiBox Detector and YOLO Deep Learning Models for the Detection of Tomatoes in a Greenhouse.',\n",
       " 'Cardinality Estimation in DBMS: A Comprehensive Benchmark Evaluation.',\n",
       " ...]"
      ]
     },
     "execution_count": 11,
     "metadata": {},
     "output_type": "execute_result"
    }
   ],
   "source": [
    "# 对article中的CoRR去重\n",
    "query4_article_mult_title=query4_article.groupBy('title')\\\n",
    "                            .agg(F.count('title').alias('count'))\\\n",
    "                            .filter(col('count')>=2)\\\n",
    "                            .select('title')\\\n",
    "                            .rdd.map(lambda x: x[0])\\\n",
    "                            .collect()\n",
    "query4_article_mult_title"
   ]
  },
  {
   "cell_type": "code",
   "execution_count": null,
   "metadata": {},
   "outputs": [
    {
     "name": "stderr",
     "output_type": "stream",
     "text": [
      "[Stage 13:===========================>                            (42 + 8) / 85]\r"
     ]
    }
   ],
   "source": [
    "query4_article_dropcorr = query4_article.filter(col('title').isin(query4_article_mult_title))\\\n",
    "                        .filter(lower(col('publication_title'))=='corr')\n",
    "query4_article_dropcorr.show()\n",
    "#query4_article_dropcorr.count()"
   ]
  },
  {
   "cell_type": "code",
   "execution_count": null,
   "metadata": {},
   "outputs": [],
   "source": [
    "#从query4_article中去除query4_article_dropcorr\n",
    "query4_article_dropdup = query4_article.subtract(query4_article_dropcorr)\n",
    "query4_article_dropdup.show()\n",
    "#query4_article_dropdup.count()"
   ]
  },
  {
   "cell_type": "code",
   "execution_count": null,
   "metadata": {},
   "outputs": [],
   "source": [
    "query4_inproceeding = df2.withColumn('new_title',lower(F.regexp_replace('title', '\\.', '')))\\\n",
    "                        .filter(df2.year==2021)\n",
    "query4_inproceeding.show()\n",
    "#query4_inproceeding.count()"
   ]
  },
  {
   "cell_type": "code",
   "execution_count": null,
   "metadata": {},
   "outputs": [],
   "source": [
    "# 对inproceeding中的CoRR去重\n",
    "query4_inproceeding_mult_title=query4_inproceeding.groupBy('title')\\\n",
    "                            .agg(F.count('title').alias('count'))\\\n",
    "                            .filter(col('count')>=2)\\\n",
    "                            .select('title')\\\n",
    "                            .rdd.map(lambda x: x[0])\\\n",
    "                            .collect()\n",
    "# query2_article_mult_title.show()\n",
    "# query2_article_mult_title.count()\n",
    "query4_inproceeding_mult_title"
   ]
  },
  {
   "cell_type": "code",
   "execution_count": null,
   "metadata": {},
   "outputs": [],
   "source": [
    "query4_inproceeding_dropcorr = query4_inproceeding.filter(col('title').isin(query4_inproceeding_mult_title))\\\n",
    "                        .filter(lower(col('publication_title'))=='corr')\n",
    "query4_inproceeding_dropcorr.show()\n",
    "#query4_inproceeding_dropcorr.count()"
   ]
  },
  {
   "cell_type": "code",
   "execution_count": null,
   "metadata": {},
   "outputs": [],
   "source": [
    "#从query4_inproceeding中去除query4_inproceeding_dropcorr\n",
    "query4_inproceeding_dropdup = query4_inproceeding.subtract(query4_inproceeding_dropcorr)\n",
    "query4_inproceeding_dropdup.show()\n",
    "#query4_inproceeding_dropdup.count()"
   ]
  },
  {
   "cell_type": "code",
   "execution_count": null,
   "metadata": {},
   "outputs": [],
   "source": [
    "query4_df = query4_article_dropdup.union(query4_inproceeding_dropdup)\n",
    "\n",
    "query4_df.show()"
   ]
  },
  {
   "cell_type": "markdown",
   "metadata": {},
   "source": [
    "使用tokenizer分词"
   ]
  },
  {
   "cell_type": "code",
   "execution_count": null,
   "metadata": {},
   "outputs": [],
   "source": [
    "query4_df = query4_df.filter(query4_df.new_title.isNotNull())\n",
    "tokenizer = Tokenizer(inputCol=\"new_title\", outputCol=\"words\")\n",
    "wordsData = tokenizer.transform(query4_df)\n",
    "\n",
    "wordsData.show()"
   ]
  },
  {
   "cell_type": "code",
   "execution_count": null,
   "metadata": {},
   "outputs": [],
   "source": [
    "#type(query4_df)\n",
    "type(wordsData)"
   ]
  },
  {
   "cell_type": "code",
   "execution_count": null,
   "metadata": {
    "scrolled": false
   },
   "outputs": [],
   "source": [
    "wordsData = wordsData\\\n",
    "            .filter(array_contains(wordsData.words, 'self-attention')|array_contains(wordsData.words, 'transformer'))\n",
    "#wordsData.show(truncate=False)"
   ]
  },
  {
   "cell_type": "code",
   "execution_count": null,
   "metadata": {},
   "outputs": [],
   "source": [
    "# vectorize\n",
    "vectorizer = CountVectorizer(inputCol='words', outputCol='vectorizer').fit(wordsData)\n",
    "words_vector = vectorizer.transform(wordsData)"
   ]
  },
  {
   "cell_type": "code",
   "execution_count": null,
   "metadata": {},
   "outputs": [],
   "source": [
    "words_vector.show()"
   ]
  },
  {
   "cell_type": "code",
   "execution_count": null,
   "metadata": {
    "scrolled": false
   },
   "outputs": [],
   "source": [
    "idf = IDF(inputCol=\"vectorizer\", outputCol=\"features\")\n",
    "idfModel = idf.fit(words_vector)\n",
    "\n",
    "rescaledData = idfModel.transform(words_vector)\n",
    "rescaledData.select(\"author\",\"title\",\"year\",\"publication_title\",\"words\", \"vectorizer\",\"features\").printSchema()"
   ]
  },
  {
   "cell_type": "code",
   "execution_count": null,
   "metadata": {},
   "outputs": [],
   "source": [
    "rescaledData.select(\"title\",\"words\", \"vectorizer\",\"features\").first()"
   ]
  },
  {
   "cell_type": "code",
   "execution_count": null,
   "metadata": {},
   "outputs": [],
   "source": [
    "vector_item = udf(lambda value: value.toArray().tolist(),ArrayType(DoubleType()))\n",
    "#df = df.filter(no_empty_vector_udf('features',303,1367))\n",
    "#df.show()"
   ]
  },
  {
   "cell_type": "code",
   "execution_count": null,
   "metadata": {
    "scrolled": false
   },
   "outputs": [],
   "source": [
    "rescaledData=rescaledData.withColumn(\"tf1\",vector_item('vectorizer').getItem(vectorizer.vocabulary.index('transformer')))\\\n",
    "            .withColumn(\"idf1\",vector_item('features').getItem(vectorizer.vocabulary.index('transformer')))\\\n",
    "            .withColumn(\"tf2\",vector_item('vectorizer').getItem(vectorizer.vocabulary.index('self-attention')))\\\n",
    "            .withColumn(\"idf2\",vector_item('features').getItem(vectorizer.vocabulary.index('self-attention')))\\\n",
    "\n",
    "rescaledData.withColumn(\"result\",rescaledData.tf1*rescaledData.idf1+rescaledData.tf2*rescaledData.idf2)\\\n",
    "            .withColumnRenamed('publication_title','journal/conference')\n",
    "            .select(\"author\",\"title\",\"journal/conference\",\"year\")\\\n",
    "            .sort(\"result\",ascending=False)\\\n",
    "            .show(10, truncate=False)"
   ]
  },
  {
   "cell_type": "code",
   "execution_count": null,
   "metadata": {},
   "outputs": [],
   "source": [
    "vectorizer.vocabulary"
   ]
  },
  {
   "cell_type": "code",
   "execution_count": null,
   "metadata": {
    "scrolled": true
   },
   "outputs": [],
   "source": [
    "vectorizer.vocabulary.index('transformer')"
   ]
  },
  {
   "cell_type": "code",
   "execution_count": null,
   "metadata": {},
   "outputs": [],
   "source": [
    "vectorizer.vocabulary.index('self-attention')"
   ]
  },
  {
   "cell_type": "code",
   "execution_count": null,
   "metadata": {},
   "outputs": [],
   "source": []
  },
  {
   "cell_type": "code",
   "execution_count": null,
   "metadata": {},
   "outputs": [],
   "source": []
  },
  {
   "cell_type": "code",
   "execution_count": null,
   "metadata": {},
   "outputs": [],
   "source": []
  },
  {
   "cell_type": "code",
   "execution_count": null,
   "metadata": {},
   "outputs": [],
   "source": []
  }
 ],
 "metadata": {
  "kernelspec": {
   "display_name": "Python 3 (ipykernel)",
   "language": "python",
   "name": "python3"
  },
  "language_info": {
   "codemirror_mode": {
    "name": "ipython",
    "version": 3
   },
   "file_extension": ".py",
   "mimetype": "text/x-python",
   "name": "python",
   "nbconvert_exporter": "python",
   "pygments_lexer": "ipython3",
   "version": "3.8.6"
  }
 },
 "nbformat": 4,
 "nbformat_minor": 2
}
