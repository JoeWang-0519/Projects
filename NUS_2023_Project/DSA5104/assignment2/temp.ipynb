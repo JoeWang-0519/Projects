{
 "cells": [
  {
   "cell_type": "code",
   "execution_count": 2,
   "id": "c6bc5562",
   "metadata": {},
   "outputs": [],
   "source": [
    "from pyspark.sql import SparkSession\n",
    "from pyspark import SparkContext, SparkConf\n",
    "from pyspark.sql.types import *"
   ]
  },
  {
   "cell_type": "code",
   "execution_count": 3,
   "id": "b79051bd",
   "metadata": {},
   "outputs": [],
   "source": [
    "from pyspark.sql import Row"
   ]
  },
  {
   "cell_type": "code",
   "execution_count": 4,
   "id": "08684e15",
   "metadata": {},
   "outputs": [
    {
     "name": "stdout",
     "output_type": "stream",
     "text": [
      "22/10/29 10:49:03 WARN Utils: Your hostname, wangjiangyideMacBook-Pro.local resolves to a loopback address: 127.0.0.1; using 10.249.116.154 instead (on interface en0)\n",
      "22/10/29 10:49:03 WARN Utils: Set SPARK_LOCAL_IP if you need to bind to another address\n"
     ]
    },
    {
     "name": "stderr",
     "output_type": "stream",
     "text": [
      "Setting default log level to \"WARN\".\n",
      "To adjust logging level use sc.setLogLevel(newLevel). For SparkR, use setLogLevel(newLevel).\n"
     ]
    },
    {
     "name": "stdout",
     "output_type": "stream",
     "text": [
      "22/10/29 10:49:04 WARN NativeCodeLoader: Unable to load native-hadoop library for your platform... using builtin-java classes where applicable\n"
     ]
    }
   ],
   "source": [
    "spark = SparkSession.builder.getOrCreate()"
   ]
  },
  {
   "cell_type": "code",
   "execution_count": 5,
   "id": "5c264b73",
   "metadata": {},
   "outputs": [],
   "source": [
    "import findspark\n",
    "findspark.init()"
   ]
  },
  {
   "cell_type": "code",
   "execution_count": 6,
   "id": "b9b7d4ec",
   "metadata": {},
   "outputs": [],
   "source": [
    "from os import environ\n",
    "environ['PYSPARK_SUBMIT_ARGS'] = '--packages com.databricks:spark-xml_2.12:0.15.0 pyspark-shell'"
   ]
  },
  {
   "cell_type": "code",
   "execution_count": 7,
   "id": "75a5328b",
   "metadata": {},
   "outputs": [
    {
     "name": "stdout",
     "output_type": "stream",
     "text": [
      "/Users/wangjiangyi/miniforge3/lib/python3.8/site-packages/pyspark\n"
     ]
    }
   ],
   "source": [
    "from pyspark import find_spark_home\n",
    "print(find_spark_home._find_spark_home())"
   ]
  },
  {
   "cell_type": "markdown",
   "id": "d246e54c",
   "metadata": {},
   "source": [
    "# Import MAS DB"
   ]
  },
  {
   "cell_type": "code",
   "execution_count": 6,
   "id": "4deb1b7e",
   "metadata": {},
   "outputs": [
    {
     "name": "stderr",
     "output_type": "stream",
     "text": [
      "Loading class `com.mysql.jdbc.Driver'. This is deprecated. The new driver class is `com.mysql.cj.jdbc.Driver'. The driver is automatically registered via the SPI and manual loading of the driver class is generally unnecessary.\n"
     ]
    }
   ],
   "source": [
    "df_author = spark.read \\\n",
    "    .format('jdbc') \\\n",
    "    .option(\"driver\", \"com.mysql.jdbc.Driver\") \\\n",
    "    .option(\"url\", \"jdbc:mysql://localhost:3306/test\") \\\n",
    "    .option(\"dbtable\", \"author\") \\\n",
    "    .option(\"user\", \"root\") \\\n",
    "    .option(\"password\", \"maomao2011\") \\\n",
    "    .load()"
   ]
  },
  {
   "cell_type": "code",
   "execution_count": 7,
   "id": "689b1eaf",
   "metadata": {},
   "outputs": [],
   "source": [
    "df_writes = spark.read \\\n",
    "    .format('jdbc') \\\n",
    "    .option(\"driver\", \"com.mysql.jdbc.Driver\") \\\n",
    "    .option(\"url\", \"jdbc:mysql://localhost:3306/test\") \\\n",
    "    .option(\"dbtable\", \"writes\") \\\n",
    "    .option(\"user\", \"root\") \\\n",
    "    .option(\"password\", \"maomao2011\") \\\n",
    "    .load()"
   ]
  },
  {
   "cell_type": "code",
   "execution_count": 8,
   "id": "7110d788",
   "metadata": {},
   "outputs": [],
   "source": [
    "df_publication = spark.read \\\n",
    "    .format('jdbc') \\\n",
    "    .option(\"driver\", \"com.mysql.jdbc.Driver\") \\\n",
    "    .option(\"url\", \"jdbc:mysql://localhost:3306/test\") \\\n",
    "    .option(\"dbtable\", \"publication\") \\\n",
    "    .option(\"user\", \"root\") \\\n",
    "    .option(\"password\", \"maomao2011\") \\\n",
    "    .load()"
   ]
  },
  {
   "cell_type": "code",
   "execution_count": 9,
   "id": "5ca44263",
   "metadata": {},
   "outputs": [
    {
     "name": "stdout",
     "output_type": "stream",
     "text": [
      "root\n",
      " |-- aid: integer (nullable = true)\n",
      " |-- name: string (nullable = true)\n",
      " |-- oid: integer (nullable = true)\n",
      " |-- homepage: string (nullable = true)\n",
      " |-- photo: string (nullable = true)\n",
      "\n"
     ]
    }
   ],
   "source": [
    "df_author.printSchema()"
   ]
  },
  {
   "cell_type": "code",
   "execution_count": 10,
   "id": "5fd0ed58",
   "metadata": {},
   "outputs": [
    {
     "name": "stdout",
     "output_type": "stream",
     "text": [
      "root\n",
      " |-- aid: integer (nullable = true)\n",
      " |-- pid: integer (nullable = true)\n",
      "\n"
     ]
    }
   ],
   "source": [
    "df_writes.printSchema()"
   ]
  },
  {
   "cell_type": "code",
   "execution_count": 11,
   "id": "3c2510fc",
   "metadata": {},
   "outputs": [
    {
     "name": "stdout",
     "output_type": "stream",
     "text": [
      "root\n",
      " |-- pid: integer (nullable = true)\n",
      " |-- title: string (nullable = true)\n",
      " |-- abstract: string (nullable = true)\n",
      " |-- year: integer (nullable = true)\n",
      " |-- cid: integer (nullable = true)\n",
      " |-- jid: integer (nullable = true)\n",
      " |-- reference_num: integer (nullable = true)\n",
      " |-- citation_num: integer (nullable = true)\n",
      " |-- doi: string (nullable = true)\n",
      "\n"
     ]
    }
   ],
   "source": [
    "df_publication.printSchema()"
   ]
  },
  {
   "cell_type": "markdown",
   "id": "59e7667c",
   "metadata": {},
   "source": [
    "# Import DBLP DB"
   ]
  },
  {
   "cell_type": "code",
   "execution_count": 19,
   "id": "47cbf334",
   "metadata": {},
   "outputs": [],
   "source": [
    "# define schema\n",
    "article_schema = StructType([\n",
    "    StructField(\"author\", ArrayType(elementType = StringType()), True),\n",
    "    StructField(\"title\", StringType(), True),\n",
    "    StructField(\"year\", LongType(), True)])"
   ]
  },
  {
   "cell_type": "code",
   "execution_count": 20,
   "id": "a624128d",
   "metadata": {},
   "outputs": [],
   "source": [
    "df_article = spark.read \\\n",
    "     .format('xml') \\\n",
    "     .option('rootTag', 'dblp') \\\n",
    "     .option('rowTag', 'article') \\\n",
    "     .load(\"dblp.xml\", schema = article_schema)"
   ]
  },
  {
   "cell_type": "code",
   "execution_count": 21,
   "id": "a2ac20bd",
   "metadata": {
    "scrolled": true
   },
   "outputs": [
    {
     "name": "stdout",
     "output_type": "stream",
     "text": [
      "root\n",
      " |-- author: array (nullable = true)\n",
      " |    |-- element: string (containsNull = true)\n",
      " |-- title: string (nullable = true)\n",
      " |-- year: long (nullable = true)\n",
      "\n"
     ]
    }
   ],
   "source": [
    "df_article.printSchema()"
   ]
  },
  {
   "cell_type": "code",
   "execution_count": 34,
   "id": "c9fa7347",
   "metadata": {},
   "outputs": [
    {
     "name": "stdout",
     "output_type": "stream",
     "text": [
      "+--------------------+--------------------+----+\n",
      "|              author|               title|year|\n",
      "+--------------------+--------------------+----+\n",
      "|[Paul Kocher, Dan...|Spectre Attacks: ...|2018|\n",
      "|[Moritz Lipp, Mic...|            Meltdown|2018|\n",
      "|      [Frank Manola]|An Evaluation of ...|1994|\n",
      "|[Michael L. Brodi...|DARWIN: On the In...|1993|\n",
      "|[Mark F. Hornick,...|Integrating Heter...|1991|\n",
      "+--------------------+--------------------+----+\n",
      "only showing top 5 rows\n",
      "\n"
     ]
    }
   ],
   "source": [
    "df_article.show(5)"
   ]
  },
  {
   "cell_type": "code",
   "execution_count": 28,
   "id": "5af84f89",
   "metadata": {},
   "outputs": [],
   "source": [
    "# define schema\n",
    "inproc_schema = StructType([\n",
    "    StructField(\"author\", ArrayType(elementType = StringType()), True),\n",
    "    StructField(\"title\", StringType(), True),\n",
    "    StructField(\"year\", LongType(), True)])"
   ]
  },
  {
   "cell_type": "code",
   "execution_count": 30,
   "id": "cc2b2304",
   "metadata": {
    "scrolled": true
   },
   "outputs": [],
   "source": [
    "df_inproc = spark.read \\\n",
    "     .format('xml') \\\n",
    "     .option('rootTag', 'dblp') \\\n",
    "     .option('rowTag', 'inproceedings') \\\n",
    "     .load(\"dblp.xml\", schema = inproc_schema)"
   ]
  },
  {
   "cell_type": "code",
   "execution_count": 31,
   "id": "12640b15",
   "metadata": {
    "scrolled": true
   },
   "outputs": [
    {
     "name": "stdout",
     "output_type": "stream",
     "text": [
      "root\n",
      " |-- author: array (nullable = true)\n",
      " |    |-- element: string (containsNull = true)\n",
      " |-- title: string (nullable = true)\n",
      " |-- year: long (nullable = true)\n",
      "\n"
     ]
    }
   ],
   "source": [
    "df_inproc.printSchema()"
   ]
  },
  {
   "cell_type": "code",
   "execution_count": 33,
   "id": "7d6ec6b5",
   "metadata": {},
   "outputs": [
    {
     "name": "stderr",
     "output_type": "stream",
     "text": [
      "\r",
      "[Stage 6:>                                                          (0 + 1) / 1]\r",
      "\r",
      "                                                                                \r"
     ]
    },
    {
     "name": "stdout",
     "output_type": "stream",
     "text": [
      "+--------------------+--------------------+----+\n",
      "|              author|               title|year|\n",
      "+--------------------+--------------------+----+\n",
      "|   [Arnon Rosenthal]|The Future of Cla...|1998|\n",
      "|        [E. F. Codd]|Seven Steps to Re...|1974|\n",
      "|[Toni Bollinger, ...|The LILOG Inferen...|1991|\n",
      "|[Kai-Uwe Carstens...|Why a Hill Can't ...|1991|\n",
      "|[David W. Flater,...|Towards Flexible ...|1993|\n",
      "+--------------------+--------------------+----+\n",
      "only showing top 5 rows\n",
      "\n"
     ]
    },
    {
     "name": "stderr",
     "output_type": "stream",
     "text": [
      "\r",
      "[Stage 7:=======================================>                   (2 + 1) / 3]\r",
      "\r",
      "                                                                                \r"
     ]
    }
   ],
   "source": [
    "df_inproc.show(5)"
   ]
  },
  {
   "cell_type": "markdown",
   "id": "f7c0ce9d",
   "metadata": {},
   "source": [
    "# Query 1:"
   ]
  },
  {
   "cell_type": "markdown",
   "id": "1fab7fe1",
   "metadata": {},
   "source": [
    "## 1. Max_year in MAS DB\n",
    "- when I run spark.sql, it will always suffer from time limit issues\n",
    "- so I can only pre-process the data and load to Jupyter Notebook"
   ]
  },
  {
   "cell_type": "markdown",
   "id": "1344cc08",
   "metadata": {},
   "source": [
    "- this cannot work!!!"
   ]
  },
  {
   "cell_type": "code",
   "execution_count": 12,
   "id": "229cf38e",
   "metadata": {},
   "outputs": [],
   "source": [
    "df_author.createOrReplaceTempView('author')\n",
    "df_writes.createOrReplaceTempView('writes')\n",
    "df_publication.createOrReplaceTempView('publication')"
   ]
  },
  {
   "cell_type": "code",
   "execution_count": 16,
   "id": "644c008e",
   "metadata": {},
   "outputs": [],
   "source": [
    "maxyear_MAS = spark.sql(\"select max(year) as max_year from publication\\\n",
    "                    where pid in \\\n",
    "                    (select pid from writes \\\n",
    "                    where aid = (select aid from author where name = 'Divesh Srivastava'))\")"
   ]
  },
  {
   "cell_type": "markdown",
   "id": "564ae440",
   "metadata": {},
   "source": [
    "- this works"
   ]
  },
  {
   "cell_type": "code",
   "execution_count": 35,
   "id": "31724e0d",
   "metadata": {},
   "outputs": [],
   "source": [
    "query_maxyear = \"(select max(year) as max_year from publication\\\n",
    "                where pid in \\\n",
    "                (select pid from writes \\\n",
    "                where aid = (select aid from author where name = 'Divesh Srivastava'))\\\n",
    "                ) tmp\""
   ]
  },
  {
   "cell_type": "code",
   "execution_count": 36,
   "id": "18c9740f",
   "metadata": {},
   "outputs": [],
   "source": [
    "maxyear_MAS = spark.read \\\n",
    "    .format('jdbc') \\\n",
    "    .option(\"driver\", \"com.mysql.jdbc.Driver\") \\\n",
    "    .option(\"url\", \"jdbc:mysql://localhost:3306/test\") \\\n",
    "    .option(\"dbtable\", query_maxyear) \\\n",
    "    .option(\"user\", \"root\") \\\n",
    "    .option(\"password\", \"maomao2011\") \\\n",
    "    .load()"
   ]
  },
  {
   "cell_type": "code",
   "execution_count": 37,
   "id": "f66523f1",
   "metadata": {},
   "outputs": [
    {
     "name": "stdout",
     "output_type": "stream",
     "text": [
      "+--------+\n",
      "|max_year|\n",
      "+--------+\n",
      "|    2012|\n",
      "+--------+\n",
      "\n"
     ]
    }
   ],
   "source": [
    "maxyear_MAS.show()"
   ]
  },
  {
   "cell_type": "code",
   "execution_count": 43,
   "id": "679e2365",
   "metadata": {},
   "outputs": [],
   "source": [
    "max_year = maxyear_MAS.collect()"
   ]
  },
  {
   "cell_type": "code",
   "execution_count": 52,
   "id": "e9e4bb37",
   "metadata": {},
   "outputs": [
    {
     "data": {
      "text/plain": [
       "2012"
      ]
     },
     "execution_count": 52,
     "metadata": {},
     "output_type": "execute_result"
    }
   ],
   "source": [
    "max_year[0]['max_year']"
   ]
  },
  {
   "cell_type": "markdown",
   "id": "08cbaa1f",
   "metadata": {},
   "source": [
    "## 2. Find all papers from DBLP that are published after 'Max_year' and written by 'Divesh S.'"
   ]
  },
  {
   "cell_type": "code",
   "execution_count": 55,
   "id": "be65239d",
   "metadata": {},
   "outputs": [],
   "source": [
    "from pyspark.sql.functions import array_contains"
   ]
  },
  {
   "cell_type": "code",
   "execution_count": 195,
   "id": "f785ebae",
   "metadata": {},
   "outputs": [],
   "source": [
    "article_DS = df_article.filter((df_article.year > max_year[0]['max_year']) & (array_contains(df_article.author, 'Divesh Srivastava')))"
   ]
  },
  {
   "cell_type": "code",
   "execution_count": 196,
   "id": "cdde455f",
   "metadata": {},
   "outputs": [
    {
     "name": "stderr",
     "output_type": "stream",
     "text": [
      "[Stage 143:============================================>          (17 + 4) / 21]\r"
     ]
    },
    {
     "name": "stdout",
     "output_type": "stream",
     "text": [
      "+--------------------+--------------------+----+\n",
      "|              author|               title|year|\n",
      "+--------------------+--------------------+----+\n",
      "|[Leon Bornemann, ...|Data Change Explo...|2018|\n",
      "|[Philip E. Brown,...|From Rocks to Peb...|2019|\n",
      "|[Donatella Firman...|Robust Entity Res...|2018|\n",
      "|[Tamraparni Dasu,...|Data Quality for ...|2016|\n",
      "|[Luciano Barbosa,...|Big Data Integrat...|2018|\n",
      "|[Shazia W. Sadiq,...|Letter from the S...|2016|\n",
      "|[Kareem El Gebaly...| Explanation Tables.|2018|\n",
      "| [Divesh Srivastava]|Letter from the I...|2021|\n",
      "|[Divesh Srivastav...|Ensuring High-Qua...|2019|\n",
      "|[Aline Bessa, Jul...|Effective Discove...|2020|\n",
      "|[Abolfazl Asudeh,...|Efficient Signal ...|2019|\n",
      "|[Shazia Wasim Sad...|Data Quality: The...|2017|\n",
      "|[Mehdi Kargar, Lu...|Effective Keyword...|2022|\n",
      "|[Graham Cormode, ...|Constrained Priva...|2021|\n",
      "|[Lukasz Golab, Ho...|Discovering Conse...|2014|\n",
      "|[Hongyun Cai 0001...|Indexing Evolving...|2015|\n",
      "|[Sainyam Galhotra...|Efficient and Eff...|2020|\n",
      "|[Valter Crescenzi...|Alaska: A Flexibl...|2021|\n",
      "|[Xian Li, Xin Lun...|Truth Finding on ...|2015|\n",
      "|[Parke Godfrey, L...|Errata Note: Disc...|2019|\n",
      "+--------------------+--------------------+----+\n",
      "only showing top 20 rows\n",
      "\n"
     ]
    },
    {
     "name": "stderr",
     "output_type": "stream",
     "text": [
      "\r",
      "                                                                                \r"
     ]
    }
   ],
   "source": [
    "article_DS.show()"
   ]
  },
  {
   "cell_type": "code",
   "execution_count": 197,
   "id": "d0922875",
   "metadata": {},
   "outputs": [],
   "source": [
    "inproc_DS = df_inproc.filter((df_inproc.year > max_year[0]['max_year']) & (array_contains(df_inproc.author, 'Divesh Srivastava')))"
   ]
  },
  {
   "cell_type": "code",
   "execution_count": 198,
   "id": "73f56fde",
   "metadata": {},
   "outputs": [
    {
     "name": "stderr",
     "output_type": "stream",
     "text": [
      "[Stage 147:=====================================================> (82 + 3) / 85]\r"
     ]
    },
    {
     "name": "stdout",
     "output_type": "stream",
     "text": [
      "+--------------------+--------------------+----+\n",
      "|              author|               title|year|\n",
      "+--------------------+--------------------+----+\n",
      "|[Graham Cormode, ...|UMicS: from anony...|2013|\n",
      "|[Divesh Srivastav...|Exploring and Ana...|2022|\n",
      "|[Xi He 0001, Ashw...|Composing Differe...|2017|\n",
      "|[Philip E. Brown,...|     Don't Cry Wolf.|2019|\n",
      "|[Mehdi Kargar, Lu...|Effective Keyword...|2021|\n",
      "|[Xian Li, Xin Lun...|Scaling up copy d...|2015|\n",
      "|[Alexandar Mihayl...|FASTOD: Bringing ...|2018|\n",
      "|[Trong Duc Nguyen...|Random Sampling f...|2020|\n",
      "|[Alexandra Kim, L...|Summarizing Hiera...|2020|\n",
      "|[Guoyao Feng, Luk...|Scalable Informat...|2017|\n",
      "|[Leon Bornemann, ...|Structured Object...|2021|\n",
      "|[Xin Luna Dong, D...|Big data integrat...|2013|\n",
      "|[Hongyun Cai 0001...|Indexing evolving...|2016|\n",
      "|[Pei Li, Jessica ...|abcOD: Mining Ban...|2022|\n",
      "|[Grigory Yaroslav...|Accurate and effi...|2013|\n",
      "|[Lukasz Golab, Fl...|Size-Constrained ...|2015|\n",
      "|[Siarhei Bykau, F...|Fine-grained cont...|2015|\n",
      "|[Graham Cormode, ...|Constrained Priva...|2018|\n",
      "|[Pei Li, Jaroslaw...|Discovering Band ...|2020|\n",
      "|[Katsiaryna Miryl...|Finding interesti...|2013|\n",
      "+--------------------+--------------------+----+\n",
      "only showing top 20 rows\n",
      "\n"
     ]
    },
    {
     "name": "stderr",
     "output_type": "stream",
     "text": [
      "\r",
      "[Stage 147:======================================================>(84 + 1) / 85]\r",
      "\r",
      "                                                                                \r"
     ]
    }
   ],
   "source": [
    "inproc_DS.show()"
   ]
  },
  {
   "cell_type": "code",
   "execution_count": 250,
   "id": "7fd69041",
   "metadata": {},
   "outputs": [],
   "source": [
    "query1_result = article_DS.select('title', 'year').union(inproc_DS.select('title', 'year')).dropDuplicates()"
   ]
  },
  {
   "cell_type": "code",
   "execution_count": 251,
   "id": "9f23f1e0",
   "metadata": {},
   "outputs": [
    {
     "name": "stderr",
     "output_type": "stream",
     "text": [
      "[Stage 211:====================================================>(219 + 1) / 220]\r"
     ]
    },
    {
     "name": "stdout",
     "output_type": "stream",
     "text": [
      "+--------------------+----+\n",
      "|               title|year|\n",
      "+--------------------+----+\n",
      "|From Rocks to Peb...|2019|\n",
      "|Data Change Explo...|2018|\n",
      "|Data Quality for ...|2016|\n",
      "|Big Data Integrat...|2018|\n",
      "|Letter from the I...|2021|\n",
      "|Letter from the S...|2016|\n",
      "|Robust Entity Res...|2018|\n",
      "| Explanation Tables.|2018|\n",
      "|Ensuring High-Qua...|2019|\n",
      "|Effective Discove...|2020|\n",
      "|Data Quality: The...|2017|\n",
      "|Efficient Signal ...|2019|\n",
      "|Effective Keyword...|2022|\n",
      "|Constrained Priva...|2021|\n",
      "|Indexing Evolving...|2015|\n",
      "|Discovering Conse...|2014|\n",
      "|Truth Finding on ...|2015|\n",
      "|Alaska: A Flexibl...|2021|\n",
      "|Errata Note: Disc...|2019|\n",
      "|Efficient and Eff...|2020|\n",
      "+--------------------+----+\n",
      "only showing top 20 rows\n",
      "\n"
     ]
    },
    {
     "name": "stderr",
     "output_type": "stream",
     "text": [
      "\r",
      "                                                                                \r"
     ]
    }
   ],
   "source": [
    "query1_result.show()"
   ]
  },
  {
   "cell_type": "markdown",
   "id": "62edba80",
   "metadata": {},
   "source": [
    "# Query 2:"
   ]
  },
  {
   "cell_type": "markdown",
   "id": "86d79aeb",
   "metadata": {},
   "source": [
    "## 1. convert all data into author-title form\n",
    "- those authors who collobrate with Diversh S."
   ]
  },
  {
   "cell_type": "markdown",
   "id": "8324c8fe",
   "metadata": {},
   "source": [
    "- mysql"
   ]
  },
  {
   "cell_type": "code",
   "execution_count": 77,
   "id": "711285a4",
   "metadata": {},
   "outputs": [],
   "source": [
    "query_coop_MAS = \"(select b.name as author, c.title as title from \\\n",
    "                    ( \\\n",
    "                        select aid, pid from writes \\\n",
    "                        where pid in (select pid from writes where aid = (select aid from author where name = 'Divesh Srivastava')) \\\n",
    "                            and aid != (select aid from author where name = 'Divesh Srivastava') \\\n",
    "                    ) a \\\n",
    "                left join \\\n",
    "                (select aid, name from author) b \\\n",
    "                on a.aid = b.aid \\\n",
    "                left join \\\n",
    "                (select pid, title from publication) c \\\n",
    "                on a .pid = c.pid \\\n",
    "                    ) tmp\""
   ]
  },
  {
   "cell_type": "code",
   "execution_count": 78,
   "id": "cb35540e",
   "metadata": {},
   "outputs": [],
   "source": [
    "coop_MAS = spark.read \\\n",
    "    .format('jdbc') \\\n",
    "    .option(\"driver\", \"com.mysql.jdbc.Driver\") \\\n",
    "    .option(\"url\", \"jdbc:mysql://localhost:3306/test\") \\\n",
    "    .option(\"dbtable\", query_coop_MAS) \\\n",
    "    .option(\"user\", \"root\") \\\n",
    "    .option(\"password\", \"maomao2011\") \\\n",
    "    .load()"
   ]
  },
  {
   "cell_type": "code",
   "execution_count": 105,
   "id": "4c167bd9",
   "metadata": {},
   "outputs": [
    {
     "name": "stderr",
     "output_type": "stream",
     "text": [
      "\r",
      "[Stage 49:>                                                         (0 + 1) / 1]\r"
     ]
    },
    {
     "name": "stdout",
     "output_type": "stream",
     "text": [
      "+--------------------+--------------------+\n",
      "|              author|               title|\n",
      "+--------------------+--------------------+\n",
      "|      Mary Fernandez|PIX: exact and ap...|\n",
      "|            Y. L. Xu|PIX: exact and ap...|\n",
      "|    Sihem Amer-yahia|PIX: exact and ap...|\n",
      "|     S Muthukrishnan|Using q-grams in ...|\n",
      "|Panagiotis G. Ipe...|Using q-grams in ...|\n",
      "|        Luis Gravano|Using q-grams in ...|\n",
      "|      H. V. Jagadish|Using q-grams in ...|\n",
      "|         Nick Koudas|Using q-grams in ...|\n",
      "|    Lauri Pietarinen|Using q-grams in ...|\n",
      "|Panagiotis G. Ipe...|Text Joins for Da...|\n",
      "|        Luis Gravano|Text Joins for Da...|\n",
      "|         Nick Koudas|Text Joins for Da...|\n",
      "|       Nicolas Bruno|Navigation vs. In...|\n",
      "|        Luis Gravano|Navigation vs. In...|\n",
      "|         Nick Koudas|Navigation vs. In...|\n",
      "|Panagiotis G. Ipe...|Text joins in an ...|\n",
      "|        Luis Gravano|Text joins in an ...|\n",
      "|         Nick Koudas|Text joins in an ...|\n",
      "|      Yannis Kotidis| Ranked Join Indices|\n",
      "| Panayiotis Tsaparas| Ranked Join Indices|\n",
      "+--------------------+--------------------+\n",
      "only showing top 20 rows\n",
      "\n"
     ]
    },
    {
     "name": "stderr",
     "output_type": "stream",
     "text": [
      "\r",
      "                                                                                \r"
     ]
    }
   ],
   "source": [
    "coop_MAS.show()"
   ]
  },
  {
   "cell_type": "code",
   "execution_count": 209,
   "id": "7fd41193",
   "metadata": {},
   "outputs": [
    {
     "name": "stderr",
     "output_type": "stream",
     "text": [
      "\r",
      "[Stage 157:>                                                        (0 + 1) / 1]\r",
      "\r",
      "                                                                                \r"
     ]
    },
    {
     "data": {
      "text/plain": [
       "Row(author='Mary Fernandez', title='PIX: exact and approximate phrase matching in XML')"
      ]
     },
     "execution_count": 209,
     "metadata": {},
     "output_type": "execute_result"
    }
   ],
   "source": [
    "coop_MAS.first()"
   ]
  },
  {
   "cell_type": "markdown",
   "id": "70ddee5f",
   "metadata": {},
   "source": [
    "- it can be observed that:\n",
    "    - in MAS, article name **does not** include '.';\n",
    "    - in dblp, article name includes '.';\n",
    "- modification should be made to MAS data"
   ]
  },
  {
   "cell_type": "code",
   "execution_count": 143,
   "id": "05475ba6",
   "metadata": {},
   "outputs": [
    {
     "name": "stderr",
     "output_type": "stream",
     "text": [
      "\r",
      "[Stage 78:>                                                         (0 + 1) / 1]\r",
      "\r",
      "                                                                                \r"
     ]
    }
   ],
   "source": [
    "def modify(tup):\n",
    "    author = tup[0]\n",
    "    title = tup[1]\n",
    "    return {'author': author, 'title': title + '.'}\n",
    "coop_MAS_modify = coop_MAS.rdd.map(modify).toDF()"
   ]
  },
  {
   "cell_type": "code",
   "execution_count": 145,
   "id": "27aa7bbc",
   "metadata": {},
   "outputs": [
    {
     "name": "stderr",
     "output_type": "stream",
     "text": [
      "\r",
      "[Stage 80:>                                                         (0 + 1) / 1]\r",
      "\r",
      "                                                                                \r"
     ]
    },
    {
     "data": {
      "text/plain": [
       "Row(author='Mary Fernandez', title='PIX: exact and approximate phrase matching in XML.')"
      ]
     },
     "execution_count": 145,
     "metadata": {},
     "output_type": "execute_result"
    }
   ],
   "source": [
    "coop_MAS_modify.first()"
   ]
  },
  {
   "cell_type": "code",
   "execution_count": 172,
   "id": "17822a3a",
   "metadata": {},
   "outputs": [
    {
     "name": "stderr",
     "output_type": "stream",
     "text": [
      "\r",
      "[Stage 105:>                                                        (0 + 1) / 1]\r"
     ]
    },
    {
     "name": "stdout",
     "output_type": "stream",
     "text": [
      "+--------------------+--------------------+\n",
      "|              author|               title|\n",
      "+--------------------+--------------------+\n",
      "|      Mary Fernandez|PIX: exact and ap...|\n",
      "|            Y. L. Xu|PIX: exact and ap...|\n",
      "|    Sihem Amer-yahia|PIX: exact and ap...|\n",
      "|     S Muthukrishnan|Using q-grams in ...|\n",
      "|Panagiotis G. Ipe...|Using q-grams in ...|\n",
      "|        Luis Gravano|Using q-grams in ...|\n",
      "|      H. V. Jagadish|Using q-grams in ...|\n",
      "|         Nick Koudas|Using q-grams in ...|\n",
      "|    Lauri Pietarinen|Using q-grams in ...|\n",
      "|Panagiotis G. Ipe...|Text Joins for Da...|\n",
      "|        Luis Gravano|Text Joins for Da...|\n",
      "|         Nick Koudas|Text Joins for Da...|\n",
      "|       Nicolas Bruno|Navigation vs. In...|\n",
      "|        Luis Gravano|Navigation vs. In...|\n",
      "|         Nick Koudas|Navigation vs. In...|\n",
      "|Panagiotis G. Ipe...|Text joins in an ...|\n",
      "|        Luis Gravano|Text joins in an ...|\n",
      "|         Nick Koudas|Text joins in an ...|\n",
      "|      Yannis Kotidis|Ranked Join Indices.|\n",
      "| Panayiotis Tsaparas|Ranked Join Indices.|\n",
      "+--------------------+--------------------+\n",
      "only showing top 20 rows\n",
      "\n"
     ]
    },
    {
     "name": "stderr",
     "output_type": "stream",
     "text": [
      "\r",
      "                                                                                \r"
     ]
    }
   ],
   "source": [
    "coop_MAS_modify.show()"
   ]
  },
  {
   "cell_type": "markdown",
   "id": "a291b061",
   "metadata": {},
   "source": [
    "- dblp"
   ]
  },
  {
   "cell_type": "code",
   "execution_count": 150,
   "id": "c9fbb2f1",
   "metadata": {},
   "outputs": [],
   "source": [
    "from pyspark.sql.functions import explode"
   ]
  },
  {
   "cell_type": "code",
   "execution_count": 212,
   "id": "edc34cf0",
   "metadata": {},
   "outputs": [],
   "source": [
    "df_article_update = df_article.filter(array_contains(df_article.author, 'Divesh Srivastava')).select(explode('author').alias('author'), 'title')"
   ]
  },
  {
   "cell_type": "code",
   "execution_count": 174,
   "id": "5740c1c4",
   "metadata": {},
   "outputs": [
    {
     "name": "stderr",
     "output_type": "stream",
     "text": [
      "[Stage 111:==============>                                          (1 + 3) / 4]\r"
     ]
    },
    {
     "name": "stdout",
     "output_type": "stream",
     "text": [
      "+--------------------+--------------------+\n",
      "|              author|               title|\n",
      "+--------------------+--------------------+\n",
      "|      Leon Bornemann|Data Change Explo...|\n",
      "|Dmitri V. Kalashn...|Data Change Explo...|\n",
      "|       Felix Naumann|Data Change Explo...|\n",
      "|  Raghu Ramakrishnan|Pushing Constrain...|\n",
      "|     Philip E. Brown|From Rocks to Peb...|\n",
      "|     Tamraparni Dasu|From Rocks to Peb...|\n",
      "|         Yaron Kanza|From Rocks to Peb...|\n",
      "|   Donatella Firmani|Robust Entity Res...|\n",
      "|    Sainyam Galhotra|Robust Entity Res...|\n",
      "|          Barna Saha|Robust Entity Res...|\n",
      "|        Luis Gravano|Using q-grams in ...|\n",
      "|Panagiotis G. Ipe...|Using q-grams in ...|\n",
      "|      H. V. Jagadish|Using q-grams in ...|\n",
      "|         Nick Koudas|Using q-grams in ...|\n",
      "|S. Muthukrishnan ...|Using q-grams in ...|\n",
      "|    Lauri Pietarinen|Using q-grams in ...|\n",
      "|     Tamraparni Dasu|Data Quality for ...|\n",
      "|           Rong Duan|Data Quality for ...|\n",
      "|        Lukasz Golab|Efficient and Eff...|\n",
      "|           Flip Korn|Efficient and Eff...|\n",
      "+--------------------+--------------------+\n",
      "only showing top 20 rows\n",
      "\n"
     ]
    },
    {
     "name": "stderr",
     "output_type": "stream",
     "text": [
      "\r",
      "                                                                                \r"
     ]
    }
   ],
   "source": [
    "df_article_coop = df_article_update.filter(df_article_update.author != 'Divesh Srivastava')\n",
    "df_article_coop.show()"
   ]
  },
  {
   "cell_type": "code",
   "execution_count": 170,
   "id": "fbf9a63a",
   "metadata": {},
   "outputs": [],
   "source": [
    "df_inproc_update = df_inproc.filter(array_contains(df_inproc.author, 'Divesh Srivastava')).select(explode('author').alias('author'), 'title')"
   ]
  },
  {
   "cell_type": "code",
   "execution_count": 173,
   "id": "2e62e688",
   "metadata": {},
   "outputs": [
    {
     "name": "stderr",
     "output_type": "stream",
     "text": [
      "[Stage 109:======================================================>(84 + 1) / 85]\r"
     ]
    },
    {
     "name": "stdout",
     "output_type": "stream",
     "text": [
      "+--------------------+--------------------+\n",
      "|              author|               title|\n",
      "+--------------------+--------------------+\n",
      "|  Raghu Ramakrishnan|Efficient Increme...|\n",
      "|     Kenneth A. Ross|Efficient Increme...|\n",
      "|   S. Sudarshan 0001|Efficient Increme...|\n",
      "|       David B. Kemp|Magic Sets and Bo...|\n",
      "|    Peter J. Stuckey|Magic Sets and Bo...|\n",
      "|   S. Sudarshan 0001|Extending the Wel...|\n",
      "|  Raghu Ramakrishnan|Extending the Wel...|\n",
      "|       Catriel Beeri|Extending the Wel...|\n",
      "|         Nick Koudas|Data Stream Query...|\n",
      "|      H. V. Jagadish|Flexible List Man...|\n",
      "|       Mark A. Jones|Flexible List Man...|\n",
      "|       Dimitra Vista|Flexible List Man...|\n",
      "|        Guy Jacobson|Focusing Search i...|\n",
      "|Balachander Krish...|Focusing Search i...|\n",
      "|           Dan Suciu|Focusing Search i...|\n",
      "|      Graham Cormode|UMicS: from anony...|\n",
      "|         Entong Shen|UMicS: from anony...|\n",
      "|             Xi Gong|UMicS: from anony...|\n",
      "|        Ting Yu 0001|UMicS: from anony...|\n",
      "|Cecilia M. Procopiuc|UMicS: from anony...|\n",
      "+--------------------+--------------------+\n",
      "only showing top 20 rows\n",
      "\n"
     ]
    },
    {
     "name": "stderr",
     "output_type": "stream",
     "text": [
      "\r",
      "                                                                                \r"
     ]
    }
   ],
   "source": [
    "df_inproc_coop = df_inproc_update.filter(df_inproc_update.author != 'Divesh Srivastava')\n",
    "df_inproc_coop.show()"
   ]
  },
  {
   "cell_type": "markdown",
   "id": "83efee46",
   "metadata": {},
   "source": [
    "## 2. union 3 dataframes and drop duplicates"
   ]
  },
  {
   "cell_type": "code",
   "execution_count": 241,
   "id": "b33aee59",
   "metadata": {},
   "outputs": [],
   "source": [
    "union_coop = coop_MAS_modify.union(df_article_coop).union(df_inproc_coop).dropDuplicates()"
   ]
  },
  {
   "cell_type": "code",
   "execution_count": 242,
   "id": "3b5b815c",
   "metadata": {},
   "outputs": [
    {
     "name": "stderr",
     "output_type": "stream",
     "text": [
      "[Stage 187:====================================================>(220 + 1) / 221]\r"
     ]
    },
    {
     "name": "stdout",
     "output_type": "stream",
     "text": [
      "+--------------------+--------------------+\n",
      "|              author|               title|\n",
      "+--------------------+--------------------+\n",
      "|Suresh Venkatasub...|Type-based catego...|\n",
      "|Yannis Papakonsta...|Keyword proximity...|\n",
      "|        S. Paparizos|TIMBER: A Native ...|\n",
      "|         Nick Koudas|Metric Functional...|\n",
      "|      H. V. Jagadish|Snakes and sandwi...|\n",
      "|  Raghu Ramakrishnan|Implementation of...|\n",
      "|     S Muthukrishnan|Efficient Approxi...|\n",
      "|        Kenneth Ross|Foundations of Ag...|\n",
      "|   Michael O. Akinde|Efficient OLAP Qu...|\n",
      "|         Nick Koudas|Multiple aggregat...|\n",
      "|         Songtao Guo|Record Linkage wi...|\n",
      "|        S. Sudarshun|The coral user ma...|\n",
      "|      Yannis Kotidis|Updates Through V...|\n",
      "|          Qing Zhang|Aggregate Query A...|\n",
      "|       S. Sudarshant|Cost-based optimi...|\n",
      "|     Ugur Cetintemel|Evaluating Answer...|\n",
      "|       Andrey Balmin|A System for Keyw...|\n",
      "|     Anand Deshpande|Proceedings of th...|\n",
      "|          Yu-Qing Wu|    Grouping in XML.|\n",
      "|        S. Sudarshan|Foundations of Ag...|\n",
      "+--------------------+--------------------+\n",
      "only showing top 20 rows\n",
      "\n"
     ]
    },
    {
     "name": "stderr",
     "output_type": "stream",
     "text": [
      "\r",
      "                                                                                \r"
     ]
    }
   ],
   "source": [
    "union_coop.show()"
   ]
  },
  {
   "cell_type": "markdown",
   "id": "80b92a06",
   "metadata": {},
   "source": [
    "## 3. Groupby + Count"
   ]
  },
  {
   "cell_type": "code",
   "execution_count": 243,
   "id": "4635604c",
   "metadata": {},
   "outputs": [],
   "source": [
    "tmp = union_coop.select('author').groupby('author').count()"
   ]
  },
  {
   "cell_type": "code",
   "execution_count": 244,
   "id": "e1518451",
   "metadata": {},
   "outputs": [],
   "source": [
    "query2_result = tmp.orderBy(tmp['count'].desc()).limit(1)"
   ]
  },
  {
   "cell_type": "code",
   "execution_count": 245,
   "id": "3ab99dd0",
   "metadata": {},
   "outputs": [
    {
     "name": "stderr",
     "output_type": "stream",
     "text": [
      "[Stage 190:====================================================>(220 + 1) / 221]\r"
     ]
    },
    {
     "name": "stdout",
     "output_type": "stream",
     "text": [
      "+-----------+-----+\n",
      "|     author|count|\n",
      "+-----------+-----+\n",
      "|Nick Koudas|   86|\n",
      "+-----------+-----+\n",
      "\n"
     ]
    },
    {
     "name": "stderr",
     "output_type": "stream",
     "text": [
      "\r",
      "                                                                                \r"
     ]
    }
   ],
   "source": [
    "query2_result.show()"
   ]
  },
  {
   "cell_type": "markdown",
   "id": "d61ed0ff",
   "metadata": {},
   "source": [
    "# Query 3:"
   ]
  },
  {
   "cell_type": "markdown",
   "id": "2b4089e5",
   "metadata": {},
   "source": [
    "## 1. convert all data into title-year form\n",
    "- those paper whose author contains 'Divesh S.'"
   ]
  },
  {
   "cell_type": "markdown",
   "id": "29fcd4b1",
   "metadata": {},
   "source": [
    "- mysql"
   ]
  },
  {
   "cell_type": "code",
   "execution_count": 202,
   "id": "93957714",
   "metadata": {},
   "outputs": [],
   "source": [
    "query_DS_paper_MAS = \"(select \\\n",
    "                        b.title as title, \\\n",
    "                        b.year \t\t\tas year \\\n",
    "                    from \\\n",
    "                        ( \\\n",
    "                    select pid from writes where aid = (select aid from author where name = 'Divesh Srivastava') \\\n",
    "                        ) a \\\n",
    "                    left join publication b \\\n",
    "                    on a.pid = b.pid) tmp\""
   ]
  },
  {
   "cell_type": "code",
   "execution_count": 203,
   "id": "2c1d8fad",
   "metadata": {},
   "outputs": [],
   "source": [
    "DS_paper_MAS = spark.read \\\n",
    "    .format('jdbc') \\\n",
    "    .option(\"driver\", \"com.mysql.jdbc.Driver\") \\\n",
    "    .option(\"url\", \"jdbc:mysql://localhost:3306/test\") \\\n",
    "    .option(\"dbtable\", query_DS_paper_MAS) \\\n",
    "    .option(\"user\", \"root\") \\\n",
    "    .option(\"password\", \"maomao2011\") \\\n",
    "    .load()"
   ]
  },
  {
   "cell_type": "code",
   "execution_count": 204,
   "id": "44005bb6",
   "metadata": {},
   "outputs": [
    {
     "name": "stdout",
     "output_type": "stream",
     "text": [
      "+--------------------+----+\n",
      "|               title|year|\n",
      "+--------------------+----+\n",
      "|PIX: exact and ap...|2003|\n",
      "|Using q-grams in ...|2001|\n",
      "|Text Joins for Da...|2003|\n",
      "|Navigation vs. In...|2003|\n",
      "|Text joins in an ...|2003|\n",
      "| Ranked Join Indices|2003|\n",
      "|TIMBER: a native ...|2003|\n",
      "|     Grouping in XML|2002|\n",
      "|Optimizing the se...|2002|\n",
      "|TIMBER: A native ...|2002|\n",
      "|TAX: A Tree Algeb...|2001|\n",
      "|Structural Joins:...|2002|\n",
      "|On Bounding-Schem...|2000|\n",
      "|Minimization of T...|2001|\n",
      "|One-dimensional a...|2000|\n",
      "|Approximate Strin...|2001|\n",
      "|Counting Twig Mat...|2001|\n",
      "|Coral++: Adding O...|1993|\n",
      "|Implementation of...|1993|\n",
      "|Rule Ordering in ...|1990|\n",
      "+--------------------+----+\n",
      "only showing top 20 rows\n",
      "\n"
     ]
    }
   ],
   "source": [
    "DS_paper_MAS.show()"
   ]
  },
  {
   "cell_type": "code",
   "execution_count": 206,
   "id": "dc5220d9",
   "metadata": {},
   "outputs": [
    {
     "data": {
      "text/plain": [
       "Row(title='PIX: exact and approximate phrase matching in XML', year=2003)"
      ]
     },
     "execution_count": 206,
     "metadata": {},
     "output_type": "execute_result"
    }
   ],
   "source": [
    "DS_paper_MAS.first()"
   ]
  },
  {
   "cell_type": "markdown",
   "id": "2e1beb59",
   "metadata": {},
   "source": [
    "- it can be observed that: (**same as query 2**)\n",
    "    - in MAS, article name **does not** include '.';\n",
    "    - in dblp, article name includes '.';\n",
    "- modification should be made to MAS data"
   ]
  },
  {
   "cell_type": "code",
   "execution_count": 205,
   "id": "b5c10fc4",
   "metadata": {},
   "outputs": [],
   "source": [
    "def modify_paper(tup):\n",
    "    title = tup[0]\n",
    "    year = tup[1]\n",
    "    return {'title': title + '.', 'year': year}\n",
    "DS_paper_MAS_modify = DS_paper_MAS.rdd.map(modify_paper).toDF()"
   ]
  },
  {
   "cell_type": "code",
   "execution_count": 207,
   "id": "368b3e36",
   "metadata": {},
   "outputs": [
    {
     "name": "stderr",
     "output_type": "stream",
     "text": [
      "\r",
      "[Stage 155:>                                                        (0 + 1) / 1]\r",
      "\r",
      "                                                                                \r"
     ]
    },
    {
     "data": {
      "text/plain": [
       "Row(title='PIX: exact and approximate phrase matching in XML.', year=2003)"
      ]
     },
     "execution_count": 207,
     "metadata": {},
     "output_type": "execute_result"
    }
   ],
   "source": [
    "DS_paper_MAS_modify.first()"
   ]
  },
  {
   "cell_type": "code",
   "execution_count": 208,
   "id": "ae40df99",
   "metadata": {},
   "outputs": [
    {
     "name": "stdout",
     "output_type": "stream",
     "text": [
      "+--------------------+----+\n",
      "|               title|year|\n",
      "+--------------------+----+\n",
      "|PIX: exact and ap...|2003|\n",
      "|Using q-grams in ...|2001|\n",
      "|Text Joins for Da...|2003|\n",
      "|Navigation vs. In...|2003|\n",
      "|Text joins in an ...|2003|\n",
      "|Ranked Join Indices.|2003|\n",
      "|TIMBER: a native ...|2003|\n",
      "|    Grouping in XML.|2002|\n",
      "|Optimizing the se...|2002|\n",
      "|TIMBER: A native ...|2002|\n",
      "|TAX: A Tree Algeb...|2001|\n",
      "|Structural Joins:...|2002|\n",
      "|On Bounding-Schem...|2000|\n",
      "|Minimization of T...|2001|\n",
      "|One-dimensional a...|2000|\n",
      "|Approximate Strin...|2001|\n",
      "|Counting Twig Mat...|2001|\n",
      "|Coral++: Adding O...|1993|\n",
      "|Implementation of...|1993|\n",
      "|Rule Ordering in ...|1990|\n",
      "+--------------------+----+\n",
      "only showing top 20 rows\n",
      "\n"
     ]
    }
   ],
   "source": [
    "DS_paper_MAS_modify.show()"
   ]
  },
  {
   "cell_type": "markdown",
   "id": "aca76f76",
   "metadata": {},
   "source": [
    "- dblp"
   ]
  },
  {
   "cell_type": "code",
   "execution_count": 214,
   "id": "bd02880a",
   "metadata": {},
   "outputs": [],
   "source": [
    "df_article_paper = df_article.filter(array_contains(df_article.author, 'Divesh Srivastava')).select('title', 'year')"
   ]
  },
  {
   "cell_type": "code",
   "execution_count": 215,
   "id": "6b3ce734",
   "metadata": {},
   "outputs": [
    {
     "name": "stderr",
     "output_type": "stream",
     "text": [
      "[Stage 164:>                                                        (0 + 1) / 1]\r"
     ]
    },
    {
     "name": "stdout",
     "output_type": "stream",
     "text": [
      "+--------------------+----+\n",
      "|               title|year|\n",
      "+--------------------+----+\n",
      "|Data Change Explo...|2018|\n",
      "|Pushing Constrain...|1993|\n",
      "|From Rocks to Peb...|2019|\n",
      "|Robust Entity Res...|2018|\n",
      "|Using q-grams in ...|2001|\n",
      "|Data Quality for ...|2016|\n",
      "|Efficient and Eff...|2011|\n",
      "|Big Data Integrat...|2018|\n",
      "|Letter from the S...|2016|\n",
      "| Explanation Tables.|2018|\n",
      "|Letter from the I...|2021|\n",
      "|Semantics and Opt...|1994|\n",
      "|Weighted Set-Base...|2010|\n",
      "|Finding hierarchi...|2008|\n",
      "|Approximate Strin...|2011|\n",
      "|Ensuring High-Qua...|2019|\n",
      "|Generating Advanc...|1998|\n",
      "|Finding the K hig...|2009|\n",
      "|Special issue: be...|2012|\n",
      "|Iterative multi-t...|2003|\n",
      "+--------------------+----+\n",
      "only showing top 20 rows\n",
      "\n"
     ]
    },
    {
     "name": "stderr",
     "output_type": "stream",
     "text": [
      "\r",
      "                                                                                \r"
     ]
    }
   ],
   "source": [
    "df_article_paper.show()"
   ]
  },
  {
   "cell_type": "code",
   "execution_count": 217,
   "id": "7426d2d6",
   "metadata": {},
   "outputs": [],
   "source": [
    "df_inproc_paper = df_inproc.filter(array_contains(df_inproc.author, 'Divesh Srivastava')).select('title', 'year')"
   ]
  },
  {
   "cell_type": "code",
   "execution_count": 218,
   "id": "c9de1807",
   "metadata": {},
   "outputs": [
    {
     "name": "stderr",
     "output_type": "stream",
     "text": [
      "[Stage 170:=====================================================> (83 + 2) / 85]\r"
     ]
    },
    {
     "name": "stdout",
     "output_type": "stream",
     "text": [
      "+--------------------+----+\n",
      "|               title|year|\n",
      "+--------------------+----+\n",
      "|Efficient Increme...|1994|\n",
      "|Magic Sets and Bo...|1991|\n",
      "|Extending the Wel...|1993|\n",
      "|Data Stream Query...|2003|\n",
      "|Flexible List Man...|1998|\n",
      "|Focusing Search i...|1998|\n",
      "|UMicS: from anony...|2013|\n",
      "|Logical and physi...|2002|\n",
      "|  Schema extraction.|2010|\n",
      "|Exploring and Ana...|2022|\n",
      "|Composing Differe...|2017|\n",
      "|A mapping schema ...|2002|\n",
      "|Rapid Identificat...|2006|\n",
      "|08111 Abstracts C...|2008|\n",
      "|08111 Report - Ra...|2008|\n",
      "|Explaining Progra...|1993|\n",
      "|     Don't Cry Wolf.|2019|\n",
      "|Effective Computa...|2005|\n",
      "|Metric Functional...|2009|\n",
      "|Efficient Process...|2008|\n",
      "+--------------------+----+\n",
      "only showing top 20 rows\n",
      "\n"
     ]
    },
    {
     "name": "stderr",
     "output_type": "stream",
     "text": [
      "\r",
      "[Stage 170:======================================================>(84 + 1) / 85]\r",
      "\r",
      "                                                                                \r"
     ]
    }
   ],
   "source": [
    "df_inproc_paper.show()"
   ]
  },
  {
   "cell_type": "markdown",
   "id": "f2549c5c",
   "metadata": {},
   "source": [
    "## 2. union 3 dataframes and drop duplicates"
   ]
  },
  {
   "cell_type": "code",
   "execution_count": 238,
   "id": "857e7e8d",
   "metadata": {},
   "outputs": [],
   "source": [
    "union_paper = DS_paper_MAS_modify.union(df_article_paper).union(df_inproc_paper).dropDuplicates()"
   ]
  },
  {
   "cell_type": "code",
   "execution_count": 246,
   "id": "99451773",
   "metadata": {},
   "outputs": [
    {
     "name": "stderr",
     "output_type": "stream",
     "text": [
      "[Stage 196:====================================================>(220 + 1) / 221]\r"
     ]
    },
    {
     "name": "stdout",
     "output_type": "stream",
     "text": [
      "+--------------------+----+\n",
      "|               title|year|\n",
      "+--------------------+----+\n",
      "|Pushing constrain...|1992|\n",
      "|Differentially Pr...|2011|\n",
      "|The Bellman Data ...|2006|\n",
      "|On Bounding-Schem...|2000|\n",
      "|The coral user ma...|1993|\n",
      "|TIMBER: A Native ...|2003|\n",
      "|Navigation vs. In...|2003|\n",
      "|On Computing Corr...|2001|\n",
      "|Review - Querying...|2000|\n",
      "|Complex Aggregati...|1998|\n",
      "|Approximate Strin...|2003|\n",
      "|Anonymized Data: ...|2010|\n",
      "|The calculation o...|1990|\n",
      "|Aggregate Query A...|2012|\n",
      "|Snakes and sandwi...|1999|\n",
      "|Aggregate Query A...|   0|\n",
      "|Constraint Databa...|1997|\n",
      "|On Effective Mult...|2000|\n",
      "|Implementation of...|1993|\n",
      "|Efficient OLAP qu...|2002|\n",
      "+--------------------+----+\n",
      "only showing top 20 rows\n",
      "\n"
     ]
    },
    {
     "name": "stderr",
     "output_type": "stream",
     "text": [
      "\r",
      "                                                                                \r"
     ]
    }
   ],
   "source": [
    "union_paper.show()"
   ]
  },
  {
   "cell_type": "markdown",
   "id": "8c43eb34",
   "metadata": {},
   "source": [
    "## 3. Groupby + Count"
   ]
  },
  {
   "cell_type": "code",
   "execution_count": 252,
   "id": "0558a42e",
   "metadata": {},
   "outputs": [],
   "source": [
    "query3_result = union_paper.groupby('year').count()"
   ]
  },
  {
   "cell_type": "code",
   "execution_count": 253,
   "id": "10b1ece1",
   "metadata": {},
   "outputs": [
    {
     "name": "stderr",
     "output_type": "stream",
     "text": [
      "[Stage 214:====================================================>(220 + 1) / 221]\r"
     ]
    },
    {
     "name": "stdout",
     "output_type": "stream",
     "text": [
      "+----+-----+\n",
      "|year|count|\n",
      "+----+-----+\n",
      "|   0|   10|\n",
      "|2007|   15|\n",
      "|2014|   10|\n",
      "|2021|   16|\n",
      "|2012|   18|\n",
      "|1991|    3|\n",
      "|2022|   16|\n",
      "|2016|    8|\n",
      "|null|    1|\n",
      "|1994|    9|\n",
      "|2018|   19|\n",
      "|1999|   15|\n",
      "|1997|    3|\n",
      "|2010|   23|\n",
      "|2009|   28|\n",
      "|2006|   16|\n",
      "|2017|   16|\n",
      "|1998|   10|\n",
      "|2013|   12|\n",
      "|2004|   12|\n",
      "+----+-----+\n",
      "only showing top 20 rows\n",
      "\n"
     ]
    },
    {
     "name": "stderr",
     "output_type": "stream",
     "text": [
      "\r",
      "                                                                                \r"
     ]
    }
   ],
   "source": [
    "query3_result.show()"
   ]
  },
  {
   "cell_type": "markdown",
   "id": "3a5c8ba1",
   "metadata": {},
   "source": [
    "# Query 4:"
   ]
  },
  {
   "cell_type": "code",
   "execution_count": null,
   "id": "7b619071",
   "metadata": {},
   "outputs": [],
   "source": []
  },
  {
   "cell_type": "code",
   "execution_count": null,
   "id": "a708edf4",
   "metadata": {},
   "outputs": [],
   "source": []
  },
  {
   "cell_type": "code",
   "execution_count": null,
   "id": "0166026c",
   "metadata": {},
   "outputs": [],
   "source": []
  },
  {
   "cell_type": "code",
   "execution_count": null,
   "id": "d156d9e5",
   "metadata": {},
   "outputs": [],
   "source": []
  },
  {
   "cell_type": "code",
   "execution_count": null,
   "id": "67a4a56d",
   "metadata": {},
   "outputs": [],
   "source": []
  }
 ],
 "metadata": {
  "kernelspec": {
   "display_name": "Python 3 (ipykernel)",
   "language": "python",
   "name": "python3"
  },
  "language_info": {
   "codemirror_mode": {
    "name": "ipython",
    "version": 3
   },
   "file_extension": ".py",
   "mimetype": "text/x-python",
   "name": "python",
   "nbconvert_exporter": "python",
   "pygments_lexer": "ipython3",
   "version": "3.8.6"
  }
 },
 "nbformat": 4,
 "nbformat_minor": 5
}
